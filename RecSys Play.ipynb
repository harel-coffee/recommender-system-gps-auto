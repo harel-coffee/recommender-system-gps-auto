{
 "cells": [
  {
   "cell_type": "code",
   "execution_count": 1,
   "metadata": {},
   "outputs": [],
   "source": [
    "import matplotlib.pyplot as plt\n",
    "import matplotlib as mpl\n",
    "import numpy as np\n",
    "import pandas as pd\n",
    "import math\n",
    "import json\n",
    "import random\n",
    "import csv\n",
    "import multiprocessing\n",
    "import sys\n",
    "import pickle\n",
    "import os\n",
    "import gc\n",
    "from annoy import AnnoyIndex\n",
    "import nmslib\n",
    "#import tensorflow as tf\n",
    "import bottleneck as bn\n",
    "\n",
    "import heapq\n",
    "import time\n",
    "import operator\n",
    "from collections import Counter,defaultdict\n",
    "\n",
    "from lightfm import LightFM\n",
    "from lightfm.evaluation import auc_score,precision_at_k,recall_at_k\n",
    "from lightfm.data import Dataset\n",
    "from lightfm.cross_validation import random_train_test_split\n",
    "\n",
    "from sklearn.feature_selection import chi2, SelectKBest\n",
    "from sklearn.preprocessing import normalize\n",
    "from sklearn.metrics import accuracy_score,confusion_matrix, roc_curve, auc,classification_report\n",
    "from sklearn.model_selection import train_test_split\n",
    "from scipy.sparse import csr_matrix, coo_matrix, hstack,dok_matrix, lil_matrix, vstack\n",
    "\n",
    "mpl.rcParams['figure.dpi']= 100\n",
    "\n",
    "DATAPATH=\"/mnt/projects/continuous_scanning/trackingChange/recData/\"\n",
    "NUM_THREADS=72\n",
    "\n",
    "from model import extractData, modelPrep, misc\n",
    "from bench import main \n",
    "\n",
    "\n",
    "#mpl.rcParams['figure.dpi']= 150"
   ]
  },
  {
   "cell_type": "code",
   "execution_count": 3,
   "metadata": {},
   "outputs": [
    {
     "name": "stdout",
     "output_type": "stream",
     "text": [
      "True Retrain, UNIFORM Sample  and Oversample0.64 Train,slash16,more filtered dataset, retrain all false, EF_Construction 1K,10kCalc Weights\n",
      "Num users: 482028, num_items 64061.\n",
      "<482028x64061 sparse matrix of type '<class 'numpy.int32'>'\n",
      "\twith 737585 stored elements in COOrdinate format>\n",
      "Initialized Model\n"
     ]
    },
    {
     "name": "stderr",
     "output_type": "stream",
     "text": [
      "Epoch: 100%|██████████| 80/80 [07:07<00:00,  5.34s/it]\n"
     ]
    },
    {
     "name": "stdout",
     "output_type": "stream",
     "text": [
      "...Grabbed Representations\n",
      "Got Item Representations\n",
      "Got User Representations\n",
      "Made Index\n",
      "Got Top Items\n",
      "Got Predictions/Top Items\n",
      "...Calculated Predictions\n",
      "0.1Train_uniform40_PlayingRetrainGap10_4KComp_0.01LR_RetrainAllFalse_EF1K_10kCalcWeightsTrue_ASN_0.01LR_4000NCOMP_10EPOCHS_175MAXSAMPLE_FalseBIASED_TrueRETRAIN_FalseRETRAINWEIGHTS_FalseWITHITEMFEATS_FalseCALCWEIGHTS\n",
      "-------\n",
      "...Beginning Bench2: Compare Different Metrics of Coverage and Hitrate\n",
      "cycle:  0\n"
     ]
    },
    {
     "name": "stderr",
     "output_type": "stream",
     "text": [
      "\r",
      "Epoch:   0%|          | 0/10 [00:00<?, ?it/s]"
     ]
    },
    {
     "name": "stdout",
     "output_type": "stream",
     "text": [
      "correct: 22731\n",
      "Num Scanned:  433826\n",
      "Number unique ports Rec'd:  8894\n",
      "At Bin:  0\n",
      "Hitrate:  0.052396582961832625\n",
      "total ips correct:  22731\n",
      "Total Normalized Services:  362.80197980848556\n",
      "Total Normalized IPs:  865.6278746788381\n",
      "Total Fraction Services: 0.03425381062529668\n",
      "Total Fraction IPs: 0.052396582961832625\n",
      "Total Fraction Depopularized Services: 0.03425373528324798\n",
      "Total Fraction Depopularized IPs: 0.052424530654083056\n"
     ]
    },
    {
     "name": "stderr",
     "output_type": "stream",
     "text": [
      "Epoch: 100%|██████████| 10/10 [00:40<00:00,  4.06s/it]\n"
     ]
    },
    {
     "name": "stdout",
     "output_type": "stream",
     "text": [
      "...Grabbed Representations\n",
      "Got Item Representations\n",
      "Got User Representations\n",
      "Made Index\n",
      "Got Top Items\n",
      "Got Predictions/Top Items\n",
      "...Calculated Predictions\n",
      "cycle:  1\n"
     ]
    },
    {
     "name": "stderr",
     "output_type": "stream",
     "text": [
      "\r",
      "Epoch:   0%|          | 0/10 [00:00<?, ?it/s]"
     ]
    },
    {
     "name": "stdout",
     "output_type": "stream",
     "text": [
      "correct: 12141\n",
      "Num Scanned:  433826\n",
      "Number unique ports Rec'd:  11752\n",
      "At Bin:  1\n",
      "Hitrate:  0.027985874521121373\n",
      "total ips correct:  32293\n",
      "Total Normalized Services:  541.4534938011585\n",
      "Total Normalized IPs:  1160.0488672558315\n",
      "Total Fraction Services: 0.05254933281093421\n",
      "Total Fraction IPs: 0.07443767777864858\n",
      "Total Fraction Depopularized Services: 0.05256774796925792\n",
      "Total Fraction Depopularized IPs: 0.0744997183462771\n"
     ]
    },
    {
     "name": "stderr",
     "output_type": "stream",
     "text": [
      "Epoch: 100%|██████████| 10/10 [00:39<00:00,  3.94s/it]\n"
     ]
    },
    {
     "name": "stdout",
     "output_type": "stream",
     "text": [
      "...Grabbed Representations\n",
      "Got Item Representations\n",
      "Got User Representations\n",
      "Made Index\n",
      "Got Top Items\n",
      "Got Predictions/Top Items\n",
      "...Calculated Predictions\n",
      "cycle:  2\n"
     ]
    },
    {
     "name": "stderr",
     "output_type": "stream",
     "text": [
      "\r",
      "Epoch:   0%|          | 0/10 [00:00<?, ?it/s]"
     ]
    },
    {
     "name": "stdout",
     "output_type": "stream",
     "text": [
      "correct: 7543\n",
      "Num Scanned:  433826\n",
      "Number unique ports Rec'd:  13638\n",
      "At Bin:  2\n",
      "Hitrate:  0.017387155218912653\n",
      "total ips correct:  37922\n",
      "Total Normalized Services:  652.5809079667443\n",
      "Total Normalized IPs:  1365.9861470377061\n",
      "Total Fraction Services: 0.06391603438792655\n",
      "Total Fraction IPs: 0.08741292591960832\n",
      "Total Fraction Depopularized Services: 0.0639459373845098\n",
      "Total Fraction Depopularized IPs: 0.08749503643029301\n"
     ]
    },
    {
     "name": "stderr",
     "output_type": "stream",
     "text": [
      "Epoch: 100%|██████████| 10/10 [00:37<00:00,  3.72s/it]\n"
     ]
    },
    {
     "name": "stdout",
     "output_type": "stream",
     "text": [
      "...Grabbed Representations\n",
      "Got Item Representations\n",
      "Got User Representations\n",
      "Made Index\n",
      "Got Top Items\n",
      "Got Predictions/Top Items\n",
      "...Calculated Predictions\n",
      "cycle:  3\n"
     ]
    },
    {
     "name": "stderr",
     "output_type": "stream",
     "text": [
      "\r",
      "Epoch:   0%|          | 0/10 [00:00<?, ?it/s]"
     ]
    },
    {
     "name": "stdout",
     "output_type": "stream",
     "text": [
      "correct: 5211\n",
      "Num Scanned:  433826\n",
      "Number unique ports Rec'd:  14995\n",
      "At Bin:  3\n",
      "Hitrate:  0.01201172820439531\n",
      "total ips correct:  41427\n",
      "Total Normalized Services:  742.3913798061186\n",
      "Total Normalized IPs:  1497.5518320089209\n",
      "Total Fraction Services: 0.07176859728302228\n",
      "Total Fraction IPs: 0.09549220194271436\n",
      "Total Fraction Depopularized Services: 0.07180492808495553\n",
      "Total Fraction Depopularized IPs: 0.0955845007341466\n"
     ]
    },
    {
     "name": "stderr",
     "output_type": "stream",
     "text": [
      "Epoch: 100%|██████████| 10/10 [00:37<00:00,  3.75s/it]\n"
     ]
    },
    {
     "name": "stdout",
     "output_type": "stream",
     "text": [
      "...Grabbed Representations\n",
      "Got Item Representations\n",
      "Got User Representations\n",
      "Made Index\n",
      "Got Top Items\n",
      "Got Predictions/Top Items\n",
      "...Calculated Predictions\n",
      "cycle:  4\n"
     ]
    },
    {
     "name": "stderr",
     "output_type": "stream",
     "text": [
      "\r",
      "Epoch:   0%|          | 0/10 [00:00<?, ?it/s]"
     ]
    },
    {
     "name": "stdout",
     "output_type": "stream",
     "text": [
      "correct: 4418\n",
      "Num Scanned:  433826\n",
      "Number unique ports Rec'd:  16133\n",
      "At Bin:  4\n",
      "Hitrate:  0.010183806410865186\n",
      "total ips correct:  44542\n",
      "Total Normalized Services:  813.788189543592\n",
      "Total Normalized IPs:  1669.1083605772583\n",
      "Total Fraction Services: 0.07842617219580926\n",
      "Total Fraction IPs: 0.10267250003457608\n",
      "Total Fraction Depopularized Services: 0.07846923152345253\n",
      "Total Fraction Depopularized IPs: 0.10277590521659632\n"
     ]
    },
    {
     "name": "stderr",
     "output_type": "stream",
     "text": [
      "Epoch: 100%|██████████| 10/10 [00:34<00:00,  3.48s/it]\n"
     ]
    },
    {
     "name": "stdout",
     "output_type": "stream",
     "text": [
      "...Grabbed Representations\n",
      "Got Item Representations\n",
      "Got User Representations\n",
      "Made Index\n",
      "Got Top Items\n",
      "Got Predictions/Top Items\n",
      "...Calculated Predictions\n",
      "cycle:  5\n"
     ]
    },
    {
     "name": "stderr",
     "output_type": "stream",
     "text": [
      "\r",
      "Epoch:   0%|          | 0/10 [00:00<?, ?it/s]"
     ]
    },
    {
     "name": "stdout",
     "output_type": "stream",
     "text": [
      "correct: 3421\n",
      "Num Scanned:  433826\n",
      "Number unique ports Rec'd:  16998\n",
      "At Bin:  5\n",
      "Hitrate:  0.007885650007145723\n",
      "total ips correct:  46930\n",
      "Total Normalized Services:  876.6591477805383\n",
      "Total Normalized IPs:  1781.5281038572105\n",
      "Total Fraction Services: 0.08358134733764815\n",
      "Total Fraction IPs: 0.10817701105973362\n",
      "Total Fraction Depopularized Services: 0.08362961677992563\n",
      "Total Fraction Depopularized IPs: 0.1082889305469623\n"
     ]
    },
    {
     "name": "stderr",
     "output_type": "stream",
     "text": [
      "Epoch: 100%|██████████| 10/10 [00:32<00:00,  3.21s/it]\n"
     ]
    },
    {
     "name": "stdout",
     "output_type": "stream",
     "text": [
      "...Grabbed Representations\n",
      "Got Item Representations\n",
      "Got User Representations\n",
      "Made Index\n",
      "Got Top Items\n",
      "Got Predictions/Top Items\n",
      "...Calculated Predictions\n",
      "cycle:  6\n"
     ]
    },
    {
     "name": "stderr",
     "output_type": "stream",
     "text": [
      "\r",
      "Epoch:   0%|          | 0/10 [00:00<?, ?it/s]"
     ]
    },
    {
     "name": "stdout",
     "output_type": "stream",
     "text": [
      "correct: 3336\n",
      "Num Scanned:  433826\n",
      "Number unique ports Rec'd:  17716\n",
      "At Bin:  6\n",
      "Hitrate:  0.007689718919566831\n",
      "total ips correct:  49276\n",
      "Total Normalized Services:  928.5658005369886\n",
      "Total Normalized IPs:  1886.3544769471173\n",
      "Total Fraction Services: 0.08860843423422066\n",
      "Total Fraction IPs: 0.11358470907691103\n",
      "Total Fraction Depopularized Services: 0.088661784337831\n",
      "Total Fraction Depopularized IPs: 0.11370499312026153\n"
     ]
    },
    {
     "name": "stderr",
     "output_type": "stream",
     "text": [
      "Epoch: 100%|██████████| 10/10 [00:36<00:00,  3.69s/it]\n"
     ]
    },
    {
     "name": "stdout",
     "output_type": "stream",
     "text": [
      "...Grabbed Representations\n",
      "Got Item Representations\n",
      "Got User Representations\n",
      "Made Index\n",
      "Got Top Items\n",
      "Got Predictions/Top Items\n",
      "...Calculated Predictions\n",
      "cycle:  7\n"
     ]
    },
    {
     "name": "stderr",
     "output_type": "stream",
     "text": [
      "\r",
      "Epoch:   0%|          | 0/10 [00:00<?, ?it/s]"
     ]
    },
    {
     "name": "stdout",
     "output_type": "stream",
     "text": [
      "correct: 2462\n",
      "Num Scanned:  433826\n",
      "Number unique ports Rec'd:  18363\n",
      "At Bin:  7\n",
      "Hitrate:  0.005675086324932115\n",
      "total ips correct:  50941\n",
      "Total Normalized Services:  970.9618406291795\n",
      "Total Normalized IPs:  1974.372001609222\n",
      "Total Fraction Services: 0.09231847258534821\n",
      "Total Fraction IPs: 0.11742265332183871\n",
      "Total Fraction Depopularized Services: 0.09237557226575757\n",
      "Total Fraction Depopularized IPs: 0.11754887384683578\n"
     ]
    },
    {
     "name": "stderr",
     "output_type": "stream",
     "text": [
      "Epoch: 100%|██████████| 10/10 [00:37<00:00,  3.80s/it]\n"
     ]
    },
    {
     "name": "stdout",
     "output_type": "stream",
     "text": [
      "...Grabbed Representations\n",
      "Got Item Representations\n",
      "Got User Representations\n",
      "Made Index\n",
      "Got Top Items\n",
      "Got Predictions/Top Items\n",
      "...Calculated Predictions\n",
      "cycle:  8\n"
     ]
    },
    {
     "name": "stderr",
     "output_type": "stream",
     "text": [
      "\r",
      "Epoch:   0%|          | 0/10 [00:00<?, ?it/s]"
     ]
    },
    {
     "name": "stdout",
     "output_type": "stream",
     "text": [
      "correct: 2344\n",
      "Num Scanned:  433826\n",
      "Number unique ports Rec'd:  18936\n",
      "At Bin:  8\n",
      "Hitrate:  0.005403087873940243\n",
      "total ips correct:  52579\n",
      "Total Normalized Services:  1016.9021865513008\n",
      "Total Normalized IPs:  2067.511186812067\n",
      "Total Fraction Services: 0.09585069431363537\n",
      "Total Fraction IPs: 0.12119836063306487\n",
      "Total Fraction Depopularized Services: 0.09591136385920188\n",
      "Total Fraction Depopularized IPs: 0.12133042137243857\n"
     ]
    },
    {
     "name": "stderr",
     "output_type": "stream",
     "text": [
      "Epoch: 100%|██████████| 10/10 [00:37<00:00,  3.71s/it]\n"
     ]
    },
    {
     "name": "stdout",
     "output_type": "stream",
     "text": [
      "...Grabbed Representations\n",
      "Got Item Representations\n",
      "Got User Representations\n",
      "Made Index\n",
      "Got Top Items\n",
      "Got Predictions/Top Items\n",
      "...Calculated Predictions\n",
      "cycle:  9\n"
     ]
    },
    {
     "name": "stderr",
     "output_type": "stream",
     "text": [
      "\r",
      "Epoch:   0%|          | 0/10 [00:00<?, ?it/s]"
     ]
    },
    {
     "name": "stdout",
     "output_type": "stream",
     "text": [
      "correct: 2382\n",
      "Num Scanned:  433826\n",
      "Number unique ports Rec'd:  19429\n",
      "At Bin:  9\n",
      "Hitrate:  0.005490680595446101\n",
      "total ips correct:  54150\n",
      "Total Normalized Services:  1055.7028561585582\n",
      "Total Normalized IPs:  2143.9150437778017\n",
      "Total Fraction Services: 0.09944017902215926\n",
      "Total Fraction IPs: 0.12481962814584649\n",
      "Total Fraction Depopularized Services: 0.09950447630612352\n",
      "Total Fraction Depopularized IPs: 0.12495729021414917\n"
     ]
    },
    {
     "name": "stderr",
     "output_type": "stream",
     "text": [
      "Epoch: 100%|██████████| 10/10 [00:32<00:00,  3.20s/it]\n"
     ]
    },
    {
     "name": "stdout",
     "output_type": "stream",
     "text": [
      "...Grabbed Representations\n",
      "Got Item Representations\n",
      "Got User Representations\n",
      "Made Index\n",
      "Got Top Items\n",
      "Got Predictions/Top Items\n",
      "...Calculated Predictions\n",
      "cycle:  10\n"
     ]
    },
    {
     "name": "stderr",
     "output_type": "stream",
     "text": [
      "\r",
      "Epoch:   0%|          | 0/10 [00:00<?, ?it/s]"
     ]
    },
    {
     "name": "stdout",
     "output_type": "stream",
     "text": [
      "correct: 1600\n",
      "Num Scanned:  433826\n",
      "Number unique ports Rec'd:  19872\n",
      "At Bin:  10\n",
      "Hitrate:  0.0036881145897203027\n",
      "total ips correct:  55280\n",
      "Total Normalized Services:  1092.3347925528617\n",
      "Total Normalized IPs:  2216.3544511814002\n",
      "Total Fraction Services: 0.10185125187423241\n",
      "Total Fraction IPs: 0.12742435907483646\n",
      "Total Fraction Depopularized Services: 0.10191798592622203\n",
      "Total Fraction Depopularized IPs: 0.12756605010665903\n"
     ]
    },
    {
     "name": "stderr",
     "output_type": "stream",
     "text": [
      "Epoch: 100%|██████████| 10/10 [00:33<00:00,  3.39s/it]\n"
     ]
    },
    {
     "name": "stdout",
     "output_type": "stream",
     "text": [
      "...Grabbed Representations\n",
      "Got Item Representations\n",
      "Got User Representations\n",
      "Made Index\n",
      "Got Top Items\n",
      "Got Predictions/Top Items\n",
      "...Calculated Predictions\n",
      "cycle:  11\n"
     ]
    },
    {
     "name": "stderr",
     "output_type": "stream",
     "text": [
      "\r",
      "Epoch:   0%|          | 0/10 [00:00<?, ?it/s]"
     ]
    },
    {
     "name": "stdout",
     "output_type": "stream",
     "text": [
      "correct: 1681\n",
      "Num Scanned:  433826\n",
      "Number unique ports Rec'd:  20268\n",
      "At Bin:  11\n",
      "Hitrate:  0.003874825390824893\n",
      "total ips correct:  56381\n",
      "Total Normalized Services:  1122.3279405621463\n",
      "Total Normalized IPs:  2271.5596788237385\n",
      "Total Fraction Services: 0.10438438528944176\n",
      "Total Fraction IPs: 0.12996224292688774\n",
      "Total Fraction Depopularized Services: 0.10445367947083802\n",
      "Total Fraction Depopularized IPs: 0.13010785952405138\n"
     ]
    },
    {
     "name": "stderr",
     "output_type": "stream",
     "text": [
      "Epoch: 100%|██████████| 10/10 [00:31<00:00,  3.11s/it]\n"
     ]
    },
    {
     "name": "stdout",
     "output_type": "stream",
     "text": [
      "...Grabbed Representations\n",
      "Got Item Representations\n",
      "Got User Representations\n",
      "Made Index\n",
      "Got Top Items\n",
      "Got Predictions/Top Items\n",
      "...Calculated Predictions\n",
      "cycle:  12\n"
     ]
    },
    {
     "name": "stderr",
     "output_type": "stream",
     "text": [
      "\r",
      "Epoch:   0%|          | 0/10 [00:00<?, ?it/s]"
     ]
    },
    {
     "name": "stdout",
     "output_type": "stream",
     "text": [
      "correct: 1984\n",
      "Num Scanned:  433826\n",
      "Number unique ports Rec'd:  20646\n",
      "At Bin:  12\n",
      "Hitrate:  0.004573262091253175\n",
      "total ips correct:  57773\n",
      "Total Normalized Services:  1152.167838278457\n",
      "Total Normalized IPs:  2347.4368104062087\n",
      "Total Fraction Services: 0.10737411562601246\n",
      "Total Fraction IPs: 0.1331709026199444\n",
      "Total Fraction Depopularized Services: 0.10744643139976015\n",
      "Total Fraction Depopularized IPs: 0.13332148232969185\n"
     ]
    },
    {
     "name": "stderr",
     "output_type": "stream",
     "text": [
      "Epoch: 100%|██████████| 10/10 [00:31<00:00,  3.16s/it]\n"
     ]
    },
    {
     "name": "stdout",
     "output_type": "stream",
     "text": [
      "...Grabbed Representations\n",
      "Got Item Representations\n",
      "Got User Representations\n",
      "Made Index\n",
      "Got Top Items\n",
      "Got Predictions/Top Items\n",
      "...Calculated Predictions\n",
      "cycle:  13\n"
     ]
    },
    {
     "name": "stderr",
     "output_type": "stream",
     "text": [
      "\r",
      "Epoch:   0%|          | 0/10 [00:00<?, ?it/s]"
     ]
    },
    {
     "name": "stdout",
     "output_type": "stream",
     "text": [
      "correct: 1735\n",
      "Num Scanned:  433826\n",
      "Number unique ports Rec'd:  20961\n",
      "At Bin:  13\n",
      "Hitrate:  0.003999299258227953\n",
      "total ips correct:  59052\n",
      "Total Normalized Services:  1178.7344437711063\n",
      "Total Normalized IPs:  2405.845779139079\n",
      "Total Fraction Services: 0.10998862274997928\n",
      "Total Fraction IPs: 0.13611908922010207\n",
      "Total Fraction Depopularized Services: 0.11006358089405446\n",
      "Total Fraction Depopularized IPs: 0.1362742291460813\n"
     ]
    },
    {
     "name": "stderr",
     "output_type": "stream",
     "text": [
      "Epoch: 100%|██████████| 10/10 [00:31<00:00,  3.12s/it]\n"
     ]
    },
    {
     "name": "stdout",
     "output_type": "stream",
     "text": [
      "...Grabbed Representations\n",
      "Got Item Representations\n",
      "Got User Representations\n",
      "Made Index\n",
      "Got Top Items\n",
      "Got Predictions/Top Items\n",
      "...Calculated Predictions\n",
      "cycle:  14\n"
     ]
    },
    {
     "name": "stderr",
     "output_type": "stream",
     "text": [
      "\r",
      "Epoch:   0%|          | 0/10 [00:00<?, ?it/s]"
     ]
    },
    {
     "name": "stdout",
     "output_type": "stream",
     "text": [
      "correct: 1265\n",
      "Num Scanned:  433826\n",
      "Number unique ports Rec'd:  21258\n",
      "At Bin:  14\n",
      "Hitrate:  0.002915915597497614\n",
      "total ips correct:  59874\n",
      "Total Normalized Services:  1203.1383386035905\n",
      "Total Normalized IPs:  2448.052655147259\n",
      "Total Fraction Services: 0.11189487722364962\n",
      "Total Fraction IPs: 0.13801385809057087\n",
      "Total Fraction Depopularized Services: 0.11197176193744485\n",
      "Total Fraction Depopularized IPs: 0.13817192882010176\n"
     ]
    },
    {
     "name": "stderr",
     "output_type": "stream",
     "text": [
      "Epoch: 100%|██████████| 10/10 [00:31<00:00,  3.12s/it]\n"
     ]
    },
    {
     "name": "stdout",
     "output_type": "stream",
     "text": [
      "...Grabbed Representations\n",
      "Got Item Representations\n",
      "Got User Representations\n",
      "Made Index\n",
      "Got Top Items\n",
      "Got Predictions/Top Items\n",
      "...Calculated Predictions\n",
      "cycle:  15\n"
     ]
    },
    {
     "name": "stderr",
     "output_type": "stream",
     "text": [
      "\r",
      "Epoch:   0%|          | 0/10 [00:00<?, ?it/s]"
     ]
    },
    {
     "name": "stdout",
     "output_type": "stream",
     "text": [
      "correct: 1095\n",
      "Num Scanned:  433826\n",
      "Number unique ports Rec'd:  21531\n",
      "At Bin:  15\n",
      "Hitrate:  0.002524053422339832\n",
      "total ips correct:  60601\n",
      "Total Normalized Services:  1227.24196504787\n",
      "Total Normalized IPs:  2498.091335704787\n",
      "Total Fraction Services: 0.11354495520678717\n",
      "Total Fraction IPs: 0.13968964515727503\n",
      "Total Fraction Depopularized Services: 0.11362049069667464\n",
      "Total Fraction Depopularized IPs: 0.1398456906980395\n"
     ]
    },
    {
     "name": "stderr",
     "output_type": "stream",
     "text": [
      "Epoch: 100%|██████████| 10/10 [00:32<00:00,  3.23s/it]\n"
     ]
    },
    {
     "name": "stdout",
     "output_type": "stream",
     "text": [
      "...Grabbed Representations\n",
      "Got Item Representations\n",
      "Got User Representations\n",
      "Made Index\n",
      "Got Top Items\n",
      "Got Predictions/Top Items\n",
      "...Calculated Predictions\n",
      "cycle:  16\n"
     ]
    },
    {
     "name": "stderr",
     "output_type": "stream",
     "text": [
      "\r",
      "Epoch:   0%|          | 0/10 [00:00<?, ?it/s]"
     ]
    },
    {
     "name": "stdout",
     "output_type": "stream",
     "text": [
      "correct: 1287\n",
      "Num Scanned:  433826\n",
      "Number unique ports Rec'd:  21796\n",
      "At Bin:  16\n",
      "Hitrate:  0.0029666271731062684\n",
      "total ips correct:  61616\n",
      "Total Normalized Services:  1255.2312944515168\n",
      "Total Normalized IPs:  2569.12864167525\n",
      "Total Fraction Services: 0.11548436193217351\n",
      "Total Fraction IPs: 0.14202929285012886\n",
      "Total Fraction Depopularized Services: 0.11556185749734137\n",
      "Total Fraction Depopularized IPs: 0.14218895732715234\n"
     ]
    },
    {
     "name": "stderr",
     "output_type": "stream",
     "text": [
      "Epoch: 100%|██████████| 10/10 [00:34<00:00,  3.41s/it]\n"
     ]
    },
    {
     "name": "stdout",
     "output_type": "stream",
     "text": [
      "...Grabbed Representations\n",
      "Got Item Representations\n",
      "Got User Representations\n",
      "Made Index\n",
      "Got Top Items\n",
      "Got Predictions/Top Items\n",
      "...Calculated Predictions\n",
      "cycle:  17\n"
     ]
    },
    {
     "name": "stderr",
     "output_type": "stream",
     "text": [
      "\r",
      "Epoch:   0%|          | 0/10 [00:00<?, ?it/s]"
     ]
    },
    {
     "name": "stdout",
     "output_type": "stream",
     "text": [
      "correct: 1035\n",
      "Num Scanned:  433826\n",
      "Number unique ports Rec'd:  22039\n",
      "At Bin:  17\n",
      "Hitrate:  0.002385749125225321\n",
      "total ips correct:  62395\n",
      "Total Normalized Services:  1276.9251118181578\n",
      "Total Normalized IPs:  2605.0752763765972\n",
      "Total Fraction Services: 0.11704402468335832\n",
      "Total Fraction IPs: 0.14382494364099893\n",
      "Total Fraction Depopularized Services: 0.11712309653284259\n",
      "Total Fraction Depopularized IPs: 0.14398738560703303\n"
     ]
    },
    {
     "name": "stderr",
     "output_type": "stream",
     "text": [
      "Epoch: 100%|██████████| 10/10 [00:31<00:00,  3.14s/it]\n"
     ]
    },
    {
     "name": "stdout",
     "output_type": "stream",
     "text": [
      "...Grabbed Representations\n",
      "Got Item Representations\n",
      "Got User Representations\n",
      "Made Index\n",
      "Got Top Items\n",
      "Got Predictions/Top Items\n",
      "...Calculated Predictions\n",
      "cycle:  18\n"
     ]
    },
    {
     "name": "stderr",
     "output_type": "stream",
     "text": [
      "\r",
      "Epoch:   0%|          | 0/10 [00:00<?, ?it/s]"
     ]
    },
    {
     "name": "stdout",
     "output_type": "stream",
     "text": [
      "correct: 1390\n",
      "Num Scanned:  433826\n",
      "Number unique ports Rec'd:  22287\n",
      "At Bin:  18\n",
      "Hitrate:  0.003204049549819513\n",
      "total ips correct:  63389\n",
      "Total Normalized Services:  1302.8803945193276\n",
      "Total Normalized IPs:  2668.3174329978806\n",
      "Total Fraction Services: 0.11913864422359687\n",
      "Total Fraction IPs: 0.14611618482986266\n",
      "Total Fraction Depopularized Services: 0.11921983301530316\n",
      "Total Fraction Depopularized IPs: 0.1462821708576125\n"
     ]
    },
    {
     "name": "stderr",
     "output_type": "stream",
     "text": [
      "Epoch: 100%|██████████| 10/10 [00:32<00:00,  3.29s/it]\n"
     ]
    },
    {
     "name": "stdout",
     "output_type": "stream",
     "text": [
      "...Grabbed Representations\n",
      "Got Item Representations\n",
      "Got User Representations\n",
      "Made Index\n",
      "Got Top Items\n",
      "Got Predictions/Top Items\n",
      "...Calculated Predictions\n",
      "cycle:  19\n"
     ]
    },
    {
     "name": "stderr",
     "output_type": "stream",
     "text": [
      "\r",
      "Epoch:   0%|          | 0/10 [00:00<?, ?it/s]"
     ]
    },
    {
     "name": "stdout",
     "output_type": "stream",
     "text": [
      "correct: 1340\n",
      "Num Scanned:  433826\n",
      "Number unique ports Rec'd:  22502\n",
      "At Bin:  19\n",
      "Hitrate:  0.0030887959688907533\n",
      "total ips correct:  64247\n",
      "Total Normalized Services:  1327.4418810394802\n",
      "Total Normalized IPs:  2718.974839693057\n",
      "Total Fraction Services: 0.12115791773720813\n",
      "Total Fraction IPs: 0.14809393627860018\n",
      "Total Fraction Depopularized Services: 0.12124114732213566\n",
      "Total Fraction Depopularized IPs: 0.14826298146626157\n"
     ]
    },
    {
     "name": "stderr",
     "output_type": "stream",
     "text": [
      "Epoch: 100%|██████████| 10/10 [00:32<00:00,  3.23s/it]\n"
     ]
    },
    {
     "name": "stdout",
     "output_type": "stream",
     "text": [
      "...Grabbed Representations\n",
      "Got Item Representations\n",
      "Got User Representations\n",
      "Made Index\n",
      "Got Top Items\n",
      "Got Predictions/Top Items\n",
      "...Calculated Predictions\n",
      "cycle:  20\n"
     ]
    },
    {
     "name": "stderr",
     "output_type": "stream",
     "text": [
      "\r",
      "Epoch:   0%|          | 0/10 [00:00<?, ?it/s]"
     ]
    },
    {
     "name": "stdout",
     "output_type": "stream",
     "text": [
      "correct: 864\n",
      "Num Scanned:  433826\n",
      "Number unique ports Rec'd:  22727\n",
      "At Bin:  20\n",
      "Hitrate:  0.0019915818784489634\n",
      "total ips correct:  64887\n",
      "Total Normalized Services:  1347.272970034447\n",
      "Total Normalized IPs:  2759.3977468599614\n",
      "Total Fraction Services: 0.12245989707732763\n",
      "Total Fraction IPs: 0.1495691821144883\n",
      "Total Fraction Depopularized Services: 0.12254444251698884\n",
      "Total Fraction Depopularized IPs: 0.14974050919299284\n"
     ]
    },
    {
     "name": "stderr",
     "output_type": "stream",
     "text": [
      "Epoch: 100%|██████████| 10/10 [00:36<00:00,  3.65s/it]\n"
     ]
    },
    {
     "name": "stdout",
     "output_type": "stream",
     "text": [
      "...Grabbed Representations\n",
      "Got Item Representations\n",
      "Got User Representations\n",
      "Made Index\n",
      "Got Top Items\n",
      "Got Predictions/Top Items\n",
      "...Calculated Predictions\n",
      "cycle:  21\n"
     ]
    },
    {
     "name": "stderr",
     "output_type": "stream",
     "text": [
      "\r",
      "Epoch:   0%|          | 0/10 [00:00<?, ?it/s]"
     ]
    },
    {
     "name": "stdout",
     "output_type": "stream",
     "text": [
      "correct: 1266\n",
      "Num Scanned:  433826\n",
      "Number unique ports Rec'd:  22918\n",
      "At Bin:  21\n",
      "Hitrate:  0.0029182206691161896\n",
      "total ips correct:  65828\n",
      "Total Normalized Services:  1369.203531201781\n",
      "Total Normalized IPs:  2811.709132057322\n",
      "Total Fraction Services: 0.1243676584715305\n",
      "Total Fraction IPs: 0.15173825450756756\n",
      "Total Fraction Depopularized Services: 0.12445413200389178\n",
      "Total Fraction Depopularized IPs: 0.15191293667870237\n"
     ]
    },
    {
     "name": "stderr",
     "output_type": "stream",
     "text": [
      "Epoch: 100%|██████████| 10/10 [00:36<00:00,  3.67s/it]\n"
     ]
    },
    {
     "name": "stdout",
     "output_type": "stream",
     "text": [
      "...Grabbed Representations\n",
      "Got Item Representations\n",
      "Got User Representations\n",
      "Made Index\n",
      "Got Top Items\n",
      "Got Predictions/Top Items\n",
      "...Calculated Predictions\n",
      "cycle:  22\n"
     ]
    },
    {
     "name": "stderr",
     "output_type": "stream",
     "text": [
      "\r",
      "Epoch:   0%|          | 0/10 [00:00<?, ?it/s]"
     ]
    },
    {
     "name": "stdout",
     "output_type": "stream",
     "text": [
      "correct: 871\n",
      "Num Scanned:  433826\n",
      "Number unique ports Rec'd:  23122\n",
      "At Bin:  22\n",
      "Hitrate:  0.00200771737977899\n",
      "total ips correct:  66473\n",
      "Total Normalized Services:  1389.2418866147261\n",
      "Total Normalized IPs:  2860.8780429829935\n",
      "Total Fraction Services: 0.12568018625537783\n",
      "Total Fraction IPs: 0.15322502570154856\n",
      "Total Fraction Depopularized Services: 0.1257679863033329\n",
      "Total Fraction Depopularized IPs: 0.1534020075907987\n"
     ]
    },
    {
     "name": "stderr",
     "output_type": "stream",
     "text": [
      "Epoch: 100%|██████████| 10/10 [00:31<00:00,  3.14s/it]\n"
     ]
    },
    {
     "name": "stdout",
     "output_type": "stream",
     "text": [
      "...Grabbed Representations\n",
      "Got Item Representations\n",
      "Got User Representations\n",
      "Made Index\n",
      "Got Top Items\n",
      "Got Predictions/Top Items\n",
      "...Calculated Predictions\n",
      "cycle:  23\n"
     ]
    },
    {
     "name": "stderr",
     "output_type": "stream",
     "text": [
      "\r",
      "Epoch:   0%|          | 0/10 [00:00<?, ?it/s]"
     ]
    },
    {
     "name": "stdout",
     "output_type": "stream",
     "text": [
      "correct: 880\n",
      "Num Scanned:  433826\n",
      "Number unique ports Rec'd:  23306\n",
      "At Bin:  23\n",
      "Hitrate:  0.0020284630243461665\n",
      "total ips correct:  67190\n",
      "Total Normalized Services:  1407.8634665208788\n",
      "Total Normalized IPs:  2901.3913714062123\n",
      "Total Fraction Services: 0.12700627632401806\n",
      "Total Fraction IPs: 0.15487776205206696\n",
      "Total Fraction Depopularized Services: 0.12709541659438708\n",
      "Total Fraction Depopularized IPs: 0.1550573003721523\n"
     ]
    },
    {
     "name": "stderr",
     "output_type": "stream",
     "text": [
      "Epoch: 100%|██████████| 10/10 [00:30<00:00,  3.06s/it]\n"
     ]
    },
    {
     "name": "stdout",
     "output_type": "stream",
     "text": [
      "...Grabbed Representations\n",
      "Got Item Representations\n",
      "Got User Representations\n",
      "Made Index\n",
      "Got Top Items\n",
      "Got Predictions/Top Items\n",
      "...Calculated Predictions\n",
      "cycle:  24\n"
     ]
    },
    {
     "name": "stderr",
     "output_type": "stream",
     "text": [
      "\r",
      "Epoch:   0%|          | 0/10 [00:00<?, ?it/s]"
     ]
    },
    {
     "name": "stdout",
     "output_type": "stream",
     "text": [
      "correct: 975\n",
      "Num Scanned:  433826\n",
      "Number unique ports Rec'd:  23505\n",
      "At Bin:  24\n",
      "Hitrate:  0.0022474448281108094\n",
      "total ips correct:  67932\n",
      "Total Normalized Services:  1426.9706946163312\n",
      "Total Normalized IPs:  2951.60104209818\n",
      "Total Fraction Services: 0.12847552384325012\n",
      "Total Fraction IPs: 0.15658812519304974\n",
      "Total Fraction Depopularized Services: 0.1285661490191346\n",
      "Total Fraction Depopularized IPs: 0.15677030908033135\n"
     ]
    },
    {
     "name": "stderr",
     "output_type": "stream",
     "text": [
      "Epoch: 100%|██████████| 10/10 [00:35<00:00,  3.50s/it]\n"
     ]
    },
    {
     "name": "stdout",
     "output_type": "stream",
     "text": [
      "...Grabbed Representations\n",
      "Got Item Representations\n",
      "Got User Representations\n",
      "Made Index\n",
      "Got Top Items\n",
      "Got Predictions/Top Items\n",
      "...Calculated Predictions\n",
      "cycle:  25\n"
     ]
    },
    {
     "name": "stderr",
     "output_type": "stream",
     "text": [
      "\r",
      "Epoch:   0%|          | 0/10 [00:00<?, ?it/s]"
     ]
    },
    {
     "name": "stdout",
     "output_type": "stream",
     "text": [
      "correct: 859\n",
      "Num Scanned:  433826\n",
      "Number unique ports Rec'd:  23648\n",
      "At Bin:  25\n",
      "Hitrate:  0.0019800565203560876\n",
      "total ips correct:  68526\n",
      "Total Normalized Services:  1445.9756846862203\n",
      "Total Normalized IPs:  2993.7667326694454\n",
      "Total Fraction Services: 0.12976996858070688\n",
      "Total Fraction IPs: 0.15795733773448342\n",
      "Total Fraction Depopularized Services: 0.129861901996425\n",
      "Total Fraction Depopularized IPs: 0.15814163950170376\n"
     ]
    },
    {
     "name": "stderr",
     "output_type": "stream",
     "text": [
      "Epoch: 100%|██████████| 10/10 [00:34<00:00,  3.50s/it]\n"
     ]
    },
    {
     "name": "stdout",
     "output_type": "stream",
     "text": [
      "...Grabbed Representations\n",
      "Got Item Representations\n",
      "Got User Representations\n",
      "Made Index\n",
      "Got Top Items\n",
      "Got Predictions/Top Items\n",
      "...Calculated Predictions\n",
      "cycle:  26\n"
     ]
    },
    {
     "name": "stderr",
     "output_type": "stream",
     "text": [
      "\r",
      "Epoch:   0%|          | 0/10 [00:00<?, ?it/s]"
     ]
    },
    {
     "name": "stdout",
     "output_type": "stream",
     "text": [
      "correct: 858\n",
      "Num Scanned:  433826\n",
      "Number unique ports Rec'd:  23800\n",
      "At Bin:  26\n",
      "Hitrate:  0.0019777514487375122\n",
      "total ips correct:  69114\n",
      "Total Normalized Services:  1465.099971602596\n",
      "Total Normalized IPs:  3041.8596347028843\n",
      "Total Fraction Services: 0.13106290639763113\n",
      "Total Fraction IPs: 0.15931271984620562\n",
      "Total Fraction Depopularized Services: 0.1311561465302028\n",
      "Total Fraction Depopularized IPs: 0.1594991181006381\n"
     ]
    },
    {
     "name": "stderr",
     "output_type": "stream",
     "text": [
      "Epoch: 100%|██████████| 10/10 [00:33<00:00,  3.36s/it]\n"
     ]
    },
    {
     "name": "stdout",
     "output_type": "stream",
     "text": [
      "...Grabbed Representations\n",
      "Got Item Representations\n",
      "Got User Representations\n",
      "Made Index\n",
      "Got Top Items\n",
      "Got Predictions/Top Items\n",
      "...Calculated Predictions\n",
      "cycle:  27\n",
      "correct: 724\n",
      "Num Scanned:  433826\n",
      "Number unique ports Rec'd:  23954\n",
      "At Bin:  27\n",
      "Hitrate:  0.001668871851848437\n",
      "total ips correct:  69613\n",
      "Total Normalized Services:  1483.0722926879348\n",
      "Total Normalized IPs:  3086.563613606697\n",
      "Total Fraction Services: 0.13215391686319422\n",
      "Total Fraction IPs: 0.16046295058387464\n",
      "Total Fraction Depopularized Services: 0.1322482596332974\n",
      "Total Fraction Depopularized IPs: 0.1606511280000739\n"
     ]
    },
    {
     "name": "stderr",
     "output_type": "stream",
     "text": [
      "Epoch: 100%|██████████| 10/10 [00:36<00:00,  3.63s/it]\n"
     ]
    },
    {
     "name": "stdout",
     "output_type": "stream",
     "text": [
      "...Grabbed Representations\n",
      "Got Item Representations\n",
      "Got User Representations\n",
      "Made Index\n",
      "Got Top Items\n",
      "Got Predictions/Top Items\n",
      "...Calculated Predictions\n",
      "cycle:  28\n",
      "correct: 655\n",
      "Num Scanned:  433826\n",
      "Number unique ports Rec'd:  24135\n",
      "At Bin:  28\n",
      "Hitrate:  0.0015098219101667488\n",
      "total ips correct:  70074\n",
      "Total Normalized Services:  1497.4798374353593\n",
      "Total Normalized IPs:  3120.1638463327986\n",
      "Total Fraction Services: 0.13314094981201166\n",
      "Total Fraction IPs: 0.1615255886000378\n",
      "Total Fraction Depopularized Services: 0.13323629013402521\n",
      "Total Fraction Depopularized IPs: 0.16171540969073497\n"
     ]
    },
    {
     "name": "stderr",
     "output_type": "stream",
     "text": [
      "Epoch: 100%|██████████| 10/10 [00:35<00:00,  3.55s/it]\n"
     ]
    },
    {
     "name": "stdout",
     "output_type": "stream",
     "text": [
      "...Grabbed Representations\n",
      "Got Item Representations\n",
      "Got User Representations\n",
      "Made Index\n",
      "Got Top Items\n",
      "Got Predictions/Top Items\n",
      "...Calculated Predictions\n",
      "cycle:  29\n"
     ]
    },
    {
     "name": "stderr",
     "output_type": "stream",
     "text": [
      "\r",
      "Epoch:   0%|          | 0/10 [00:00<?, ?it/s]"
     ]
    },
    {
     "name": "stdout",
     "output_type": "stream",
     "text": [
      "correct: 604\n",
      "Num Scanned:  433826\n",
      "Number unique ports Rec'd:  24272\n",
      "At Bin:  29\n",
      "Hitrate:  0.0013922632576194142\n",
      "total ips correct:  70470\n",
      "Total Normalized Services:  1512.349111592964\n",
      "Total Normalized IPs:  3152.291107905029\n",
      "Total Fraction Services: 0.1340511298136693\n",
      "Total Fraction IPs: 0.16243839696099358\n",
      "Total Fraction Depopularized Services: 0.13414739001561238\n",
      "Total Fraction Depopularized IPs: 0.16262962997164992\n"
     ]
    },
    {
     "name": "stderr",
     "output_type": "stream",
     "text": [
      "Epoch: 100%|██████████| 10/10 [00:33<00:00,  3.31s/it]\n"
     ]
    },
    {
     "name": "stdout",
     "output_type": "stream",
     "text": [
      "...Grabbed Representations\n",
      "Got Item Representations\n",
      "Got User Representations\n",
      "Made Index\n",
      "Got Top Items\n",
      "Got Predictions/Top Items\n",
      "...Calculated Predictions\n",
      "cycle:  30\n"
     ]
    },
    {
     "name": "stderr",
     "output_type": "stream",
     "text": [
      "\r",
      "Epoch:   0%|          | 0/10 [00:00<?, ?it/s]"
     ]
    },
    {
     "name": "stdout",
     "output_type": "stream",
     "text": [
      "correct: 835\n",
      "Num Scanned:  433826\n",
      "Number unique ports Rec'd:  24416\n",
      "At Bin:  30\n",
      "Hitrate:  0.0019247348015102828\n",
      "total ips correct:  70950\n",
      "Total Normalized Services:  1530.1144154631597\n",
      "Total Normalized IPs:  3191.022094639817\n",
      "Total Fraction Services: 0.13530940845834494\n",
      "Total Fraction IPs: 0.16354483133790967\n",
      "Total Fraction Depopularized Services: 0.1354069403486013\n",
      "Total Fraction Depopularized IPs: 0.16373777576669837\n"
     ]
    },
    {
     "name": "stderr",
     "output_type": "stream",
     "text": [
      "Epoch: 100%|██████████| 10/10 [00:34<00:00,  3.40s/it]\n"
     ]
    },
    {
     "name": "stdout",
     "output_type": "stream",
     "text": [
      "...Grabbed Representations\n",
      "Got Item Representations\n",
      "Got User Representations\n",
      "Made Index\n",
      "Got Top Items\n",
      "Got Predictions/Top Items\n",
      "...Calculated Predictions\n",
      "cycle:  31\n",
      "correct: 829\n",
      "Num Scanned:  433826\n",
      "Number unique ports Rec'd:  24533\n",
      "At Bin:  31\n",
      "Hitrate:  0.0019109043717988317\n",
      "total ips correct:  71622\n",
      "Total Normalized Services:  1547.5021716613082\n",
      "Total Normalized IPs:  3242.857417516501\n",
      "Total Fraction Services: 0.13655864557982536\n",
      "Total Fraction IPs: 0.1650938394655922\n",
      "Total Fraction Depopularized Services: 0.13665744002051483\n",
      "Total Fraction Depopularized IPs: 0.16528917987976618\n"
     ]
    },
    {
     "name": "stderr",
     "output_type": "stream",
     "text": [
      "Epoch: 100%|██████████| 10/10 [00:36<00:00,  3.63s/it]\n"
     ]
    },
    {
     "name": "stdout",
     "output_type": "stream",
     "text": [
      "...Grabbed Representations\n",
      "Got Item Representations\n",
      "Got User Representations\n",
      "Made Index\n",
      "Got Top Items\n",
      "Got Predictions/Top Items\n",
      "...Calculated Predictions\n",
      "cycle:  32\n"
     ]
    },
    {
     "name": "stderr",
     "output_type": "stream",
     "text": [
      "\r",
      "Epoch:   0%|          | 0/10 [00:00<?, ?it/s]"
     ]
    },
    {
     "name": "stdout",
     "output_type": "stream",
     "text": [
      "correct: 706\n",
      "Num Scanned:  433826\n",
      "Number unique ports Rec'd:  24658\n",
      "At Bin:  32\n",
      "Hitrate:  0.0016273805627140835\n",
      "total ips correct:  72110\n",
      "Total Normalized Services:  1561.2649678934981\n",
      "Total Normalized IPs:  3290.722908156564\n",
      "Total Fraction Services: 0.1376225314758026\n",
      "Total Fraction IPs: 0.16621871441545688\n",
      "Total Fraction Depopularized Services: 0.13772240114038328\n",
      "Total Fraction Depopularized IPs: 0.16641579477139876\n"
     ]
    },
    {
     "name": "stderr",
     "output_type": "stream",
     "text": [
      "Epoch: 100%|██████████| 10/10 [00:31<00:00,  3.17s/it]\n"
     ]
    },
    {
     "name": "stdout",
     "output_type": "stream",
     "text": [
      "...Grabbed Representations\n",
      "Got Item Representations\n",
      "Got User Representations\n",
      "Made Index\n",
      "Got Top Items\n",
      "Got Predictions/Top Items\n",
      "...Calculated Predictions\n",
      "cycle:  33\n",
      "correct: 843\n",
      "Num Scanned:  433826\n",
      "Number unique ports Rec'd:  24791\n",
      "At Bin:  33\n",
      "Hitrate:  0.0019431753744588844\n",
      "total ips correct:  72699\n",
      "Total Normalized Services:  1577.5734866035798\n",
      "Total Normalized IPs:  3329.779911726635\n",
      "Total Fraction Services: 0.13889286548473867\n",
      "Total Fraction IPs: 0.16757640159879766\n",
      "Total Fraction Depopularized Services: 0.13899401902147268\n",
      "Total Fraction Depopularized IPs: 0.1677755820074061\n"
     ]
    },
    {
     "name": "stderr",
     "output_type": "stream",
     "text": [
      "Epoch: 100%|██████████| 10/10 [00:31<00:00,  3.11s/it]\n"
     ]
    },
    {
     "name": "stdout",
     "output_type": "stream",
     "text": [
      "...Grabbed Representations\n",
      "Got Item Representations\n",
      "Got User Representations\n",
      "Made Index\n",
      "Got Top Items\n",
      "Got Predictions/Top Items\n",
      "...Calculated Predictions\n",
      "cycle:  34\n",
      "correct: 903\n",
      "Num Scanned:  433826\n",
      "Number unique ports Rec'd:  24909\n",
      "At Bin:  34\n",
      "Hitrate:  0.0020814796715733956\n",
      "total ips correct:  73346\n",
      "Total Normalized Services:  1595.443278119255\n",
      "Total Normalized IPs:  3376.027690884505\n",
      "Total Fraction Services: 0.14025361472562745\n",
      "Total Fraction IPs: 0.16906778293601582\n",
      "Total Fraction Depopularized Services: 0.1403561435133158\n",
      "Total Fraction Depopularized IPs: 0.16926927019364849\n"
     ]
    },
    {
     "name": "stderr",
     "output_type": "stream",
     "text": [
      "Epoch: 100%|██████████| 10/10 [00:31<00:00,  3.17s/it]\n"
     ]
    },
    {
     "name": "stdout",
     "output_type": "stream",
     "text": [
      "...Grabbed Representations\n",
      "Got Item Representations\n",
      "Got User Representations\n",
      "Made Index\n",
      "Got Top Items\n",
      "Got Predictions/Top Items\n",
      "...Calculated Predictions\n",
      "cycle:  35\n",
      "correct: 1149\n",
      "Num Scanned:  433826\n",
      "Number unique ports Rec'd:  25027\n",
      "At Bin:  35\n",
      "Hitrate:  0.0026485272897428924\n",
      "total ips correct:  74270\n",
      "Total Normalized Services:  1613.4671671548783\n",
      "Total Normalized IPs:  3429.338727823963\n",
      "Total Fraction Services: 0.14198506641752248\n",
      "Total Fraction IPs: 0.1711976691115793\n",
      "Total Fraction Depopularized Services: 0.14208934510924903\n",
      "Total Fraction Depopularized IPs: 0.1714024508491167\n"
     ]
    },
    {
     "name": "stderr",
     "output_type": "stream",
     "text": [
      "Epoch: 100%|██████████| 10/10 [00:32<00:00,  3.25s/it]\n"
     ]
    },
    {
     "name": "stdout",
     "output_type": "stream",
     "text": [
      "...Grabbed Representations\n",
      "Got Item Representations\n",
      "Got User Representations\n",
      "Made Index\n",
      "Got Top Items\n",
      "Got Predictions/Top Items\n",
      "...Calculated Predictions\n",
      "cycle:  36\n",
      "correct: 669\n",
      "Num Scanned:  433826\n",
      "Number unique ports Rec'd:  25143\n",
      "At Bin:  36\n",
      "Hitrate:  0.0015420929128268015\n",
      "total ips correct:  74721\n"
     ]
    },
    {
     "name": "stderr",
     "output_type": "stream",
     "text": [
      "\r",
      "Epoch:   0%|          | 0/10 [00:00<?, ?it/s]"
     ]
    },
    {
     "name": "stdout",
     "output_type": "stream",
     "text": [
      "Total Normalized Services:  1626.5850546913543\n",
      "Total Normalized IPs:  3456.4625268388986\n",
      "Total Fraction Services: 0.14299319625379556\n",
      "Total Fraction IPs: 0.1722372564115567\n",
      "Total Fraction Depopularized Services: 0.1430984938191527\n",
      "Total Fraction Depopularized IPs: 0.17244364616904764\n"
     ]
    },
    {
     "name": "stderr",
     "output_type": "stream",
     "text": [
      "Epoch: 100%|██████████| 10/10 [00:31<00:00,  3.18s/it]\n"
     ]
    },
    {
     "name": "stdout",
     "output_type": "stream",
     "text": [
      "...Grabbed Representations\n",
      "Got Item Representations\n",
      "Got User Representations\n",
      "Made Index\n",
      "Got Top Items\n",
      "Got Predictions/Top Items\n",
      "...Calculated Predictions\n",
      "cycle:  37\n",
      "correct: 691\n",
      "Num Scanned:  433826\n",
      "Number unique ports Rec'd:  25276\n",
      "At Bin:  37\n",
      "Hitrate:  0.0015928044884354557\n",
      "total ips correct:  75222\n",
      "Total Normalized Services:  1641.7311736047393\n",
      "Total Normalized IPs:  3494.6438142800016\n",
      "Total Fraction Services: 0.14403447834178465\n",
      "Total Fraction IPs: 0.17339209729246288\n",
      "Total Fraction Depopularized Services: 0.14414082828633273\n",
      "Total Fraction Depopularized IPs: 0.17360027334262945\n"
     ]
    },
    {
     "name": "stderr",
     "output_type": "stream",
     "text": [
      "Epoch: 100%|██████████| 10/10 [00:34<00:00,  3.44s/it]\n"
     ]
    },
    {
     "name": "stdout",
     "output_type": "stream",
     "text": [
      "...Grabbed Representations\n",
      "Got Item Representations\n",
      "Got User Representations\n",
      "Made Index\n",
      "Got Top Items\n",
      "Got Predictions/Top Items\n",
      "...Calculated Predictions\n",
      "cycle:  38\n",
      "correct: 546\n",
      "Num Scanned:  433826\n",
      "Number unique ports Rec'd:  25381\n",
      "At Bin:  38\n",
      "Hitrate:  0.0012585691037420533\n",
      "total ips correct:  75667\n"
     ]
    },
    {
     "name": "stderr",
     "output_type": "stream",
     "text": [
      "\r",
      "Epoch:   0%|          | 0/10 [00:00<?, ?it/s]"
     ]
    },
    {
     "name": "stdout",
     "output_type": "stream",
     "text": [
      "Total Normalized Services:  1654.3561958403739\n",
      "Total Normalized IPs:  3529.0028922163847\n",
      "Total Fraction Services: 0.1448572569525546\n",
      "Total Fraction IPs: 0.17441785416272884\n",
      "Total Fraction Depopularized Services: 0.14496443844419135\n",
      "Total Fraction Depopularized IPs: 0.17462761684012226\n"
     ]
    },
    {
     "name": "stderr",
     "output_type": "stream",
     "text": [
      "Epoch: 100%|██████████| 10/10 [00:32<00:00,  3.26s/it]\n"
     ]
    },
    {
     "name": "stdout",
     "output_type": "stream",
     "text": [
      "...Grabbed Representations\n",
      "Got Item Representations\n",
      "Got User Representations\n",
      "Made Index\n",
      "Got Top Items\n",
      "Got Predictions/Top Items\n",
      "...Calculated Predictions\n",
      "cycle:  39\n",
      "correct: 492\n",
      "Num Scanned:  433826\n",
      "Number unique ports Rec'd:  25497\n",
      "At Bin:  39\n",
      "Hitrate:  0.001134095236338993\n",
      "total ips correct:  76057\n"
     ]
    },
    {
     "name": "stderr",
     "output_type": "stream",
     "text": [
      "\r",
      "Epoch:   0%|          | 0/10 [00:00<?, ?it/s]"
     ]
    },
    {
     "name": "stdout",
     "output_type": "stream",
     "text": [
      "Total Normalized Services:  1666.9112665444738\n",
      "Total Normalized IPs:  3557.8872880350846\n",
      "Total Fraction Services: 0.1455986618545671\n",
      "Total Fraction IPs: 0.17531683209397317\n",
      "Total Fraction Depopularized Services: 0.14570659265237165\n",
      "Total Fraction Depopularized IPs: 0.17552798529859912\n"
     ]
    },
    {
     "name": "stderr",
     "output_type": "stream",
     "text": [
      "Epoch: 100%|██████████| 10/10 [00:33<00:00,  3.35s/it]\n"
     ]
    },
    {
     "name": "stdout",
     "output_type": "stream",
     "text": [
      "...Grabbed Representations\n",
      "Got Item Representations\n",
      "Got User Representations\n",
      "Made Index\n",
      "Got Top Items\n",
      "Got Predictions/Top Items\n",
      "...Calculated Predictions\n",
      "cycle:  40\n",
      "correct: 629\n",
      "Num Scanned:  433826\n",
      "Number unique ports Rec'd:  25598\n",
      "At Bin:  40\n",
      "Hitrate:  0.001449890048083794\n",
      "total ips correct:  76525\n"
     ]
    },
    {
     "name": "stderr",
     "output_type": "stream",
     "text": [
      "\r",
      "Epoch:   0%|          | 0/10 [00:00<?, ?it/s]"
     ]
    },
    {
     "name": "stdout",
     "output_type": "stream",
     "text": [
      "Total Normalized Services:  1679.3758327141056\n",
      "Total Normalized IPs:  3599.476166100645\n",
      "Total Fraction Services: 0.14654651486953835\n",
      "Total Fraction IPs: 0.17639560561146636\n",
      "Total Fraction Depopularized Services: 0.14665540362177287\n",
      "Total Fraction Depopularized IPs: 0.17660842744877134\n"
     ]
    },
    {
     "name": "stderr",
     "output_type": "stream",
     "text": [
      "Epoch: 100%|██████████| 10/10 [00:31<00:00,  3.14s/it]\n"
     ]
    },
    {
     "name": "stdout",
     "output_type": "stream",
     "text": [
      "...Grabbed Representations\n",
      "Got Item Representations\n",
      "Got User Representations\n",
      "Made Index\n",
      "Got Top Items\n",
      "Got Predictions/Top Items\n",
      "...Calculated Predictions\n",
      "cycle:  41\n",
      "correct: 456\n",
      "Num Scanned:  433826\n",
      "Number unique ports Rec'd:  25704\n",
      "At Bin:  41\n",
      "Hitrate:  0.0010511126580702863\n",
      "total ips correct:  76826\n"
     ]
    },
    {
     "name": "stderr",
     "output_type": "stream",
     "text": [
      "\r",
      "Epoch:   0%|          | 0/10 [00:00<?, ?it/s]"
     ]
    },
    {
     "name": "stdout",
     "output_type": "stream",
     "text": [
      "Total Normalized Services:  1693.365126157847\n",
      "Total Normalized IPs:  3626.294304051395\n",
      "Total Fraction Services: 0.1472336706323792\n",
      "Total Fraction IPs: 0.17708943216865747\n",
      "Total Fraction Depopularized Services: 0.14734325386350094\n",
      "Total Fraction Depopularized IPs: 0.17730332720774963\n"
     ]
    },
    {
     "name": "stderr",
     "output_type": "stream",
     "text": [
      "Epoch: 100%|██████████| 10/10 [00:30<00:00,  3.09s/it]\n"
     ]
    },
    {
     "name": "stdout",
     "output_type": "stream",
     "text": [
      "...Grabbed Representations\n",
      "Got Item Representations\n",
      "Got User Representations\n",
      "Made Index\n",
      "Got Top Items\n",
      "Got Predictions/Top Items\n",
      "...Calculated Predictions\n",
      "cycle:  42\n",
      "correct: 584\n",
      "Num Scanned:  433826\n",
      "Number unique ports Rec'd:  25805\n",
      "At Bin:  42\n",
      "Hitrate:  0.0013461618252479104\n",
      "total ips correct:  77239\n"
     ]
    },
    {
     "name": "stderr",
     "output_type": "stream",
     "text": [
      "\r",
      "Epoch:   0%|          | 0/10 [00:00<?, ?it/s]"
     ]
    },
    {
     "name": "stdout",
     "output_type": "stream",
     "text": [
      "Total Normalized Services:  1707.5936985519504\n",
      "Total Normalized IPs:  3654.4592347629164\n",
      "Total Fraction Services: 0.1481137122233859\n",
      "Total Fraction IPs: 0.17804142674712903\n",
      "Total Fraction Depopularized Services: 0.1482241848748369\n",
      "Total Fraction Depopularized IPs: 0.1782567943189059\n"
     ]
    },
    {
     "name": "stderr",
     "output_type": "stream",
     "text": [
      "Epoch: 100%|██████████| 10/10 [00:33<00:00,  3.37s/it]\n"
     ]
    },
    {
     "name": "stdout",
     "output_type": "stream",
     "text": [
      "...Grabbed Representations\n",
      "Got Item Representations\n",
      "Got User Representations\n",
      "Made Index\n",
      "Got Top Items\n",
      "Got Predictions/Top Items\n",
      "...Calculated Predictions\n",
      "cycle:  43\n",
      "correct: 798\n",
      "Num Scanned:  433826\n",
      "Number unique ports Rec'd:  25914\n",
      "At Bin:  43\n",
      "Hitrate:  0.001839447151623001\n",
      "total ips correct:  77840\n"
     ]
    },
    {
     "name": "stderr",
     "output_type": "stream",
     "text": [
      "\r",
      "Epoch:   0%|          | 0/10 [00:00<?, ?it/s]"
     ]
    },
    {
     "name": "stdout",
     "output_type": "stream",
     "text": [
      "Total Normalized Services:  1723.9005072966606\n",
      "Total Normalized IPs:  3687.9218789708916\n",
      "Total Fraction Services: 0.14931623480835737\n",
      "Total Fraction IPs: 0.17942677478989272\n",
      "Total Fraction Depopularized Services: 0.14942792279786102\n",
      "Total Fraction Depopularized IPs: 0.17964428519978945\n"
     ]
    },
    {
     "name": "stderr",
     "output_type": "stream",
     "text": [
      "Epoch: 100%|██████████| 10/10 [00:33<00:00,  3.40s/it]\n"
     ]
    },
    {
     "name": "stdout",
     "output_type": "stream",
     "text": [
      "...Grabbed Representations\n",
      "Got Item Representations\n",
      "Got User Representations\n",
      "Made Index\n",
      "Got Top Items\n",
      "Got Predictions/Top Items\n",
      "...Calculated Predictions\n",
      "cycle:  44\n",
      "correct: 589\n",
      "Num Scanned:  433826\n",
      "Number unique ports Rec'd:  25997\n",
      "At Bin:  44\n",
      "Hitrate:  0.0013576871833407863\n",
      "total ips correct:  78318\n"
     ]
    },
    {
     "name": "stderr",
     "output_type": "stream",
     "text": [
      "\r",
      "Epoch:   0%|          | 0/10 [00:00<?, ?it/s]"
     ]
    },
    {
     "name": "stdout",
     "output_type": "stream",
     "text": [
      "Total Normalized Services:  1733.8143820790551\n",
      "Total Normalized IPs:  3713.987381694114\n",
      "Total Fraction Services: 0.15020381100202682\n",
      "Total Fraction IPs: 0.18052859902357166\n",
      "Total Fraction Depopularized Services: 0.15031639602675978\n",
      "Total Fraction Depopularized IPs: 0.18074781372069185\n"
     ]
    },
    {
     "name": "stderr",
     "output_type": "stream",
     "text": [
      "Epoch: 100%|██████████| 10/10 [00:31<00:00,  3.15s/it]\n"
     ]
    },
    {
     "name": "stdout",
     "output_type": "stream",
     "text": [
      "...Grabbed Representations\n",
      "Got Item Representations\n",
      "Got User Representations\n",
      "Made Index\n",
      "Got Top Items\n",
      "Got Predictions/Top Items\n",
      "...Calculated Predictions\n",
      "cycle:  45\n",
      "correct: 485\n",
      "Num Scanned:  433826\n",
      "Number unique ports Rec'd:  26082\n",
      "At Bin:  45\n",
      "Hitrate:  0.0011179597350089666\n",
      "total ips correct:  78694\n"
     ]
    },
    {
     "name": "stderr",
     "output_type": "stream",
     "text": [
      "\r",
      "Epoch:   0%|          | 0/10 [00:00<?, ?it/s]"
     ]
    },
    {
     "name": "stdout",
     "output_type": "stream",
     "text": [
      "Total Normalized Services:  1744.5451664836146\n",
      "Total Normalized IPs:  3734.5224800647243\n",
      "Total Fraction Services: 0.15093466746031148\n",
      "Total Fraction IPs: 0.18139530595215594\n",
      "Total Fraction Depopularized Services: 0.15104799113035214\n",
      "Total Fraction Depopularized IPs: 0.18161586126014645\n"
     ]
    },
    {
     "name": "stderr",
     "output_type": "stream",
     "text": [
      "Epoch: 100%|██████████| 10/10 [00:30<00:00,  3.09s/it]\n"
     ]
    },
    {
     "name": "stdout",
     "output_type": "stream",
     "text": [
      "...Grabbed Representations\n",
      "Got Item Representations\n",
      "Got User Representations\n",
      "Made Index\n",
      "Got Top Items\n",
      "Got Predictions/Top Items\n",
      "...Calculated Predictions\n",
      "cycle:  46\n",
      "correct: 518\n",
      "Num Scanned:  433826\n",
      "Number unique ports Rec'd:  26158\n",
      "At Bin:  46\n",
      "Hitrate:  0.001194027098421948\n",
      "total ips correct:  79080\n"
     ]
    },
    {
     "name": "stderr",
     "output_type": "stream",
     "text": [
      "\r",
      "Epoch:   0%|          | 0/10 [00:00<?, ?it/s]"
     ]
    },
    {
     "name": "stdout",
     "output_type": "stream",
     "text": [
      "Total Normalized Services:  1755.0551363615336\n",
      "Total Normalized IPs:  3759.06067701377\n",
      "Total Fraction Services: 0.15171525229617017\n",
      "Total Fraction IPs: 0.18228506359692595\n",
      "Total Fraction Depopularized Services: 0.15182936486985904\n",
      "Total Fraction Depopularized IPs: 0.18250699517033125\n"
     ]
    },
    {
     "name": "stderr",
     "output_type": "stream",
     "text": [
      "Epoch: 100%|██████████| 10/10 [00:35<00:00,  3.52s/it]\n"
     ]
    },
    {
     "name": "stdout",
     "output_type": "stream",
     "text": [
      "...Grabbed Representations\n",
      "Got Item Representations\n",
      "Got User Representations\n",
      "Made Index\n",
      "Got Top Items\n",
      "Got Predictions/Top Items\n",
      "...Calculated Predictions\n",
      "cycle:  47\n",
      "correct: 467\n",
      "Num Scanned:  433826\n",
      "Number unique ports Rec'd:  26246\n",
      "At Bin:  47\n",
      "Hitrate:  0.0010764684458746134\n",
      "total ips correct:  79396\n"
     ]
    },
    {
     "name": "stderr",
     "output_type": "stream",
     "text": [
      "\r",
      "Epoch:   0%|          | 0/10 [00:00<?, ?it/s]"
     ]
    },
    {
     "name": "stdout",
     "output_type": "stream",
     "text": [
      "Total Normalized Services:  1765.2969411704341\n",
      "Total Normalized IPs:  3779.4587419897575\n",
      "Total Fraction Services: 0.15241898418486902\n",
      "Total Fraction IPs: 0.1830134662283957\n",
      "Total Fraction Depopularized Services: 0.15253380799022528\n",
      "Total Fraction Depopularized IPs: 0.18323652448540478\n"
     ]
    },
    {
     "name": "stderr",
     "output_type": "stream",
     "text": [
      "Epoch: 100%|██████████| 10/10 [00:31<00:00,  3.16s/it]\n"
     ]
    },
    {
     "name": "stdout",
     "output_type": "stream",
     "text": [
      "...Grabbed Representations\n",
      "Got Item Representations\n",
      "Got User Representations\n",
      "Made Index\n",
      "Got Top Items\n",
      "Got Predictions/Top Items\n",
      "...Calculated Predictions\n",
      "cycle:  48\n",
      "correct: 605\n",
      "Num Scanned:  433826\n",
      "Number unique ports Rec'd:  26316\n",
      "At Bin:  48\n",
      "Hitrate:  0.0013945683292379894\n",
      "total ips correct:  79909\n"
     ]
    },
    {
     "name": "stderr",
     "output_type": "stream",
     "text": [
      "\r",
      "Epoch:   0%|          | 0/10 [00:00<?, ?it/s]"
     ]
    },
    {
     "name": "stdout",
     "output_type": "stream",
     "text": [
      "Total Normalized Services:  1778.5757566631514\n",
      "Total Normalized IPs:  3816.171533175225\n",
      "Total Fraction Services: 0.15333067110705917\n",
      "Total Fraction IPs: 0.18419596796872478\n",
      "Total Fraction Depopularized Services: 0.15344641631532502\n",
      "Total Fraction Depopularized IPs: 0.18442085530386282\n"
     ]
    },
    {
     "name": "stderr",
     "output_type": "stream",
     "text": [
      "Epoch: 100%|██████████| 10/10 [00:34<00:00,  3.47s/it]\n"
     ]
    },
    {
     "name": "stdout",
     "output_type": "stream",
     "text": [
      "...Grabbed Representations\n",
      "Got Item Representations\n",
      "Got User Representations\n",
      "Made Index\n",
      "Got Top Items\n",
      "Got Predictions/Top Items\n",
      "...Calculated Predictions\n",
      "cycle:  49\n",
      "correct: 602\n",
      "Num Scanned:  433826\n",
      "Number unique ports Rec'd:  26387\n",
      "At Bin:  49\n",
      "Hitrate:  0.0013876531143822638\n",
      "total ips correct:  80391\n"
     ]
    },
    {
     "name": "stderr",
     "output_type": "stream",
     "text": [
      "\r",
      "Epoch:   0%|          | 0/10 [00:00<?, ?it/s]"
     ]
    },
    {
     "name": "stdout",
     "output_type": "stream",
     "text": [
      "Total Normalized Services:  1791.4560558141409\n",
      "Total Normalized IPs:  3843.416610281417\n",
      "Total Fraction Services: 0.1542378372676517\n",
      "Total Fraction IPs: 0.18530701248887804\n",
      "Total Fraction Depopularized Services: 0.1543544993098871\n",
      "Total Fraction Depopularized IPs: 0.1855336183730573\n"
     ]
    },
    {
     "name": "stderr",
     "output_type": "stream",
     "text": [
      "Epoch: 100%|██████████| 10/10 [00:31<00:00,  3.18s/it]\n"
     ]
    },
    {
     "name": "stdout",
     "output_type": "stream",
     "text": [
      "...Grabbed Representations\n",
      "Got Item Representations\n",
      "Got User Representations\n",
      "Made Index\n",
      "Got Top Items\n",
      "Got Predictions/Top Items\n",
      "...Calculated Predictions\n",
      "cycle:  50\n",
      "correct: 611\n",
      "Num Scanned:  433826\n",
      "Number unique ports Rec'd:  26471\n",
      "At Bin:  50\n",
      "Hitrate:  0.0014083987589494406\n",
      "total ips correct:  80859\n"
     ]
    },
    {
     "name": "stderr",
     "output_type": "stream",
     "text": [
      "\r",
      "Epoch:   0%|          | 0/10 [00:00<?, ?it/s]"
     ]
    },
    {
     "name": "stdout",
     "output_type": "stream",
     "text": [
      "Total Normalized Services:  1802.8599627113226\n",
      "Total Normalized IPs:  3861.5921187154363\n",
      "Total Fraction Services: 0.15515856571303713\n",
      "Total Fraction IPs: 0.1863857860063712\n",
      "Total Fraction Depopularized Services: 0.1552761582960622\n",
      "Total Fraction Depopularized IPs: 0.1866140605232295\n"
     ]
    },
    {
     "name": "stderr",
     "output_type": "stream",
     "text": [
      "Epoch: 100%|██████████| 10/10 [00:33<00:00,  3.35s/it]\n"
     ]
    },
    {
     "name": "stdout",
     "output_type": "stream",
     "text": [
      "...Grabbed Representations\n",
      "Got Item Representations\n",
      "Got User Representations\n",
      "Made Index\n",
      "Got Top Items\n",
      "Got Predictions/Top Items\n",
      "...Calculated Predictions\n",
      "cycle:  51\n",
      "correct: 763\n",
      "Num Scanned:  433826\n",
      "Number unique ports Rec'd:  26557\n",
      "At Bin:  51\n",
      "Hitrate:  0.0017587696449728693\n",
      "total ips correct:  81476\n"
     ]
    },
    {
     "name": "stderr",
     "output_type": "stream",
     "text": [
      "\r",
      "Epoch:   0%|          | 0/10 [00:00<?, ?it/s]"
     ]
    },
    {
     "name": "stdout",
     "output_type": "stream",
     "text": [
      "Total Normalized Services:  1816.123067873391\n",
      "Total Normalized IPs:  3893.3260550593372\n",
      "Total Fraction Services: 0.1563083460793695\n",
      "Total Fraction IPs: 0.1878080151950321\n",
      "Total Fraction Depopularized Services: 0.15642710069614668\n",
      "Total Fraction Depopularized IPs: 0.18803848959728134\n"
     ]
    },
    {
     "name": "stderr",
     "output_type": "stream",
     "text": [
      "Epoch: 100%|██████████| 10/10 [00:31<00:00,  3.15s/it]\n"
     ]
    },
    {
     "name": "stdout",
     "output_type": "stream",
     "text": [
      "...Grabbed Representations\n",
      "Got Item Representations\n",
      "Got User Representations\n",
      "Made Index\n",
      "Got Top Items\n",
      "Got Predictions/Top Items\n",
      "...Calculated Predictions\n",
      "cycle:  52\n",
      "correct: 610\n",
      "Num Scanned:  433826\n",
      "Number unique ports Rec'd:  26617\n",
      "At Bin:  52\n",
      "Hitrate:  0.0014060936873308654\n",
      "total ips correct:  81928\n"
     ]
    },
    {
     "name": "stderr",
     "output_type": "stream",
     "text": [
      "\r",
      "Epoch:   0%|          | 0/10 [00:00<?, ?it/s]"
     ]
    },
    {
     "name": "stdout",
     "output_type": "stream",
     "text": [
      "Total Normalized Services:  1829.739042148141\n",
      "Total Normalized IPs:  3918.6543454596817\n",
      "Total Fraction Services: 0.15722756760422238\n",
      "Total Fraction IPs: 0.1888499075666281\n",
      "Total Fraction Depopularized Services: 0.15734725123880924\n",
      "Total Fraction Depopularized IPs: 0.1890819935542853\n"
     ]
    },
    {
     "name": "stderr",
     "output_type": "stream",
     "text": [
      "Epoch: 100%|██████████| 10/10 [00:32<00:00,  3.23s/it]\n"
     ]
    },
    {
     "name": "stdout",
     "output_type": "stream",
     "text": [
      "...Grabbed Representations\n",
      "Got Item Representations\n",
      "Got User Representations\n",
      "Made Index\n",
      "Got Top Items\n",
      "Got Predictions/Top Items\n",
      "...Calculated Predictions\n",
      "cycle:  53\n",
      "correct: 468\n",
      "Num Scanned:  433826\n",
      "Number unique ports Rec'd:  26676\n",
      "At Bin:  53\n",
      "Hitrate:  0.0010787735174931886\n"
     ]
    },
    {
     "name": "stderr",
     "output_type": "stream",
     "text": [
      "\r",
      "Epoch:   0%|          | 0/10 [00:00<?, ?it/s]"
     ]
    },
    {
     "name": "stdout",
     "output_type": "stream",
     "text": [
      "total ips correct:  82298\n",
      "Total Normalized Services:  1837.9143740646052\n",
      "Total Normalized IPs:  3939.2824941202653\n",
      "Total Fraction Services: 0.15793280641345378\n",
      "Total Fraction IPs: 0.18970278406550092\n",
      "Total Fraction Depopularized Services: 0.15805320280268806\n",
      "Total Fraction Depopularized IPs: 0.1899361892713018\n"
     ]
    },
    {
     "name": "stderr",
     "output_type": "stream",
     "text": [
      "Epoch: 100%|██████████| 10/10 [00:36<00:00,  3.62s/it]\n"
     ]
    },
    {
     "name": "stdout",
     "output_type": "stream",
     "text": [
      "...Grabbed Representations\n",
      "Got Item Representations\n",
      "Got User Representations\n",
      "Made Index\n",
      "Got Top Items\n",
      "Got Predictions/Top Items\n",
      "...Calculated Predictions\n",
      "cycle:  54\n",
      "correct: 479\n",
      "Num Scanned:  433826\n",
      "Number unique ports Rec'd:  26752\n",
      "At Bin:  54\n",
      "Hitrate:  0.0011041293052975157\n"
     ]
    },
    {
     "name": "stderr",
     "output_type": "stream",
     "text": [
      "\r",
      "Epoch:   0%|          | 0/10 [00:00<?, ?it/s]"
     ]
    },
    {
     "name": "stdout",
     "output_type": "stream",
     "text": [
      "total ips correct:  82653\n",
      "Total Normalized Services:  1846.8410012354525\n",
      "Total Normalized IPs:  3968.7674849954337\n",
      "Total Fraction Services: 0.1586546213485432\n",
      "Total Fraction IPs: 0.1905210844900951\n",
      "Total Fraction Depopularized Services: 0.15877574724520505\n",
      "Total Fraction Depopularized IPs: 0.19075575543222303\n"
     ]
    },
    {
     "name": "stderr",
     "output_type": "stream",
     "text": [
      "Epoch: 100%|██████████| 10/10 [00:32<00:00,  3.25s/it]\n"
     ]
    },
    {
     "name": "stdout",
     "output_type": "stream",
     "text": [
      "...Grabbed Representations\n",
      "Got Item Representations\n",
      "Got User Representations\n",
      "Made Index\n",
      "Got Top Items\n",
      "Got Predictions/Top Items\n",
      "...Calculated Predictions\n",
      "cycle:  55\n",
      "correct: 383\n",
      "Num Scanned:  433826\n",
      "Number unique ports Rec'd:  26810\n",
      "At Bin:  55\n",
      "Hitrate:  0.0008828424299142974\n"
     ]
    },
    {
     "name": "stderr",
     "output_type": "stream",
     "text": [
      "\r",
      "Epoch:   0%|          | 0/10 [00:00<?, ?it/s]"
     ]
    },
    {
     "name": "stdout",
     "output_type": "stream",
     "text": [
      "total ips correct:  82937\n",
      "Total Normalized Services:  1856.1756885651823\n",
      "Total Normalized IPs:  3983.0340132081114\n",
      "Total Fraction Services: 0.1592317719125082\n",
      "Total Fraction IPs: 0.19117572482977047\n",
      "Total Fraction Depopularized Services: 0.15935348111051612\n",
      "Total Fraction Depopularized IPs: 0.19141140836096002\n"
     ]
    },
    {
     "name": "stderr",
     "output_type": "stream",
     "text": [
      "Epoch: 100%|██████████| 10/10 [00:32<00:00,  3.22s/it]\n"
     ]
    },
    {
     "name": "stdout",
     "output_type": "stream",
     "text": [
      "...Grabbed Representations\n",
      "Got Item Representations\n",
      "Got User Representations\n",
      "Made Index\n",
      "Got Top Items\n",
      "Got Predictions/Top Items\n",
      "...Calculated Predictions\n",
      "cycle:  56\n",
      "correct: 600\n",
      "Num Scanned:  433826\n",
      "Number unique ports Rec'd:  26880\n",
      "At Bin:  56\n",
      "Hitrate:  0.0013830429711451135\n"
     ]
    },
    {
     "name": "stderr",
     "output_type": "stream",
     "text": [
      "\r",
      "Epoch:   0%|          | 0/10 [00:00<?, ?it/s]"
     ]
    },
    {
     "name": "stdout",
     "output_type": "stream",
     "text": [
      "total ips correct:  83392\n",
      "Total Normalized Services:  1866.7428711072912\n",
      "Total Normalized IPs:  4000.230376241631\n",
      "Total Fraction Services: 0.16013592423203563\n",
      "Total Fraction IPs: 0.19222453241622217\n",
      "Total Fraction Depopularized Services: 0.16025854721805305\n",
      "Total Fraction Depopularized IPs: 0.19246183822918303\n"
     ]
    },
    {
     "name": "stderr",
     "output_type": "stream",
     "text": [
      "Epoch: 100%|██████████| 10/10 [00:36<00:00,  3.68s/it]\n"
     ]
    },
    {
     "name": "stdout",
     "output_type": "stream",
     "text": [
      "...Grabbed Representations\n",
      "Got Item Representations\n",
      "Got User Representations\n",
      "Made Index\n",
      "Got Top Items\n",
      "Got Predictions/Top Items\n",
      "...Calculated Predictions\n",
      "cycle:  57\n",
      "correct: 625\n",
      "Num Scanned:  433826\n",
      "Number unique ports Rec'd:  26940\n",
      "At Bin:  57\n",
      "Hitrate:  0.0014406697616094932\n"
     ]
    },
    {
     "name": "stderr",
     "output_type": "stream",
     "text": [
      "\r",
      "Epoch:   0%|          | 0/10 [00:00<?, ?it/s]"
     ]
    },
    {
     "name": "stdout",
     "output_type": "stream",
     "text": [
      "total ips correct:  83854\n",
      "Total Normalized Services:  1877.0305360892846\n",
      "Total Normalized IPs:  4018.7505126198685\n",
      "Total Fraction Services: 0.1610777495648767\n",
      "Total Fraction IPs: 0.1932894755040039\n",
      "Total Fraction Depopularized Services: 0.16120132441340404\n",
      "Total Fraction Depopularized IPs: 0.19352842855691713\n"
     ]
    },
    {
     "name": "stderr",
     "output_type": "stream",
     "text": [
      "Epoch: 100%|██████████| 10/10 [00:35<00:00,  3.55s/it]\n"
     ]
    },
    {
     "name": "stdout",
     "output_type": "stream",
     "text": [
      "...Grabbed Representations\n",
      "Got Item Representations\n",
      "Got User Representations\n",
      "Made Index\n",
      "Got Top Items\n",
      "Got Predictions/Top Items\n",
      "...Calculated Predictions\n",
      "cycle:  58\n",
      "correct: 433\n",
      "Num Scanned:  433826\n",
      "Number unique ports Rec'd:  27006\n",
      "At Bin:  58\n",
      "Hitrate:  0.0009980960108430569\n"
     ]
    },
    {
     "name": "stderr",
     "output_type": "stream",
     "text": [
      "\r",
      "Epoch:   0%|          | 0/10 [00:00<?, ?it/s]"
     ]
    },
    {
     "name": "stdout",
     "output_type": "stream",
     "text": [
      "total ips correct:  84181\n",
      "Total Normalized Services:  1887.81955362004\n",
      "Total Normalized IPs:  4047.2710356394423\n",
      "Total Fraction Services: 0.161730246155469\n",
      "Total Fraction IPs: 0.194043233923278\n",
      "Total Fraction Depopularized Services: 0.1618544804543432\n",
      "Total Fraction Depopularized IPs: 0.1942833528797939\n"
     ]
    },
    {
     "name": "stderr",
     "output_type": "stream",
     "text": [
      "Epoch: 100%|██████████| 10/10 [00:36<00:00,  3.60s/it]\n"
     ]
    },
    {
     "name": "stdout",
     "output_type": "stream",
     "text": [
      "...Grabbed Representations\n",
      "Got Item Representations\n",
      "Got User Representations\n",
      "Made Index\n",
      "Got Top Items\n",
      "Got Predictions/Top Items\n",
      "...Calculated Predictions\n",
      "cycle:  59\n",
      "correct: 474\n",
      "Num Scanned:  433826\n",
      "Number unique ports Rec'd:  27062\n",
      "At Bin:  59\n",
      "Hitrate:  0.0010926039472046397\n"
     ]
    },
    {
     "name": "stderr",
     "output_type": "stream",
     "text": [
      "\r",
      "Epoch:   0%|          | 0/10 [00:00<?, ?it/s]"
     ]
    },
    {
     "name": "stdout",
     "output_type": "stream",
     "text": [
      "total ips correct:  84526\n",
      "Total Normalized Services:  1896.833388202431\n",
      "Total Normalized IPs:  4064.7258232930035\n",
      "Total Fraction Services: 0.16244452648789567\n",
      "Total Fraction IPs: 0.19483848363168643\n",
      "Total Fraction Depopularized Services: 0.16256948267929736\n",
      "Total Fraction Depopularized IPs: 0.19507983266998494\n"
     ]
    },
    {
     "name": "stderr",
     "output_type": "stream",
     "text": [
      "Epoch: 100%|██████████| 10/10 [00:36<00:00,  3.64s/it]\n"
     ]
    },
    {
     "name": "stdout",
     "output_type": "stream",
     "text": [
      "...Grabbed Representations\n",
      "Got Item Representations\n",
      "Got User Representations\n",
      "Made Index\n",
      "Got Top Items\n",
      "Got Predictions/Top Items\n",
      "...Calculated Predictions\n",
      "cycle:  60\n",
      "correct: 447\n",
      "Num Scanned:  433826\n",
      "Number unique ports Rec'd:  27119\n",
      "At Bin:  60\n",
      "Hitrate:  0.0010303670135031096\n"
     ]
    },
    {
     "name": "stderr",
     "output_type": "stream",
     "text": [
      "\r",
      "Epoch:   0%|          | 0/10 [00:00<?, ?it/s]"
     ]
    },
    {
     "name": "stdout",
     "output_type": "stream",
     "text": [
      "total ips correct:  84891\n",
      "Total Normalized Services:  1905.386458634783\n",
      "Total Normalized IPs:  4091.207711540192\n",
      "Total Fraction Services: 0.1631181199659436\n",
      "Total Fraction IPs: 0.1956798347724664\n",
      "Total Fraction Depopularized Services: 0.1632437569294124\n",
      "Total Fraction Depopularized IPs: 0.19592248520163635\n"
     ]
    },
    {
     "name": "stderr",
     "output_type": "stream",
     "text": [
      "Epoch: 100%|██████████| 10/10 [00:35<00:00,  3.52s/it]\n"
     ]
    },
    {
     "name": "stdout",
     "output_type": "stream",
     "text": [
      "...Grabbed Representations\n",
      "Got Item Representations\n",
      "Got User Representations\n",
      "Made Index\n",
      "Got Top Items\n",
      "Got Predictions/Top Items\n",
      "...Calculated Predictions\n",
      "cycle:  61\n",
      "correct: 511\n",
      "Num Scanned:  433826\n",
      "Number unique ports Rec'd:  27183\n",
      "At Bin:  61\n",
      "Hitrate:  0.0011778915970919216\n"
     ]
    },
    {
     "name": "stderr",
     "output_type": "stream",
     "text": [
      "\r",
      "Epoch:   0%|          | 0/10 [00:00<?, ?it/s]"
     ]
    },
    {
     "name": "stdout",
     "output_type": "stream",
     "text": [
      "total ips correct:  85251\n",
      "Total Normalized Services:  1915.5745424784445\n",
      "Total Normalized IPs:  4107.709909485292\n",
      "Total Fraction Services: 0.16388815635807447\n",
      "Total Fraction IPs: 0.19650966055515345\n",
      "Total Fraction Depopularized Services: 0.16401457156433136\n",
      "Total Fraction Depopularized IPs: 0.19675359454792268\n"
     ]
    },
    {
     "name": "stderr",
     "output_type": "stream",
     "text": [
      "Epoch: 100%|██████████| 10/10 [00:32<00:00,  3.29s/it]\n"
     ]
    },
    {
     "name": "stdout",
     "output_type": "stream",
     "text": [
      "...Grabbed Representations\n",
      "Got Item Representations\n",
      "Got User Representations\n",
      "Made Index\n",
      "Got Top Items\n",
      "Got Predictions/Top Items\n",
      "...Calculated Predictions\n",
      "cycle:  62\n",
      "correct: 496\n",
      "Num Scanned:  433826\n",
      "Number unique ports Rec'd:  27231\n",
      "At Bin:  62\n",
      "Hitrate:  0.0011433155228132937\n"
     ]
    },
    {
     "name": "stderr",
     "output_type": "stream",
     "text": [
      "\r",
      "Epoch:   0%|          | 0/10 [00:00<?, ?it/s]"
     ]
    },
    {
     "name": "stdout",
     "output_type": "stream",
     "text": [
      "total ips correct:  85638\n",
      "Total Normalized Services:  1925.6834949171023\n",
      "Total Normalized IPs:  4135.7978167574\n",
      "Total Fraction Services: 0.16463558894221714\n",
      "Total Fraction IPs: 0.19740172327154204\n",
      "Total Fraction Depopularized Services: 0.1647627595465619\n",
      "Total Fraction Depopularized IPs: 0.1976470370951805\n"
     ]
    },
    {
     "name": "stderr",
     "output_type": "stream",
     "text": [
      "Epoch: 100%|██████████| 10/10 [00:31<00:00,  3.10s/it]\n"
     ]
    },
    {
     "name": "stdout",
     "output_type": "stream",
     "text": [
      "...Grabbed Representations\n",
      "Got Item Representations\n",
      "Got User Representations\n",
      "Made Index\n",
      "Got Top Items\n",
      "Got Predictions/Top Items\n",
      "...Calculated Predictions\n",
      "cycle:  63\n",
      "correct: 481\n",
      "Num Scanned:  433826\n",
      "Number unique ports Rec'd:  27287\n",
      "At Bin:  63\n",
      "Hitrate:  0.0011087394485346659\n"
     ]
    },
    {
     "name": "stderr",
     "output_type": "stream",
     "text": [
      "\r",
      "Epoch:   0%|          | 0/10 [00:00<?, ?it/s]"
     ]
    },
    {
     "name": "stdout",
     "output_type": "stream",
     "text": [
      "total ips correct:  86012\n",
      "Total Normalized Services:  1936.237191667638\n",
      "Total Normalized IPs:  4156.463095712388\n",
      "Total Fraction Services: 0.16536041771837162\n",
      "Total Fraction IPs: 0.19826382005688917\n",
      "Total Fraction Depopularized Services: 0.165488320876104\n",
      "Total Fraction Depopularized IPs: 0.19851046736048905\n"
     ]
    },
    {
     "name": "stderr",
     "output_type": "stream",
     "text": [
      "Epoch: 100%|██████████| 10/10 [00:32<00:00,  3.27s/it]\n"
     ]
    },
    {
     "name": "stdout",
     "output_type": "stream",
     "text": [
      "...Grabbed Representations\n",
      "Got Item Representations\n",
      "Got User Representations\n",
      "Made Index\n",
      "Got Top Items\n",
      "Got Predictions/Top Items\n",
      "...Calculated Predictions\n",
      "cycle:  64\n",
      "correct: 477\n",
      "Num Scanned:  433826\n",
      "Number unique ports Rec'd:  27352\n",
      "At Bin:  64\n",
      "Hitrate:  0.0010995191620603653\n"
     ]
    },
    {
     "name": "stderr",
     "output_type": "stream",
     "text": [
      "\r",
      "Epoch:   0%|          | 0/10 [00:00<?, ?it/s]"
     ]
    },
    {
     "name": "stdout",
     "output_type": "stream",
     "text": [
      "total ips correct:  86384\n",
      "Total Normalized Services:  1944.573905076272\n",
      "Total Normalized IPs:  4172.995408813288\n",
      "Total Fraction Services: 0.16607921881239593\n",
      "Total Fraction IPs: 0.19912130669899913\n",
      "Total Fraction Depopularized Services: 0.16620784843159586\n",
      "Total Fraction Depopularized IPs: 0.1993692803516516\n"
     ]
    },
    {
     "name": "stderr",
     "output_type": "stream",
     "text": [
      "Epoch: 100%|██████████| 10/10 [00:31<00:00,  3.16s/it]\n"
     ]
    },
    {
     "name": "stdout",
     "output_type": "stream",
     "text": [
      "...Grabbed Representations\n",
      "Got Item Representations\n",
      "Got User Representations\n",
      "Made Index\n",
      "Got Top Items\n",
      "Got Predictions/Top Items\n",
      "...Calculated Predictions\n",
      "cycle:  65\n",
      "correct: 471\n",
      "Num Scanned:  433826\n",
      "Number unique ports Rec'd:  27405\n",
      "At Bin:  65\n",
      "Hitrate:  0.0010856887323489142\n"
     ]
    },
    {
     "name": "stderr",
     "output_type": "stream",
     "text": [
      "\r",
      "Epoch:   0%|          | 0/10 [00:00<?, ?it/s]"
     ]
    },
    {
     "name": "stdout",
     "output_type": "stream",
     "text": [
      "total ips correct:  86750\n",
      "Total Normalized Services:  1955.8787096767937\n",
      "Total Normalized IPs:  4199.758151460463\n",
      "Total Fraction Services: 0.16678897838322496\n",
      "Total Fraction IPs: 0.19996496291139765\n",
      "Total Fraction Depopularized Services: 0.16691832532601236\n",
      "Total Fraction Depopularized IPs: 0.20021424152037604\n"
     ]
    },
    {
     "name": "stderr",
     "output_type": "stream",
     "text": [
      "Epoch: 100%|██████████| 10/10 [00:30<00:00,  3.08s/it]\n"
     ]
    },
    {
     "name": "stdout",
     "output_type": "stream",
     "text": [
      "...Grabbed Representations\n",
      "Got Item Representations\n",
      "Got User Representations\n",
      "Made Index\n",
      "Got Top Items\n",
      "Got Predictions/Top Items\n",
      "...Calculated Predictions\n",
      "cycle:  66\n",
      "correct: 458\n",
      "Num Scanned:  433826\n",
      "Number unique ports Rec'd:  27445\n",
      "At Bin:  66\n",
      "Hitrate:  0.0010557228013074367\n"
     ]
    },
    {
     "name": "stderr",
     "output_type": "stream",
     "text": [
      "\r",
      "Epoch:   0%|          | 0/10 [00:00<?, ?it/s]"
     ]
    },
    {
     "name": "stdout",
     "output_type": "stream",
     "text": [
      "total ips correct:  87064\n",
      "Total Normalized Services:  1965.097492283106\n",
      "Total Normalized IPs:  4219.0422203870285\n",
      "Total Fraction Services: 0.1674791479871309\n",
      "Total Fraction IPs: 0.20068875539963027\n",
      "Total Fraction Depopularized Services: 0.16760919245476555\n",
      "Total Fraction Depopularized IPs: 0.20093915356130354\n"
     ]
    },
    {
     "name": "stderr",
     "output_type": "stream",
     "text": [
      "Epoch: 100%|██████████| 10/10 [00:31<00:00,  3.20s/it]\n"
     ]
    },
    {
     "name": "stdout",
     "output_type": "stream",
     "text": [
      "...Grabbed Representations\n",
      "Got Item Representations\n",
      "Got User Representations\n",
      "Made Index\n",
      "Got Top Items\n",
      "Got Predictions/Top Items\n",
      "...Calculated Predictions\n",
      "cycle:  67\n",
      "correct: 506\n",
      "Num Scanned:  433826\n",
      "Number unique ports Rec'd:  27483\n",
      "At Bin:  67\n",
      "Hitrate:  0.0011663662389990457\n"
     ]
    },
    {
     "name": "stderr",
     "output_type": "stream",
     "text": [
      "\r",
      "Epoch:   0%|          | 0/10 [00:00<?, ?it/s]"
     ]
    },
    {
     "name": "stdout",
     "output_type": "stream",
     "text": [
      "total ips correct:  87449\n",
      "Total Normalized Services:  1974.956913361592\n",
      "Total Normalized IPs:  4241.554981414813\n",
      "Total Fraction Services: 0.16824164977659903\n",
      "Total Fraction IPs: 0.20157620797278172\n",
      "Total Fraction Depopularized Services: 0.1683724648721217\n",
      "Total Fraction Depopularized IPs: 0.2018279788344153\n"
     ]
    },
    {
     "name": "stderr",
     "output_type": "stream",
     "text": [
      "Epoch: 100%|██████████| 10/10 [00:31<00:00,  3.19s/it]\n"
     ]
    },
    {
     "name": "stdout",
     "output_type": "stream",
     "text": [
      "...Grabbed Representations\n",
      "Got Item Representations\n",
      "Got User Representations\n",
      "Made Index\n",
      "Got Top Items\n",
      "Got Predictions/Top Items\n",
      "...Calculated Predictions\n",
      "cycle:  68\n",
      "correct: 422\n",
      "Num Scanned:  433826\n",
      "Number unique ports Rec'd:  27525\n",
      "At Bin:  68\n",
      "Hitrate:  0.0009727402230387298\n"
     ]
    },
    {
     "name": "stderr",
     "output_type": "stream",
     "text": [
      "\r",
      "Epoch:   0%|          | 0/10 [00:00<?, ?it/s]"
     ]
    },
    {
     "name": "stdout",
     "output_type": "stream",
     "text": [
      "total ips correct:  87752\n",
      "Total Normalized Services:  1983.9052671999737\n",
      "Total Normalized IPs:  4264.492208567995\n",
      "Total Fraction Services: 0.16887757024133332\n",
      "Total Fraction IPs: 0.20227464467321\n",
      "Total Fraction Depopularized Services: 0.1690090280344227\n",
      "Total Fraction Depopularized IPs: 0.20252749586753965\n"
     ]
    },
    {
     "name": "stderr",
     "output_type": "stream",
     "text": [
      "Epoch: 100%|██████████| 10/10 [00:34<00:00,  3.47s/it]\n"
     ]
    },
    {
     "name": "stdout",
     "output_type": "stream",
     "text": [
      "...Grabbed Representations\n",
      "Got Item Representations\n",
      "Got User Representations\n",
      "Made Index\n",
      "Got Top Items\n",
      "Got Predictions/Top Items\n",
      "...Calculated Predictions\n",
      "cycle:  69\n",
      "correct: 396\n",
      "Num Scanned:  433826\n",
      "Number unique ports Rec'd:  27566\n",
      "At Bin:  69\n",
      "Hitrate:  0.0009128083609557749\n"
     ]
    },
    {
     "name": "stderr",
     "output_type": "stream",
     "text": [
      "\r",
      "Epoch:   0%|          | 0/10 [00:00<?, ?it/s]"
     ]
    },
    {
     "name": "stdout",
     "output_type": "stream",
     "text": [
      "total ips correct:  88050\n",
      "Total Normalized Services:  1992.1757448844176\n",
      "Total Normalized IPs:  4283.456788043635\n",
      "Total Fraction Services: 0.16947129693115634\n",
      "Total Fraction IPs: 0.2029615560155454\n",
      "Total Fraction Depopularized Services: 0.16960335477837193\n",
      "Total Fraction Depopularized IPs: 0.20321546971529889\n"
     ]
    },
    {
     "name": "stderr",
     "output_type": "stream",
     "text": [
      "Epoch: 100%|██████████| 10/10 [00:31<00:00,  3.18s/it]\n"
     ]
    },
    {
     "name": "stdout",
     "output_type": "stream",
     "text": [
      "...Grabbed Representations\n",
      "Got Item Representations\n",
      "Got User Representations\n",
      "Made Index\n",
      "Got Top Items\n",
      "Got Predictions/Top Items\n",
      "...Calculated Predictions\n",
      "cycle:  70\n",
      "correct: 657\n",
      "Num Scanned:  433826\n",
      "Number unique ports Rec'd:  27613\n",
      "At Bin:  70\n",
      "Hitrate:  0.0015144320534038992\n"
     ]
    },
    {
     "name": "stderr",
     "output_type": "stream",
     "text": [
      "\r",
      "Epoch:   0%|          | 0/10 [00:00<?, ?it/s]"
     ]
    },
    {
     "name": "stdout",
     "output_type": "stream",
     "text": [
      "total ips correct:  88596\n",
      "Total Normalized Services:  2004.2640200357937\n",
      "Total Normalized IPs:  4313.434048582479\n",
      "Total Fraction Services: 0.17046134372103888\n",
      "Total Fraction IPs: 0.20422012511928744\n",
      "Total Fraction Depopularized Services: 0.1705944021661249\n",
      "Total Fraction Depopularized IPs: 0.20447598555716648\n"
     ]
    },
    {
     "name": "stderr",
     "output_type": "stream",
     "text": [
      "Epoch: 100%|██████████| 10/10 [00:35<00:00,  3.58s/it]\n"
     ]
    },
    {
     "name": "stdout",
     "output_type": "stream",
     "text": [
      "...Grabbed Representations\n",
      "Got Item Representations\n",
      "Got User Representations\n",
      "Made Index\n",
      "Got Top Items\n",
      "Got Predictions/Top Items\n",
      "...Calculated Predictions\n",
      "cycle:  71\n",
      "correct: 355\n",
      "Num Scanned:  433826\n",
      "Number unique ports Rec'd:  27660\n",
      "At Bin:  71\n",
      "Hitrate:  0.0008183004245941922\n"
     ]
    },
    {
     "name": "stderr",
     "output_type": "stream",
     "text": [
      "\r",
      "Epoch:   0%|          | 0/10 [00:00<?, ?it/s]"
     ]
    },
    {
     "name": "stdout",
     "output_type": "stream",
     "text": [
      "total ips correct:  88838\n",
      "Total Normalized Services:  2013.7954772103026\n",
      "Total Normalized IPs:  4333.1237530847175\n",
      "Total Fraction Services: 0.1709963005100926\n",
      "Total Fraction IPs: 0.20477795245098265\n",
      "Total Fraction Depopularized Services: 0.17112989961308425\n",
      "Total Fraction Depopularized IPs: 0.2050346757288367\n"
     ]
    },
    {
     "name": "stderr",
     "output_type": "stream",
     "text": [
      "Epoch: 100%|██████████| 10/10 [00:35<00:00,  3.59s/it]\n"
     ]
    },
    {
     "name": "stdout",
     "output_type": "stream",
     "text": [
      "...Grabbed Representations\n",
      "Got Item Representations\n",
      "Got User Representations\n",
      "Made Index\n",
      "Got Top Items\n",
      "Got Predictions/Top Items\n",
      "...Calculated Predictions\n",
      "cycle:  72\n",
      "correct: 503\n",
      "Num Scanned:  433826\n",
      "Number unique ports Rec'd:  27702\n",
      "At Bin:  72\n",
      "Hitrate:  0.00115945102414332\n"
     ]
    },
    {
     "name": "stderr",
     "output_type": "stream",
     "text": [
      "\r",
      "Epoch:   0%|          | 0/10 [00:00<?, ?it/s]"
     ]
    },
    {
     "name": "stdout",
     "output_type": "stream",
     "text": [
      "total ips correct:  89217\n",
      "Total Normalized Services:  2024.8757204044205\n",
      "Total Normalized IPs:  4361.514624644056\n",
      "Total Fraction Services: 0.1717542815379631\n",
      "Total Fraction IPs: 0.20565157459442265\n",
      "Total Fraction Depopularized Services: 0.1718886466999027\n",
      "Total Fraction Depopularized IPs: 0.20590964917951038\n"
     ]
    },
    {
     "name": "stderr",
     "output_type": "stream",
     "text": [
      "Epoch: 100%|██████████| 10/10 [00:35<00:00,  3.57s/it]\n"
     ]
    },
    {
     "name": "stdout",
     "output_type": "stream",
     "text": [
      "...Grabbed Representations\n",
      "Got Item Representations\n",
      "Got User Representations\n",
      "Made Index\n",
      "Got Top Items\n",
      "Got Predictions/Top Items\n",
      "...Calculated Predictions\n",
      "cycle:  73\n",
      "correct: 562\n",
      "Num Scanned:  433826\n",
      "Number unique ports Rec'd:  27757\n",
      "At Bin:  73\n",
      "Hitrate:  0.0012954502496392564\n"
     ]
    },
    {
     "name": "stderr",
     "output_type": "stream",
     "text": [
      "\r",
      "Epoch:   0%|          | 0/10 [00:00<?, ?it/s]"
     ]
    },
    {
     "name": "stdout",
     "output_type": "stream",
     "text": [
      "total ips correct:  89590\n",
      "Total Normalized Services:  2033.4860639171338\n",
      "Total Normalized IPs:  4381.70178125721\n",
      "Total Fraction Services: 0.1726011708772538\n",
      "Total Fraction IPs: 0.2065113663081512\n",
      "Total Fraction Depopularized Services: 0.17273639195396231\n",
      "Total Fraction Depopularized IPs: 0.20677077080774595\n"
     ]
    },
    {
     "name": "stderr",
     "output_type": "stream",
     "text": [
      "Epoch: 100%|██████████| 10/10 [00:35<00:00,  3.58s/it]\n"
     ]
    },
    {
     "name": "stdout",
     "output_type": "stream",
     "text": [
      "...Grabbed Representations\n",
      "Got Item Representations\n",
      "Got User Representations\n",
      "Made Index\n",
      "Got Top Items\n",
      "Got Predictions/Top Items\n",
      "...Calculated Predictions\n",
      "cycle:  74\n",
      "correct: 387\n",
      "Num Scanned:  433826\n",
      "Number unique ports Rec'd:  27808\n",
      "At Bin:  74\n",
      "Hitrate:  0.0008920627163885982\n"
     ]
    },
    {
     "name": "stderr",
     "output_type": "stream",
     "text": [
      "\r",
      "Epoch:   0%|          | 0/10 [00:00<?, ?it/s]"
     ]
    },
    {
     "name": "stdout",
     "output_type": "stream",
     "text": [
      "total ips correct:  89849\n",
      "Total Normalized Services:  2041.2108623790202\n",
      "Total Normalized IPs:  4403.821628989434\n",
      "Total Fraction Services: 0.17318434912334899\n",
      "Total Fraction IPs: 0.20710837985736216\n",
      "Total Fraction Depopularized Services: 0.17332015959332364\n",
      "Total Fraction Depopularized IPs: 0.2073687078096575\n"
     ]
    },
    {
     "name": "stderr",
     "output_type": "stream",
     "text": [
      "Epoch: 100%|██████████| 10/10 [00:36<00:00,  3.63s/it]\n"
     ]
    },
    {
     "name": "stdout",
     "output_type": "stream",
     "text": [
      "...Grabbed Representations\n",
      "Got Item Representations\n",
      "Got User Representations\n",
      "Made Index\n",
      "Got Top Items\n",
      "Got Predictions/Top Items\n",
      "...Calculated Predictions\n",
      "cycle:  75\n",
      "correct: 628\n",
      "Num Scanned:  433826\n",
      "Number unique ports Rec'd:  27853\n",
      "At Bin:  75\n",
      "Hitrate:  0.0014475849764652188\n"
     ]
    },
    {
     "name": "stderr",
     "output_type": "stream",
     "text": [
      "\r",
      "Epoch:   0%|          | 0/10 [00:00<?, ?it/s]"
     ]
    },
    {
     "name": "stdout",
     "output_type": "stream",
     "text": [
      "total ips correct:  90187\n",
      "Total Normalized Services:  2052.3146655135047\n",
      "Total Normalized IPs:  4425.398671617006\n",
      "Total Fraction Services: 0.17413069521778768\n",
      "Total Fraction IPs: 0.20788749406444057\n",
      "Total Fraction Depopularized Services: 0.1742674621192123\n",
      "Total Fraction Depopularized IPs: 0.20814902714033742\n"
     ]
    },
    {
     "name": "stderr",
     "output_type": "stream",
     "text": [
      "Epoch: 100%|██████████| 10/10 [00:35<00:00,  3.55s/it]\n"
     ]
    },
    {
     "name": "stdout",
     "output_type": "stream",
     "text": [
      "...Grabbed Representations\n",
      "Got Item Representations\n",
      "Got User Representations\n",
      "Made Index\n",
      "Got Top Items\n",
      "Got Predictions/Top Items\n",
      "...Calculated Predictions\n",
      "cycle:  76\n",
      "correct: 447\n",
      "Num Scanned:  433826\n",
      "Number unique ports Rec'd:  27892\n",
      "At Bin:  76\n",
      "Hitrate:  0.0010303670135031096\n"
     ]
    },
    {
     "name": "stderr",
     "output_type": "stream",
     "text": [
      "\r",
      "Epoch:   0%|          | 0/10 [00:00<?, ?it/s]"
     ]
    },
    {
     "name": "stdout",
     "output_type": "stream",
     "text": [
      "total ips correct:  90543\n",
      "Total Normalized Services:  2062.2570251515353\n",
      "Total Normalized IPs:  4441.767099176809\n",
      "Total Fraction Services: 0.1748042886958356\n",
      "Total Fraction IPs: 0.20870809956065334\n",
      "Total Fraction Depopularized Services: 0.1749417363693273\n",
      "Total Fraction Depopularized IPs: 0.20897090193833168\n"
     ]
    },
    {
     "name": "stderr",
     "output_type": "stream",
     "text": [
      "Epoch: 100%|██████████| 10/10 [00:30<00:00,  3.09s/it]\n"
     ]
    },
    {
     "name": "stdout",
     "output_type": "stream",
     "text": [
      "...Grabbed Representations\n",
      "Got Item Representations\n",
      "Got User Representations\n",
      "Made Index\n",
      "Got Top Items\n",
      "Got Predictions/Top Items\n",
      "...Calculated Predictions\n",
      "cycle:  77\n",
      "correct: 333\n",
      "Num Scanned:  433826\n",
      "Number unique ports Rec'd:  27941\n",
      "At Bin:  77\n",
      "Hitrate:  0.0007675888489855379\n"
     ]
    },
    {
     "name": "stderr",
     "output_type": "stream",
     "text": [
      "\r",
      "Epoch:   0%|          | 0/10 [00:00<?, ?it/s]"
     ]
    },
    {
     "name": "stdout",
     "output_type": "stream",
     "text": [
      "total ips correct:  90800\n",
      "Total Normalized Services:  2069.8918555985583\n",
      "Total Normalized IPs:  4455.680195303087\n",
      "Total Fraction Services: 0.17530609323317334\n",
      "Total Fraction IPs: 0.20930050296662717\n",
      "Total Fraction Depopularized Services: 0.17544404805901032\n",
      "Total Fraction Depopularized IPs: 0.2095642216660972\n"
     ]
    },
    {
     "name": "stderr",
     "output_type": "stream",
     "text": [
      "Epoch: 100%|██████████| 10/10 [00:31<00:00,  3.18s/it]\n"
     ]
    },
    {
     "name": "stdout",
     "output_type": "stream",
     "text": [
      "...Grabbed Representations\n",
      "Got Item Representations\n",
      "Got User Representations\n",
      "Made Index\n",
      "Got Top Items\n",
      "Got Predictions/Top Items\n",
      "...Calculated Predictions\n",
      "cycle:  78\n",
      "correct: 345\n",
      "Num Scanned:  433826\n",
      "Number unique ports Rec'd:  27979\n",
      "At Bin:  78\n",
      "Hitrate:  0.0007952497084084402\n"
     ]
    },
    {
     "name": "stderr",
     "output_type": "stream",
     "text": [
      "\r",
      "Epoch:   0%|          | 0/10 [00:00<?, ?it/s]"
     ]
    },
    {
     "name": "stdout",
     "output_type": "stream",
     "text": [
      "total ips correct:  91049\n",
      "Total Normalized Services:  2077.359016109542\n",
      "Total Normalized IPs:  4478.539651122173\n",
      "Total Fraction Services: 0.17582598081690162\n",
      "Total Fraction IPs: 0.20987446579965238\n",
      "Total Fraction Depopularized Services: 0.17596446107084404\n",
      "Total Fraction Depopularized IPs: 0.21013907229727857\n"
     ]
    },
    {
     "name": "stderr",
     "output_type": "stream",
     "text": [
      "Epoch: 100%|██████████| 10/10 [00:34<00:00,  3.49s/it]\n"
     ]
    },
    {
     "name": "stdout",
     "output_type": "stream",
     "text": [
      "...Grabbed Representations\n",
      "Got Item Representations\n",
      "Got User Representations\n",
      "Made Index\n",
      "Got Top Items\n",
      "Got Predictions/Top Items\n",
      "...Calculated Predictions\n",
      "cycle:  79\n",
      "correct: 446\n",
      "Num Scanned:  433826\n",
      "Number unique ports Rec'd:  28022\n",
      "At Bin:  79\n",
      "Hitrate:  0.0010280619418845344\n"
     ]
    },
    {
     "name": "stderr",
     "output_type": "stream",
     "text": [
      "\r",
      "Epoch:   0%|          | 0/10 [00:00<?, ?it/s]"
     ]
    },
    {
     "name": "stdout",
     "output_type": "stream",
     "text": [
      "total ips correct:  91365\n",
      "Total Normalized Services:  2087.5799786719217\n",
      "Total Normalized IPs:  4508.7011519578\n",
      "Total Fraction Services: 0.176498067374417\n",
      "Total Fraction IPs: 0.21060286843112216\n",
      "Total Fraction Depopularized Services: 0.1766372268774465\n",
      "Total Fraction Depopularized IPs: 0.21086860161235213\n"
     ]
    },
    {
     "name": "stderr",
     "output_type": "stream",
     "text": [
      "Epoch: 100%|██████████| 10/10 [00:36<00:00,  3.62s/it]\n"
     ]
    },
    {
     "name": "stdout",
     "output_type": "stream",
     "text": [
      "...Grabbed Representations\n",
      "Got Item Representations\n",
      "Got User Representations\n",
      "Made Index\n",
      "Got Top Items\n",
      "Got Predictions/Top Items\n",
      "...Calculated Predictions\n",
      "cycle:  80\n",
      "correct: 393\n",
      "Num Scanned:  433826\n",
      "Number unique ports Rec'd:  28064\n",
      "At Bin:  80\n",
      "Hitrate:  0.0009058931461000493\n"
     ]
    },
    {
     "name": "stderr",
     "output_type": "stream",
     "text": [
      "\r",
      "Epoch:   0%|          | 0/10 [00:00<?, ?it/s]"
     ]
    },
    {
     "name": "stdout",
     "output_type": "stream",
     "text": [
      "total ips correct:  91627\n",
      "Total Normalized Services:  2095.588507772667\n",
      "Total Normalized IPs:  4524.755033731513\n",
      "Total Fraction Services: 0.17709028714370748\n",
      "Total Fraction IPs: 0.21120679719518887\n",
      "Total Fraction Depopularized Services: 0.1772300451778832\n",
      "Total Fraction Depopularized IPs: 0.21147346452548274\n"
     ]
    },
    {
     "name": "stderr",
     "output_type": "stream",
     "text": [
      "Epoch: 100%|██████████| 10/10 [00:35<00:00,  3.56s/it]\n"
     ]
    },
    {
     "name": "stdout",
     "output_type": "stream",
     "text": [
      "...Grabbed Representations\n",
      "Got Item Representations\n",
      "Got User Representations\n",
      "Made Index\n",
      "Got Top Items\n",
      "Got Predictions/Top Items\n",
      "...Calculated Predictions\n",
      "cycle:  81\n",
      "correct: 428\n",
      "Num Scanned:  433826\n",
      "Number unique ports Rec'd:  28095\n",
      "At Bin:  81\n",
      "Hitrate:  0.000986570652750181\n"
     ]
    },
    {
     "name": "stderr",
     "output_type": "stream",
     "text": [
      "\r",
      "Epoch:   0%|          | 0/10 [00:00<?, ?it/s]"
     ]
    },
    {
     "name": "stdout",
     "output_type": "stream",
     "text": [
      "total ips correct:  91947\n",
      "Total Normalized Services:  2103.9606567098967\n",
      "Total Normalized IPs:  4551.285203312147\n",
      "Total Fraction Services: 0.17773524913163705\n",
      "Total Fraction IPs: 0.21194442011313291\n",
      "Total Fraction Depopularized Services: 0.17787565900125954\n",
      "Total Fraction Depopularized IPs: 0.21221222838884837\n"
     ]
    },
    {
     "name": "stderr",
     "output_type": "stream",
     "text": [
      "Epoch: 100%|██████████| 10/10 [00:33<00:00,  3.37s/it]\n"
     ]
    },
    {
     "name": "stdout",
     "output_type": "stream",
     "text": [
      "...Grabbed Representations\n",
      "Got Item Representations\n",
      "Got User Representations\n",
      "Made Index\n",
      "Got Top Items\n",
      "Got Predictions/Top Items\n",
      "...Calculated Predictions\n",
      "cycle:  82\n",
      "correct: 424\n",
      "Num Scanned:  433826\n",
      "Number unique ports Rec'd:  28142\n",
      "At Bin:  82\n",
      "Hitrate:  0.0009773503662758802\n"
     ]
    },
    {
     "name": "stderr",
     "output_type": "stream",
     "text": [
      "\r",
      "Epoch:   0%|          | 0/10 [00:00<?, ?it/s]"
     ]
    },
    {
     "name": "stdout",
     "output_type": "stream",
     "text": [
      "total ips correct:  92256\n",
      "Total Normalized Services:  2113.188821055309\n",
      "Total Normalized IPs:  4574.763815236545\n",
      "Total Fraction Services: 0.17837418343743644\n",
      "Total Fraction IPs: 0.21265668724327264\n",
      "Total Fraction Depopularized Services: 0.17851523905058567\n",
      "Total Fraction Depopularized IPs: 0.2129255972444108\n"
     ]
    },
    {
     "name": "stderr",
     "output_type": "stream",
     "text": [
      "Epoch: 100%|██████████| 10/10 [00:35<00:00,  3.55s/it]\n"
     ]
    },
    {
     "name": "stdout",
     "output_type": "stream",
     "text": [
      "...Grabbed Representations\n",
      "Got Item Representations\n",
      "Got User Representations\n",
      "Made Index\n",
      "Got Top Items\n",
      "Got Predictions/Top Items\n",
      "...Calculated Predictions\n",
      "cycle:  83\n",
      "correct: 476\n",
      "Num Scanned:  433826\n",
      "Number unique ports Rec'd:  28178\n",
      "At Bin:  83\n",
      "Hitrate:  0.0010972140904417901\n"
     ]
    },
    {
     "name": "stderr",
     "output_type": "stream",
     "text": [
      "\r",
      "Epoch:   0%|          | 0/10 [00:00<?, ?it/s]"
     ]
    },
    {
     "name": "stdout",
     "output_type": "stream",
     "text": [
      "total ips correct:  92557\n",
      "Total Normalized Services:  2122.80901206583\n",
      "Total Normalized IPs:  4591.62986430904\n",
      "Total Fraction Services: 0.1790749014850702\n",
      "Total Fraction IPs: 0.21335051380046377\n",
      "Total Fraction Depopularized Services: 0.17921666528392677\n",
      "Total Fraction Depopularized IPs: 0.2136204970033891\n"
     ]
    },
    {
     "name": "stderr",
     "output_type": "stream",
     "text": [
      "Epoch: 100%|██████████| 10/10 [00:31<00:00,  3.18s/it]\n"
     ]
    },
    {
     "name": "stdout",
     "output_type": "stream",
     "text": [
      "...Grabbed Representations\n",
      "Got Item Representations\n",
      "Got User Representations\n",
      "Made Index\n",
      "Got Top Items\n",
      "Got Predictions/Top Items\n",
      "...Calculated Predictions\n",
      "cycle:  84\n",
      "correct: 392\n",
      "Num Scanned:  433826\n",
      "Number unique ports Rec'd:  28214\n",
      "At Bin:  84\n",
      "Hitrate:  0.0009035880744814741\n"
     ]
    },
    {
     "name": "stderr",
     "output_type": "stream",
     "text": [
      "\r",
      "Epoch:   0%|          | 0/10 [00:00<?, ?it/s]"
     ]
    },
    {
     "name": "stdout",
     "output_type": "stream",
     "text": [
      "total ips correct:  92888\n",
      "Total Normalized Services:  2132.1575139782926\n",
      "Total Normalized IPs:  4611.795350231404\n",
      "Total Fraction Services: 0.1796656143338281\n",
      "Total Fraction IPs: 0.21411349250621217\n",
      "Total Fraction Depopularized Services: 0.17980797514085092\n",
      "Total Fraction Depopularized IPs: 0.2143846558745579\n"
     ]
    },
    {
     "name": "stderr",
     "output_type": "stream",
     "text": [
      "Epoch: 100%|██████████| 10/10 [00:31<00:00,  3.11s/it]\n"
     ]
    },
    {
     "name": "stdout",
     "output_type": "stream",
     "text": [
      "...Grabbed Representations\n",
      "Got Item Representations\n",
      "Got User Representations\n",
      "Made Index\n",
      "Got Top Items\n",
      "Got Predictions/Top Items\n",
      "...Calculated Predictions\n",
      "cycle:  85\n",
      "correct: 374\n",
      "Num Scanned:  433826\n",
      "Number unique ports Rec'd:  28248\n",
      "At Bin:  85\n",
      "Hitrate:  0.0008620967853471207\n"
     ]
    },
    {
     "name": "stderr",
     "output_type": "stream",
     "text": [
      "\r",
      "Epoch:   0%|          | 0/10 [00:00<?, ?it/s]"
     ]
    },
    {
     "name": "stdout",
     "output_type": "stream",
     "text": [
      "total ips correct:  93179\n",
      "Total Normalized Services:  2139.7968548353565\n",
      "Total Normalized IPs:  4634.915054490883\n",
      "Total Fraction Services: 0.1802292026130002\n",
      "Total Fraction IPs: 0.21478426834721756\n",
      "Total Fraction Depopularized Services: 0.18037213301454894\n",
      "Total Fraction Depopularized IPs: 0.215056469262806\n"
     ]
    },
    {
     "name": "stderr",
     "output_type": "stream",
     "text": [
      "Epoch: 100%|██████████| 10/10 [00:32<00:00,  3.22s/it]\n"
     ]
    },
    {
     "name": "stdout",
     "output_type": "stream",
     "text": [
      "...Grabbed Representations\n",
      "Got Item Representations\n",
      "Got User Representations\n",
      "Made Index\n",
      "Got Top Items\n",
      "Got Predictions/Top Items\n",
      "...Calculated Predictions\n",
      "cycle:  86\n",
      "correct: 283\n",
      "Num Scanned:  433826\n",
      "Number unique ports Rec'd:  28273\n",
      "At Bin:  86\n",
      "Hitrate:  0.0006523352680567786\n"
     ]
    },
    {
     "name": "stderr",
     "output_type": "stream",
     "text": [
      "\r",
      "Epoch:   0%|          | 0/10 [00:00<?, ?it/s]"
     ]
    },
    {
     "name": "stdout",
     "output_type": "stream",
     "text": [
      "total ips correct:  93411\n",
      "Total Normalized Services:  2146.8287182076615\n",
      "Total Normalized IPs:  4656.194980789819\n",
      "Total Fraction Services: 0.18065566112371065\n",
      "Total Fraction IPs: 0.215319044962727\n",
      "Total Fraction Depopularized Services: 0.18079902252860386\n",
      "Total Fraction Depopularized IPs: 0.2155920730637461\n"
     ]
    },
    {
     "name": "stderr",
     "output_type": "stream",
     "text": [
      "Epoch: 100%|██████████| 10/10 [00:32<00:00,  3.21s/it]\n"
     ]
    },
    {
     "name": "stdout",
     "output_type": "stream",
     "text": [
      "...Grabbed Representations\n",
      "Got Item Representations\n",
      "Got User Representations\n",
      "Made Index\n",
      "Got Top Items\n",
      "Got Predictions/Top Items\n",
      "...Calculated Predictions\n",
      "cycle:  87\n",
      "correct: 591\n",
      "Num Scanned:  433826\n",
      "Number unique ports Rec'd:  28297\n",
      "At Bin:  87\n",
      "Hitrate:  0.0013622973265779367\n"
     ]
    },
    {
     "name": "stderr",
     "output_type": "stream",
     "text": [
      "\r",
      "Epoch:   0%|          | 0/10 [00:00<?, ?it/s]"
     ]
    },
    {
     "name": "stdout",
     "output_type": "stream",
     "text": [
      "total ips correct:  93899\n",
      "Total Normalized Services:  2158.867300893346\n",
      "Total Normalized IPs:  4684.35757049029\n",
      "Total Fraction Services: 0.18154625115844517\n",
      "Total Fraction IPs: 0.21644391991259168\n",
      "Total Fraction Depopularized Services: 0.18169051264452774\n",
      "Total Fraction Depopularized IPs: 0.21671868795537866\n"
     ]
    },
    {
     "name": "stderr",
     "output_type": "stream",
     "text": [
      "Epoch: 100%|██████████| 10/10 [00:33<00:00,  3.31s/it]\n"
     ]
    },
    {
     "name": "stdout",
     "output_type": "stream",
     "text": [
      "...Grabbed Representations\n",
      "Got Item Representations\n",
      "Got User Representations\n",
      "Made Index\n",
      "Got Top Items\n",
      "Got Predictions/Top Items\n",
      "...Calculated Predictions\n",
      "cycle:  88\n",
      "correct: 348\n",
      "Num Scanned:  433826\n",
      "Number unique ports Rec'd:  28332\n",
      "At Bin:  88\n",
      "Hitrate:  0.0008021649232641658\n"
     ]
    },
    {
     "name": "stderr",
     "output_type": "stream",
     "text": [
      "\r",
      "Epoch:   0%|          | 0/10 [00:00<?, ?it/s]"
     ]
    },
    {
     "name": "stdout",
     "output_type": "stream",
     "text": [
      "total ips correct:  94154\n",
      "Total Normalized Services:  2165.6443059672592\n",
      "Total Normalized IPs:  4704.585633934226\n",
      "Total Fraction Services: 0.18207065950377108\n",
      "Total Fraction IPs: 0.21703171317532835\n",
      "Total Fraction Depopularized Services: 0.18221545098689917\n",
      "Total Fraction Depopularized IPs: 0.21730739040899813\n"
     ]
    },
    {
     "name": "stderr",
     "output_type": "stream",
     "text": [
      "Epoch: 100%|██████████| 10/10 [00:34<00:00,  3.49s/it]\n"
     ]
    },
    {
     "name": "stdout",
     "output_type": "stream",
     "text": [
      "...Grabbed Representations\n",
      "Got Item Representations\n",
      "Got User Representations\n",
      "Made Index\n",
      "Got Top Items\n",
      "Got Predictions/Top Items\n",
      "...Calculated Predictions\n",
      "cycle:  89\n",
      "correct: 386\n",
      "Num Scanned:  433826\n",
      "Number unique ports Rec'd:  28371\n",
      "At Bin:  89\n",
      "Hitrate:  0.000889757644770023\n"
     ]
    },
    {
     "name": "stderr",
     "output_type": "stream",
     "text": [
      "\r",
      "Epoch:   0%|          | 0/10 [00:00<?, ?it/s]"
     ]
    },
    {
     "name": "stdout",
     "output_type": "stream",
     "text": [
      "total ips correct:  94496\n",
      "Total Normalized Services:  2173.2466766202133\n",
      "Total Normalized IPs:  4724.4875083167935\n",
      "Total Fraction Services: 0.18265233082933371\n",
      "Total Fraction IPs: 0.21782004766888108\n",
      "Total Fraction Depopularized Services: 0.18279771018274793\n",
      "Total Fraction Depopularized IPs: 0.21809694428797016\n"
     ]
    },
    {
     "name": "stderr",
     "output_type": "stream",
     "text": [
      "Epoch: 100%|██████████| 10/10 [00:34<00:00,  3.46s/it]\n"
     ]
    },
    {
     "name": "stdout",
     "output_type": "stream",
     "text": [
      "...Grabbed Representations\n",
      "Got Item Representations\n",
      "Got User Representations\n",
      "Made Index\n",
      "Got Top Items\n",
      "Got Predictions/Top Items\n",
      "...Calculated Predictions\n",
      "cycle:  90\n",
      "correct: 397\n",
      "Num Scanned:  433826\n",
      "Number unique ports Rec'd:  28398\n",
      "At Bin:  90\n",
      "Hitrate:  0.0009151134325743501\n"
     ]
    },
    {
     "name": "stderr",
     "output_type": "stream",
     "text": [
      "\r",
      "Epoch:   0%|          | 0/10 [00:00<?, ?it/s]"
     ]
    },
    {
     "name": "stdout",
     "output_type": "stream",
     "text": [
      "total ips correct:  94836\n",
      "Total Normalized Services:  2180.732486981253\n",
      "Total Normalized IPs:  4741.986904225736\n",
      "Total Fraction Services: 0.18325057828075436\n",
      "Total Fraction IPs: 0.21860377201919665\n",
      "Total Fraction Depopularized Services: 0.18339656225723489\n",
      "Total Fraction Depopularized IPs: 0.21888188089279612\n"
     ]
    },
    {
     "name": "stderr",
     "output_type": "stream",
     "text": [
      "Epoch: 100%|██████████| 10/10 [00:35<00:00,  3.59s/it]\n"
     ]
    },
    {
     "name": "stdout",
     "output_type": "stream",
     "text": [
      "...Grabbed Representations\n",
      "Got Item Representations\n",
      "Got User Representations\n",
      "Made Index\n",
      "Got Top Items\n",
      "Got Predictions/Top Items\n",
      "...Calculated Predictions\n",
      "cycle:  91\n",
      "correct: 405\n",
      "Num Scanned:  433826\n",
      "Number unique ports Rec'd:  28427\n",
      "At Bin:  91\n",
      "Hitrate:  0.0009335540055229516\n"
     ]
    },
    {
     "name": "stderr",
     "output_type": "stream",
     "text": [
      "\r",
      "Epoch:   0%|          | 0/10 [00:00<?, ?it/s]"
     ]
    },
    {
     "name": "stdout",
     "output_type": "stream",
     "text": [
      "total ips correct:  95146\n",
      "Total Normalized Services:  2190.5837399553857\n",
      "Total Normalized IPs:  4760.0914950090655\n",
      "Total Fraction Services: 0.1838608810964354\n",
      "Total Fraction IPs: 0.21931834422095495\n",
      "Total Fraction Depopularized Services: 0.1840074818798223\n",
      "Total Fraction Depopularized IPs: 0.21959755838543157\n"
     ]
    },
    {
     "name": "stderr",
     "output_type": "stream",
     "text": [
      "Epoch: 100%|██████████| 10/10 [00:34<00:00,  3.45s/it]\n"
     ]
    },
    {
     "name": "stdout",
     "output_type": "stream",
     "text": [
      "...Grabbed Representations\n",
      "Got Item Representations\n",
      "Got User Representations\n",
      "Made Index\n",
      "Got Top Items\n",
      "Got Predictions/Top Items\n",
      "...Calculated Predictions\n",
      "cycle:  92\n",
      "correct: 344\n",
      "Num Scanned:  433826\n",
      "Number unique ports Rec'd:  28450\n",
      "At Bin:  92\n",
      "Hitrate:  0.000792944636789865\n"
     ]
    },
    {
     "name": "stderr",
     "output_type": "stream",
     "text": [
      "\r",
      "Epoch:   0%|          | 0/10 [00:00<?, ?it/s]"
     ]
    },
    {
     "name": "stdout",
     "output_type": "stream",
     "text": [
      "total ips correct:  95434\n",
      "Total Normalized Services:  2197.365338461954\n",
      "Total Normalized IPs:  4783.656423755277\n",
      "Total Fraction Services: 0.1843792617596311\n",
      "Total Fraction IPs: 0.2199822048471046\n",
      "Total Fraction Depopularized Services: 0.18452638644814348\n",
      "Total Fraction Depopularized IPs: 0.22026244586246063\n"
     ]
    },
    {
     "name": "stderr",
     "output_type": "stream",
     "text": [
      "Epoch: 100%|██████████| 10/10 [00:30<00:00,  3.02s/it]\n"
     ]
    },
    {
     "name": "stdout",
     "output_type": "stream",
     "text": [
      "...Grabbed Representations\n",
      "Got Item Representations\n",
      "Got User Representations\n",
      "Made Index\n",
      "Got Top Items\n",
      "Got Predictions/Top Items\n",
      "...Calculated Predictions\n",
      "cycle:  93\n",
      "correct: 340\n",
      "Num Scanned:  433826\n",
      "Number unique ports Rec'd:  28480\n",
      "At Bin:  93\n",
      "Hitrate:  0.0007837243503155643\n"
     ]
    },
    {
     "name": "stderr",
     "output_type": "stream",
     "text": [
      "\r",
      "Epoch:   0%|          | 0/10 [00:00<?, ?it/s]"
     ]
    },
    {
     "name": "stdout",
     "output_type": "stream",
     "text": [
      "total ips correct:  95680\n",
      "Total Normalized Services:  2206.972619883442\n",
      "Total Normalized IPs:  4801.709249514169\n",
      "Total Fraction Services: 0.18489161474069665\n",
      "Total Fraction IPs: 0.2205492524652741\n",
      "Total Fraction Depopularized Services: 0.1850392572424144\n",
      "Total Fraction Depopularized IPs: 0.22083037058242297\n"
     ]
    },
    {
     "name": "stderr",
     "output_type": "stream",
     "text": [
      "Epoch: 100%|██████████| 10/10 [00:31<00:00,  3.11s/it]\n"
     ]
    },
    {
     "name": "stdout",
     "output_type": "stream",
     "text": [
      "...Grabbed Representations\n",
      "Got Item Representations\n",
      "Got User Representations\n",
      "Made Index\n",
      "Got Top Items\n",
      "Got Predictions/Top Items\n",
      "...Calculated Predictions\n",
      "cycle:  94\n",
      "correct: 548\n",
      "Num Scanned:  433826\n",
      "Number unique ports Rec'd:  28514\n",
      "At Bin:  94\n",
      "Hitrate:  0.0012631792469792037\n"
     ]
    },
    {
     "name": "stderr",
     "output_type": "stream",
     "text": [
      "\r",
      "Epoch:   0%|          | 0/10 [00:00<?, ?it/s]"
     ]
    },
    {
     "name": "stdout",
     "output_type": "stream",
     "text": [
      "total ips correct:  96140\n",
      "Total Normalized Services:  2214.7795804227544\n",
      "Total Normalized IPs:  4816.3218856181975\n",
      "Total Fraction Services: 0.1857174071925317\n",
      "Total Fraction IPs: 0.22160958540981868\n",
      "Total Fraction Depopularized Services: 0.18586588428729814\n",
      "Total Fraction Depopularized IPs: 0.22189234363601104\n"
     ]
    },
    {
     "name": "stderr",
     "output_type": "stream",
     "text": [
      "Epoch: 100%|██████████| 10/10 [00:32<00:00,  3.28s/it]\n"
     ]
    },
    {
     "name": "stdout",
     "output_type": "stream",
     "text": [
      "...Grabbed Representations\n",
      "Got Item Representations\n",
      "Got User Representations\n",
      "Made Index\n",
      "Got Top Items\n",
      "Got Predictions/Top Items\n",
      "...Calculated Predictions\n",
      "cycle:  95\n",
      "correct: 378\n",
      "Num Scanned:  433826\n",
      "Number unique ports Rec'd:  28544\n",
      "At Bin:  95\n",
      "Hitrate:  0.0008713170718214215\n"
     ]
    },
    {
     "name": "stderr",
     "output_type": "stream",
     "text": [
      "\r",
      "Epoch:   0%|          | 0/10 [00:00<?, ?it/s]"
     ]
    },
    {
     "name": "stdout",
     "output_type": "stream",
     "text": [
      "total ips correct:  96457\n",
      "Total Normalized Services:  2222.4315415837377\n",
      "Total Normalized IPs:  4833.8545881704395\n",
      "Total Fraction Services: 0.18628702315383397\n",
      "Total Fraction IPs: 0.222340293112907\n",
      "Total Fraction Depopularized Services: 0.18642400838694592\n",
      "Total Fraction Depopularized IPs: 0.2226057124915735\n"
     ]
    },
    {
     "name": "stderr",
     "output_type": "stream",
     "text": [
      "Epoch: 100%|██████████| 10/10 [00:32<00:00,  3.21s/it]\n"
     ]
    },
    {
     "name": "stdout",
     "output_type": "stream",
     "text": [
      "...Grabbed Representations\n",
      "Got Item Representations\n",
      "Got User Representations\n",
      "Made Index\n",
      "Got Top Items\n",
      "Got Predictions/Top Items\n",
      "...Calculated Predictions\n",
      "cycle:  96\n",
      "correct: 410\n",
      "Num Scanned:  433826\n",
      "Number unique ports Rec'd:  28568\n",
      "At Bin:  96\n",
      "Hitrate:  0.0009450793636158276\n"
     ]
    },
    {
     "name": "stderr",
     "output_type": "stream",
     "text": [
      "\r",
      "Epoch:   0%|          | 0/10 [00:00<?, ?it/s]"
     ]
    },
    {
     "name": "stdout",
     "output_type": "stream",
     "text": [
      "total ips correct:  96801\n",
      "Total Normalized Services:  2231.1378130715293\n",
      "Total Normalized IPs:  4857.644719752011\n",
      "Total Fraction Services: 0.18690486057217773\n",
      "Total Fraction IPs: 0.22313323774969687\n",
      "Total Fraction Depopularized Services: 0.18704247022709616\n",
      "Total Fraction Depopularized IPs: 0.22339988364469152\n"
     ]
    },
    {
     "name": "stderr",
     "output_type": "stream",
     "text": [
      "Epoch: 100%|██████████| 10/10 [00:36<00:00,  3.63s/it]\n"
     ]
    },
    {
     "name": "stdout",
     "output_type": "stream",
     "text": [
      "...Grabbed Representations\n",
      "Got Item Representations\n",
      "Got User Representations\n",
      "Made Index\n",
      "Got Top Items\n",
      "Got Predictions/Top Items\n",
      "...Calculated Predictions\n",
      "cycle:  97\n",
      "correct: 457\n",
      "Num Scanned:  433826\n",
      "Number unique ports Rec'd:  28599\n",
      "At Bin:  97\n",
      "Hitrate:  0.0010534177296888615\n"
     ]
    },
    {
     "name": "stderr",
     "output_type": "stream",
     "text": [
      "\r",
      "Epoch:   0%|          | 0/10 [00:00<?, ?it/s]"
     ]
    },
    {
     "name": "stdout",
     "output_type": "stream",
     "text": [
      "total ips correct:  97166\n",
      "Total Normalized Services:  2239.6701511910687\n",
      "Total Normalized IPs:  4881.004445738041\n",
      "Total Fraction Services: 0.18759352325555112\n",
      "Total Fraction IPs: 0.22397458889047683\n",
      "Total Fraction Depopularized Services: 0.1877318289123368\n",
      "Total Fraction Depopularized IPs: 0.22424253617634293\n"
     ]
    },
    {
     "name": "stderr",
     "output_type": "stream",
     "text": [
      "Epoch: 100%|██████████| 10/10 [00:30<00:00,  3.09s/it]\n"
     ]
    },
    {
     "name": "stdout",
     "output_type": "stream",
     "text": [
      "...Grabbed Representations\n",
      "Got Item Representations\n",
      "Got User Representations\n",
      "Made Index\n",
      "Got Top Items\n",
      "Got Predictions/Top Items\n",
      "...Calculated Predictions\n",
      "cycle:  98\n",
      "correct: 473\n",
      "Num Scanned:  433826\n",
      "Number unique ports Rec'd:  28626\n",
      "At Bin:  98\n",
      "Hitrate:  0.0010902988755860646\n"
     ]
    },
    {
     "name": "stderr",
     "output_type": "stream",
     "text": [
      "\r",
      "Epoch:   0%|          | 0/10 [00:00<?, ?it/s]"
     ]
    },
    {
     "name": "stdout",
     "output_type": "stream",
     "text": [
      "total ips correct:  97531\n",
      "Total Normalized Services:  2246.6606868977597\n",
      "Total Normalized IPs:  4906.355477561318\n",
      "Total Fraction Services: 0.1883047897469127\n",
      "Total Fraction IPs: 0.22481594003125677\n",
      "Total Fraction Depopularized Services: 0.18844381425026585\n",
      "Total Fraction Depopularized IPs: 0.22508518870799435\n"
     ]
    },
    {
     "name": "stderr",
     "output_type": "stream",
     "text": [
      "Epoch: 100%|██████████| 10/10 [00:31<00:00,  3.20s/it]\n"
     ]
    },
    {
     "name": "stdout",
     "output_type": "stream",
     "text": [
      "...Grabbed Representations\n",
      "Got Item Representations\n",
      "Got User Representations\n",
      "Made Index\n",
      "Got Top Items\n",
      "Got Predictions/Top Items\n",
      "...Calculated Predictions\n",
      "cycle:  99\n",
      "correct: 428\n",
      "Num Scanned:  433826\n",
      "Number unique ports Rec'd:  28655\n",
      "At Bin:  99\n",
      "Hitrate:  0.000986570652750181\n"
     ]
    },
    {
     "name": "stderr",
     "output_type": "stream",
     "text": [
      "\r",
      "Epoch:   0%|          | 0/10 [00:00<?, ?it/s]"
     ]
    },
    {
     "name": "stdout",
     "output_type": "stream",
     "text": [
      "total ips correct:  97829\n",
      "Total Normalized Services:  2254.5825811923596\n",
      "Total Normalized IPs:  4925.89358381875\n",
      "Total Fraction Services: 0.18894975173484227\n",
      "Total Fraction IPs: 0.2255028513735922\n",
      "Total Fraction Depopularized Services: 0.1890894280736422\n",
      "Total Fraction Depopularized IPs: 0.22577316255575358\n"
     ]
    },
    {
     "name": "stderr",
     "output_type": "stream",
     "text": [
      "Epoch: 100%|██████████| 10/10 [00:32<00:00,  3.30s/it]\n"
     ]
    },
    {
     "name": "stdout",
     "output_type": "stream",
     "text": [
      "...Grabbed Representations\n",
      "Got Item Representations\n",
      "Got User Representations\n",
      "Made Index\n",
      "Got Top Items\n",
      "Got Predictions/Top Items\n",
      "...Calculated Predictions\n",
      "cycle:  100\n",
      "correct: 361\n",
      "Num Scanned:  433826\n",
      "Number unique ports Rec'd:  28689\n",
      "At Bin:  100\n",
      "Hitrate:  0.0008321308543056433\n"
     ]
    },
    {
     "name": "stderr",
     "output_type": "stream",
     "text": [
      "\r",
      "Epoch:   0%|          | 0/10 [00:00<?, ?it/s]"
     ]
    },
    {
     "name": "stdout",
     "output_type": "stream",
     "text": [
      "total ips correct:  98095\n",
      "Total Normalized Services:  2261.6402879576453\n",
      "Total Normalized IPs:  4944.71003533137\n",
      "Total Fraction Services: 0.18949375004709126\n",
      "Total Fraction IPs: 0.22611600042413318\n",
      "Total Fraction Depopularized Services: 0.18963397618167693\n",
      "Total Fraction Depopularized IPs: 0.22638726001717627\n"
     ]
    },
    {
     "name": "stderr",
     "output_type": "stream",
     "text": [
      "Epoch: 100%|██████████| 10/10 [00:36<00:00,  3.61s/it]\n"
     ]
    },
    {
     "name": "stdout",
     "output_type": "stream",
     "text": [
      "...Grabbed Representations\n",
      "Got Item Representations\n",
      "Got User Representations\n",
      "Made Index\n",
      "Got Top Items\n",
      "Got Predictions/Top Items\n",
      "...Calculated Predictions\n",
      "cycle:  101\n",
      "correct: 263\n",
      "Num Scanned:  433826\n",
      "Number unique ports Rec'd:  28709\n",
      "At Bin:  101\n",
      "Hitrate:  0.0006062338356852747\n"
     ]
    },
    {
     "name": "stderr",
     "output_type": "stream",
     "text": [
      "\r",
      "Epoch:   0%|          | 0/10 [00:00<?, ?it/s]"
     ]
    },
    {
     "name": "stdout",
     "output_type": "stream",
     "text": [
      "total ips correct:  98296\n",
      "Total Normalized Services:  2266.9201137046466\n",
      "Total Normalized IPs:  4961.062683187869\n",
      "Total Fraction Services: 0.18989007014715079\n",
      "Total Fraction IPs: 0.2265793198194668\n",
      "Total Fraction Depopularized Services: 0.19003069682548063\n",
      "Total Fraction Depopularized IPs: 0.2268512960688528\n"
     ]
    },
    {
     "name": "stderr",
     "output_type": "stream",
     "text": [
      "Epoch: 100%|██████████| 10/10 [00:35<00:00,  3.52s/it]\n"
     ]
    },
    {
     "name": "stdout",
     "output_type": "stream",
     "text": [
      "...Grabbed Representations\n",
      "Got Item Representations\n",
      "Got User Representations\n",
      "Made Index\n",
      "Got Top Items\n",
      "Got Predictions/Top Items\n",
      "...Calculated Predictions\n",
      "cycle:  102\n",
      "correct: 312\n",
      "Num Scanned:  433826\n",
      "Number unique ports Rec'd:  28737\n",
      "At Bin:  102\n",
      "Hitrate:  0.000719182344995459\n"
     ]
    },
    {
     "name": "stderr",
     "output_type": "stream",
     "text": [
      "\r",
      "Epoch:   0%|          | 0/10 [00:00<?, ?it/s]"
     ]
    },
    {
     "name": "stdout",
     "output_type": "stream",
     "text": [
      "total ips correct:  98525\n",
      "Total Normalized Services:  2274.432226503769\n",
      "Total Normalized IPs:  4976.75286431632\n",
      "Total Fraction Services: 0.19035872243277252\n",
      "Total Fraction IPs: 0.2271071812201205\n",
      "Total Fraction Depopularized Services: 0.19049982275788727\n",
      "Total Fraction Depopularized IPs: 0.22737997395857382\n"
     ]
    },
    {
     "name": "stderr",
     "output_type": "stream",
     "text": [
      "Epoch: 100%|██████████| 10/10 [00:33<00:00,  3.32s/it]\n"
     ]
    },
    {
     "name": "stdout",
     "output_type": "stream",
     "text": [
      "...Grabbed Representations\n",
      "Got Item Representations\n",
      "Got User Representations\n",
      "Made Index\n",
      "Got Top Items\n",
      "Got Predictions/Top Items\n",
      "...Calculated Predictions\n",
      "cycle:  103\n",
      "correct: 302\n",
      "Num Scanned:  433826\n",
      "Number unique ports Rec'd:  28758\n",
      "At Bin:  103\n",
      "Hitrate:  0.0006961316288097071\n"
     ]
    },
    {
     "name": "stderr",
     "output_type": "stream",
     "text": [
      "\r",
      "Epoch:   0%|          | 0/10 [00:00<?, ?it/s]"
     ]
    },
    {
     "name": "stdout",
     "output_type": "stream",
     "text": [
      "total ips correct:  98767\n",
      "Total Normalized Services:  2281.5922394814975\n",
      "Total Normalized IPs:  4988.278546821756\n",
      "Total Fraction Services: 0.19081381243360132\n",
      "Total Fraction IPs: 0.2276650085518157\n",
      "Total Fraction Depopularized Services: 0.19095537269868088\n",
      "Total Fraction Depopularized IPs: 0.22793866413024408\n"
     ]
    },
    {
     "name": "stderr",
     "output_type": "stream",
     "text": [
      "Epoch: 100%|██████████| 10/10 [00:35<00:00,  3.52s/it]\n"
     ]
    },
    {
     "name": "stdout",
     "output_type": "stream",
     "text": [
      "...Grabbed Representations\n",
      "Got Item Representations\n",
      "Got User Representations\n",
      "Made Index\n",
      "Got Top Items\n",
      "Got Predictions/Top Items\n",
      "...Calculated Predictions\n",
      "cycle:  104\n",
      "correct: 251\n",
      "Num Scanned:  433826\n",
      "Number unique ports Rec'd:  28781\n",
      "At Bin:  104\n",
      "Hitrate:  0.0005785729762623724\n"
     ]
    },
    {
     "name": "stderr",
     "output_type": "stream",
     "text": [
      "\r",
      "Epoch:   0%|          | 0/10 [00:00<?, ?it/s]"
     ]
    },
    {
     "name": "stdout",
     "output_type": "stream",
     "text": [
      "total ips correct:  98928\n",
      "Total Normalized Services:  2287.8422402888814\n",
      "Total Normalized IPs:  4998.7223954432475\n",
      "Total Fraction Services: 0.19118752872567266\n",
      "Total Fraction IPs: 0.2280361250824063\n",
      "Total Fraction Depopularized Services: 0.19132946668979614\n",
      "Total Fraction Depopularized IPs: 0.2283103546989999\n"
     ]
    },
    {
     "name": "stderr",
     "output_type": "stream",
     "text": [
      "Epoch: 100%|██████████| 10/10 [00:34<00:00,  3.43s/it]\n"
     ]
    },
    {
     "name": "stdout",
     "output_type": "stream",
     "text": [
      "...Grabbed Representations\n",
      "Got Item Representations\n",
      "Got User Representations\n",
      "Made Index\n",
      "Got Top Items\n",
      "Got Predictions/Top Items\n",
      "...Calculated Predictions\n",
      "cycle:  105\n",
      "correct: 328\n",
      "Num Scanned:  433826\n",
      "Number unique ports Rec'd:  28801\n",
      "At Bin:  105\n",
      "Hitrate:  0.000756063490892662\n"
     ]
    },
    {
     "name": "stderr",
     "output_type": "stream",
     "text": [
      "\r",
      "Epoch:   0%|          | 0/10 [00:00<?, ?it/s]"
     ]
    },
    {
     "name": "stdout",
     "output_type": "stream",
     "text": [
      "total ips correct:  99175\n",
      "Total Normalized Services:  2294.891619759644\n",
      "Total Normalized IPs:  5017.800230843368\n",
      "Total Fraction Services: 0.19168179866034765\n",
      "Total Fraction IPs: 0.2286054777721944\n",
      "Total Fraction Depopularized Services: 0.19182423616191632\n",
      "Total Fraction Depopularized IPs: 0.22888058805603523\n"
     ]
    },
    {
     "name": "stderr",
     "output_type": "stream",
     "text": [
      "Epoch: 100%|██████████| 10/10 [00:33<00:00,  3.32s/it]\n"
     ]
    },
    {
     "name": "stdout",
     "output_type": "stream",
     "text": [
      "...Grabbed Representations\n",
      "Got Item Representations\n",
      "Got User Representations\n",
      "Made Index\n",
      "Got Top Items\n",
      "Got Predictions/Top Items\n",
      "...Calculated Predictions\n",
      "cycle:  106\n",
      "correct: 336\n",
      "Num Scanned:  433826\n",
      "Number unique ports Rec'd:  28828\n",
      "At Bin:  106\n",
      "Hitrate:  0.0007745040638412635\n"
     ]
    },
    {
     "name": "stderr",
     "output_type": "stream",
     "text": [
      "\r",
      "Epoch:   0%|          | 0/10 [00:00<?, ?it/s]"
     ]
    },
    {
     "name": "stdout",
     "output_type": "stream",
     "text": [
      "total ips correct:  99392\n",
      "Total Normalized Services:  2302.7892807316944\n",
      "Total Normalized IPs:  5030.203501653369\n",
      "Total Fraction Services: 0.192188123959283\n",
      "Total Fraction IPs: 0.2291056783134252\n",
      "Total Fraction Depopularized Services: 0.19233107318213702\n",
      "Total Fraction Depopularized IPs: 0.22938156230088005\n"
     ]
    },
    {
     "name": "stderr",
     "output_type": "stream",
     "text": [
      "Epoch: 100%|██████████| 10/10 [00:32<00:00,  3.29s/it]\n"
     ]
    },
    {
     "name": "stdout",
     "output_type": "stream",
     "text": [
      "...Grabbed Representations\n",
      "Got Item Representations\n",
      "Got User Representations\n",
      "Made Index\n",
      "Got Top Items\n",
      "Got Predictions/Top Items\n",
      "...Calculated Predictions\n",
      "cycle:  107\n",
      "correct: 246\n",
      "Num Scanned:  433826\n",
      "Number unique ports Rec'd:  28846\n"
     ]
    },
    {
     "name": "stderr",
     "output_type": "stream",
     "text": [
      "\r",
      "Epoch:   0%|          | 0/10 [00:00<?, ?it/s]"
     ]
    },
    {
     "name": "stdout",
     "output_type": "stream",
     "text": [
      "At Bin:  107\n",
      "Hitrate:  0.0005670476181694965\n",
      "total ips correct:  99587\n",
      "Total Normalized Services:  2307.874044915123\n",
      "Total Normalized IPs:  5045.157375755636\n",
      "Total Fraction Services: 0.19255882641028926\n",
      "Total Fraction IPs: 0.22955516727904737\n",
      "Total Fraction Depopularized Services: 0.19270215028622717\n",
      "Total Fraction Depopularized IPs: 0.22983174653011848\n"
     ]
    },
    {
     "name": "stderr",
     "output_type": "stream",
     "text": [
      "Epoch: 100%|██████████| 10/10 [00:35<00:00,  3.51s/it]\n"
     ]
    },
    {
     "name": "stdout",
     "output_type": "stream",
     "text": [
      "...Grabbed Representations\n",
      "Got Item Representations\n",
      "Got User Representations\n",
      "Made Index\n",
      "Got Top Items\n",
      "Got Predictions/Top Items\n",
      "...Calculated Predictions\n",
      "cycle:  108\n",
      "correct: 345\n",
      "Num Scanned:  433826\n",
      "Number unique ports Rec'd:  28869\n"
     ]
    },
    {
     "name": "stderr",
     "output_type": "stream",
     "text": [
      "\r",
      "Epoch:   0%|          | 0/10 [00:00<?, ?it/s]"
     ]
    },
    {
     "name": "stdout",
     "output_type": "stream",
     "text": [
      "At Bin:  108\n",
      "Hitrate:  0.0007952497084084402\n",
      "total ips correct:  99844\n",
      "Total Normalized Services:  2314.8179888496397\n",
      "Total Normalized IPs:  5060.746037584698\n",
      "Total Fraction Services: 0.1930621378681595\n",
      "Total Fraction IPs: 0.23014757068502117\n",
      "Total Fraction Depopularized Services: 0.19320597041942272\n",
      "Total Fraction Depopularized IPs: 0.230425066257884\n"
     ]
    },
    {
     "name": "stderr",
     "output_type": "stream",
     "text": [
      "Epoch: 100%|██████████| 10/10 [00:35<00:00,  3.55s/it]\n"
     ]
    },
    {
     "name": "stdout",
     "output_type": "stream",
     "text": [
      "...Grabbed Representations\n",
      "Got Item Representations\n",
      "Got User Representations\n",
      "Made Index\n",
      "Got Top Items\n",
      "Got Predictions/Top Items\n",
      "...Calculated Predictions\n",
      "cycle:  109\n",
      "correct: 334\n",
      "Num Scanned:  433826\n",
      "Number unique ports Rec'd:  28887\n",
      "At Bin:  109\n",
      "Hitrate:  0.0007698939206041131\n"
     ]
    },
    {
     "name": "stderr",
     "output_type": "stream",
     "text": [
      "\r",
      "Epoch:   0%|          | 0/10 [00:00<?, ?it/s]"
     ]
    },
    {
     "name": "stdout",
     "output_type": "stream",
     "text": [
      "total ips correct:  100105\n",
      "Total Normalized Services:  2321.0634256335134\n",
      "Total Normalized IPs:  5081.6358917147445\n",
      "Total Fraction Services: 0.1935654493260298\n",
      "Total Fraction IPs: 0.2307491943774693\n",
      "Total Fraction Depopularized Services: 0.19370979055261828\n",
      "Total Fraction Depopularized IPs: 0.23102762053394157\n"
     ]
    },
    {
     "name": "stderr",
     "output_type": "stream",
     "text": [
      "Epoch: 100%|██████████| 10/10 [00:30<00:00,  3.09s/it]\n"
     ]
    },
    {
     "name": "stdout",
     "output_type": "stream",
     "text": [
      "...Grabbed Representations\n",
      "Got Item Representations\n",
      "Got User Representations\n",
      "Made Index\n",
      "Got Top Items\n",
      "Got Predictions/Top Items\n",
      "...Calculated Predictions\n",
      "cycle:  110\n",
      "correct: 406\n",
      "Num Scanned:  433826\n",
      "Number unique ports Rec'd:  28906\n",
      "At Bin:  110\n",
      "Hitrate:  0.0009358590771415268\n"
     ]
    },
    {
     "name": "stderr",
     "output_type": "stream",
     "text": [
      "\r",
      "Epoch:   0%|          | 0/10 [00:00<?, ?it/s]"
     ]
    },
    {
     "name": "stdout",
     "output_type": "stream",
     "text": [
      "total ips correct:  100438\n",
      "Total Normalized Services:  2328.548975563527\n",
      "Total Normalized IPs:  5102.747414103266\n",
      "Total Fraction Services: 0.19417725906224334\n",
      "Total Fraction IPs: 0.23151678322645486\n",
      "Total Fraction Depopularized Services: 0.19432221861871826\n",
      "Total Fraction Depopularized IPs: 0.23179639667925644\n"
     ]
    },
    {
     "name": "stderr",
     "output_type": "stream",
     "text": [
      "Epoch: 100%|██████████| 10/10 [00:31<00:00,  3.20s/it]\n"
     ]
    },
    {
     "name": "stdout",
     "output_type": "stream",
     "text": [
      "...Grabbed Representations\n",
      "Got Item Representations\n",
      "Got User Representations\n",
      "Made Index\n",
      "Got Top Items\n",
      "Got Predictions/Top Items\n",
      "...Calculated Predictions\n",
      "cycle:  111\n",
      "correct: 365\n",
      "Num Scanned:  433826\n",
      "Number unique ports Rec'd:  28919\n"
     ]
    },
    {
     "name": "stderr",
     "output_type": "stream",
     "text": [
      "\r",
      "Epoch:   0%|          | 0/10 [00:00<?, ?it/s]"
     ]
    },
    {
     "name": "stdout",
     "output_type": "stream",
     "text": [
      "At Bin:  111\n",
      "Hitrate:  0.0008413511407799441\n",
      "total ips correct:  100739\n",
      "Total Normalized Services:  2335.695509394265\n",
      "Total Normalized IPs:  5118.913575560112\n",
      "Total Fraction Services: 0.19472728505662254\n",
      "Total Fraction IPs: 0.23221060978364597\n",
      "Total Fraction Depopularized Services: 0.19487280050080324\n",
      "Total Fraction Depopularized IPs: 0.2324912964382347\n"
     ]
    },
    {
     "name": "stderr",
     "output_type": "stream",
     "text": [
      "Epoch: 100%|██████████| 10/10 [00:33<00:00,  3.31s/it]\n"
     ]
    },
    {
     "name": "stdout",
     "output_type": "stream",
     "text": [
      "...Grabbed Representations\n",
      "Got Item Representations\n",
      "Got User Representations\n",
      "Made Index\n",
      "Got Top Items\n",
      "Got Predictions/Top Items\n",
      "...Calculated Predictions\n",
      "cycle:  112\n",
      "correct: 264\n",
      "Num Scanned:  433826\n",
      "Number unique ports Rec'd:  28940\n",
      "At Bin:  112\n",
      "Hitrate:  0.0006085389073038499\n"
     ]
    },
    {
     "name": "stderr",
     "output_type": "stream",
     "text": [
      "\r",
      "Epoch:   0%|          | 0/10 [00:00<?, ?it/s]"
     ]
    },
    {
     "name": "stdout",
     "output_type": "stream",
     "text": [
      "total ips correct:  100945\n",
      "Total Normalized Services:  2343.550456197251\n",
      "Total Normalized IPs:  5136.556900120819\n",
      "Total Fraction Services: 0.1951251120772146\n",
      "Total Fraction IPs: 0.23268545453707246\n",
      "Total Fraction Depopularized Services: 0.1952710295881195\n",
      "Total Fraction Depopularized IPs: 0.23296687567527635\n"
     ]
    },
    {
     "name": "stderr",
     "output_type": "stream",
     "text": [
      "Epoch: 100%|██████████| 10/10 [00:30<00:00,  3.06s/it]\n"
     ]
    },
    {
     "name": "stdout",
     "output_type": "stream",
     "text": [
      "...Grabbed Representations\n",
      "Got Item Representations\n",
      "Got User Representations\n",
      "Made Index\n",
      "Got Top Items\n",
      "Got Predictions/Top Items\n",
      "...Calculated Predictions\n",
      "cycle:  113\n",
      "correct: 262\n",
      "Num Scanned:  433826\n",
      "Number unique ports Rec'd:  28962\n",
      "At Bin:  113\n",
      "Hitrate:  0.0006039287640666996\n"
     ]
    },
    {
     "name": "stderr",
     "output_type": "stream",
     "text": [
      "\r",
      "Epoch:   0%|          | 0/10 [00:00<?, ?it/s]"
     ]
    },
    {
     "name": "stdout",
     "output_type": "stream",
     "text": [
      "total ips correct:  101154\n",
      "Total Normalized Services:  2350.5400327795423\n",
      "Total Normalized IPs:  5151.007298433338\n",
      "Total Fraction Services: 0.19551992525674158\n",
      "Total Fraction IPs: 0.2331672145053547\n",
      "Total Fraction Depopularized Services: 0.19566624178841063\n",
      "Total Fraction Depopularized IPs: 0.23344938082353703\n"
     ]
    },
    {
     "name": "stderr",
     "output_type": "stream",
     "text": [
      "Epoch: 100%|██████████| 10/10 [00:31<00:00,  3.18s/it]\n"
     ]
    },
    {
     "name": "stdout",
     "output_type": "stream",
     "text": [
      "...Grabbed Representations\n",
      "Got Item Representations\n",
      "Got User Representations\n",
      "Made Index\n",
      "Got Top Items\n",
      "Got Predictions/Top Items\n",
      "...Calculated Predictions\n",
      "cycle:  114\n",
      "correct: 268\n",
      "Num Scanned:  433826\n",
      "Number unique ports Rec'd:  28983\n",
      "At Bin:  114\n",
      "Hitrate:  0.0006177591937781507\n"
     ]
    },
    {
     "name": "stderr",
     "output_type": "stream",
     "text": [
      "\r",
      "Epoch:   0%|          | 0/10 [00:00<?, ?it/s]"
     ]
    },
    {
     "name": "stdout",
     "output_type": "stream",
     "text": [
      "total ips correct:  101346\n",
      "Total Normalized Services:  2357.7888644597306\n",
      "Total Normalized IPs:  5165.547814847098\n",
      "Total Fraction Services: 0.19592377995946383\n",
      "Total Fraction IPs: 0.2336097882561211\n",
      "Total Fraction Depopularized Services: 0.19607050464977713\n",
      "Total Fraction Depopularized IPs: 0.2338926391415564\n"
     ]
    },
    {
     "name": "stderr",
     "output_type": "stream",
     "text": [
      "Epoch: 100%|██████████| 10/10 [00:36<00:00,  3.61s/it]\n"
     ]
    },
    {
     "name": "stdout",
     "output_type": "stream",
     "text": [
      "...Grabbed Representations\n",
      "Got Item Representations\n",
      "Got User Representations\n",
      "Made Index\n",
      "Got Top Items\n",
      "Got Predictions/Top Items\n",
      "...Calculated Predictions\n",
      "cycle:  115\n",
      "correct: 232\n",
      "Num Scanned:  433826\n",
      "Number unique ports Rec'd:  29005\n",
      "At Bin:  115\n",
      "Hitrate:  0.0005347766155094439\n"
     ]
    },
    {
     "name": "stderr",
     "output_type": "stream",
     "text": [
      "\r",
      "Epoch:   0%|          | 0/10 [00:00<?, ?it/s]"
     ]
    },
    {
     "name": "stdout",
     "output_type": "stream",
     "text": [
      "total ips correct:  101524\n",
      "Total Normalized Services:  2362.666212086993\n",
      "Total Normalized IPs:  5175.384127234245\n",
      "Total Fraction Services: 0.19627338552301443\n",
      "Total Fraction IPs: 0.2340200910042275\n",
      "Total Fraction Depopularized Services: 0.19642046354469142\n",
      "Total Fraction Depopularized IPs: 0.23430357654055353\n"
     ]
    },
    {
     "name": "stderr",
     "output_type": "stream",
     "text": [
      "Epoch: 100%|██████████| 10/10 [00:35<00:00,  3.56s/it]\n"
     ]
    },
    {
     "name": "stdout",
     "output_type": "stream",
     "text": [
      "...Grabbed Representations\n",
      "Got Item Representations\n",
      "Got User Representations\n",
      "Made Index\n",
      "Got Top Items\n",
      "Got Predictions/Top Items\n",
      "...Calculated Predictions\n",
      "cycle:  116\n",
      "correct: 223\n",
      "Num Scanned:  433826\n",
      "Number unique ports Rec'd:  29025\n",
      "At Bin:  116\n",
      "Hitrate:  0.0005140309709422672\n"
     ]
    },
    {
     "name": "stderr",
     "output_type": "stream",
     "text": [
      "\r",
      "Epoch:   0%|          | 0/10 [00:00<?, ?it/s]"
     ]
    },
    {
     "name": "stdout",
     "output_type": "stream",
     "text": [
      "total ips correct:  101695\n",
      "Total Normalized Services:  2367.243896889883\n",
      "Total Normalized IPs:  5190.301972277669\n",
      "Total Fraction Services: 0.19660942880177215\n",
      "Total Fraction IPs: 0.23441425825100387\n",
      "Total Fraction Depopularized Services: 0.19675684644799263\n",
      "Total Fraction Depopularized IPs: 0.23469835348003953\n"
     ]
    },
    {
     "name": "stderr",
     "output_type": "stream",
     "text": [
      "Epoch: 100%|██████████| 10/10 [00:30<00:00,  3.08s/it]\n"
     ]
    },
    {
     "name": "stdout",
     "output_type": "stream",
     "text": [
      "...Grabbed Representations\n",
      "Got Item Representations\n",
      "Got User Representations\n",
      "Made Index\n",
      "Got Top Items\n",
      "Got Predictions/Top Items\n",
      "...Calculated Predictions\n",
      "cycle:  117\n",
      "correct: 300\n",
      "Num Scanned:  433826\n",
      "Number unique ports Rec'd:  29049\n",
      "At Bin:  117\n",
      "Hitrate:  0.0006915214855725567\n"
     ]
    },
    {
     "name": "stderr",
     "output_type": "stream",
     "text": [
      "\r",
      "Epoch:   0%|          | 0/10 [00:00<?, ?it/s]"
     ]
    },
    {
     "name": "stdout",
     "output_type": "stream",
     "text": [
      "total ips correct:  101881\n",
      "Total Normalized Services:  2374.6194331784677\n",
      "Total Normalized IPs:  5199.827166455542\n",
      "Total Fraction Services: 0.19706150496153585\n",
      "Total Fraction IPs: 0.23484300157205884\n",
      "Total Fraction Depopularized Services: 0.1972093795017611\n",
      "Total Fraction Depopularized IPs: 0.2351277599756208\n"
     ]
    },
    {
     "name": "stderr",
     "output_type": "stream",
     "text": [
      "Epoch: 100%|██████████| 10/10 [00:30<00:00,  3.09s/it]\n"
     ]
    },
    {
     "name": "stdout",
     "output_type": "stream",
     "text": [
      "...Grabbed Representations\n",
      "Got Item Representations\n",
      "Got User Representations\n",
      "Made Index\n",
      "Got Top Items\n",
      "Got Predictions/Top Items\n",
      "...Calculated Predictions\n",
      "cycle:  118\n",
      "correct: 245\n",
      "Num Scanned:  433826\n",
      "Number unique ports Rec'd:  29076\n",
      "At Bin:  118\n",
      "Hitrate:  0.0005647425465509213\n"
     ]
    },
    {
     "name": "stderr",
     "output_type": "stream",
     "text": [
      "\r",
      "Epoch:   0%|          | 0/10 [00:00<?, ?it/s]"
     ]
    },
    {
     "name": "stdout",
     "output_type": "stream",
     "text": [
      "total ips correct:  102075\n",
      "Total Normalized Services:  2379.2140691478066\n",
      "Total Normalized IPs:  5213.5614016945565\n",
      "Total Fraction Services: 0.19743070049200956\n",
      "Total Fraction IPs: 0.23529018546606242\n",
      "Total Fraction Depopularized Services: 0.1975789481623387\n",
      "Total Fraction Depopularized IPs: 0.2355756355677862\n"
     ]
    },
    {
     "name": "stderr",
     "output_type": "stream",
     "text": [
      "Epoch: 100%|██████████| 10/10 [00:34<00:00,  3.48s/it]\n"
     ]
    },
    {
     "name": "stdout",
     "output_type": "stream",
     "text": [
      "...Grabbed Representations\n",
      "Got Item Representations\n",
      "Got User Representations\n",
      "Made Index\n",
      "Got Top Items\n",
      "Got Predictions/Top Items\n",
      "...Calculated Predictions\n",
      "cycle:  119\n",
      "correct: 410\n",
      "Num Scanned:  433826\n",
      "Number unique ports Rec'd:  29096\n"
     ]
    },
    {
     "name": "stderr",
     "output_type": "stream",
     "text": [
      "\r",
      "Epoch:   0%|          | 0/10 [00:00<?, ?it/s]"
     ]
    },
    {
     "name": "stdout",
     "output_type": "stream",
     "text": [
      "At Bin:  119\n",
      "Hitrate:  0.0009450793636158276\n",
      "total ips correct:  102391\n",
      "Total Normalized Services:  2387.181415419185\n",
      "Total Normalized IPs:  5232.758975655848\n",
      "Total Fraction Services: 0.19797469880425855\n",
      "Total Fraction IPs: 0.23601858809753218\n",
      "Total Fraction Depopularized Services: 0.19808729362607194\n",
      "Total Fraction Depopularized IPs: 0.23624975759310735\n"
     ]
    },
    {
     "name": "stderr",
     "output_type": "stream",
     "text": [
      "Epoch: 100%|██████████| 10/10 [00:32<00:00,  3.28s/it]\n"
     ]
    },
    {
     "name": "stdout",
     "output_type": "stream",
     "text": [
      "...Grabbed Representations\n",
      "Got Item Representations\n",
      "Got User Representations\n",
      "Made Index\n",
      "Got Top Items\n",
      "Got Predictions/Top Items\n",
      "...Calculated Predictions\n",
      "cycle:  120\n",
      "correct: 427\n",
      "Num Scanned:  433826\n",
      "Number unique ports Rec'd:  29121\n",
      "At Bin:  120\n",
      "Hitrate:  0.0009842655811316057\n"
     ]
    },
    {
     "name": "stderr",
     "output_type": "stream",
     "text": [
      "\r",
      "Epoch:   0%|          | 0/10 [00:00<?, ?it/s]"
     ]
    },
    {
     "name": "stdout",
     "output_type": "stream",
     "text": [
      "total ips correct:  102738\n",
      "Total Normalized Services:  2395.1738775824865\n",
      "Total Normalized IPs:  5248.116370536825\n",
      "Total Fraction Services: 0.19861815387165557\n",
      "Total Fraction IPs: 0.23681844794917778\n",
      "Total Fraction Depopularized Services: 0.19873139900593573\n",
      "Total Fraction Depopularized IPs: 0.23705085465744444\n"
     ]
    },
    {
     "name": "stderr",
     "output_type": "stream",
     "text": [
      "Epoch: 100%|██████████| 10/10 [00:34<00:00,  3.46s/it]\n"
     ]
    },
    {
     "name": "stdout",
     "output_type": "stream",
     "text": [
      "...Grabbed Representations\n",
      "Got Item Representations\n",
      "Got User Representations\n",
      "Made Index\n",
      "Got Top Items\n",
      "Got Predictions/Top Items\n",
      "...Calculated Predictions\n",
      "cycle:  121\n",
      "correct: 307\n",
      "Num Scanned:  433826\n",
      "Number unique ports Rec'd:  29135\n",
      "At Bin:  121\n",
      "Hitrate:  0.0007076569869025831\n",
      "total ips correct:  102985\n"
     ]
    },
    {
     "name": "stderr",
     "output_type": "stream",
     "text": [
      "\r",
      "Epoch:   0%|          | 0/10 [00:00<?, ?it/s]"
     ]
    },
    {
     "name": "stdout",
     "output_type": "stream",
     "text": [
      "Total Normalized Services:  2400.291869072238\n",
      "Total Normalized IPs:  5260.9623610152385\n",
      "Total Fraction Services: 0.1990807784751471\n",
      "Total Fraction IPs: 0.23738780063896586\n",
      "Total Fraction Depopularized Services: 0.19919449116429214\n",
      "Total Fraction Depopularized IPs: 0.23762108801447976\n"
     ]
    },
    {
     "name": "stderr",
     "output_type": "stream",
     "text": [
      "Epoch: 100%|██████████| 10/10 [00:35<00:00,  3.55s/it]\n"
     ]
    },
    {
     "name": "stdout",
     "output_type": "stream",
     "text": [
      "...Grabbed Representations\n",
      "Got Item Representations\n",
      "Got User Representations\n",
      "Made Index\n",
      "Got Top Items\n",
      "Got Predictions/Top Items\n",
      "...Calculated Predictions\n",
      "cycle:  122\n",
      "correct: 243\n",
      "Num Scanned:  433826\n",
      "Number unique ports Rec'd:  29155\n"
     ]
    },
    {
     "name": "stderr",
     "output_type": "stream",
     "text": [
      "\r",
      "Epoch:   0%|          | 0/10 [00:00<?, ?it/s]"
     ]
    },
    {
     "name": "stdout",
     "output_type": "stream",
     "text": [
      "At Bin:  122\n",
      "Hitrate:  0.0005601324033137709\n",
      "total ips correct:  103170\n",
      "Total Normalized Services:  2406.5989155398192\n",
      "Total Normalized IPs:  5272.35344356391\n",
      "Total Fraction Services: 0.1994469601645557\n",
      "Total Fraction IPs: 0.23781423888840225\n",
      "Total Fraction Depopularized Services: 0.19956104293784457\n",
      "Total Fraction Depopularized IPs: 0.238048185872988\n"
     ]
    },
    {
     "name": "stderr",
     "output_type": "stream",
     "text": [
      "Epoch: 100%|██████████| 10/10 [00:35<00:00,  3.58s/it]\n"
     ]
    },
    {
     "name": "stdout",
     "output_type": "stream",
     "text": [
      "...Grabbed Representations\n",
      "Got Item Representations\n",
      "Got User Representations\n",
      "Made Index\n",
      "Got Top Items\n",
      "Got Predictions/Top Items\n",
      "...Calculated Predictions\n",
      "cycle:  123\n",
      "correct: 242\n",
      "Num Scanned:  433826\n",
      "Number unique ports Rec'd:  29168\n",
      "At Bin:  123\n",
      "Hitrate:  0.0005578273316951957\n"
     ]
    },
    {
     "name": "stderr",
     "output_type": "stream",
     "text": [
      "\r",
      "Epoch:   0%|          | 0/10 [00:00<?, ?it/s]"
     ]
    },
    {
     "name": "stdout",
     "output_type": "stream",
     "text": [
      "total ips correct:  103364\n",
      "Total Normalized Services:  2410.133765584941\n",
      "Total Normalized IPs:  5281.51400034757\n",
      "Total Fraction Services: 0.19979807264863889\n",
      "Total Fraction IPs: 0.23826142278240586\n",
      "Total Fraction Depopularized Services: 0.1999019511716835\n",
      "Total Fraction Depopularized IPs: 0.23847990100564231\n"
     ]
    },
    {
     "name": "stderr",
     "output_type": "stream",
     "text": [
      "Epoch: 100%|██████████| 10/10 [00:34<00:00,  3.47s/it]\n"
     ]
    },
    {
     "name": "stdout",
     "output_type": "stream",
     "text": [
      "...Grabbed Representations\n",
      "Got Item Representations\n",
      "Got User Representations\n",
      "Made Index\n",
      "Got Top Items\n",
      "Got Predictions/Top Items\n",
      "...Calculated Predictions\n",
      "cycle:  124\n",
      "correct: 237\n",
      "Num Scanned:  433826\n",
      "Number unique ports Rec'd:  29187\n",
      "At Bin:  124\n",
      "Hitrate:  0.0005463019736023199\n"
     ]
    },
    {
     "name": "stderr",
     "output_type": "stream",
     "text": [
      "\r",
      "Epoch:   0%|          | 0/10 [00:00<?, ?it/s]"
     ]
    },
    {
     "name": "stdout",
     "output_type": "stream",
     "text": [
      "total ips correct:  103576\n",
      "Total Normalized Services:  2414.181283904178\n",
      "Total Normalized IPs:  5290.805196615085\n",
      "Total Fraction Services: 0.2001552128148522\n",
      "Total Fraction IPs: 0.23875009796554378\n",
      "Total Fraction Depopularized Services: 0.20023230030093447\n",
      "Total Fraction Depopularized IPs: 0.23892777659780773\n"
     ]
    },
    {
     "name": "stderr",
     "output_type": "stream",
     "text": [
      "Epoch: 100%|██████████| 10/10 [00:30<00:00,  3.07s/it]\n"
     ]
    },
    {
     "name": "stdout",
     "output_type": "stream",
     "text": [
      "...Grabbed Representations\n",
      "Got Item Representations\n",
      "Got User Representations\n",
      "Made Index\n",
      "Got Top Items\n",
      "Got Predictions/Top Items\n",
      "...Calculated Predictions\n",
      "cycle:  125\n",
      "correct: 278\n",
      "Num Scanned:  433826\n",
      "Number unique ports Rec'd:  29206\n",
      "At Bin:  125\n",
      "Hitrate:  0.0006408099099639026\n"
     ]
    },
    {
     "name": "stderr",
     "output_type": "stream",
     "text": [
      "\r",
      "Epoch:   0%|          | 0/10 [00:00<?, ?it/s]"
     ]
    },
    {
     "name": "stdout",
     "output_type": "stream",
     "text": [
      "total ips correct:  103792\n",
      "Total Normalized Services:  2419.9256211110246\n",
      "Total Normalized IPs:  5305.801190365251\n",
      "Total Fraction Services: 0.20057413672289992\n",
      "Total Fraction IPs: 0.23924799343515604\n",
      "Total Fraction Depopularized Services: 0.20063656316230097\n",
      "Total Fraction Depopularized IPs: 0.23940335583484934\n"
     ]
    },
    {
     "name": "stderr",
     "output_type": "stream",
     "text": [
      "Epoch: 100%|██████████| 10/10 [00:31<00:00,  3.14s/it]\n"
     ]
    },
    {
     "name": "stdout",
     "output_type": "stream",
     "text": [
      "...Grabbed Representations\n",
      "Got Item Representations\n",
      "Got User Representations\n",
      "Made Index\n",
      "Got Top Items\n",
      "Got Predictions/Top Items\n",
      "...Calculated Predictions\n",
      "cycle:  126\n",
      "correct: 381\n",
      "Num Scanned:  433826\n",
      "Number unique ports Rec'd:  29227\n"
     ]
    },
    {
     "name": "stderr",
     "output_type": "stream",
     "text": [
      "\r",
      "Epoch:   0%|          | 0/10 [00:00<?, ?it/s]"
     ]
    },
    {
     "name": "stdout",
     "output_type": "stream",
     "text": [
      "At Bin:  126\n",
      "Hitrate:  0.000878232286677147\n",
      "total ips correct:  104083\n",
      "Total Normalized Services:  2427.3749780753988\n",
      "Total Normalized IPs:  5322.327634160556\n",
      "Total Fraction Services: 0.20114676652526728\n",
      "Total Fraction IPs: 0.2399187692761614\n",
      "Total Fraction Depopularized Services: 0.20119167037492364\n",
      "Total Fraction Depopularized IPs: 0.24004746557822124\n"
     ]
    },
    {
     "name": "stderr",
     "output_type": "stream",
     "text": [
      "Epoch: 100%|██████████| 10/10 [00:31<00:00,  3.11s/it]\n"
     ]
    },
    {
     "name": "stdout",
     "output_type": "stream",
     "text": [
      "...Grabbed Representations\n",
      "Got Item Representations\n",
      "Got User Representations\n",
      "Made Index\n",
      "Got Top Items\n",
      "Got Predictions/Top Items\n",
      "...Calculated Predictions\n",
      "cycle:  127\n",
      "correct: 307\n",
      "Num Scanned:  433826\n",
      "Number unique ports Rec'd:  29241\n"
     ]
    },
    {
     "name": "stderr",
     "output_type": "stream",
     "text": [
      "\r",
      "Epoch:   0%|          | 0/10 [00:00<?, ?it/s]"
     ]
    },
    {
     "name": "stdout",
     "output_type": "stream",
     "text": [
      "At Bin:  127\n",
      "Hitrate:  0.0007076569869025831\n",
      "total ips correct:  104329\n",
      "Total Normalized Services:  2434.952109951986\n",
      "Total Normalized IPs:  5337.909100883865\n",
      "Total Fraction Services: 0.20160939112875884\n",
      "Total Fraction IPs: 0.2404858168943309\n",
      "Total Fraction Depopularized Services: 0.20158989946223987\n",
      "Total Fraction Depopularized IPs: 0.2405161189040438\n"
     ]
    },
    {
     "name": "stderr",
     "output_type": "stream",
     "text": [
      "Epoch: 100%|██████████| 10/10 [00:35<00:00,  3.54s/it]\n"
     ]
    },
    {
     "name": "stdout",
     "output_type": "stream",
     "text": [
      "...Grabbed Representations\n",
      "Got Item Representations\n",
      "Got User Representations\n",
      "Made Index\n",
      "Got Top Items\n",
      "Got Predictions/Top Items\n",
      "...Calculated Predictions\n",
      "cycle:  128\n",
      "correct: 273\n",
      "Num Scanned:  433826\n",
      "Number unique ports Rec'd:  29258\n"
     ]
    },
    {
     "name": "stderr",
     "output_type": "stream",
     "text": [
      "\r",
      "Epoch:   0%|          | 0/10 [00:00<?, ?it/s]"
     ]
    },
    {
     "name": "stdout",
     "output_type": "stream",
     "text": [
      "At Bin:  128\n",
      "Hitrate:  0.0006292845518710267\n",
      "total ips correct:  104564\n",
      "Total Normalized Services:  2439.880293283657\n",
      "Total Normalized IPs:  5352.3262211693645\n",
      "Total Fraction Services: 0.20202078043414382\n",
      "Total Fraction IPs: 0.24102750872469608\n",
      "Total Fraction Depopularized Services: 0.20198812854955614\n",
      "Total Fraction Depopularized IPs: 0.24103787088254577\n"
     ]
    },
    {
     "name": "stderr",
     "output_type": "stream",
     "text": [
      "Epoch: 100%|██████████| 10/10 [00:32<00:00,  3.21s/it]\n"
     ]
    },
    {
     "name": "stdout",
     "output_type": "stream",
     "text": [
      "...Grabbed Representations\n",
      "Got Item Representations\n",
      "Got User Representations\n",
      "Made Index\n",
      "Got Top Items\n",
      "Got Predictions/Top Items\n",
      "...Calculated Predictions\n",
      "cycle:  129\n",
      "correct: 165\n",
      "Num Scanned:  433826\n",
      "Number unique ports Rec'd:  29273\n"
     ]
    },
    {
     "name": "stderr",
     "output_type": "stream",
     "text": [
      "\r",
      "Epoch:   0%|          | 0/10 [00:00<?, ?it/s]"
     ]
    },
    {
     "name": "stdout",
     "output_type": "stream",
     "text": [
      "At Bin:  129\n",
      "Hitrate:  0.0003803368170649062\n",
      "total ips correct:  104710\n",
      "Total Normalized Services:  2443.5919498171984\n",
      "Total Normalized IPs:  5363.200685680164\n",
      "Total Fraction Services: 0.20226942232201384\n",
      "Total Fraction IPs: 0.24136404918100807\n",
      "Total Fraction Depopularized Services: 0.20222193729400317\n",
      "Total Fraction Depopularized IPs: 0.24135184552447617\n"
     ]
    },
    {
     "name": "stderr",
     "output_type": "stream",
     "text": [
      "Epoch: 100%|██████████| 10/10 [00:33<00:00,  3.35s/it]\n"
     ]
    },
    {
     "name": "stdout",
     "output_type": "stream",
     "text": [
      "...Grabbed Representations\n",
      "Got Item Representations\n",
      "Got User Representations\n",
      "Made Index\n",
      "Got Top Items\n",
      "Got Predictions/Top Items\n",
      "...Calculated Predictions\n",
      "cycle:  130\n",
      "correct: 243\n",
      "Num Scanned:  433826\n",
      "Number unique ports Rec'd:  29287\n"
     ]
    },
    {
     "name": "stderr",
     "output_type": "stream",
     "text": [
      "\r",
      "Epoch:   0%|          | 0/10 [00:00<?, ?it/s]"
     ]
    },
    {
     "name": "stdout",
     "output_type": "stream",
     "text": [
      "At Bin:  130\n",
      "Hitrate:  0.0005601324033137709\n",
      "total ips correct:  104910\n",
      "Total Normalized Services:  2448.1395891543298\n",
      "Total Normalized IPs:  5377.664357100701\n",
      "Total Fraction Services: 0.20263560401142247\n",
      "Total Fraction IPs: 0.2418250635047231\n",
      "Total Fraction Depopularized Services: 0.20258396373701795\n",
      "Total Fraction Depopularized IPs: 0.24180664702786064\n"
     ]
    },
    {
     "name": "stderr",
     "output_type": "stream",
     "text": [
      "Epoch: 100%|██████████| 10/10 [00:30<00:00,  3.05s/it]\n"
     ]
    },
    {
     "name": "stdout",
     "output_type": "stream",
     "text": [
      "...Grabbed Representations\n",
      "Got Item Representations\n",
      "Got User Representations\n",
      "Made Index\n",
      "Got Top Items\n",
      "Got Predictions/Top Items\n",
      "...Calculated Predictions\n",
      "cycle:  131\n",
      "correct: 300\n",
      "Num Scanned:  433826\n",
      "Number unique ports Rec'd:  29302\n"
     ]
    },
    {
     "name": "stderr",
     "output_type": "stream",
     "text": [
      "\r",
      "Epoch:   0%|          | 0/10 [00:00<?, ?it/s]"
     ]
    },
    {
     "name": "stdout",
     "output_type": "stream",
     "text": [
      "At Bin:  131\n",
      "Hitrate:  0.0006915214855725567\n",
      "total ips correct:  105171\n",
      "Total Normalized Services:  2453.664372471799\n",
      "Total Normalized IPs:  5400.1165466212615\n",
      "Total Fraction Services: 0.20308768017118617\n",
      "Total Fraction IPs: 0.24242668719717123\n",
      "Total Fraction Depopularized Services: 0.20302895457322362\n",
      "Total Fraction Depopularized IPs: 0.24239765811855313\n"
     ]
    },
    {
     "name": "stderr",
     "output_type": "stream",
     "text": [
      "Epoch: 100%|██████████| 10/10 [00:35<00:00,  3.56s/it]\n"
     ]
    },
    {
     "name": "stdout",
     "output_type": "stream",
     "text": [
      "...Grabbed Representations\n",
      "Got Item Representations\n",
      "Got User Representations\n",
      "Made Index\n",
      "Got Top Items\n",
      "Got Predictions/Top Items\n",
      "...Calculated Predictions\n",
      "cycle:  132\n",
      "correct: 290\n",
      "Num Scanned:  433826\n",
      "Number unique ports Rec'd:  29315\n"
     ]
    },
    {
     "name": "stderr",
     "output_type": "stream",
     "text": [
      "\r",
      "Epoch:   0%|          | 0/10 [00:00<?, ?it/s]"
     ]
    },
    {
     "name": "stdout",
     "output_type": "stream",
     "text": [
      "At Bin:  132\n",
      "Hitrate:  0.0006684707693868048\n",
      "total ips correct:  105413\n",
      "Total Normalized Services:  2458.327190412567\n",
      "Total Normalized IPs:  5411.474740009077\n",
      "Total Fraction Services: 0.20350811099976643\n",
      "Total Fraction IPs: 0.2429845145288664\n",
      "Total Fraction Depopularized Services: 0.20344830186971574\n",
      "Total Fraction Depopularized IPs: 0.24295403965315038\n"
     ]
    },
    {
     "name": "stderr",
     "output_type": "stream",
     "text": [
      "Epoch: 100%|██████████| 10/10 [00:30<00:00,  3.08s/it]\n"
     ]
    },
    {
     "name": "stdout",
     "output_type": "stream",
     "text": [
      "...Grabbed Representations\n",
      "Got Item Representations\n",
      "Got User Representations\n",
      "Made Index\n",
      "Got Top Items\n",
      "Got Predictions/Top Items\n",
      "...Calculated Predictions\n",
      "cycle:  133\n",
      "correct: 225\n",
      "Num Scanned:  433826\n",
      "Number unique ports Rec'd:  29326\n"
     ]
    },
    {
     "name": "stderr",
     "output_type": "stream",
     "text": [
      "\r",
      "Epoch:   0%|          | 0/10 [00:00<?, ?it/s]"
     ]
    },
    {
     "name": "stdout",
     "output_type": "stream",
     "text": [
      "At Bin:  133\n",
      "Hitrate:  0.0005186411141794176\n",
      "total ips correct:  105593\n",
      "Total Normalized Services:  2462.2186898460427\n",
      "Total Normalized IPs:  5428.706182962107\n",
      "Total Fraction Services: 0.20384716811958922\n",
      "Total Fraction IPs: 0.24339942742020995\n",
      "Total Fraction Depopularized Services: 0.20378619321652952\n",
      "Total Fraction Depopularized IPs: 0.2433672856892205\n"
     ]
    },
    {
     "name": "stderr",
     "output_type": "stream",
     "text": [
      "Epoch: 100%|██████████| 10/10 [00:30<00:00,  3.06s/it]\n"
     ]
    },
    {
     "name": "stdout",
     "output_type": "stream",
     "text": [
      "...Grabbed Representations\n",
      "Got Item Representations\n",
      "Got User Representations\n",
      "Made Index\n",
      "Got Top Items\n",
      "Got Predictions/Top Items\n",
      "...Calculated Predictions\n",
      "cycle:  134\n",
      "correct: 231\n",
      "Num Scanned:  433826\n",
      "Number unique ports Rec'd:  29337\n"
     ]
    },
    {
     "name": "stderr",
     "output_type": "stream",
     "text": [
      "\r",
      "Epoch:   0%|          | 0/10 [00:00<?, ?it/s]"
     ]
    },
    {
     "name": "stdout",
     "output_type": "stream",
     "text": [
      "At Bin:  134\n",
      "Hitrate:  0.0005324715438908687\n",
      "total ips correct:  105778\n",
      "Total Normalized Services:  2466.732945125429\n",
      "Total Normalized IPs:  5442.9602857558875\n",
      "Total Fraction Services: 0.20419526676260727\n",
      "Total Fraction IPs: 0.24382586566964637\n",
      "Total Fraction Depopularized Services: 0.20413464366793124\n",
      "Total Fraction Depopularized IPs: 0.24379438354772875\n"
     ]
    },
    {
     "name": "stderr",
     "output_type": "stream",
     "text": [
      "Epoch: 100%|██████████| 10/10 [00:30<00:00,  3.05s/it]\n"
     ]
    },
    {
     "name": "stdout",
     "output_type": "stream",
     "text": [
      "...Grabbed Representations\n",
      "Got Item Representations\n",
      "Got User Representations\n",
      "Made Index\n",
      "Got Top Items\n",
      "Got Predictions/Top Items\n",
      "...Calculated Predictions\n",
      "cycle:  135\n",
      "correct: 245\n",
      "Num Scanned:  433826\n",
      "Number unique ports Rec'd:  29360\n"
     ]
    },
    {
     "name": "stderr",
     "output_type": "stream",
     "text": [
      "\r",
      "Epoch:   0%|          | 0/10 [00:00<?, ?it/s]"
     ]
    },
    {
     "name": "stdout",
     "output_type": "stream",
     "text": [
      "At Bin:  135\n",
      "Hitrate:  0.0005647425465509213\n",
      "total ips correct:  105995\n",
      "Total Normalized Services:  2472.6303939976233\n",
      "Total Normalized IPs:  5456.713627075329\n",
      "Total Fraction Services: 0.20456295537254843\n",
      "Total Fraction IPs: 0.24432606621087719\n",
      "Total Fraction Depopularized Services: 0.2045011954414837\n",
      "Total Fraction Depopularized IPs: 0.24429304915550057\n"
     ]
    },
    {
     "name": "stderr",
     "output_type": "stream",
     "text": [
      "Epoch: 100%|██████████| 10/10 [00:32<00:00,  3.21s/it]\n"
     ]
    },
    {
     "name": "stdout",
     "output_type": "stream",
     "text": [
      "...Grabbed Representations\n",
      "Got Item Representations\n",
      "Got User Representations\n",
      "Made Index\n",
      "Got Top Items\n",
      "Got Predictions/Top Items\n",
      "...Calculated Predictions\n",
      "cycle:  136\n",
      "correct: 330\n",
      "Num Scanned:  433826\n",
      "Number unique ports Rec'd:  29376\n"
     ]
    },
    {
     "name": "stderr",
     "output_type": "stream",
     "text": [
      "\r",
      "Epoch:   0%|          | 0/10 [00:00<?, ?it/s]"
     ]
    },
    {
     "name": "stdout",
     "output_type": "stream",
     "text": [
      "At Bin:  136\n",
      "Hitrate:  0.0007606736341298124\n",
      "total ips correct:  106285\n",
      "Total Normalized Services:  2479.2919151709284\n",
      "Total Normalized IPs:  5474.025540577307\n",
      "Total Fraction Services: 0.20506023914828853\n",
      "Total Fraction IPs: 0.24499453698026397\n",
      "Total Fraction Depopularized Services: 0.20499898180062903\n",
      "Total Fraction Depopularized IPs: 0.24496255390667565\n"
     ]
    },
    {
     "name": "stderr",
     "output_type": "stream",
     "text": [
      "Epoch: 100%|██████████| 10/10 [00:30<00:00,  3.07s/it]\n"
     ]
    },
    {
     "name": "stdout",
     "output_type": "stream",
     "text": [
      "...Grabbed Representations\n",
      "Got Item Representations\n",
      "Got User Representations\n",
      "Made Index\n",
      "Got Top Items\n",
      "Got Predictions/Top Items\n",
      "...Calculated Predictions\n",
      "cycle:  137\n",
      "correct: 228\n",
      "Num Scanned:  433826\n",
      "Number unique ports Rec'd:  29393\n"
     ]
    },
    {
     "name": "stderr",
     "output_type": "stream",
     "text": [
      "\r",
      "Epoch:   0%|          | 0/10 [00:00<?, ?it/s]"
     ]
    },
    {
     "name": "stdout",
     "output_type": "stream",
     "text": [
      "At Bin:  137\n",
      "Hitrate:  0.0005255563290351431\n",
      "total ips correct:  106482\n",
      "Total Normalized Services:  2484.645842803511\n",
      "Total Normalized IPs:  5485.768287693471\n",
      "Total Fraction Services: 0.20540381702970895\n",
      "Total Fraction IPs: 0.2454486360891233\n",
      "Total Fraction Depopularized Services: 0.20534290692149307\n",
      "Total Fraction Depopularized IPs: 0.24541735541006013\n"
     ]
    },
    {
     "name": "stderr",
     "output_type": "stream",
     "text": [
      "Epoch: 100%|██████████| 10/10 [00:31<00:00,  3.18s/it]\n"
     ]
    },
    {
     "name": "stdout",
     "output_type": "stream",
     "text": [
      "...Grabbed Representations\n",
      "Got Item Representations\n",
      "Got User Representations\n",
      "Made Index\n",
      "Got Top Items\n",
      "Got Predictions/Top Items\n",
      "...Calculated Predictions\n",
      "cycle:  138\n",
      "correct: 254\n",
      "Num Scanned:  433826\n",
      "Number unique ports Rec'd:  29410\n"
     ]
    },
    {
     "name": "stderr",
     "output_type": "stream",
     "text": [
      "\r",
      "Epoch:   0%|          | 0/10 [00:00<?, ?it/s]"
     ]
    },
    {
     "name": "stdout",
     "output_type": "stream",
     "text": [
      "At Bin:  138\n",
      "Hitrate:  0.000585488191118098\n",
      "total ips correct:  106683\n",
      "Total Normalized Services:  2491.426090676248\n",
      "Total Normalized IPs:  5502.80949894029\n",
      "Total Fraction Services: 0.20578657484497556\n",
      "Total Fraction IPs: 0.2459119554844569\n",
      "Total Fraction Depopularized Services: 0.2057260515736837\n",
      "Total Fraction Depopularized IPs: 0.24588139146173665\n"
     ]
    },
    {
     "name": "stderr",
     "output_type": "stream",
     "text": [
      "Epoch: 100%|██████████| 10/10 [00:30<00:00,  3.09s/it]\n"
     ]
    },
    {
     "name": "stdout",
     "output_type": "stream",
     "text": [
      "...Grabbed Representations\n",
      "Got Item Representations\n",
      "Got User Representations\n",
      "Made Index\n",
      "Got Top Items\n",
      "Got Predictions/Top Items\n",
      "...Calculated Predictions\n",
      "cycle:  139\n",
      "correct: 177\n",
      "Num Scanned:  433826\n",
      "Number unique ports Rec'd:  29426\n"
     ]
    },
    {
     "name": "stderr",
     "output_type": "stream",
     "text": [
      "\r",
      "Epoch:   0%|          | 0/10 [00:00<?, ?it/s]"
     ]
    },
    {
     "name": "stdout",
     "output_type": "stream",
     "text": [
      "At Bin:  139\n",
      "Hitrate:  0.0004079976764878085\n",
      "total ips correct:  106812\n",
      "Total Normalized Services:  2495.106438056583\n",
      "Total Normalized IPs:  5511.179456801938\n",
      "Total Fraction Services: 0.2060517928587036\n",
      "Total Fraction IPs: 0.2462093097232531\n",
      "Total Fraction Depopularized Services: 0.20599153763189454\n",
      "Total Fraction Depopularized IPs: 0.2461792056441559\n"
     ]
    },
    {
     "name": "stderr",
     "output_type": "stream",
     "text": [
      "Epoch: 100%|██████████| 10/10 [00:31<00:00,  3.19s/it]\n"
     ]
    },
    {
     "name": "stdout",
     "output_type": "stream",
     "text": [
      "...Grabbed Representations\n",
      "Got Item Representations\n",
      "Got User Representations\n",
      "Made Index\n",
      "Got Top Items\n",
      "Got Predictions/Top Items\n",
      "...Calculated Predictions\n",
      "cycle:  140\n",
      "correct: 149\n",
      "Num Scanned:  433826\n",
      "Number unique ports Rec'd:  29437\n"
     ]
    },
    {
     "name": "stderr",
     "output_type": "stream",
     "text": [
      "\r",
      "Epoch:   0%|          | 0/10 [00:00<?, ?it/s]"
     ]
    },
    {
     "name": "stdout",
     "output_type": "stream",
     "text": [
      "At Bin:  140\n",
      "Hitrate:  0.00034345567116770317\n",
      "total ips correct:  106933\n",
      "Total Normalized Services:  2500.225038014507\n",
      "Total Normalized IPs:  5522.523836610256\n",
      "Total Fraction Services: 0.20627331017698783\n",
      "Total Fraction IPs: 0.2464882233891007\n",
      "Total Fraction Depopularized Services: 0.2062132788282411\n",
      "Total Fraction Depopularized IPs: 0.24645855072999104\n"
     ]
    },
    {
     "name": "stderr",
     "output_type": "stream",
     "text": [
      "Epoch: 100%|██████████| 10/10 [00:31<00:00,  3.20s/it]\n"
     ]
    },
    {
     "name": "stdout",
     "output_type": "stream",
     "text": [
      "...Grabbed Representations\n",
      "Got Item Representations\n",
      "Got User Representations\n",
      "Made Index\n",
      "Got Top Items\n",
      "Got Predictions/Top Items\n",
      "...Calculated Predictions\n",
      "cycle:  141\n",
      "correct: 263\n",
      "Num Scanned:  433826\n",
      "Number unique ports Rec'd:  29454\n"
     ]
    },
    {
     "name": "stderr",
     "output_type": "stream",
     "text": [
      "\r",
      "Epoch:   0%|          | 0/10 [00:00<?, ?it/s]"
     ]
    },
    {
     "name": "stdout",
     "output_type": "stream",
     "text": [
      "At Bin:  141\n",
      "Hitrate:  0.0006062338356852747\n",
      "total ips correct:  107156\n",
      "Total Normalized Services:  2506.1135076973956\n",
      "Total Normalized IPs:  5534.2501528611465\n",
      "Total Fraction Services: 0.20666963027704735\n",
      "Total Fraction IPs: 0.24700225436004297\n",
      "Total Fraction Depopularized Services: 0.20660698258501964\n",
      "Total Fraction Depopularized IPs: 0.24696875952312794\n"
     ]
    },
    {
     "name": "stderr",
     "output_type": "stream",
     "text": [
      "Epoch: 100%|██████████| 10/10 [00:31<00:00,  3.13s/it]\n"
     ]
    },
    {
     "name": "stdout",
     "output_type": "stream",
     "text": [
      "...Grabbed Representations\n",
      "Got Item Representations\n",
      "Got User Representations\n",
      "Made Index\n",
      "Got Top Items\n",
      "Got Predictions/Top Items\n",
      "...Calculated Predictions\n",
      "cycle:  142\n",
      "correct: 299\n",
      "Num Scanned:  433826\n",
      "Number unique ports Rec'd:  29469\n"
     ]
    },
    {
     "name": "stderr",
     "output_type": "stream",
     "text": [
      "\r",
      "Epoch:   0%|          | 0/10 [00:00<?, ?it/s]"
     ]
    },
    {
     "name": "stdout",
     "output_type": "stream",
     "text": [
      "At Bin:  142\n",
      "Hitrate:  0.0006892164139539815\n",
      "total ips correct:  107399\n",
      "Total Normalized Services:  2511.08831635444\n",
      "Total Normalized IPs:  5547.938983864392\n",
      "Total Fraction Services: 0.20711718567521342\n",
      "Total Fraction IPs: 0.24756238676335673\n",
      "Total Fraction Depopularized Services: 0.20705499030825042\n",
      "Total Fraction Depopularized IPs: 0.24752975833187119\n"
     ]
    },
    {
     "name": "stderr",
     "output_type": "stream",
     "text": [
      "Epoch: 100%|██████████| 10/10 [00:30<00:00,  3.10s/it]\n"
     ]
    },
    {
     "name": "stdout",
     "output_type": "stream",
     "text": [
      "...Grabbed Representations\n",
      "Got Item Representations\n",
      "Got User Representations\n",
      "Made Index\n",
      "Got Top Items\n",
      "Got Predictions/Top Items\n",
      "...Calculated Predictions\n",
      "cycle:  143\n",
      "correct: 367\n",
      "Num Scanned:  433826\n",
      "Number unique ports Rec'd:  29489\n"
     ]
    },
    {
     "name": "stderr",
     "output_type": "stream",
     "text": [
      "\r",
      "Epoch:   0%|          | 0/10 [00:00<?, ?it/s]"
     ]
    },
    {
     "name": "stdout",
     "output_type": "stream",
     "text": [
      "At Bin:  143\n",
      "Hitrate:  0.0008459612840170945\n",
      "total ips correct:  107727\n",
      "Total Normalized Services:  2515.9653687731457\n",
      "Total Normalized IPs:  5559.463835760692\n",
      "Total Fraction Services: 0.2076672116695926\n",
      "Total Fraction IPs: 0.2483184502542494\n",
      "Total Fraction Depopularized Services: 0.2076055721903354\n",
      "Total Fraction Depopularized IPs: 0.24828699129182097\n"
     ]
    },
    {
     "name": "stderr",
     "output_type": "stream",
     "text": [
      "Epoch: 100%|██████████| 10/10 [00:33<00:00,  3.33s/it]\n"
     ]
    },
    {
     "name": "stdout",
     "output_type": "stream",
     "text": [
      "...Grabbed Representations\n",
      "Got Item Representations\n",
      "Got User Representations\n",
      "Made Index\n",
      "Got Top Items\n",
      "Got Predictions/Top Items\n",
      "...Calculated Predictions\n",
      "cycle:  144\n",
      "correct: 262\n",
      "Num Scanned:  433826\n",
      "Number unique ports Rec'd:  29502\n"
     ]
    },
    {
     "name": "stderr",
     "output_type": "stream",
     "text": [
      "\r",
      "Epoch:   0%|          | 0/10 [00:00<?, ?it/s]"
     ]
    },
    {
     "name": "stdout",
     "output_type": "stream",
     "text": [
      "At Bin:  144\n",
      "Hitrate:  0.0006039287640666996\n",
      "total ips correct:  107949\n",
      "Total Normalized Services:  2520.5201012498956\n",
      "Total Normalized IPs:  5574.870982487394\n",
      "Total Fraction Services: 0.2080590110080545\n",
      "Total Fraction IPs: 0.24883017615357308\n",
      "Total Fraction Depopularized Services: 0.2079977675036014\n",
      "Total Fraction Depopularized IPs: 0.24879950872203085\n"
     ]
    },
    {
     "name": "stderr",
     "output_type": "stream",
     "text": [
      "Epoch: 100%|██████████| 10/10 [00:30<00:00,  3.10s/it]\n"
     ]
    },
    {
     "name": "stdout",
     "output_type": "stream",
     "text": [
      "...Grabbed Representations\n",
      "Got Item Representations\n",
      "Got User Representations\n",
      "Made Index\n",
      "Got Top Items\n",
      "Got Predictions/Top Items\n",
      "...Calculated Predictions\n",
      "cycle:  145\n",
      "correct: 216\n",
      "Num Scanned:  433826\n",
      "Number unique ports Rec'd:  29510\n"
     ]
    },
    {
     "name": "stderr",
     "output_type": "stream",
     "text": [
      "\r",
      "Epoch:   0%|          | 0/10 [00:00<?, ?it/s]"
     ]
    },
    {
     "name": "stdout",
     "output_type": "stream",
     "text": [
      "At Bin:  145\n",
      "Hitrate:  0.0004978954696122408\n",
      "total ips correct:  108110\n",
      "Total Normalized Services:  2524.6724363199837\n",
      "Total Normalized IPs:  5583.0633751422965\n",
      "Total Fraction Services: 0.20838450584308438\n",
      "Total Fraction IPs: 0.2492012926841637\n",
      "Total Fraction Depopularized Services: 0.20831755752826445\n",
      "Total Fraction Depopularized IPs: 0.2491619647424946\n"
     ]
    },
    {
     "name": "stderr",
     "output_type": "stream",
     "text": [
      "Epoch: 100%|██████████| 10/10 [00:31<00:00,  3.17s/it]\n"
     ]
    },
    {
     "name": "stdout",
     "output_type": "stream",
     "text": [
      "...Grabbed Representations\n",
      "Got Item Representations\n",
      "Got User Representations\n",
      "Made Index\n",
      "Got Top Items\n",
      "Got Predictions/Top Items\n",
      "...Calculated Predictions\n",
      "cycle:  146\n",
      "correct: 247\n",
      "Num Scanned:  433826\n",
      "Number unique ports Rec'd:  29523\n"
     ]
    },
    {
     "name": "stderr",
     "output_type": "stream",
     "text": [
      "\r",
      "Epoch:   0%|          | 0/10 [00:00<?, ?it/s]"
     ]
    },
    {
     "name": "stdout",
     "output_type": "stream",
     "text": [
      "At Bin:  146\n",
      "Hitrate:  0.0005693526897880717\n",
      "total ips correct:  108301\n",
      "Total Normalized Services:  2531.0621373388776\n",
      "Total Normalized IPs:  5599.205833657246\n",
      "Total Fraction Services: 0.20875671521462316\n",
      "Total Fraction IPs: 0.24964156136331156\n",
      "Total Fraction Depopularized Services: 0.20869014307586717\n",
      "Total Fraction Depopularized IPs: 0.24960291442344099\n"
     ]
    },
    {
     "name": "stderr",
     "output_type": "stream",
     "text": [
      "Epoch: 100%|██████████| 10/10 [00:30<00:00,  3.08s/it]\n"
     ]
    },
    {
     "name": "stdout",
     "output_type": "stream",
     "text": [
      "...Grabbed Representations\n",
      "Got Item Representations\n",
      "Got User Representations\n",
      "Made Index\n",
      "Got Top Items\n",
      "Got Predictions/Top Items\n",
      "...Calculated Predictions\n",
      "cycle:  147\n",
      "correct: 188\n",
      "Num Scanned:  433826\n",
      "Number unique ports Rec'd:  29532\n"
     ]
    },
    {
     "name": "stderr",
     "output_type": "stream",
     "text": [
      "\r",
      "Epoch:   0%|          | 0/10 [00:00<?, ?it/s]"
     ]
    },
    {
     "name": "stdout",
     "output_type": "stream",
     "text": [
      "At Bin:  147\n",
      "Hitrate:  0.00043335346429213554\n",
      "total ips correct:  108443\n",
      "Total Normalized Services:  2535.4604981693014\n",
      "Total Normalized IPs:  5614.253395485106\n",
      "Total Fraction Services: 0.20903549551314413\n",
      "Total Fraction IPs: 0.24996888153314922\n",
      "Total Fraction Depopularized Services: 0.20896920512569106\n",
      "Total Fraction Depopularized IPs: 0.24993074088780948\n"
     ]
    },
    {
     "name": "stderr",
     "output_type": "stream",
     "text": [
      "Epoch: 100%|██████████| 10/10 [00:33<00:00,  3.34s/it]\n"
     ]
    },
    {
     "name": "stdout",
     "output_type": "stream",
     "text": [
      "...Grabbed Representations\n",
      "Got Item Representations\n",
      "Got User Representations\n",
      "Made Index\n",
      "Got Top Items\n",
      "Got Predictions/Top Items\n",
      "...Calculated Predictions\n",
      "cycle:  148\n",
      "correct: 217\n",
      "Num Scanned:  433826\n",
      "Number unique ports Rec'd:  29543\n"
     ]
    },
    {
     "name": "stderr",
     "output_type": "stream",
     "text": [
      "\r",
      "Epoch:   0%|          | 0/10 [00:00<?, ?it/s]"
     ]
    },
    {
     "name": "stdout",
     "output_type": "stream",
     "text": [
      "At Bin:  148\n",
      "Hitrate:  0.000500200541230816\n",
      "total ips correct:  108595\n",
      "Total Normalized Services:  2540.2087060854824\n",
      "Total Normalized IPs:  5625.599146559646\n",
      "Total Fraction Services: 0.20934742806338108\n",
      "Total Fraction IPs: 0.2503192524191727\n",
      "Total Fraction Depopularized Services: 0.2092814529327913\n",
      "Total Fraction Depopularized IPs: 0.25028165372290817\n"
     ]
    },
    {
     "name": "stderr",
     "output_type": "stream",
     "text": [
      "Epoch: 100%|██████████| 10/10 [00:31<00:00,  3.10s/it]\n"
     ]
    },
    {
     "name": "stdout",
     "output_type": "stream",
     "text": [
      "...Grabbed Representations\n",
      "Got Item Representations\n",
      "Got User Representations\n",
      "Made Index\n",
      "Got Top Items\n",
      "Got Predictions/Top Items\n",
      "...Calculated Predictions\n",
      "cycle:  149\n",
      "correct: 242\n",
      "Num Scanned:  433826\n",
      "Number unique ports Rec'd:  29557\n"
     ]
    },
    {
     "name": "stderr",
     "output_type": "stream",
     "text": [
      "\r",
      "Epoch:   0%|          | 0/10 [00:00<?, ?it/s]"
     ]
    },
    {
     "name": "stdout",
     "output_type": "stream",
     "text": [
      "At Bin:  149\n",
      "Hitrate:  0.0005578273316951957\n",
      "total ips correct:  108803\n",
      "Total Normalized Services:  2545.669365375072\n",
      "Total Normalized IPs:  5640.574404901131\n",
      "Total Fraction Services: 0.20971210283225714\n",
      "Total Fraction IPs: 0.2507987073158363\n",
      "Total Fraction Depopularized Services: 0.2096464962628312\n",
      "Total Fraction Depopularized IPs: 0.2507618502340958\n"
     ]
    },
    {
     "name": "stderr",
     "output_type": "stream",
     "text": [
      "Epoch: 100%|██████████| 10/10 [00:32<00:00,  3.23s/it]\n"
     ]
    },
    {
     "name": "stdout",
     "output_type": "stream",
     "text": [
      "...Grabbed Representations\n",
      "Got Item Representations\n",
      "Got User Representations\n",
      "Made Index\n",
      "Got Top Items\n",
      "Got Predictions/Top Items\n",
      "...Calculated Predictions\n",
      "cycle:  150\n",
      "correct: 260\n",
      "Num Scanned:  433826\n",
      "Number unique ports Rec'd:  29572\n"
     ]
    },
    {
     "name": "stderr",
     "output_type": "stream",
     "text": [
      "\r",
      "Epoch:   0%|          | 0/10 [00:00<?, ?it/s]"
     ]
    },
    {
     "name": "stdout",
     "output_type": "stream",
     "text": [
      "At Bin:  150\n",
      "Hitrate:  0.0005993186208295492\n",
      "total ips correct:  108995\n",
      "Total Normalized Services:  2551.461518907393\n",
      "Total Normalized IPs:  5655.446304249853\n",
      "Total Fraction Services: 0.21010390217071903\n",
      "Total Fraction IPs: 0.25124128106660276\n",
      "Total Fraction Depopularized Services: 0.2100386915760972\n",
      "Total Fraction Depopularized IPs: 0.2512051085521152\n"
     ]
    },
    {
     "name": "stderr",
     "output_type": "stream",
     "text": [
      "Epoch: 100%|██████████| 10/10 [00:31<00:00,  3.14s/it]\n"
     ]
    },
    {
     "name": "stdout",
     "output_type": "stream",
     "text": [
      "...Grabbed Representations\n",
      "Got Item Representations\n",
      "Got User Representations\n",
      "Made Index\n",
      "Got Top Items\n",
      "Got Predictions/Top Items\n",
      "...Calculated Predictions\n",
      "cycle:  151\n",
      "correct: 240\n",
      "Num Scanned:  433826\n",
      "Number unique ports Rec'd:  29584\n"
     ]
    },
    {
     "name": "stderr",
     "output_type": "stream",
     "text": [
      "\r",
      "Epoch:   0%|          | 0/10 [00:00<?, ?it/s]"
     ]
    },
    {
     "name": "stdout",
     "output_type": "stream",
     "text": [
      "At Bin:  151\n",
      "Hitrate:  0.0005532171884580453\n",
      "total ips correct:  109178\n",
      "Total Normalized Services:  2555.3049898961085\n",
      "Total Normalized IPs:  5666.461692644014\n",
      "Total Fraction Services: 0.21046556309853\n",
      "Total Fraction IPs: 0.251663109172802\n",
      "Total Fraction Depopularized Services: 0.21039015891452406\n",
      "Total Fraction Depopularized IPs: 0.2516114286769663\n"
     ]
    },
    {
     "name": "stderr",
     "output_type": "stream",
     "text": [
      "Epoch: 100%|██████████| 10/10 [00:34<00:00,  3.47s/it]\n"
     ]
    },
    {
     "name": "stdout",
     "output_type": "stream",
     "text": [
      "...Grabbed Representations\n",
      "Got Item Representations\n",
      "Got User Representations\n",
      "Made Index\n",
      "Got Top Items\n",
      "Got Predictions/Top Items\n",
      "...Calculated Predictions\n",
      "cycle:  152\n",
      "correct: 181\n",
      "Num Scanned:  433826\n",
      "Number unique ports Rec'd:  29600\n"
     ]
    },
    {
     "name": "stderr",
     "output_type": "stream",
     "text": [
      "\r",
      "Epoch:   0%|          | 0/10 [00:00<?, ?it/s]"
     ]
    },
    {
     "name": "stdout",
     "output_type": "stream",
     "text": [
      "At Bin:  152\n",
      "Hitrate:  0.00041721796296210925\n",
      "total ips correct:  109330\n",
      "Total Normalized Services:  2558.5142610323855\n",
      "Total Normalized IPs:  5673.1373793937\n",
      "Total Fraction Services: 0.21073831571492077\n",
      "Total Fraction IPs: 0.2520134800588254\n",
      "Total Fraction Depopularized Services: 0.2106631871902977\n",
      "Total Fraction Depopularized IPs: 0.2519623415120649\n"
     ]
    },
    {
     "name": "stderr",
     "output_type": "stream",
     "text": [
      "Epoch: 100%|██████████| 10/10 [00:35<00:00,  3.51s/it]\n"
     ]
    },
    {
     "name": "stdout",
     "output_type": "stream",
     "text": [
      "...Grabbed Representations\n",
      "Got Item Representations\n",
      "Got User Representations\n",
      "Made Index\n",
      "Got Top Items\n",
      "Got Predictions/Top Items\n",
      "...Calculated Predictions\n",
      "cycle:  153\n",
      "correct: 225\n",
      "Num Scanned:  433826\n",
      "Number unique ports Rec'd:  29614\n"
     ]
    },
    {
     "name": "stderr",
     "output_type": "stream",
     "text": [
      "\r",
      "Epoch:   0%|          | 0/10 [00:00<?, ?it/s]"
     ]
    },
    {
     "name": "stdout",
     "output_type": "stream",
     "text": [
      "At Bin:  153\n",
      "Hitrate:  0.0005186411141794176\n",
      "total ips correct:  109519\n",
      "Total Normalized Services:  2564.0998936184665\n",
      "Total Normalized IPs:  5685.399510271762\n",
      "Total Fraction Services: 0.21107737283474357\n",
      "Total Fraction IPs: 0.2524491385947361\n",
      "Total Fraction Depopularized Services: 0.21100107853711147\n",
      "Total Fraction Depopularized IPs: 0.25239636528179227\n"
     ]
    },
    {
     "name": "stderr",
     "output_type": "stream",
     "text": [
      "Epoch: 100%|██████████| 10/10 [00:35<00:00,  3.59s/it]\n"
     ]
    },
    {
     "name": "stdout",
     "output_type": "stream",
     "text": [
      "...Grabbed Representations\n",
      "Got Item Representations\n",
      "Got User Representations\n",
      "Made Index\n",
      "Got Top Items\n",
      "Got Predictions/Top Items\n",
      "...Calculated Predictions\n",
      "cycle:  154\n",
      "correct: 169\n",
      "Num Scanned:  433826\n",
      "Number unique ports Rec'd:  29623\n"
     ]
    },
    {
     "name": "stderr",
     "output_type": "stream",
     "text": [
      "\r",
      "Epoch:   0%|          | 0/10 [00:00<?, ?it/s]"
     ]
    },
    {
     "name": "stdout",
     "output_type": "stream",
     "text": [
      "At Bin:  154\n",
      "Hitrate:  0.00038955710353920695\n",
      "total ips correct:  109657\n",
      "Total Normalized Services:  2568.5289241065143\n",
      "Total Normalized IPs:  5695.81945477216\n",
      "Total Fraction Services: 0.2113320424047438\n",
      "Total Fraction IPs: 0.2527672384780995\n",
      "Total Fraction Depopularized Services: 0.2112560054907344\n",
      "Total Fraction Depopularized IPs: 0.2527149571978687\n"
     ]
    },
    {
     "name": "stderr",
     "output_type": "stream",
     "text": [
      "Epoch: 100%|██████████| 10/10 [00:35<00:00,  3.50s/it]\n"
     ]
    },
    {
     "name": "stdout",
     "output_type": "stream",
     "text": [
      "...Grabbed Representations\n",
      "Got Item Representations\n",
      "Got User Representations\n",
      "Made Index\n",
      "Got Top Items\n",
      "Got Predictions/Top Items\n",
      "...Calculated Predictions\n",
      "cycle:  155\n",
      "correct: 199\n",
      "Num Scanned:  433826\n",
      "Number unique ports Rec'd:  29636\n"
     ]
    },
    {
     "name": "stderr",
     "output_type": "stream",
     "text": [
      "\r",
      "Epoch:   0%|          | 0/10 [00:00<?, ?it/s]"
     ]
    },
    {
     "name": "stdout",
     "output_type": "stream",
     "text": [
      "At Bin:  155\n",
      "Hitrate:  0.00045870925209646264\n",
      "total ips correct:  109824\n",
      "Total Normalized Services:  2571.9489596381054\n",
      "Total Normalized IPs:  5712.161008717145\n",
      "Total Fraction Services: 0.2116319195907204\n",
      "Total Fraction IPs: 0.25315218543840157\n",
      "Total Fraction Depopularized Services: 0.21155467730622157\n",
      "Total Fraction Depopularized IPs: 0.2530981909519896\n"
     ]
    },
    {
     "name": "stderr",
     "output_type": "stream",
     "text": [
      "Epoch: 100%|██████████| 10/10 [00:35<00:00,  3.56s/it]\n"
     ]
    },
    {
     "name": "stdout",
     "output_type": "stream",
     "text": [
      "...Grabbed Representations\n",
      "Got Item Representations\n",
      "Got User Representations\n",
      "Made Index\n",
      "Got Top Items\n",
      "Got Predictions/Top Items\n",
      "...Calculated Predictions\n",
      "cycle:  156\n",
      "correct: 164\n",
      "Num Scanned:  433826\n",
      "Number unique ports Rec'd:  29654\n"
     ]
    },
    {
     "name": "stderr",
     "output_type": "stream",
     "text": [
      "\r",
      "Epoch:   0%|          | 0/10 [00:00<?, ?it/s]"
     ]
    },
    {
     "name": "stdout",
     "output_type": "stream",
     "text": [
      "At Bin:  156\n",
      "Hitrate:  0.000378031745446331\n",
      "total ips correct:  109954\n",
      "Total Normalized Services:  2575.9915618691966\n",
      "Total Normalized IPs:  5722.548789374156\n",
      "Total Fraction Services: 0.2118790545580579\n",
      "Total Fraction IPs: 0.2534518447488163\n",
      "Total Fraction Depopularized Services: 0.21180206204228166\n",
      "Total Fraction Depopularized IPs: 0.25339831377148186\n"
     ]
    },
    {
     "name": "stderr",
     "output_type": "stream",
     "text": [
      "Epoch: 100%|██████████| 10/10 [00:34<00:00,  3.44s/it]\n"
     ]
    },
    {
     "name": "stdout",
     "output_type": "stream",
     "text": [
      "...Grabbed Representations\n",
      "Got Item Representations\n",
      "Got User Representations\n",
      "Made Index\n",
      "Got Top Items\n",
      "Got Predictions/Top Items\n",
      "...Calculated Predictions\n",
      "cycle:  157\n",
      "correct: 187\n",
      "Num Scanned:  433826\n",
      "Number unique ports Rec'd:  29665\n"
     ]
    },
    {
     "name": "stderr",
     "output_type": "stream",
     "text": [
      "\r",
      "Epoch:   0%|          | 0/10 [00:00<?, ?it/s]"
     ]
    },
    {
     "name": "stdout",
     "output_type": "stream",
     "text": [
      "At Bin:  157\n",
      "Hitrate:  0.00043104839267356034\n",
      "total ips correct:  110105\n",
      "Total Normalized Services:  2580.9401656464597\n",
      "Total Normalized IPs:  5734.985032832312\n",
      "Total Fraction Services: 0.21216084869764393\n",
      "Total Fraction IPs: 0.2537999105632212\n",
      "Total Fraction Depopularized Services: 0.2120841409791307\n",
      "Total Fraction Depopularized IPs: 0.25374691796950755\n"
     ]
    },
    {
     "name": "stderr",
     "output_type": "stream",
     "text": [
      "Epoch: 100%|██████████| 10/10 [00:34<00:00,  3.40s/it]\n"
     ]
    },
    {
     "name": "stdout",
     "output_type": "stream",
     "text": [
      "...Grabbed Representations\n",
      "Got Item Representations\n",
      "Got User Representations\n",
      "Made Index\n",
      "Got Top Items\n",
      "Got Predictions/Top Items\n",
      "...Calculated Predictions\n",
      "cycle:  158\n",
      "correct: 221\n",
      "Num Scanned:  433826\n",
      "Number unique ports Rec'd:  29674\n"
     ]
    },
    {
     "name": "stderr",
     "output_type": "stream",
     "text": [
      "\r",
      "Epoch:   0%|          | 0/10 [00:00<?, ?it/s]"
     ]
    },
    {
     "name": "stdout",
     "output_type": "stream",
     "text": [
      "At Bin:  158\n",
      "Hitrate:  0.0005094208277051168\n",
      "total ips correct:  110263\n",
      "Total Normalized Services:  2586.3859895553614\n",
      "Total Normalized IPs:  5744.994257689687\n",
      "Total Fraction Services: 0.21249387813533654\n",
      "Total Fraction IPs: 0.2541641118789561\n",
      "Total Fraction Depopularized Services: 0.2124175069954068\n",
      "Total Fraction Depopularized IPs: 0.2541116826270443\n"
     ]
    },
    {
     "name": "stderr",
     "output_type": "stream",
     "text": [
      "Epoch: 100%|██████████| 10/10 [00:31<00:00,  3.15s/it]\n"
     ]
    },
    {
     "name": "stdout",
     "output_type": "stream",
     "text": [
      "...Grabbed Representations\n",
      "Got Item Representations\n",
      "Got User Representations\n",
      "Made Index\n",
      "Got Top Items\n",
      "Got Predictions/Top Items\n",
      "...Calculated Predictions\n",
      "cycle:  159\n",
      "correct: 150\n",
      "Num Scanned:  433826\n",
      "Number unique ports Rec'd:  29686\n"
     ]
    },
    {
     "name": "stderr",
     "output_type": "stream",
     "text": [
      "\r",
      "Epoch:   0%|          | 0/10 [00:00<?, ?it/s]"
     ]
    },
    {
     "name": "stdout",
     "output_type": "stream",
     "text": [
      "At Bin:  159\n",
      "Hitrate:  0.00034576074278627836\n",
      "total ips correct:  110382\n",
      "Total Normalized Services:  2589.509523783359\n",
      "Total Normalized IPs:  5753.550694978904\n",
      "Total Fraction Services: 0.21271991621521838\n",
      "Total Fraction IPs: 0.25443841540156653\n",
      "Total Fraction Depopularized Services: 0.21264377352229102\n",
      "Total Fraction Depopularized IPs: 0.2543864104387334\n"
     ]
    },
    {
     "name": "stderr",
     "output_type": "stream",
     "text": [
      "Epoch: 100%|██████████| 10/10 [00:32<00:00,  3.21s/it]\n"
     ]
    },
    {
     "name": "stdout",
     "output_type": "stream",
     "text": [
      "...Grabbed Representations\n",
      "Got Item Representations\n",
      "Got User Representations\n",
      "Made Index\n",
      "Got Top Items\n",
      "Got Predictions/Top Items\n",
      "...Calculated Predictions\n",
      "cycle:  160\n",
      "correct: 182\n",
      "Num Scanned:  433826\n",
      "Number unique ports Rec'd:  29696\n",
      "At Bin:  160\n",
      "Hitrate:  0.00041952303458068444\n",
      "total ips correct:  110531\n",
      "Total Normalized Services:  2593.3614975171695\n",
      "Total Normalized IPs:  5761.402118137096\n",
      "Total Fraction Services: 0.21299417575214172\n",
      "Total Fraction IPs: 0.25478187107273426\n",
      "Total Fraction Depopularized Services: 0.21291831024157723\n",
      "Total Fraction Depopularized IPs: 0.254730397362613\n"
     ]
    },
    {
     "name": "stderr",
     "output_type": "stream",
     "text": [
      "Epoch: 100%|██████████| 10/10 [00:34<00:00,  3.48s/it]\n"
     ]
    },
    {
     "name": "stdout",
     "output_type": "stream",
     "text": [
      "...Grabbed Representations\n",
      "Got Item Representations\n",
      "Got User Representations\n",
      "Made Index\n",
      "Got Top Items\n",
      "Got Predictions/Top Items\n",
      "...Calculated Predictions\n",
      "cycle:  161\n",
      "correct: 207\n",
      "Num Scanned:  433826\n",
      "Number unique ports Rec'd:  29706\n"
     ]
    },
    {
     "name": "stderr",
     "output_type": "stream",
     "text": [
      "\r",
      "Epoch:   0%|          | 0/10 [00:00<?, ?it/s]"
     ]
    },
    {
     "name": "stdout",
     "output_type": "stream",
     "text": [
      "At Bin:  161\n",
      "Hitrate:  0.0004771498250450641\n",
      "total ips correct:  110676\n",
      "Total Normalized Services:  2597.479355509025\n",
      "Total Normalized IPs:  5771.65474211379\n",
      "Total Fraction Services: 0.21330610830237867\n",
      "Total Fraction IPs: 0.2551161064574276\n",
      "Total Fraction Depopularized Services: 0.21323055804867747\n",
      "Total Fraction Depopularized IPs: 0.25506514973820055\n"
     ]
    },
    {
     "name": "stderr",
     "output_type": "stream",
     "text": [
      "Epoch: 100%|██████████| 10/10 [00:35<00:00,  3.52s/it]\n"
     ]
    },
    {
     "name": "stdout",
     "output_type": "stream",
     "text": [
      "...Grabbed Representations\n",
      "Got Item Representations\n",
      "Got User Representations\n",
      "Made Index\n",
      "Got Top Items\n",
      "Got Predictions/Top Items\n",
      "...Calculated Predictions\n",
      "cycle:  162\n",
      "correct: 135\n",
      "Num Scanned:  433826\n",
      "Number unique ports Rec'd:  29714\n"
     ]
    },
    {
     "name": "stderr",
     "output_type": "stream",
     "text": [
      "\r",
      "Epoch:   0%|          | 0/10 [00:00<?, ?it/s]"
     ]
    },
    {
     "name": "stdout",
     "output_type": "stream",
     "text": [
      "At Bin:  162\n",
      "Hitrate:  0.00031118466850765054\n",
      "total ips correct:  110775\n",
      "Total Normalized Services:  2601.066059421724\n",
      "Total Normalized IPs:  5781.247602429178\n",
      "Total Fraction Services: 0.21350351489214217\n",
      "Total Fraction IPs: 0.2553443085476666\n",
      "Total Fraction Depopularized Services: 0.21342816414882304\n",
      "Total Fraction Depopularized IPs: 0.2552937048084293\n"
     ]
    },
    {
     "name": "stderr",
     "output_type": "stream",
     "text": [
      "Epoch: 100%|██████████| 10/10 [00:32<00:00,  3.30s/it]\n"
     ]
    },
    {
     "name": "stdout",
     "output_type": "stream",
     "text": [
      "...Grabbed Representations\n",
      "Got Item Representations\n",
      "Got User Representations\n",
      "Made Index\n",
      "Got Top Items\n",
      "Got Predictions/Top Items\n",
      "...Calculated Predictions\n",
      "cycle:  163\n",
      "correct: 206\n",
      "Num Scanned:  433826\n",
      "Number unique ports Rec'd:  29723\n"
     ]
    },
    {
     "name": "stderr",
     "output_type": "stream",
     "text": [
      "\r",
      "Epoch:   0%|          | 0/10 [00:00<?, ?it/s]"
     ]
    },
    {
     "name": "stdout",
     "output_type": "stream",
     "text": [
      "At Bin:  163\n",
      "Hitrate:  0.000474844753426489\n",
      "total ips correct:  110952\n",
      "Total Normalized Services:  2604.422019313482\n",
      "Total Normalized IPs:  5789.582991278183\n",
      "Total Fraction Services: 0.21381394052184657\n",
      "Total Fraction IPs: 0.2557523062241544\n",
      "Total Fraction Depopularized Services: 0.21373890351241073\n",
      "Total Fraction Depopularized IPs: 0.2557023335703534\n"
     ]
    },
    {
     "name": "stderr",
     "output_type": "stream",
     "text": [
      "Epoch: 100%|██████████| 10/10 [00:31<00:00,  3.14s/it]\n"
     ]
    },
    {
     "name": "stdout",
     "output_type": "stream",
     "text": [
      "...Grabbed Representations\n",
      "Got Item Representations\n",
      "Got User Representations\n",
      "Made Index\n",
      "Got Top Items\n",
      "Got Predictions/Top Items\n",
      "...Calculated Predictions\n",
      "cycle:  164\n",
      "correct: 148\n",
      "Num Scanned:  433826\n",
      "Number unique ports Rec'd:  29731\n",
      "At Bin:  164\n",
      "Hitrate:  0.000341150599549128\n",
      "total ips correct:  111072\n",
      "Total Normalized Services:  2607.353900168292\n",
      "Total Normalized IPs:  5797.937699467338\n",
      "Total Fraction Services: 0.21403696476066333\n",
      "Total Fraction IPs: 0.2560289148183834\n",
      "Total Fraction Depopularized Services: 0.21396215315226982\n",
      "Total Fraction Depopularized IPs: 0.2559793700191155\n"
     ]
    },
    {
     "name": "stderr",
     "output_type": "stream",
     "text": [
      "Epoch: 100%|██████████| 10/10 [00:35<00:00,  3.51s/it]\n"
     ]
    },
    {
     "name": "stdout",
     "output_type": "stream",
     "text": [
      "...Grabbed Representations\n",
      "Got Item Representations\n",
      "Got User Representations\n",
      "Made Index\n",
      "Got Top Items\n",
      "Got Predictions/Top Items\n",
      "...Calculated Predictions\n",
      "cycle:  165\n",
      "correct: 183\n",
      "Num Scanned:  433826\n",
      "Number unique ports Rec'd:  29741\n",
      "At Bin:  165\n",
      "Hitrate:  0.00042182810619925963\n",
      "total ips correct:  111221\n",
      "Total Normalized Services:  2612.25740814358\n",
      "Total Normalized IPs:  5808.84288702541\n",
      "Total Fraction Services: 0.21431273121811922\n",
      "Total Fraction IPs: 0.25637237048955114\n",
      "Total Fraction Depopularized Services: 0.2142381983150686\n",
      "Total Fraction Depopularized IPs: 0.25632335694299513\n"
     ]
    },
    {
     "name": "stderr",
     "output_type": "stream",
     "text": [
      "Epoch: 100%|██████████| 10/10 [00:36<00:00,  3.61s/it]\n"
     ]
    },
    {
     "name": "stdout",
     "output_type": "stream",
     "text": [
      "...Grabbed Representations\n",
      "Got Item Representations\n",
      "Got User Representations\n",
      "Made Index\n",
      "Got Top Items\n",
      "Got Predictions/Top Items\n",
      "...Calculated Predictions\n",
      "cycle:  166\n",
      "correct: 243\n",
      "Num Scanned:  433826\n",
      "Number unique ports Rec'd:  29750\n",
      "At Bin:  166\n",
      "Hitrate:  0.0005601324033137709\n",
      "total ips correct:  111422\n",
      "Total Normalized Services:  2616.8519779734443\n",
      "Total Normalized IPs:  5820.127865126985\n",
      "Total Fraction Services: 0.21467891290752783\n",
      "Total Fraction IPs: 0.2568356898848847\n",
      "Total Fraction Depopularized Services: 0.21460475008862107\n",
      "Total Fraction Depopularized IPs: 0.2567873929946717\n"
     ]
    },
    {
     "name": "stderr",
     "output_type": "stream",
     "text": [
      "Epoch: 100%|██████████| 10/10 [00:35<00:00,  3.58s/it]\n"
     ]
    },
    {
     "name": "stdout",
     "output_type": "stream",
     "text": [
      "...Grabbed Representations\n",
      "Got Item Representations\n",
      "Got User Representations\n",
      "Made Index\n",
      "Got Top Items\n",
      "Got Predictions/Top Items\n",
      "...Calculated Predictions\n",
      "cycle:  167\n",
      "correct: 164\n",
      "Num Scanned:  433826\n",
      "Number unique ports Rec'd:  29759\n",
      "At Bin:  167\n",
      "Hitrate:  0.000378031745446331\n",
      "total ips correct:  111540\n",
      "Total Normalized Services:  2619.6044556879124\n",
      "Total Normalized IPs:  5825.481493865659\n",
      "Total Fraction Services: 0.21492303403380023\n",
      "Total Fraction IPs: 0.2571076883358766\n",
      "Total Fraction Depopularized Services: 0.21484911793765604\n",
      "Total Fraction Depopularized IPs: 0.25705981216928775\n"
     ]
    },
    {
     "name": "stderr",
     "output_type": "stream",
     "text": [
      "Epoch: 100%|██████████| 10/10 [00:33<00:00,  3.37s/it]\n"
     ]
    },
    {
     "name": "stdout",
     "output_type": "stream",
     "text": [
      "...Grabbed Representations\n",
      "Got Item Representations\n",
      "Got User Representations\n",
      "Made Index\n",
      "Got Top Items\n",
      "Got Predictions/Top Items\n",
      "...Calculated Predictions\n",
      "cycle:  168\n",
      "correct: 173\n",
      "Num Scanned:  433826\n",
      "Number unique ports Rec'd:  29770\n"
     ]
    },
    {
     "name": "stderr",
     "output_type": "stream",
     "text": [
      "\r",
      "Epoch:   0%|          | 0/10 [00:00<?, ?it/s]"
     ]
    },
    {
     "name": "stdout",
     "output_type": "stream",
     "text": [
      "At Bin:  168\n",
      "Hitrate:  0.0003987773900135077\n",
      "total ips correct:  111673\n",
      "Total Normalized Services:  2624.9541421769763\n",
      "Total Normalized IPs:  5835.652970558489\n",
      "Total Fraction Services: 0.21518373128593063\n",
      "Total Fraction IPs: 0.2574142628611471\n",
      "Total Fraction Depopularized Services: 0.2151100786653292\n",
      "Total Fraction Depopularized IPs: 0.25736686089999905\n"
     ]
    },
    {
     "name": "stderr",
     "output_type": "stream",
     "text": [
      "Epoch: 100%|██████████| 10/10 [00:30<00:00,  3.09s/it]\n"
     ]
    },
    {
     "name": "stdout",
     "output_type": "stream",
     "text": [
      "...Grabbed Representations\n",
      "Got Item Representations\n",
      "Got User Representations\n",
      "Made Index\n",
      "Got Top Items\n",
      "Got Predictions/Top Items\n",
      "...Calculated Predictions\n",
      "cycle:  169\n",
      "correct: 144\n",
      "Num Scanned:  433826\n",
      "Number unique ports Rec'd:  29785\n"
     ]
    },
    {
     "name": "stderr",
     "output_type": "stream",
     "text": [
      "\r",
      "Epoch:   0%|          | 0/10 [00:00<?, ?it/s]"
     ]
    },
    {
     "name": "stdout",
     "output_type": "stream",
     "text": [
      "At Bin:  169\n",
      "Hitrate:  0.0003319303130748272\n",
      "total ips correct:  111799\n",
      "Total Normalized Services:  2628.709509120638\n",
      "Total Normalized IPs:  5841.6028659077565\n",
      "Total Fraction Services: 0.2154007278426172\n",
      "Total Fraction IPs: 0.2577047018850876\n",
      "Total Fraction Depopularized Services: 0.21532729453113805\n",
      "Total Fraction Depopularized IPs: 0.25765774917119927\n"
     ]
    },
    {
     "name": "stderr",
     "output_type": "stream",
     "text": [
      "Epoch: 100%|██████████| 10/10 [00:29<00:00,  3.00s/it]\n"
     ]
    },
    {
     "name": "stdout",
     "output_type": "stream",
     "text": [
      "...Grabbed Representations\n",
      "Got Item Representations\n",
      "Got User Representations\n",
      "Made Index\n",
      "Got Top Items\n",
      "Got Predictions/Top Items\n",
      "...Calculated Predictions\n",
      "cycle:  170\n",
      "correct: 194\n",
      "Num Scanned:  433826\n",
      "Number unique ports Rec'd:  29795\n",
      "At Bin:  170\n",
      "Hitrate:  0.0004471838940035867\n",
      "total ips correct:  111915\n",
      "Total Normalized Services:  2632.6129640506583\n",
      "Total Normalized IPs:  5850.912384051253\n",
      "Total Fraction Services: 0.21569307042593108\n",
      "Total Fraction IPs: 0.2579720901928423\n",
      "Total Fraction Depopularized Services: 0.215619932572575\n",
      "Total Fraction Depopularized IPs: 0.2579255510716693\n"
     ]
    },
    {
     "name": "stderr",
     "output_type": "stream",
     "text": [
      "Epoch: 100%|██████████| 10/10 [00:34<00:00,  3.42s/it]\n"
     ]
    },
    {
     "name": "stdout",
     "output_type": "stream",
     "text": [
      "...Grabbed Representations\n",
      "Got Item Representations\n",
      "Got User Representations\n",
      "Made Index\n",
      "Got Top Items\n",
      "Got Predictions/Top Items\n",
      "...Calculated Predictions\n",
      "cycle:  171\n",
      "correct: 225\n",
      "Num Scanned:  433826\n",
      "Number unique ports Rec'd:  29800\n"
     ]
    },
    {
     "name": "stderr",
     "output_type": "stream",
     "text": [
      "\r",
      "Epoch:   0%|          | 0/10 [00:00<?, ?it/s]"
     ]
    },
    {
     "name": "stdout",
     "output_type": "stream",
     "text": [
      "At Bin:  171\n",
      "Hitrate:  0.0005186411141794176\n",
      "total ips correct:  112107\n",
      "Total Normalized Services:  2636.7745176143103\n",
      "Total Normalized IPs:  5871.089816611171\n",
      "Total Fraction Services: 0.21603212754575388\n",
      "Total Fraction IPs: 0.25841466394360874\n",
      "Total Fraction Depopularized Services: 0.21595933236290135\n",
      "Total Fraction Depopularized IPs: 0.2583688093896887\n"
     ]
    },
    {
     "name": "stderr",
     "output_type": "stream",
     "text": [
      "Epoch: 100%|██████████| 10/10 [00:33<00:00,  3.33s/it]\n"
     ]
    },
    {
     "name": "stdout",
     "output_type": "stream",
     "text": [
      "...Grabbed Representations\n",
      "Got Item Representations\n",
      "Got User Representations\n",
      "Made Index\n",
      "Got Top Items\n",
      "Got Predictions/Top Items\n",
      "...Calculated Predictions\n",
      "cycle:  172\n",
      "correct: 184\n",
      "Num Scanned:  433826\n",
      "Number unique ports Rec'd:  29806\n"
     ]
    },
    {
     "name": "stderr",
     "output_type": "stream",
     "text": [
      "\r",
      "Epoch:   0%|          | 0/10 [00:00<?, ?it/s]"
     ]
    },
    {
     "name": "stdout",
     "output_type": "stream",
     "text": [
      "At Bin:  172\n",
      "Hitrate:  0.0004241331778178348\n",
      "total ips correct:  112220\n",
      "Total Normalized Services:  2641.0608370269315\n",
      "Total Normalized IPs:  5881.309198997032\n",
      "Total Fraction Services: 0.21624158949977773\n",
      "Total Fraction IPs: 0.25867513703650774\n",
      "Total Fraction Depopularized Services: 0.21616900601114739\n",
      "Total Fraction Depopularized IPs: 0.2586296853789397\n"
     ]
    },
    {
     "name": "stderr",
     "output_type": "stream",
     "text": [
      "Epoch: 100%|██████████| 10/10 [00:32<00:00,  3.25s/it]\n"
     ]
    },
    {
     "name": "stdout",
     "output_type": "stream",
     "text": [
      "...Grabbed Representations\n",
      "Got Item Representations\n",
      "Got User Representations\n",
      "Made Index\n",
      "Got Top Items\n",
      "Got Predictions/Top Items\n",
      "...Calculated Predictions\n",
      "cycle:  173\n",
      "correct: 183\n",
      "Num Scanned:  433826\n",
      "Number unique ports Rec'd:  29816\n"
     ]
    },
    {
     "name": "stderr",
     "output_type": "stream",
     "text": [
      "\r",
      "Epoch:   0%|          | 0/10 [00:00<?, ?it/s]"
     ]
    },
    {
     "name": "stdout",
     "output_type": "stream",
     "text": [
      "At Bin:  173\n",
      "Hitrate:  0.00042182810619925963\n",
      "total ips correct:  112382\n",
      "Total Normalized Services:  2645.323784904164\n",
      "Total Normalized IPs:  5892.457631961641\n",
      "Total Fraction Services: 0.2165173559572336\n",
      "Total Fraction IPs: 0.2590485586387169\n",
      "Total Fraction Depopularized Services: 0.21644505117394616\n",
      "Total Fraction Depopularized IPs: 0.2590036845847685\n"
     ]
    },
    {
     "name": "stderr",
     "output_type": "stream",
     "text": [
      "Epoch: 100%|██████████| 10/10 [00:30<00:00,  3.10s/it]\n"
     ]
    },
    {
     "name": "stdout",
     "output_type": "stream",
     "text": [
      "...Grabbed Representations\n",
      "Got Item Representations\n",
      "Got User Representations\n",
      "Made Index\n",
      "Got Top Items\n",
      "Got Predictions/Top Items\n",
      "...Calculated Predictions\n",
      "cycle:  174\n",
      "correct: 290\n",
      "Num Scanned:  433826\n",
      "Number unique ports Rec'd:  29828\n"
     ]
    },
    {
     "name": "stderr",
     "output_type": "stream",
     "text": [
      "\r",
      "Epoch:   0%|          | 0/10 [00:00<?, ?it/s]"
     ]
    },
    {
     "name": "stdout",
     "output_type": "stream",
     "text": [
      "At Bin:  174\n",
      "Hitrate:  0.0006684707693868048\n",
      "total ips correct:  112632\n",
      "Total Normalized Services:  2650.9227309954217\n",
      "Total Normalized IPs:  5905.2616279817275\n",
      "Total Fraction Services: 0.21695436291167186\n",
      "Total Fraction IPs: 0.2596248265433607\n",
      "Total Fraction Depopularized Services: 0.2168674153574634\n",
      "Total Fraction Depopularized IPs: 0.25955775748229276\n"
     ]
    },
    {
     "name": "stderr",
     "output_type": "stream",
     "text": [
      "Epoch: 100%|██████████| 10/10 [00:30<00:00,  3.02s/it]\n"
     ]
    },
    {
     "name": "stdout",
     "output_type": "stream",
     "text": [
      "...Grabbed Representations\n",
      "Got Item Representations\n",
      "Got User Representations\n",
      "Made Index\n",
      "Got Top Items\n",
      "Got Predictions/Top Items\n",
      "...Calculated Predictions\n",
      "cycle:  175\n",
      "correct: 172\n",
      "Num Scanned:  433826\n",
      "Number unique ports Rec'd:  29840\n"
     ]
    },
    {
     "name": "stderr",
     "output_type": "stream",
     "text": [
      "\r",
      "Epoch:   0%|          | 0/10 [00:00<?, ?it/s]"
     ]
    },
    {
     "name": "stdout",
     "output_type": "stream",
     "text": [
      "At Bin:  175\n",
      "Hitrate:  0.0003964723183949325\n",
      "total ips correct:  112781\n",
      "Total Normalized Services:  2655.5597264430344\n",
      "Total Normalized IPs:  5921.914619853647\n",
      "Total Fraction Services: 0.2172135532432697\n",
      "Total Fraction IPs: 0.2599682822145284\n",
      "Total Fraction Depopularized Services: 0.21712083386757375\n",
      "Total Fraction Depopularized IPs: 0.2598925098578803\n"
     ]
    },
    {
     "name": "stderr",
     "output_type": "stream",
     "text": [
      "Epoch: 100%|██████████| 10/10 [00:34<00:00,  3.43s/it]\n"
     ]
    },
    {
     "name": "stdout",
     "output_type": "stream",
     "text": [
      "...Grabbed Representations\n",
      "Got Item Representations\n",
      "Got User Representations\n",
      "Made Index\n",
      "Got Top Items\n",
      "Got Predictions/Top Items\n",
      "...Calculated Predictions\n",
      "cycle:  176\n",
      "correct: 161\n",
      "Num Scanned:  433826\n",
      "Number unique ports Rec'd:  29852\n"
     ]
    },
    {
     "name": "stderr",
     "output_type": "stream",
     "text": [
      "\r",
      "Epoch:   0%|          | 0/10 [00:00<?, ?it/s]"
     ]
    },
    {
     "name": "stdout",
     "output_type": "stream",
     "text": [
      "At Bin:  176\n",
      "Hitrate:  0.00037111653059060547\n",
      "total ips correct:  112906\n",
      "Total Normalized Services:  2660.0423562172596\n",
      "Total Normalized IPs:  5934.634079747958\n",
      "Total Fraction Services: 0.21745466052847703\n",
      "Total Fraction IPs: 0.2602564161668503\n",
      "Total Fraction Depopularized Services: 0.21736218482958358\n",
      "Total Fraction Depopularized IPs: 0.2601810894920075\n"
     ]
    },
    {
     "name": "stderr",
     "output_type": "stream",
     "text": [
      "Epoch: 100%|██████████| 10/10 [00:34<00:00,  3.42s/it]\n"
     ]
    },
    {
     "name": "stdout",
     "output_type": "stream",
     "text": [
      "...Grabbed Representations\n",
      "Got Item Representations\n",
      "Got User Representations\n",
      "Made Index\n",
      "Got Top Items\n",
      "Got Predictions/Top Items\n",
      "...Calculated Predictions\n",
      "cycle:  177\n",
      "correct: 147\n",
      "Num Scanned:  433826\n",
      "Number unique ports Rec'd:  29865\n",
      "At Bin:  177\n",
      "Hitrate:  0.0003388455279305528\n",
      "total ips correct:  113021\n",
      "Total Normalized Services:  2663.824318072643\n",
      "Total Normalized IPs:  5945.466087321038\n",
      "Total Fraction Services: 0.21767316400569617\n",
      "Total Fraction IPs: 0.26052149940298647\n",
      "Total Fraction Depopularized Services: 0.21758090913890502\n",
      "Total Fraction Depopularized IPs: 0.2604465827554045\n"
     ]
    },
    {
     "name": "stderr",
     "output_type": "stream",
     "text": [
      "Epoch: 100%|██████████| 10/10 [00:34<00:00,  3.46s/it]\n"
     ]
    },
    {
     "name": "stdout",
     "output_type": "stream",
     "text": [
      "...Grabbed Representations\n",
      "Got Item Representations\n",
      "Got User Representations\n",
      "Made Index\n",
      "Got Top Items\n",
      "Got Predictions/Top Items\n",
      "...Calculated Predictions\n",
      "cycle:  178\n",
      "correct: 148\n",
      "Num Scanned:  433826\n",
      "Number unique ports Rec'd:  29872\n"
     ]
    },
    {
     "name": "stderr",
     "output_type": "stream",
     "text": [
      "\r",
      "Epoch:   0%|          | 0/10 [00:00<?, ?it/s]"
     ]
    },
    {
     "name": "stdout",
     "output_type": "stream",
     "text": [
      "At Bin:  178\n",
      "Hitrate:  0.000341150599549128\n",
      "total ips correct:  113148\n",
      "Total Normalized Services:  2666.704033172584\n",
      "Total Normalized IPs:  5955.193897094956\n",
      "Total Fraction Services: 0.21789618824451293\n",
      "Total Fraction IPs: 0.2608142434985455\n",
      "Total Fraction Depopularized Services: 0.21780415877876413\n",
      "Total Fraction Depopularized IPs: 0.26073977966367773\n"
     ]
    },
    {
     "name": "stderr",
     "output_type": "stream",
     "text": [
      "Epoch: 100%|██████████| 10/10 [00:31<00:00,  3.19s/it]\n"
     ]
    },
    {
     "name": "stdout",
     "output_type": "stream",
     "text": [
      "...Grabbed Representations\n",
      "Got Item Representations\n",
      "Got User Representations\n",
      "Made Index\n",
      "Got Top Items\n",
      "Got Predictions/Top Items\n",
      "...Calculated Predictions\n",
      "cycle:  179\n",
      "correct: 145\n",
      "Num Scanned:  433826\n",
      "Number unique ports Rec'd:  29880\n",
      "At Bin:  179\n",
      "Hitrate:  0.0003342353846934024\n",
      "total ips correct:  113250\n",
      "Total Normalized Services:  2670.862183181143\n",
      "Total Normalized IPs:  5961.741271458181\n",
      "Total Fraction Services: 0.21811469172173206\n",
      "Total Fraction IPs: 0.26104936080364016\n",
      "Total Fraction Depopularized Services: 0.21802288308808557\n",
      "Total Fraction Depopularized IPs: 0.26097526064512555\n"
     ]
    },
    {
     "name": "stderr",
     "output_type": "stream",
     "text": [
      "Epoch: 100%|██████████| 10/10 [00:35<00:00,  3.59s/it]\n"
     ]
    },
    {
     "name": "stdout",
     "output_type": "stream",
     "text": [
      "...Grabbed Representations\n",
      "Got Item Representations\n",
      "Got User Representations\n",
      "Made Index\n",
      "Got Top Items\n",
      "Got Predictions/Top Items\n",
      "...Calculated Predictions\n",
      "cycle:  180\n",
      "correct: 124\n",
      "Num Scanned:  433826\n",
      "Number unique ports Rec'd:  29888\n",
      "At Bin:  180\n",
      "Hitrate:  0.00028582888070332344\n",
      "total ips correct:  113351\n",
      "Total Normalized Services:  2674.462800485605\n",
      "Total Normalized IPs:  5969.736744495598\n",
      "Total Fraction Services: 0.21830154986776773\n",
      "Total Fraction IPs: 0.26128217303711626\n",
      "Total Fraction Depopularized Services: 0.2182099300836432\n",
      "Total Fraction Depopularized IPs: 0.2612084329895003\n"
     ]
    },
    {
     "name": "stderr",
     "output_type": "stream",
     "text": [
      "Epoch: 100%|██████████| 10/10 [00:32<00:00,  3.22s/it]\n"
     ]
    },
    {
     "name": "stdout",
     "output_type": "stream",
     "text": [
      "...Grabbed Representations\n",
      "Got Item Representations\n",
      "Got User Representations\n",
      "Made Index\n",
      "Got Top Items\n",
      "Got Predictions/Top Items\n",
      "...Calculated Predictions\n",
      "cycle:  181\n",
      "correct: 149\n",
      "Num Scanned:  433826\n",
      "Number unique ports Rec'd:  29899\n"
     ]
    },
    {
     "name": "stderr",
     "output_type": "stream",
     "text": [
      "\r",
      "Epoch:   0%|          | 0/10 [00:00<?, ?it/s]"
     ]
    },
    {
     "name": "stdout",
     "output_type": "stream",
     "text": [
      "At Bin:  181\n",
      "Hitrate:  0.00034345567116770317\n",
      "total ips correct:  113454\n",
      "Total Normalized Services:  2679.7488143037594\n",
      "Total Normalized IPs:  5983.785170747276\n",
      "Total Fraction Services: 0.21852608102711704\n",
      "Total Fraction IPs: 0.2615195954138295\n",
      "Total Fraction Depopularized Services: 0.21843468816701486\n",
      "Total Fraction Depopularized IPs: 0.26144622260802114\n"
     ]
    },
    {
     "name": "stderr",
     "output_type": "stream",
     "text": [
      "Epoch: 100%|██████████| 10/10 [00:34<00:00,  3.43s/it]\n"
     ]
    },
    {
     "name": "stdout",
     "output_type": "stream",
     "text": [
      "...Grabbed Representations\n",
      "Got Item Representations\n",
      "Got User Representations\n",
      "Made Index\n",
      "Got Top Items\n",
      "Got Predictions/Top Items\n",
      "...Calculated Predictions\n",
      "cycle:  182\n",
      "correct: 162\n",
      "Num Scanned:  433826\n",
      "Number unique ports Rec'd:  29907\n",
      "At Bin:  182\n",
      "Hitrate:  0.00037342160220918066\n",
      "total ips correct:  113586\n",
      "Total Normalized Services:  2682.516844340202\n",
      "Total Normalized IPs:  5992.235779179907\n",
      "Total Fraction Services: 0.21877020215338944\n",
      "Total Fraction IPs: 0.26182386486748144\n",
      "Total Fraction Depopularized Services: 0.21867905601604984\n",
      "Total Fraction Depopularized IPs: 0.26175096270165943\n"
     ]
    },
    {
     "name": "stderr",
     "output_type": "stream",
     "text": [
      "Epoch: 100%|██████████| 10/10 [00:35<00:00,  3.58s/it]\n"
     ]
    },
    {
     "name": "stdout",
     "output_type": "stream",
     "text": [
      "...Grabbed Representations\n",
      "Got Item Representations\n",
      "Got User Representations\n",
      "Made Index\n",
      "Got Top Items\n",
      "Got Predictions/Top Items\n",
      "...Calculated Predictions\n",
      "cycle:  183\n",
      "correct: 213\n",
      "Num Scanned:  433826\n",
      "Number unique ports Rec'd:  29916\n",
      "At Bin:  183\n",
      "Hitrate:  0.0004909802547565153\n",
      "total ips correct:  113748\n",
      "Total Normalized Services:  2687.6687949483135\n",
      "Total Normalized IPs:  6006.058533279006\n",
      "Total Fraction Services: 0.21909117622682167\n",
      "Total Fraction IPs: 0.2621972864696906\n",
      "Total Fraction Depopularized Services: 0.21900035448422545\n",
      "Total Fraction Depopularized IPs: 0.2621249619074883\n"
     ]
    },
    {
     "name": "stderr",
     "output_type": "stream",
     "text": [
      "Epoch: 100%|██████████| 10/10 [00:35<00:00,  3.53s/it]\n"
     ]
    },
    {
     "name": "stdout",
     "output_type": "stream",
     "text": [
      "...Grabbed Representations\n",
      "Got Item Representations\n",
      "Got User Representations\n",
      "Made Index\n",
      "Got Top Items\n",
      "Got Predictions/Top Items\n",
      "...Calculated Predictions\n",
      "cycle:  184\n",
      "correct: 215\n",
      "Num Scanned:  433826\n",
      "Number unique ports Rec'd:  29921\n"
     ]
    },
    {
     "name": "stderr",
     "output_type": "stream",
     "text": [
      "\r",
      "Epoch:   0%|          | 0/10 [00:00<?, ?it/s]"
     ]
    },
    {
     "name": "stdout",
     "output_type": "stream",
     "text": [
      "At Bin:  184\n",
      "Hitrate:  0.0004955903979936657\n",
      "total ips correct:  113895\n",
      "Total Normalized Services:  2692.2063153972795\n",
      "Total Normalized IPs:  6014.7029655839615\n",
      "Total Fraction Services: 0.219415164141319\n",
      "Total Fraction IPs: 0.26253613199762116\n",
      "Total Fraction Depopularized Services: 0.2193201445088885\n",
      "Total Fraction Depopularized IPs: 0.26245740564600284\n"
     ]
    },
    {
     "name": "stderr",
     "output_type": "stream",
     "text": [
      "Epoch: 100%|██████████| 10/10 [00:31<00:00,  3.16s/it]\n"
     ]
    },
    {
     "name": "stdout",
     "output_type": "stream",
     "text": [
      "...Grabbed Representations\n",
      "Got Item Representations\n",
      "Got User Representations\n",
      "Made Index\n",
      "Got Top Items\n",
      "Got Predictions/Top Items\n",
      "...Calculated Predictions\n",
      "cycle:  185\n",
      "correct: 181\n",
      "Num Scanned:  433826\n",
      "Number unique ports Rec'd:  29928\n"
     ]
    },
    {
     "name": "stderr",
     "output_type": "stream",
     "text": [
      "\r",
      "Epoch:   0%|          | 0/10 [00:00<?, ?it/s]"
     ]
    },
    {
     "name": "stdout",
     "output_type": "stream",
     "text": [
      "At Bin:  185\n",
      "Hitrate:  0.00041721796296210925\n",
      "total ips correct:  114039\n",
      "Total Normalized Services:  2695.045210108154\n",
      "Total Normalized IPs:  6023.697858048577\n",
      "Total Fraction Services: 0.2196879167577098\n",
      "Total Fraction IPs: 0.262868062310696\n",
      "Total Fraction Depopularized Services: 0.21959317278466214\n",
      "Total Fraction Depopularized IPs: 0.2627898493845174\n"
     ]
    },
    {
     "name": "stderr",
     "output_type": "stream",
     "text": [
      "Epoch: 100%|██████████| 10/10 [00:31<00:00,  3.16s/it]\n"
     ]
    },
    {
     "name": "stdout",
     "output_type": "stream",
     "text": [
      "...Grabbed Representations\n",
      "Got Item Representations\n",
      "Got User Representations\n",
      "Made Index\n",
      "Got Top Items\n",
      "Got Predictions/Top Items\n",
      "...Calculated Predictions\n",
      "cycle:  186\n",
      "correct: 172\n",
      "Num Scanned:  433826\n",
      "Number unique ports Rec'd:  29934\n"
     ]
    },
    {
     "name": "stderr",
     "output_type": "stream",
     "text": [
      "\r",
      "Epoch:   0%|          | 0/10 [00:00<?, ?it/s]"
     ]
    },
    {
     "name": "stdout",
     "output_type": "stream",
     "text": [
      "At Bin:  186\n",
      "Hitrate:  0.0003964723183949325\n",
      "total ips correct:  114171\n",
      "Total Normalized Services:  2699.353789094871\n",
      "Total Normalized IPs:  6033.683733886164\n",
      "Total Fraction Services: 0.21994710708930765\n",
      "Total Fraction IPs: 0.2631723317643479\n",
      "Total Fraction Depopularized Services: 0.21985262506882275\n",
      "Total Fraction Depopularized IPs: 0.26309458947815567\n"
     ]
    },
    {
     "name": "stderr",
     "output_type": "stream",
     "text": [
      "Epoch: 100%|██████████| 10/10 [00:35<00:00,  3.50s/it]\n"
     ]
    },
    {
     "name": "stdout",
     "output_type": "stream",
     "text": [
      "...Grabbed Representations\n",
      "Got Item Representations\n",
      "Got User Representations\n",
      "Made Index\n",
      "Got Top Items\n",
      "Got Predictions/Top Items\n",
      "...Calculated Predictions\n",
      "cycle:  187\n",
      "correct: 153\n",
      "Num Scanned:  433826\n",
      "Number unique ports Rec'd:  29944\n",
      "At Bin:  187\n",
      "Hitrate:  0.00035267595764200394\n",
      "total ips correct:  114275\n",
      "Total Normalized Services:  2704.6310534032896\n",
      "Total Normalized IPs:  6041.447428817452\n",
      "Total Fraction Services: 0.22017766593078714\n",
      "Total Fraction IPs: 0.26341205921267974\n",
      "Total Fraction Depopularized Services: 0.22008341692624467\n",
      "Total Fraction Depopularized IPs: 0.2633346877337495\n"
     ]
    },
    {
     "name": "stderr",
     "output_type": "stream",
     "text": [
      "Epoch: 100%|██████████| 10/10 [00:35<00:00,  3.53s/it]\n"
     ]
    },
    {
     "name": "stdout",
     "output_type": "stream",
     "text": [
      "...Grabbed Representations\n",
      "Got Item Representations\n",
      "Got User Representations\n",
      "Made Index\n",
      "Got Top Items\n",
      "Got Predictions/Top Items\n",
      "...Calculated Predictions\n",
      "cycle:  188\n",
      "correct: 279\n",
      "Num Scanned:  433826\n",
      "Number unique ports Rec'd:  29953\n",
      "At Bin:  188\n",
      "Hitrate:  0.0006431149815824778\n",
      "total ips correct:  114524\n",
      "Total Normalized Services:  2707.988995893652\n",
      "Total Normalized IPs:  6049.3701263474895\n",
      "Total Fraction Services: 0.22059658983883484\n",
      "Total Fraction IPs: 0.263986022045705\n",
      "Total Fraction Depopularized Services: 0.22050276422273676\n",
      "Total Fraction Depopularized IPs: 0.26390953836493086\n"
     ]
    },
    {
     "name": "stderr",
     "output_type": "stream",
     "text": [
      "Epoch: 100%|██████████| 10/10 [00:35<00:00,  3.53s/it]\n"
     ]
    },
    {
     "name": "stdout",
     "output_type": "stream",
     "text": [
      "...Grabbed Representations\n",
      "Got Item Representations\n",
      "Got User Representations\n",
      "Made Index\n",
      "Got Top Items\n",
      "Got Predictions/Top Items\n",
      "...Calculated Predictions\n",
      "cycle:  189\n",
      "correct: 133\n",
      "Num Scanned:  433826\n",
      "Number unique ports Rec'd:  29962\n",
      "At Bin:  189\n",
      "Hitrate:  0.00030657452527050016\n",
      "total ips correct:  114614\n",
      "Total Normalized Services:  2711.590600168491\n",
      "Total Normalized IPs:  6054.973124989987\n",
      "Total Fraction Services: 0.22079701026966342\n",
      "Total Fraction IPs: 0.26419347849137675\n",
      "Total Fraction Depopularized Services: 0.22070338720990745\n",
      "Total Fraction Depopularized IPs: 0.2641173157015025\n"
     ]
    },
    {
     "name": "stderr",
     "output_type": "stream",
     "text": [
      "Epoch: 100%|██████████| 10/10 [00:35<00:00,  3.53s/it]\n"
     ]
    },
    {
     "name": "stdout",
     "output_type": "stream",
     "text": [
      "...Grabbed Representations\n",
      "Got Item Representations\n",
      "Got User Representations\n",
      "Made Index\n",
      "Got Top Items\n",
      "Got Predictions/Top Items\n",
      "...Calculated Predictions\n",
      "cycle:  190\n",
      "correct: 216\n",
      "Num Scanned:  433826\n",
      "Number unique ports Rec'd:  29968\n",
      "At Bin:  190\n",
      "Hitrate:  0.0004978954696122408\n",
      "total ips correct:  114782\n",
      "Total Normalized Services:  2715.9283213894582\n",
      "Total Normalized IPs:  6064.3438820337\n",
      "Total Fraction Services: 0.22111798434309568\n",
      "Total Fraction IPs: 0.26458073052329734\n",
      "Total Fraction Depopularized Services: 0.22102166879105795\n",
      "Total Fraction Depopularized IPs: 0.2645005494556234\n"
     ]
    },
    {
     "name": "stderr",
     "output_type": "stream",
     "text": [
      "Epoch: 100%|██████████| 10/10 [00:35<00:00,  3.50s/it]\n"
     ]
    },
    {
     "name": "stdout",
     "output_type": "stream",
     "text": [
      "...Grabbed Representations\n",
      "Got Item Representations\n",
      "Got User Representations\n",
      "Made Index\n",
      "Got Top Items\n",
      "Got Predictions/Top Items\n",
      "...Calculated Predictions\n",
      "cycle:  191\n",
      "correct: 192\n",
      "Num Scanned:  433826\n",
      "Number unique ports Rec'd:  29974\n",
      "At Bin:  191\n",
      "Hitrate:  0.0004425737507664363\n",
      "total ips correct:  114943\n",
      "Total Normalized Services:  2719.970265187953\n",
      "Total Normalized IPs:  6078.613981442333\n",
      "Total Fraction Services: 0.22140731308534445\n",
      "Total Fraction IPs: 0.26495184705388797\n",
      "Total Fraction Depopularized Services: 0.22131128994546978\n",
      "Total Fraction Depopularized IPs: 0.2648722400243792\n"
     ]
    },
    {
     "name": "stderr",
     "output_type": "stream",
     "text": [
      "Epoch: 100%|██████████| 10/10 [00:36<00:00,  3.62s/it]\n"
     ]
    },
    {
     "name": "stdout",
     "output_type": "stream",
     "text": [
      "...Grabbed Representations\n",
      "Got Item Representations\n",
      "Got User Representations\n",
      "Made Index\n",
      "Got Top Items\n",
      "Got Predictions/Top Items\n",
      "...Calculated Predictions\n",
      "cycle:  192\n",
      "correct: 126\n",
      "Num Scanned:  433826\n",
      "Number unique ports Rec'd:  29983\n"
     ]
    },
    {
     "name": "stderr",
     "output_type": "stream",
     "text": [
      "\r",
      "Epoch:   0%|          | 0/10 [00:00<?, ?it/s]"
     ]
    },
    {
     "name": "stdout",
     "output_type": "stream",
     "text": [
      "At Bin:  192\n",
      "Hitrate:  0.0002904390239404738\n",
      "total ips correct:  115043\n",
      "Total Normalized Services:  2723.812449907347\n",
      "Total Normalized IPs:  6091.859004584472\n",
      "Total Fraction Services: 0.22159567815191267\n",
      "Total Fraction IPs: 0.2651823542157455\n",
      "Total Fraction Depopularized Services: 0.22149984538453996\n",
      "Total Fraction Depopularized IPs: 0.26510310373168094\n"
     ]
    },
    {
     "name": "stderr",
     "output_type": "stream",
     "text": [
      "Epoch: 100%|██████████| 10/10 [00:31<00:00,  3.13s/it]\n"
     ]
    },
    {
     "name": "stdout",
     "output_type": "stream",
     "text": [
      "...Grabbed Representations\n",
      "Got Item Representations\n",
      "Got User Representations\n",
      "Made Index\n",
      "Got Top Items\n",
      "Got Predictions/Top Items\n",
      "...Calculated Predictions\n",
      "cycle:  193\n",
      "correct: 101\n",
      "Num Scanned:  433826\n",
      "Number unique ports Rec'd:  29994\n"
     ]
    },
    {
     "name": "stderr",
     "output_type": "stream",
     "text": [
      "\r",
      "Epoch:   0%|          | 0/10 [00:00<?, ?it/s]"
     ]
    },
    {
     "name": "stdout",
     "output_type": "stream",
     "text": [
      "At Bin:  193\n",
      "Hitrate:  0.0002328122334760941\n",
      "total ips correct:  115124\n",
      "Total Normalized Services:  2725.983371471453\n",
      "Total Normalized IPs:  6098.216978013488\n",
      "Total Fraction Services: 0.2217448632846347\n",
      "Total Fraction IPs: 0.2653690650168501\n",
      "Total Fraction Depopularized Services: 0.22164918129228356\n",
      "Total Fraction Depopularized IPs: 0.2652901033345954\n"
     ]
    },
    {
     "name": "stderr",
     "output_type": "stream",
     "text": [
      "Epoch: 100%|██████████| 10/10 [00:35<00:00,  3.53s/it]\n"
     ]
    },
    {
     "name": "stdout",
     "output_type": "stream",
     "text": [
      "...Grabbed Representations\n",
      "Got Item Representations\n",
      "Got User Representations\n",
      "Made Index\n",
      "Got Top Items\n",
      "Got Predictions/Top Items\n",
      "...Calculated Predictions\n",
      "cycle:  194\n",
      "correct: 177\n",
      "Num Scanned:  433826\n",
      "Number unique ports Rec'd:  30001\n",
      "At Bin:  194\n",
      "Hitrate:  0.0004079976764878085\n",
      "total ips correct:  115264\n",
      "Total Normalized Services:  2729.1148776076325\n",
      "Total Normalized IPs:  6105.463572189822\n",
      "Total Fraction Services: 0.22201158821889527\n",
      "Total Fraction IPs: 0.2656917750434506\n",
      "Total Fraction Depopularized Services: 0.22190561668941902\n",
      "Total Fraction Depopularized IPs: 0.2655971520653067\n"
     ]
    },
    {
     "name": "stderr",
     "output_type": "stream",
     "text": [
      "Epoch: 100%|██████████| 10/10 [00:34<00:00,  3.47s/it]\n"
     ]
    },
    {
     "name": "stdout",
     "output_type": "stream",
     "text": [
      "...Grabbed Representations\n",
      "Got Item Representations\n",
      "Got User Representations\n",
      "Made Index\n",
      "Got Top Items\n",
      "Got Predictions/Top Items\n",
      "...Calculated Predictions\n",
      "cycle:  195\n",
      "correct: 151\n",
      "Num Scanned:  433826\n",
      "Number unique ports Rec'd:  30015\n",
      "At Bin:  195\n",
      "Hitrate:  0.00034806581440485356\n",
      "total ips correct:  115388\n",
      "Total Normalized Services:  2731.414922456846\n",
      "Total Normalized IPs:  6112.000160422875\n",
      "Total Fraction Services: 0.2222391332193097\n",
      "Total Fraction IPs: 0.2659776039241539\n",
      "Total Fraction Depopularized Services: 0.2221032227895646\n",
      "Total Fraction Depopularized IPs: 0.26583725032090055\n"
     ]
    },
    {
     "name": "stderr",
     "output_type": "stream",
     "text": [
      "Epoch: 100%|██████████| 10/10 [00:34<00:00,  3.49s/it]\n"
     ]
    },
    {
     "name": "stdout",
     "output_type": "stream",
     "text": [
      "...Grabbed Representations\n",
      "Got Item Representations\n",
      "Got User Representations\n",
      "Made Index\n",
      "Got Top Items\n",
      "Got Predictions/Top Items\n",
      "...Calculated Predictions\n",
      "cycle:  196\n",
      "correct: 149\n",
      "Num Scanned:  433826\n",
      "Number unique ports Rec'd:  30023\n",
      "At Bin:  196\n",
      "Hitrate:  0.00034345567116770317\n",
      "total ips correct:  115507\n",
      "Total Normalized Services:  2735.5845537460928\n",
      "Total Normalized IPs:  6126.615197388896\n",
      "Total Fraction Services: 0.222463664378659\n",
      "Total Fraction IPs: 0.26625190744676436\n",
      "Total Fraction Depopularized Services: 0.22231289643781066\n",
      "Total Fraction Depopularized IPs: 0.26608889176185946\n"
     ]
    },
    {
     "name": "stderr",
     "output_type": "stream",
     "text": [
      "Epoch: 100%|██████████| 10/10 [00:34<00:00,  3.42s/it]\n"
     ]
    },
    {
     "name": "stdout",
     "output_type": "stream",
     "text": [
      "...Grabbed Representations\n",
      "Got Item Representations\n",
      "Got User Representations\n",
      "Made Index\n",
      "Got Top Items\n",
      "Got Predictions/Top Items\n",
      "...Calculated Predictions\n",
      "cycle:  197\n",
      "correct: 198\n",
      "Num Scanned:  433826\n",
      "Number unique ports Rec'd:  30033\n"
     ]
    },
    {
     "name": "stderr",
     "output_type": "stream",
     "text": [
      "\r",
      "Epoch:   0%|          | 0/10 [00:00<?, ?it/s]"
     ]
    },
    {
     "name": "stdout",
     "output_type": "stream",
     "text": [
      "At Bin:  197\n",
      "Hitrate:  0.00045640418047788745\n",
      "total ips correct:  115633\n",
      "Total Normalized Services:  2739.3208316889563\n",
      "Total Normalized IPs:  6136.728157432123\n",
      "Total Fraction Services: 0.22276203464410305\n",
      "Total Fraction IPs: 0.26654234647070485\n",
      "Total Fraction Depopularized Services: 0.22260855136627272\n",
      "Total Fraction Depopularized IPs: 0.26637516275891365\n"
     ]
    },
    {
     "name": "stderr",
     "output_type": "stream",
     "text": [
      "Epoch: 100%|██████████| 10/10 [00:31<00:00,  3.17s/it]\n"
     ]
    },
    {
     "name": "stdout",
     "output_type": "stream",
     "text": [
      "...Grabbed Representations\n",
      "Got Item Representations\n",
      "Got User Representations\n",
      "Made Index\n",
      "Got Top Items\n",
      "Got Predictions/Top Items\n",
      "...Calculated Predictions\n",
      "cycle:  198\n",
      "correct: 232\n",
      "Num Scanned:  433826\n",
      "Number unique ports Rec'd:  30045\n"
     ]
    },
    {
     "name": "stderr",
     "output_type": "stream",
     "text": [
      "\r",
      "Epoch:   0%|          | 0/10 [00:00<?, ?it/s]"
     ]
    },
    {
     "name": "stdout",
     "output_type": "stream",
     "text": [
      "At Bin:  198\n",
      "Hitrate:  0.0005347766155094439\n",
      "total ips correct:  115818\n",
      "Total Normalized Services:  2743.481153017928\n",
      "Total Normalized IPs:  6146.914975201821\n",
      "Total Fraction Services: 0.2231101332871211\n",
      "Total Fraction IPs: 0.26696878472014124\n",
      "Total Fraction Depopularized Services: 0.22295700181767444\n",
      "Total Fraction Depopularized IPs: 0.2668022606174219\n"
     ]
    },
    {
     "name": "stderr",
     "output_type": "stream",
     "text": [
      "Epoch: 100%|██████████| 10/10 [00:30<00:00,  3.09s/it]\n"
     ]
    },
    {
     "name": "stdout",
     "output_type": "stream",
     "text": [
      "...Grabbed Representations\n",
      "Got Item Representations\n",
      "Got User Representations\n",
      "Made Index\n",
      "Got Top Items\n",
      "Got Predictions/Top Items\n",
      "...Calculated Predictions\n",
      "cycle:  199\n",
      "correct: 149\n",
      "Num Scanned:  433826\n",
      "Number unique ports Rec'd:  30050\n"
     ]
    },
    {
     "name": "stderr",
     "output_type": "stream",
     "text": [
      "\r",
      "Epoch:   0%|          | 0/10 [00:00<?, ?it/s]"
     ]
    },
    {
     "name": "stdout",
     "output_type": "stream",
     "text": [
      "At Bin:  199\n",
      "Hitrate:  0.00034345567116770317\n",
      "total ips correct:  115937\n",
      "Total Normalized Services:  2746.261586082214\n",
      "Total Normalized IPs:  6155.659595181086\n",
      "Total Fraction Services: 0.2233346644464704\n",
      "Total Fraction IPs: 0.2672430882427517\n",
      "Total Fraction Depopularized Services: 0.2231817599010461\n",
      "Total Fraction Depopularized IPs: 0.267076988429111\n"
     ]
    },
    {
     "name": "stderr",
     "output_type": "stream",
     "text": [
      "Epoch: 100%|██████████| 10/10 [00:32<00:00,  3.29s/it]\n"
     ]
    },
    {
     "name": "stdout",
     "output_type": "stream",
     "text": [
      "...Grabbed Representations\n",
      "Got Item Representations\n",
      "Got User Representations\n",
      "Made Index\n",
      "Got Top Items\n",
      "Got Predictions/Top Items\n",
      "...Calculated Predictions\n",
      "cycle:  200\n",
      "correct: 155\n",
      "Num Scanned:  433826\n",
      "Number unique ports Rec'd:  30057\n"
     ]
    },
    {
     "name": "stderr",
     "output_type": "stream",
     "text": [
      "\r",
      "Epoch:   0%|          | 0/10 [00:00<?, ?it/s]"
     ]
    },
    {
     "name": "stdout",
     "output_type": "stream",
     "text": [
      "At Bin:  200\n",
      "Hitrate:  0.0003572861008791543\n",
      "total ips correct:  116054\n",
      "Total Normalized Services:  2749.73119539511\n",
      "Total Normalized IPs:  6166.817051135798\n",
      "Total Fraction Services: 0.223568237129015\n",
      "Total Fraction IPs: 0.267512781622125\n",
      "Total Fraction Depopularized Services: 0.22341556864549314\n",
      "Total Fraction Depopularized IPs: 0.26734709896665404\n"
     ]
    },
    {
     "name": "stderr",
     "output_type": "stream",
     "text": [
      "Epoch: 100%|██████████| 10/10 [00:35<00:00,  3.54s/it]\n"
     ]
    },
    {
     "name": "stdout",
     "output_type": "stream",
     "text": [
      "...Grabbed Representations\n",
      "Got Item Representations\n",
      "Got User Representations\n",
      "Made Index\n",
      "Got Top Items\n",
      "Got Predictions/Top Items\n",
      "...Calculated Predictions\n",
      "cycle:  201\n",
      "correct: 152\n",
      "Num Scanned:  433826\n",
      "Number unique ports Rec'd:  30063\n",
      "At Bin:  201\n",
      "Hitrate:  0.00035037088602342875\n",
      "total ips correct:  116172\n",
      "Total Normalized Services:  2753.566594924924\n",
      "Total Normalized IPs:  6173.869206331685\n",
      "Total Fraction Services: 0.22379728904996196\n",
      "Total Fraction IPs: 0.26778478007311685\n",
      "Total Fraction Depopularized Services: 0.22364485205940252\n",
      "Total Fraction Depopularized IPs: 0.2676195181412701\n"
     ]
    },
    {
     "name": "stderr",
     "output_type": "stream",
     "text": [
      "Epoch: 100%|██████████| 10/10 [00:35<00:00,  3.52s/it]\n"
     ]
    },
    {
     "name": "stdout",
     "output_type": "stream",
     "text": [
      "...Grabbed Representations\n",
      "Got Item Representations\n",
      "Got User Representations\n",
      "Made Index\n",
      "Got Top Items\n",
      "Got Predictions/Top Items\n",
      "...Calculated Predictions\n",
      "cycle:  202\n",
      "correct: 148\n",
      "Num Scanned:  433826\n",
      "Number unique ports Rec'd:  30067\n",
      "At Bin:  202\n",
      "Hitrate:  0.000341150599549128\n",
      "total ips correct:  116291\n",
      "Total Normalized Services:  2756.752368955772\n",
      "Total Normalized IPs:  6181.349176435881\n",
      "Total Fraction Services: 0.22402031328877872\n",
      "Total Fraction IPs: 0.26805908359572733\n",
      "Total Fraction Depopularized Services: 0.2238681016992616\n",
      "Total Fraction Depopularized IPs: 0.2678942459529592\n"
     ]
    },
    {
     "name": "stderr",
     "output_type": "stream",
     "text": [
      "Epoch: 100%|██████████| 10/10 [00:34<00:00,  3.42s/it]\n"
     ]
    },
    {
     "name": "stdout",
     "output_type": "stream",
     "text": [
      "...Grabbed Representations\n",
      "Got Item Representations\n",
      "Got User Representations\n",
      "Made Index\n",
      "Got Top Items\n",
      "Got Predictions/Top Items\n",
      "...Calculated Predictions\n",
      "cycle:  203\n",
      "correct: 175\n",
      "Num Scanned:  433826\n",
      "Number unique ports Rec'd:  30075\n",
      "At Bin:  203\n",
      "Hitrate:  0.0004033875332506581\n",
      "total ips correct:  116431\n",
      "Total Normalized Services:  2760.3983518760415\n",
      "Total Normalized IPs:  6190.836470308673\n",
      "Total Fraction Services: 0.22428101054090913\n",
      "Total Fraction IPs: 0.26838179362232784\n",
      "Total Fraction Depopularized Services: 0.22412906242693476\n",
      "Total Fraction Depopularized IPs: 0.2682174551431817\n"
     ]
    },
    {
     "name": "stderr",
     "output_type": "stream",
     "text": [
      "Epoch: 100%|██████████| 10/10 [00:32<00:00,  3.24s/it]\n"
     ]
    },
    {
     "name": "stdout",
     "output_type": "stream",
     "text": [
      "...Grabbed Representations\n",
      "Got Item Representations\n",
      "Got User Representations\n",
      "Made Index\n",
      "Got Top Items\n",
      "Got Predictions/Top Items\n",
      "...Calculated Predictions\n",
      "cycle:  204\n",
      "correct: 133\n",
      "Num Scanned:  433826\n",
      "Number unique ports Rec'd:  30083\n"
     ]
    },
    {
     "name": "stderr",
     "output_type": "stream",
     "text": [
      "\r",
      "Epoch:   0%|          | 0/10 [00:00<?, ?it/s]"
     ]
    },
    {
     "name": "stdout",
     "output_type": "stream",
     "text": [
      "At Bin:  204\n",
      "Hitrate:  0.00030657452527050016\n",
      "total ips correct:  116534\n",
      "Total Normalized Services:  2763.8713287252076\n",
      "Total Normalized IPs:  6197.717281596438\n",
      "Total Fraction Services: 0.2244814309717377\n",
      "Total Fraction IPs: 0.2686192159990411\n",
      "Total Fraction Depopularized Services: 0.22432968541410545\n",
      "Total Fraction Depopularized IPs: 0.26845524476170246\n"
     ]
    },
    {
     "name": "stderr",
     "output_type": "stream",
     "text": [
      "Epoch: 100%|██████████| 10/10 [00:30<00:00,  3.09s/it]\n"
     ]
    },
    {
     "name": "stdout",
     "output_type": "stream",
     "text": [
      "...Grabbed Representations\n",
      "Got Item Representations\n",
      "Got User Representations\n",
      "Made Index\n",
      "Got Top Items\n",
      "Got Predictions/Top Items\n",
      "...Calculated Predictions\n",
      "cycle:  205\n",
      "correct: 122\n",
      "Num Scanned:  433826\n",
      "Number unique ports Rec'd:  30092\n"
     ]
    },
    {
     "name": "stderr",
     "output_type": "stream",
     "text": [
      "\r",
      "Epoch:   0%|          | 0/10 [00:00<?, ?it/s]"
     ]
    },
    {
     "name": "stdout",
     "output_type": "stream",
     "text": [
      "At Bin:  205\n",
      "Hitrate:  0.00028121873746617305\n",
      "total ips correct:  116623\n",
      "Total Normalized Services:  2766.8761511617745\n",
      "Total Normalized IPs:  6202.671090779415\n",
      "Total Fraction Services: 0.2246652752767083\n",
      "Total Fraction IPs: 0.2688243673730943\n",
      "Total Fraction Depopularized Services: 0.2245122070791254\n",
      "Total Fraction Depopularized IPs: 0.268658404824128\n"
     ]
    },
    {
     "name": "stderr",
     "output_type": "stream",
     "text": [
      "Epoch: 100%|██████████| 10/10 [00:33<00:00,  3.30s/it]\n"
     ]
    },
    {
     "name": "stdout",
     "output_type": "stream",
     "text": [
      "...Grabbed Representations\n",
      "Got Item Representations\n",
      "Got User Representations\n",
      "Made Index\n",
      "Got Top Items\n",
      "Got Predictions/Top Items\n",
      "...Calculated Predictions\n",
      "cycle:  206\n",
      "correct: 164\n",
      "Num Scanned:  433826\n",
      "Number unique ports Rec'd:  30100\n"
     ]
    },
    {
     "name": "stderr",
     "output_type": "stream",
     "text": [
      "\r",
      "Epoch:   0%|          | 0/10 [00:00<?, ?it/s]"
     ]
    },
    {
     "name": "stdout",
     "output_type": "stream",
     "text": [
      "At Bin:  206\n",
      "Hitrate:  0.000378031745446331\n",
      "total ips correct:  116756\n",
      "Total Normalized Services:  2771.2679806625315\n",
      "Total Normalized IPs:  6212.653709506898\n",
      "Total Fraction Services: 0.2249124102440458\n",
      "Total Fraction IPs: 0.2691309418983648\n",
      "Total Fraction Depopularized Services: 0.2247595918151855\n",
      "Total Fraction Depopularized IPs: 0.26896545355483936\n"
     ]
    },
    {
     "name": "stderr",
     "output_type": "stream",
     "text": [
      "Epoch: 100%|██████████| 10/10 [00:31<00:00,  3.13s/it]\n"
     ]
    },
    {
     "name": "stdout",
     "output_type": "stream",
     "text": [
      "...Grabbed Representations\n",
      "Got Item Representations\n",
      "Got User Representations\n",
      "Made Index\n",
      "Got Top Items\n",
      "Got Predictions/Top Items\n",
      "...Calculated Predictions\n",
      "cycle:  207\n",
      "correct: 180\n",
      "Num Scanned:  433826\n",
      "Number unique ports Rec'd:  30110\n"
     ]
    },
    {
     "name": "stderr",
     "output_type": "stream",
     "text": [
      "\r",
      "Epoch:   0%|          | 0/10 [00:00<?, ?it/s]"
     ]
    },
    {
     "name": "stdout",
     "output_type": "stream",
     "text": [
      "At Bin:  207\n",
      "Hitrate:  0.00041491289134353406\n",
      "total ips correct:  116890\n",
      "Total Normalized Services:  2775.8721948467\n",
      "Total Normalized IPs:  6221.556265474336\n",
      "Total Fraction Services: 0.225183655939904\n",
      "Total Fraction IPs: 0.26943982149525386\n",
      "Total Fraction Depopularized Services: 0.22502960320393403\n",
      "Total Fraction Depopularized IPs: 0.2692725022855507\n"
     ]
    },
    {
     "name": "stderr",
     "output_type": "stream",
     "text": [
      "Epoch: 100%|██████████| 10/10 [00:31<00:00,  3.11s/it]\n"
     ]
    },
    {
     "name": "stdout",
     "output_type": "stream",
     "text": [
      "...Grabbed Representations\n",
      "Got Item Representations\n",
      "Got User Representations\n",
      "Made Index\n",
      "Got Top Items\n",
      "Got Predictions/Top Items\n",
      "...Calculated Predictions\n",
      "cycle:  208\n",
      "correct: 224\n",
      "Num Scanned:  433826\n",
      "Number unique ports Rec'd:  30118\n",
      "At Bin:  208\n",
      "Hitrate:  0.0005163360425608424\n",
      "total ips correct:  117081\n",
      "Total Normalized Services:  2779.8126990776746\n",
      "Total Normalized IPs:  6236.682261195329\n",
      "Total Fraction Services: 0.22552120613919424\n",
      "Total Fraction IPs: 0.26988009017440173\n",
      "Total Fraction Depopularized Services: 0.2253674945507478\n",
      "Total Fraction Depopularized IPs: 0.26971345196649704\n"
     ]
    },
    {
     "name": "stderr",
     "output_type": "stream",
     "text": [
      "Epoch: 100%|██████████| 10/10 [00:34<00:00,  3.45s/it]\n"
     ]
    },
    {
     "name": "stdout",
     "output_type": "stream",
     "text": [
      "...Grabbed Representations\n",
      "Got Item Representations\n",
      "Got User Representations\n",
      "Made Index\n",
      "Got Top Items\n",
      "Got Predictions/Top Items\n",
      "...Calculated Predictions\n",
      "cycle:  209\n",
      "correct: 154\n",
      "Num Scanned:  433826\n",
      "Number unique ports Rec'd:  30125\n"
     ]
    },
    {
     "name": "stderr",
     "output_type": "stream",
     "text": [
      "\r",
      "Epoch:   0%|          | 0/10 [00:00<?, ?it/s]"
     ]
    },
    {
     "name": "stdout",
     "output_type": "stream",
     "text": [
      "At Bin:  209\n",
      "Hitrate:  0.00035498102926057913\n",
      "total ips correct:  117201\n",
      "Total Normalized Services:  2783.733730768923\n",
      "Total Normalized IPs:  6245.799105849893\n",
      "Total Fraction Services: 0.2257502580601412\n",
      "Total Fraction IPs: 0.27015669876863074\n",
      "Total Fraction Depopularized Services: 0.22559677796465716\n",
      "Total Fraction Depopularized IPs: 0.2699904884152592\n"
     ]
    },
    {
     "name": "stderr",
     "output_type": "stream",
     "text": [
      "Epoch: 100%|██████████| 10/10 [00:31<00:00,  3.15s/it]\n"
     ]
    },
    {
     "name": "stdout",
     "output_type": "stream",
     "text": [
      "...Grabbed Representations\n",
      "Got Item Representations\n",
      "Got User Representations\n",
      "Made Index\n",
      "Got Top Items\n",
      "Got Predictions/Top Items\n",
      "...Calculated Predictions\n",
      "cycle:  210\n",
      "correct: 175\n",
      "Num Scanned:  433826\n",
      "Number unique ports Rec'd:  30129\n",
      "At Bin:  210\n",
      "Hitrate:  0.0004033875332506581\n",
      "total ips correct:  117355\n",
      "Total Normalized Services:  2787.762291550161\n",
      "Total Normalized IPs:  6253.270673779498\n",
      "Total Fraction Services: 0.22601396915333669\n",
      "Total Fraction IPs: 0.2705116797978913\n",
      "Total Fraction Depopularized Services: 0.22586075557935545\n",
      "Total Fraction Depopularized IPs: 0.27034601852450385\n"
     ]
    },
    {
     "name": "stderr",
     "output_type": "stream",
     "text": [
      "Epoch: 100%|██████████| 10/10 [00:32<00:00,  3.24s/it]\n"
     ]
    },
    {
     "name": "stdout",
     "output_type": "stream",
     "text": [
      "...Grabbed Representations\n",
      "Got Item Representations\n",
      "Got User Representations\n",
      "Made Index\n",
      "Got Top Items\n",
      "Got Predictions/Top Items\n",
      "...Calculated Predictions\n",
      "cycle:  211\n",
      "correct: 150\n",
      "Num Scanned:  433826\n",
      "Number unique ports Rec'd:  30137\n"
     ]
    },
    {
     "name": "stderr",
     "output_type": "stream",
     "text": [
      "\r",
      "Epoch:   0%|          | 0/10 [00:00<?, ?it/s]"
     ]
    },
    {
     "name": "stdout",
     "output_type": "stream",
     "text": [
      "At Bin:  211\n",
      "Hitrate:  0.00034576074278627836\n",
      "total ips correct:  117467\n",
      "Total Normalized Services:  2791.6811356131197\n",
      "Total Normalized IPs:  6260.729235406385\n",
      "Total Fraction Services: 0.226238500312686\n",
      "Total Fraction IPs: 0.27076984781917174\n",
      "Total Fraction Depopularized Services: 0.2260855136627271\n",
      "Total Fraction Depopularized IPs: 0.27060458587668185\n"
     ]
    },
    {
     "name": "stderr",
     "output_type": "stream",
     "text": [
      "Epoch: 100%|██████████| 10/10 [00:33<00:00,  3.35s/it]\n"
     ]
    },
    {
     "name": "stdout",
     "output_type": "stream",
     "text": [
      "...Grabbed Representations\n",
      "Got Item Representations\n",
      "Got User Representations\n",
      "Made Index\n",
      "Got Top Items\n",
      "Got Predictions/Top Items\n",
      "...Calculated Predictions\n",
      "cycle:  212\n",
      "correct: 136\n",
      "Num Scanned:  433826\n",
      "Number unique ports Rec'd:  30143\n"
     ]
    },
    {
     "name": "stderr",
     "output_type": "stream",
     "text": [
      "\r",
      "Epoch:   0%|          | 0/10 [00:00<?, ?it/s]"
     ]
    },
    {
     "name": "stdout",
     "output_type": "stream",
     "text": [
      "At Bin:  212\n",
      "Hitrate:  0.00031348974012622573\n",
      "total ips correct:  117585\n",
      "Total Normalized Services:  2794.509736345513\n",
      "Total Normalized IPs:  6268.381423690589\n",
      "Total Fraction Services: 0.22644344150511223\n",
      "Total Fraction IPs: 0.2710418462701636\n",
      "Total Fraction Depopularized Services: 0.2262906619804355\n",
      "Total Fraction Depopularized IPs: 0.2708770050512979\n"
     ]
    },
    {
     "name": "stderr",
     "output_type": "stream",
     "text": [
      "Epoch: 100%|██████████| 10/10 [00:30<00:00,  3.06s/it]\n"
     ]
    },
    {
     "name": "stdout",
     "output_type": "stream",
     "text": [
      "...Grabbed Representations\n",
      "Got Item Representations\n",
      "Got User Representations\n",
      "Made Index\n",
      "Got Top Items\n",
      "Got Predictions/Top Items\n",
      "...Calculated Predictions\n",
      "cycle:  213\n",
      "correct: 132\n",
      "Num Scanned:  433826\n",
      "Number unique ports Rec'd:  30148\n"
     ]
    },
    {
     "name": "stderr",
     "output_type": "stream",
     "text": [
      "\r",
      "Epoch:   0%|          | 0/10 [00:00<?, ?it/s]"
     ]
    },
    {
     "name": "stdout",
     "output_type": "stream",
     "text": [
      "At Bin:  213\n",
      "Hitrate:  0.00030426945365192497\n",
      "total ips correct:  117697\n",
      "Total Normalized Services:  2796.1603767164934\n",
      "Total Normalized IPs:  6276.368009159949\n",
      "Total Fraction Services: 0.22664084809487572\n",
      "Total Fraction IPs: 0.271300014291444\n",
      "Total Fraction Depopularized Services: 0.22648826808058106\n",
      "Total Fraction Depopularized IPs: 0.2711355724034759\n"
     ]
    },
    {
     "name": "stderr",
     "output_type": "stream",
     "text": [
      "Epoch: 100%|██████████| 10/10 [00:32<00:00,  3.22s/it]\n"
     ]
    },
    {
     "name": "stdout",
     "output_type": "stream",
     "text": [
      "...Grabbed Representations\n",
      "Got Item Representations\n",
      "Got User Representations\n",
      "Made Index\n",
      "Got Top Items\n",
      "Got Predictions/Top Items\n",
      "...Calculated Predictions\n",
      "cycle:  214\n",
      "correct: 193\n",
      "Num Scanned:  433826\n",
      "Number unique ports Rec'd:  30158\n"
     ]
    },
    {
     "name": "stderr",
     "output_type": "stream",
     "text": [
      "\r",
      "Epoch:   0%|          | 0/10 [00:00<?, ?it/s]"
     ]
    },
    {
     "name": "stdout",
     "output_type": "stream",
     "text": [
      "At Bin:  214\n",
      "Hitrate:  0.0004448788223850115\n",
      "total ips correct:  117865\n",
      "Total Normalized Services:  2798.6850053320063\n",
      "Total Normalized IPs:  6286.23359431166\n",
      "Total Fraction Services: 0.22693168375765704\n",
      "Total Fraction IPs: 0.27168726632336465\n",
      "Total Fraction Depopularized Services: 0.22677939767850544\n",
      "Total Fraction Depopularized IPs: 0.27152342343174285\n"
     ]
    },
    {
     "name": "stderr",
     "output_type": "stream",
     "text": [
      "Epoch: 100%|██████████| 10/10 [00:33<00:00,  3.37s/it]\n"
     ]
    },
    {
     "name": "stdout",
     "output_type": "stream",
     "text": [
      "...Grabbed Representations\n",
      "Got Item Representations\n",
      "Got User Representations\n",
      "Made Index\n",
      "Got Top Items\n",
      "Got Predictions/Top Items\n",
      "...Calculated Predictions\n",
      "cycle:  215\n",
      "correct: 154\n",
      "Num Scanned:  433826\n",
      "Number unique ports Rec'd:  30169\n",
      "At Bin:  215\n",
      "Hitrate:  0.00035498102926057913\n",
      "total ips correct:  117986\n",
      "Total Normalized Services:  2802.2302702748248\n",
      "Total Normalized IPs:  6291.876485279007\n",
      "Total Fraction Services: 0.22716374951966908\n",
      "Total Fraction IPs: 0.27196617998921224\n",
      "Total Fraction Depopularized Services: 0.2270116979794399\n",
      "Total Fraction Depopularized IPs: 0.27180276851757795\n"
     ]
    },
    {
     "name": "stderr",
     "output_type": "stream",
     "text": [
      "Epoch: 100%|██████████| 10/10 [00:30<00:00,  3.06s/it]\n"
     ]
    },
    {
     "name": "stdout",
     "output_type": "stream",
     "text": [
      "...Grabbed Representations\n",
      "Got Item Representations\n",
      "Got User Representations\n",
      "Made Index\n",
      "Got Top Items\n",
      "Got Predictions/Top Items\n",
      "...Calculated Predictions\n",
      "cycle:  216\n",
      "correct: 123\n",
      "Num Scanned:  433826\n",
      "Number unique ports Rec'd:  30175\n"
     ]
    },
    {
     "name": "stderr",
     "output_type": "stream",
     "text": [
      "\r",
      "Epoch:   0%|          | 0/10 [00:00<?, ?it/s]"
     ]
    },
    {
     "name": "stdout",
     "output_type": "stream",
     "text": [
      "At Bin:  216\n",
      "Hitrate:  0.00028352380908474824\n",
      "total ips correct:  118075\n",
      "Total Normalized Services:  2805.4761912009403\n",
      "Total Normalized IPs:  6301.707548934334\n",
      "Total Fraction Services: 0.22734759382463965\n",
      "Total Fraction IPs: 0.27217133136326543\n",
      "Total Fraction Depopularized Services: 0.22719572808797242\n",
      "Total Fraction Depopularized IPs: 0.2720082372170765\n"
     ]
    },
    {
     "name": "stderr",
     "output_type": "stream",
     "text": [
      "Epoch: 100%|██████████| 10/10 [00:32<00:00,  3.26s/it]\n"
     ]
    },
    {
     "name": "stdout",
     "output_type": "stream",
     "text": [
      "...Grabbed Representations\n",
      "Got Item Representations\n",
      "Got User Representations\n",
      "Made Index\n",
      "Got Top Items\n",
      "Got Predictions/Top Items\n",
      "...Calculated Predictions\n",
      "cycle:  217\n",
      "correct: 135\n",
      "Num Scanned:  433826\n",
      "Number unique ports Rec'd:  30182\n"
     ]
    },
    {
     "name": "stderr",
     "output_type": "stream",
     "text": [
      "\r",
      "Epoch:   0%|          | 0/10 [00:00<?, ?it/s]"
     ]
    },
    {
     "name": "stdout",
     "output_type": "stream",
     "text": [
      "At Bin:  217\n",
      "Hitrate:  0.00031118466850765054\n",
      "total ips correct:  118193\n",
      "Total Normalized Services:  2810.287642199727\n",
      "Total Normalized IPs:  6310.523570874028\n",
      "Total Fraction Services: 0.22755102809653333\n",
      "Total Fraction IPs: 0.27244332981425734\n",
      "Total Fraction Depopularized Services: 0.227393334188118\n",
      "Total Fraction Depopularized IPs: 0.27227142184340053\n"
     ]
    },
    {
     "name": "stderr",
     "output_type": "stream",
     "text": [
      "Epoch: 100%|██████████| 10/10 [00:30<00:00,  3.09s/it]\n"
     ]
    },
    {
     "name": "stdout",
     "output_type": "stream",
     "text": [
      "...Grabbed Representations\n",
      "Got Item Representations\n",
      "Got User Representations\n",
      "Made Index\n",
      "Got Top Items\n",
      "Got Predictions/Top Items\n",
      "...Calculated Predictions\n",
      "cycle:  218\n",
      "correct: 155\n",
      "Num Scanned:  433826\n",
      "Number unique ports Rec'd:  30187\n"
     ]
    },
    {
     "name": "stderr",
     "output_type": "stream",
     "text": [
      "\r",
      "Epoch:   0%|          | 0/10 [00:00<?, ?it/s]"
     ]
    },
    {
     "name": "stdout",
     "output_type": "stream",
     "text": [
      "At Bin:  218\n",
      "Hitrate:  0.0003572861008791543\n",
      "total ips correct:  118289\n",
      "Total Normalized Services:  2814.2760523124807\n",
      "Total Normalized IPs:  6318.264317352059\n",
      "Total Fraction Services: 0.22778460077907792\n",
      "Total Fraction IPs: 0.27266461668964054\n",
      "Total Fraction Depopularized Services: 0.22762714293256503\n",
      "Total Fraction Depopularized IPs: 0.2724930510024102\n"
     ]
    },
    {
     "name": "stderr",
     "output_type": "stream",
     "text": [
      "Epoch: 100%|██████████| 10/10 [00:30<00:00,  3.06s/it]\n"
     ]
    },
    {
     "name": "stdout",
     "output_type": "stream",
     "text": [
      "...Grabbed Representations\n",
      "Got Item Representations\n",
      "Got User Representations\n",
      "Made Index\n",
      "Got Top Items\n",
      "Got Predictions/Top Items\n",
      "...Calculated Predictions\n",
      "cycle:  219\n",
      "correct: 111\n",
      "Num Scanned:  433826\n",
      "Number unique ports Rec'd:  30191\n"
     ]
    },
    {
     "name": "stderr",
     "output_type": "stream",
     "text": [
      "\r",
      "Epoch:   0%|          | 0/10 [00:00<?, ?it/s]"
     ]
    },
    {
     "name": "stdout",
     "output_type": "stream",
     "text": [
      "At Bin:  219\n",
      "Hitrate:  0.000255862949661846\n",
      "total ips correct:  118369\n",
      "Total Normalized Services:  2818.205813862429\n",
      "Total Normalized IPs:  6326.212277128131\n",
      "Total Fraction Services: 0.2279518689581905\n",
      "Total Fraction IPs: 0.27284902241912656\n",
      "Total Fraction Depopularized Services: 0.22779458016245938\n",
      "Total Fraction Depopularized IPs: 0.2726777419682516\n"
     ]
    },
    {
     "name": "stderr",
     "output_type": "stream",
     "text": [
      "Epoch: 100%|██████████| 10/10 [00:30<00:00,  3.07s/it]\n"
     ]
    },
    {
     "name": "stdout",
     "output_type": "stream",
     "text": [
      "...Grabbed Representations\n",
      "Got Item Representations\n",
      "Got User Representations\n",
      "Made Index\n",
      "Got Top Items\n",
      "Got Predictions/Top Items\n",
      "...Calculated Predictions\n",
      "cycle:  220\n",
      "correct: 135\n",
      "Num Scanned:  433826\n",
      "Number unique ports Rec'd:  30196\n",
      "At Bin:  220\n",
      "Hitrate:  0.00031118466850765054\n",
      "total ips correct:  118475\n",
      "Total Normalized Services:  2821.770780395627\n",
      "Total Normalized IPs:  6334.613980043492\n",
      "Total Fraction Services: 0.22815228938901908\n",
      "Total Fraction IPs: 0.2730933600106955\n",
      "Total Fraction Depopularized Services: 0.22799067781909238\n",
      "Total Fraction Depopularized IPs: 0.27291553158677245\n"
     ]
    },
    {
     "name": "stderr",
     "output_type": "stream",
     "text": [
      "Epoch: 100%|██████████| 10/10 [00:32<00:00,  3.27s/it]\n"
     ]
    },
    {
     "name": "stdout",
     "output_type": "stream",
     "text": [
      "...Grabbed Representations\n",
      "Got Item Representations\n",
      "Got User Representations\n",
      "Made Index\n",
      "Got Top Items\n",
      "Got Predictions/Top Items\n",
      "...Calculated Predictions\n",
      "cycle:  221\n",
      "correct: 191\n",
      "Num Scanned:  433826\n",
      "Number unique ports Rec'd:  30199\n",
      "At Bin:  221\n",
      "Hitrate:  0.0004402686791478611\n",
      "total ips correct:  118610\n"
     ]
    },
    {
     "name": "stderr",
     "output_type": "stream",
     "text": [
      "\r",
      "Epoch:   0%|          | 0/10 [00:00<?, ?it/s]"
     ]
    },
    {
     "name": "stdout",
     "output_type": "stream",
     "text": [
      "Total Normalized Services:  2825.4821857828065\n",
      "Total Normalized IPs:  6342.431330044813\n",
      "Total Fraction Services: 0.22842504200540983\n",
      "Total Fraction IPs: 0.27340454467920317\n",
      "Total Fraction Depopularized Services: 0.22826370609486601\n",
      "Total Fraction Depopularized IPs: 0.2732271975916298\n"
     ]
    },
    {
     "name": "stderr",
     "output_type": "stream",
     "text": [
      "Epoch: 100%|██████████| 10/10 [00:35<00:00,  3.56s/it]\n"
     ]
    },
    {
     "name": "stdout",
     "output_type": "stream",
     "text": [
      "...Grabbed Representations\n",
      "Got Item Representations\n",
      "Got User Representations\n",
      "Made Index\n",
      "Got Top Items\n",
      "Got Predictions/Top Items\n",
      "...Calculated Predictions\n",
      "cycle:  222\n",
      "correct: 192\n",
      "Num Scanned:  433826\n",
      "Number unique ports Rec'd:  30204\n",
      "At Bin:  222\n",
      "Hitrate:  0.0004425737507664363\n",
      "total ips correct:  118770\n",
      "Total Normalized Services:  2828.521382169499\n",
      "Total Normalized IPs:  6352.550723701142\n",
      "Total Fraction Services: 0.22871437074765863\n",
      "Total Fraction IPs: 0.2737733561381752\n",
      "Total Fraction Depopularized Services: 0.22855332724927782\n",
      "Total Fraction Depopularized IPs: 0.2735965795233126\n"
     ]
    },
    {
     "name": "stderr",
     "output_type": "stream",
     "text": [
      "Epoch: 100%|██████████| 10/10 [00:35<00:00,  3.55s/it]\n"
     ]
    },
    {
     "name": "stdout",
     "output_type": "stream",
     "text": [
      "...Grabbed Representations\n",
      "Got Item Representations\n",
      "Got User Representations\n",
      "Made Index\n",
      "Got Top Items\n",
      "Got Predictions/Top Items\n",
      "...Calculated Predictions\n",
      "cycle:  223\n",
      "correct: 141\n",
      "Num Scanned:  433826\n",
      "Number unique ports Rec'd:  30210\n",
      "At Bin:  223\n",
      "Hitrate:  0.0003250150982191017\n",
      "total ips correct:  118859\n",
      "Total Normalized Services:  2831.0718003752536\n",
      "Total Normalized IPs:  6357.000764128452\n",
      "Total Fraction Services: 0.2288982150526292\n",
      "Total Fraction IPs: 0.2739785075122284\n",
      "Total Fraction Depopularized Services: 0.22873735735781034\n",
      "Total Fraction Depopularized IPs: 0.2738020482228112\n"
     ]
    },
    {
     "name": "stderr",
     "output_type": "stream",
     "text": [
      "Epoch: 100%|██████████| 10/10 [00:34<00:00,  3.41s/it]\n"
     ]
    },
    {
     "name": "stdout",
     "output_type": "stream",
     "text": [
      "...Grabbed Representations\n",
      "Got Item Representations\n",
      "Got User Representations\n",
      "Made Index\n",
      "Got Top Items\n",
      "Got Predictions/Top Items\n",
      "...Calculated Predictions\n",
      "cycle:  224\n",
      "correct: 130\n",
      "Num Scanned:  433826\n",
      "Number unique ports Rec'd:  30217\n",
      "At Bin:  224\n",
      "Hitrate:  0.0002996593104147746\n",
      "total ips correct:  118975\n"
     ]
    },
    {
     "name": "stderr",
     "output_type": "stream",
     "text": [
      "\r",
      "Epoch:   0%|          | 0/10 [00:00<?, ?it/s]"
     ]
    },
    {
     "name": "stdout",
     "output_type": "stream",
     "text": [
      "Total Normalized Services:  2834.1578008250494\n",
      "Total Normalized IPs:  6364.695293327584\n",
      "Total Fraction Services: 0.2290865801191974\n",
      "Total Fraction IPs: 0.27424589581998315\n",
      "Total Fraction Depopularized Services: 0.22892591279688054\n",
      "Total Fraction Depopularized IPs: 0.2740698501232812\n"
     ]
    },
    {
     "name": "stderr",
     "output_type": "stream",
     "text": [
      "Epoch: 100%|██████████| 10/10 [00:35<00:00,  3.52s/it]\n"
     ]
    },
    {
     "name": "stdout",
     "output_type": "stream",
     "text": [
      "...Grabbed Representations\n",
      "Got Item Representations\n",
      "Got User Representations\n",
      "Made Index\n",
      "Got Top Items\n",
      "Got Predictions/Top Items\n",
      "...Calculated Predictions\n",
      "cycle:  225\n",
      "correct: 119\n",
      "Num Scanned:  433826\n",
      "Number unique ports Rec'd:  30221\n",
      "At Bin:  225\n",
      "Hitrate:  0.00027430352261044753\n",
      "total ips correct:  119071\n",
      "Total Normalized Services:  2837.709034046427\n",
      "Total Normalized IPs:  6372.806358374927\n",
      "Total Fraction Services: 0.2292643967420378\n",
      "Total Fraction IPs: 0.27446718269536635\n",
      "Total Fraction Depopularized Services: 0.2291039091313628\n",
      "Total Fraction Depopularized IPs: 0.2742914792822909\n"
     ]
    },
    {
     "name": "stderr",
     "output_type": "stream",
     "text": [
      "Epoch: 100%|██████████| 10/10 [00:34<00:00,  3.42s/it]\n"
     ]
    },
    {
     "name": "stdout",
     "output_type": "stream",
     "text": [
      "...Grabbed Representations\n",
      "Got Item Representations\n",
      "Got User Representations\n",
      "Made Index\n",
      "Got Top Items\n",
      "Got Predictions/Top Items\n",
      "...Calculated Predictions\n",
      "cycle:  226\n",
      "correct: 101\n",
      "Num Scanned:  433826\n",
      "Number unique ports Rec'd:  30226\n"
     ]
    },
    {
     "name": "stderr",
     "output_type": "stream",
     "text": [
      "\r",
      "Epoch:   0%|          | 0/10 [00:00<?, ?it/s]"
     ]
    },
    {
     "name": "stdout",
     "output_type": "stream",
     "text": [
      "At Bin:  226\n",
      "Hitrate:  0.0002328122334760941\n",
      "total ips correct:  119151\n",
      "Total Normalized Services:  2839.8733639044244\n",
      "Total Normalized IPs:  6378.930480098303\n",
      "Total Fraction Services: 0.22941659571582493\n",
      "Total Fraction IPs: 0.2746515884248524\n",
      "Total Fraction Depopularized Services: 0.22925626192613152\n",
      "Total Fraction Depopularized IPs: 0.2744761702481323\n"
     ]
    },
    {
     "name": "stderr",
     "output_type": "stream",
     "text": [
      "Epoch: 100%|██████████| 10/10 [00:32<00:00,  3.23s/it]\n"
     ]
    },
    {
     "name": "stdout",
     "output_type": "stream",
     "text": [
      "...Grabbed Representations\n",
      "Got Item Representations\n",
      "Got User Representations\n",
      "Made Index\n",
      "Got Top Items\n",
      "Got Predictions/Top Items\n",
      "...Calculated Predictions\n",
      "cycle:  227\n",
      "correct: 151\n",
      "Num Scanned:  433826\n",
      "Number unique ports Rec'd:  30227\n",
      "At Bin:  227\n",
      "Hitrate:  0.00034806581440485356\n",
      "total ips correct:  119279\n",
      "Total Normalized Services:  2842.7904424043086\n",
      "Total Normalized IPs:  6390.325061494354\n",
      "Total Fraction Services: 0.22964414071623934\n",
      "Total Fraction IPs: 0.27494663759203\n",
      "Total Fraction Depopularized Services: 0.22948403689652833\n",
      "Total Fraction Depopularized IPs: 0.27477167579347855\n"
     ]
    },
    {
     "name": "stderr",
     "output_type": "stream",
     "text": [
      "Epoch: 100%|██████████| 10/10 [00:31<00:00,  3.11s/it]\n"
     ]
    },
    {
     "name": "stdout",
     "output_type": "stream",
     "text": [
      "...Grabbed Representations\n",
      "Got Item Representations\n",
      "Got User Representations\n",
      "Made Index\n",
      "Got Top Items\n",
      "Got Predictions/Top Items\n",
      "...Calculated Predictions\n",
      "cycle:  228\n",
      "correct: 136\n",
      "Num Scanned:  433826\n",
      "Number unique ports Rec'd:  30232\n",
      "At Bin:  228\n",
      "Hitrate:  0.00031348974012622573\n",
      "total ips correct:  119390\n",
      "Total Normalized Services:  2845.188645897734\n",
      "Total Normalized IPs:  6396.701156502799\n",
      "Total Fraction Services: 0.22984908190866554\n",
      "Total Fraction IPs: 0.2752025005416918\n",
      "Total Fraction Depopularized Services: 0.2296891852142367\n",
      "Total Fraction Depopularized IPs: 0.27502793450858354\n"
     ]
    },
    {
     "name": "stderr",
     "output_type": "stream",
     "text": [
      "Epoch: 100%|██████████| 10/10 [00:34<00:00,  3.45s/it]\n"
     ]
    },
    {
     "name": "stdout",
     "output_type": "stream",
     "text": [
      "...Grabbed Representations\n",
      "Got Item Representations\n",
      "Got User Representations\n",
      "Made Index\n",
      "Got Top Items\n",
      "Got Predictions/Top Items\n",
      "...Calculated Predictions\n",
      "cycle:  229\n",
      "correct: 111\n",
      "Num Scanned:  433826\n",
      "Number unique ports Rec'd:  30238\n",
      "At Bin:  229\n",
      "Hitrate:  0.000255862949661846\n",
      "total ips correct:  119482\n",
      "Total Normalized Services:  2848.6742419915636\n",
      "Total Normalized IPs:  6403.457212063628\n",
      "Total Fraction Services: 0.23001635008777813\n",
      "Total Fraction IPs: 0.27541456713060075\n",
      "Total Fraction Depopularized Services: 0.22985662244413102\n",
      "Total Fraction Depopularized IPs: 0.27524032911930113\n"
     ]
    },
    {
     "name": "stderr",
     "output_type": "stream",
     "text": [
      "Epoch: 100%|██████████| 10/10 [00:31<00:00,  3.12s/it]\n"
     ]
    },
    {
     "name": "stdout",
     "output_type": "stream",
     "text": [
      "...Grabbed Representations\n",
      "Got Item Representations\n",
      "Got User Representations\n",
      "Made Index\n",
      "Got Top Items\n",
      "Got Predictions/Top Items\n",
      "...Calculated Predictions\n",
      "cycle:  230\n",
      "correct: 170\n",
      "Num Scanned:  433826\n",
      "Number unique ports Rec'd:  30241\n",
      "At Bin:  230\n",
      "Hitrate:  0.00039186217515778214\n",
      "total ips correct:  119596\n",
      "Total Normalized Services:  2851.050626692009\n",
      "Total Normalized IPs:  6407.739143203108\n",
      "Total Fraction Services: 0.23023786740606234\n",
      "Total Fraction IPs: 0.27567734529511834\n",
      "Total Fraction Depopularized Services: 0.23007836364047757\n",
      "Total Fraction Depopularized IPs: 0.27550351374562515\n"
     ]
    },
    {
     "name": "stderr",
     "output_type": "stream",
     "text": [
      "Epoch: 100%|██████████| 10/10 [00:35<00:00,  3.56s/it]\n"
     ]
    },
    {
     "name": "stdout",
     "output_type": "stream",
     "text": [
      "...Grabbed Representations\n",
      "Got Item Representations\n",
      "Got User Representations\n",
      "Made Index\n",
      "Got Top Items\n",
      "Got Predictions/Top Items\n",
      "...Calculated Predictions\n",
      "cycle:  231\n",
      "correct: 211\n",
      "Num Scanned:  433826\n",
      "Number unique ports Rec'd:  30247\n",
      "At Bin:  231\n",
      "Hitrate:  0.0004863701115193649\n",
      "total ips correct:  119756\n",
      "Total Normalized Services:  2853.89614755231\n",
      "Total Normalized IPs:  6417.023234489824\n",
      "Total Fraction Services: 0.23055432071789694\n",
      "Total Fraction IPs: 0.27604615675409033\n",
      "Total Fraction Depopularized Services: 0.2303951367781155\n",
      "Total Fraction Depopularized IPs: 0.27587289567730794\n"
     ]
    },
    {
     "name": "stderr",
     "output_type": "stream",
     "text": [
      "Epoch: 100%|██████████| 10/10 [00:32<00:00,  3.26s/it]\n"
     ]
    },
    {
     "name": "stdout",
     "output_type": "stream",
     "text": [
      "...Grabbed Representations\n",
      "Got Item Representations\n",
      "Got User Representations\n",
      "Made Index\n",
      "Got Top Items\n",
      "Got Predictions/Top Items\n",
      "...Calculated Predictions\n",
      "cycle:  232\n",
      "correct: 162\n",
      "Num Scanned:  433826\n",
      "Number unique ports Rec'd:  30253\n",
      "At Bin:  232\n",
      "Hitrate:  0.00037342160220918066\n",
      "total ips correct:  119880\n",
      "Total Normalized Services:  2857.3715147591442\n",
      "Total Normalized IPs:  6425.688205748503\n",
      "Total Fraction Services: 0.23079844184416934\n",
      "Total Fraction IPs: 0.27633198563479366\n",
      "Total Fraction Depopularized Services: 0.23063950462715047\n",
      "Total Fraction Depopularized IPs: 0.27615916667436213\n"
     ]
    },
    {
     "name": "stderr",
     "output_type": "stream",
     "text": [
      "Epoch: 100%|██████████| 10/10 [00:30<00:00,  3.04s/it]\n"
     ]
    },
    {
     "name": "stdout",
     "output_type": "stream",
     "text": [
      "...Grabbed Representations\n",
      "Got Item Representations\n",
      "Got User Representations\n",
      "Made Index\n",
      "Got Top Items\n",
      "Got Predictions/Top Items\n",
      "...Calculated Predictions\n",
      "cycle:  233\n",
      "correct: 134\n",
      "Num Scanned:  433826\n",
      "Number unique ports Rec'd:  30263\n",
      "At Bin:  233\n",
      "Hitrate:  0.00030887959688907535\n",
      "total ips correct:  119998\n",
      "Total Normalized Services:  2860.6561304351635\n",
      "Total Normalized IPs:  6436.451529944352\n",
      "Total Fraction Services: 0.23100036919553046\n",
      "Total Fraction IPs: 0.27660398408578557\n",
      "Total Fraction Depopularized Services: 0.23084163605783373\n",
      "Total Fraction Depopularized IPs: 0.2764315858489782\n"
     ]
    },
    {
     "name": "stderr",
     "output_type": "stream",
     "text": [
      "Epoch: 100%|██████████| 10/10 [00:33<00:00,  3.32s/it]\n"
     ]
    },
    {
     "name": "stdout",
     "output_type": "stream",
     "text": [
      "...Grabbed Representations\n",
      "Got Item Representations\n",
      "Got User Representations\n",
      "Made Index\n",
      "Got Top Items\n",
      "Got Predictions/Top Items\n",
      "...Calculated Predictions\n",
      "cycle:  234\n",
      "correct: 116\n",
      "Num Scanned:  433826\n",
      "Number unique ports Rec'd:  30269\n",
      "At Bin:  234\n",
      "Hitrate:  0.00026738830775472196\n",
      "total ips correct:  120082\n",
      "Total Normalized Services:  2863.472318982313\n",
      "Total Normalized IPs:  6443.284709664668\n",
      "Total Fraction Services: 0.23117517197730578\n",
      "Total Fraction IPs: 0.27679761010174586\n",
      "Total Fraction Depopularized Services: 0.23101661550529087\n",
      "Total Fraction Depopularized IPs: 0.2766255113631117\n"
     ]
    },
    {
     "name": "stderr",
     "output_type": "stream",
     "text": [
      "Epoch: 100%|██████████| 10/10 [00:34<00:00,  3.42s/it]\n"
     ]
    },
    {
     "name": "stdout",
     "output_type": "stream",
     "text": [
      "...Grabbed Representations\n",
      "Got Item Representations\n",
      "Got User Representations\n",
      "Made Index\n",
      "Got Top Items\n",
      "Got Predictions/Top Items\n",
      "...Calculated Predictions\n",
      "cycle:  235\n",
      "correct: 153\n",
      "Num Scanned:  433826\n",
      "Number unique ports Rec'd:  30275\n",
      "At Bin:  235\n",
      "Hitrate:  0.00035267595764200394\n",
      "total ips correct:  120206\n",
      "Total Normalized Services:  2866.9139740429664\n",
      "Total Normalized IPs:  6448.603167390554\n",
      "Total Fraction Services: 0.23140422389825271\n",
      "Total Fraction IPs: 0.2770834389824492\n",
      "Total Fraction Depopularized Services: 0.23124589891920022\n",
      "Total Fraction Depopularized IPs: 0.27691178236016584\n"
     ]
    },
    {
     "name": "stderr",
     "output_type": "stream",
     "text": [
      "Epoch: 100%|██████████| 10/10 [00:31<00:00,  3.16s/it]\n"
     ]
    },
    {
     "name": "stdout",
     "output_type": "stream",
     "text": [
      "...Grabbed Representations\n",
      "Got Item Representations\n",
      "Got User Representations\n",
      "Made Index\n",
      "Got Top Items\n",
      "Got Predictions/Top Items\n",
      "...Calculated Predictions\n",
      "cycle:  236\n",
      "correct: 148\n",
      "Num Scanned:  433826\n",
      "Number unique ports Rec'd:  30276\n",
      "At Bin:  236\n",
      "Hitrate:  0.000341150599549128\n",
      "total ips correct:  120289\n",
      "Total Normalized Services:  2869.648600048612\n",
      "Total Normalized IPs:  6454.901982339858\n",
      "Total Fraction Services: 0.23158957512375586\n",
      "Total Fraction IPs: 0.2772747599267909\n",
      "Total Fraction Depopularized Services: 0.23143143747124528\n",
      "Total Fraction Depopularized IPs: 0.2771033992372263\n"
     ]
    },
    {
     "name": "stderr",
     "output_type": "stream",
     "text": [
      "Epoch: 100%|██████████| 10/10 [00:31<00:00,  3.10s/it]\n"
     ]
    },
    {
     "name": "stdout",
     "output_type": "stream",
     "text": [
      "...Grabbed Representations\n",
      "Got Item Representations\n",
      "Got User Representations\n",
      "Made Index\n",
      "Got Top Items\n",
      "Got Predictions/Top Items\n",
      "...Calculated Predictions\n",
      "cycle:  237\n",
      "correct: 134\n",
      "Num Scanned:  433826\n",
      "Number unique ports Rec'd:  30279\n",
      "At Bin:  237\n",
      "Hitrate:  0.00030887959688907535\n",
      "total ips correct:  120392\n",
      "Total Normalized Services:  2873.2914495662844\n",
      "Total Normalized IPs:  6462.255915636298\n",
      "Total Fraction Services: 0.23179150247511698\n",
      "Total Fraction IPs: 0.27751218230350416\n",
      "Total Fraction Depopularized Services: 0.23163356890192854\n",
      "Total Fraction Depopularized IPs: 0.2773411888557471\n"
     ]
    },
    {
     "name": "stderr",
     "output_type": "stream",
     "text": [
      "Epoch: 100%|██████████| 10/10 [00:33<00:00,  3.32s/it]\n"
     ]
    },
    {
     "name": "stdout",
     "output_type": "stream",
     "text": [
      "...Grabbed Representations\n",
      "Got Item Representations\n",
      "Got User Representations\n",
      "Made Index\n",
      "Got Top Items\n",
      "Got Predictions/Top Items\n",
      "...Calculated Predictions\n",
      "cycle:  238\n",
      "correct: 139\n",
      "Num Scanned:  433826\n",
      "Number unique ports Rec'd:  30281\n",
      "At Bin:  238\n",
      "Hitrate:  0.0003204049549819513\n",
      "total ips correct:  120493\n",
      "Total Normalized Services:  2876.3393280160444\n",
      "Total Normalized IPs:  6468.269956992218\n",
      "Total Fraction Services: 0.23200096442914084\n",
      "Total Fraction IPs: 0.27774499453698026\n",
      "Total Fraction Depopularized Services: 0.2318432425501746\n",
      "Total Fraction Depopularized IPs: 0.2775743612001219\n"
     ]
    },
    {
     "name": "stderr",
     "output_type": "stream",
     "text": [
      "Epoch: 100%|██████████| 10/10 [00:34<00:00,  3.48s/it]\n"
     ]
    },
    {
     "name": "stdout",
     "output_type": "stream",
     "text": [
      "...Grabbed Representations\n",
      "Got Item Representations\n",
      "Got User Representations\n",
      "Made Index\n",
      "Got Top Items\n",
      "Got Predictions/Top Items\n",
      "...Calculated Predictions\n",
      "cycle:  239\n",
      "correct: 179\n",
      "Num Scanned:  433826\n",
      "Number unique ports Rec'd:  30286\n"
     ]
    },
    {
     "name": "stderr",
     "output_type": "stream",
     "text": [
      "\r",
      "Epoch:   0%|          | 0/10 [00:00<?, ?it/s]"
     ]
    },
    {
     "name": "stdout",
     "output_type": "stream",
     "text": [
      "At Bin:  239\n",
      "Hitrate:  0.00041260781972495887\n",
      "total ips correct:  120633\n",
      "Total Normalized Services:  2879.43688684032\n",
      "Total Normalized IPs:  6478.089269717794\n",
      "Total Fraction Services: 0.23226919628393397\n",
      "Total Fraction IPs: 0.27806770456358076\n",
      "Total Fraction Depopularized Services: 0.23211174549541055\n",
      "Total Fraction Depopularized IPs: 0.27789757039034435\n"
     ]
    },
    {
     "name": "stderr",
     "output_type": "stream",
     "text": [
      "Epoch: 100%|██████████| 10/10 [00:32<00:00,  3.29s/it]\n"
     ]
    },
    {
     "name": "stdout",
     "output_type": "stream",
     "text": [
      "...Grabbed Representations\n",
      "Got Item Representations\n",
      "Got User Representations\n",
      "Made Index\n",
      "Got Top Items\n",
      "Got Predictions/Top Items\n",
      "...Calculated Predictions\n",
      "cycle:  240\n",
      "correct: 126\n",
      "Num Scanned:  433826\n",
      "Number unique ports Rec'd:  30292\n"
     ]
    },
    {
     "name": "stderr",
     "output_type": "stream",
     "text": [
      "\r",
      "Epoch:   0%|          | 0/10 [00:00<?, ?it/s]"
     ]
    },
    {
     "name": "stdout",
     "output_type": "stream",
     "text": [
      "At Bin:  240\n",
      "Hitrate:  0.0002904390239404738\n",
      "total ips correct:  120737\n",
      "Total Normalized Services:  2881.774060718038\n",
      "Total Normalized IPs:  6486.02683385959\n",
      "Total Fraction Services: 0.2324590682710347\n",
      "Total Fraction IPs: 0.2783074320119126\n",
      "Total Fraction Depopularized Services: 0.23230180937799333\n",
      "Total Fraction Depopularized IPs: 0.2781376686459382\n"
     ]
    },
    {
     "name": "stderr",
     "output_type": "stream",
     "text": [
      "Epoch: 100%|██████████| 10/10 [00:30<00:00,  3.06s/it]\n"
     ]
    },
    {
     "name": "stdout",
     "output_type": "stream",
     "text": [
      "...Grabbed Representations\n",
      "Got Item Representations\n",
      "Got User Representations\n",
      "Made Index\n",
      "Got Top Items\n",
      "Got Predictions/Top Items\n",
      "...Calculated Predictions\n",
      "cycle:  241\n",
      "correct: 135\n",
      "Num Scanned:  433826\n",
      "Number unique ports Rec'd:  30294\n"
     ]
    },
    {
     "name": "stderr",
     "output_type": "stream",
     "text": [
      "\r",
      "Epoch:   0%|          | 0/10 [00:00<?, ?it/s]"
     ]
    },
    {
     "name": "stdout",
     "output_type": "stream",
     "text": [
      "At Bin:  241\n",
      "Hitrate:  0.00031118466850765054\n",
      "total ips correct:  120847\n",
      "Total Normalized Services:  2884.6870736660608\n",
      "Total Normalized IPs:  6494.239777801125\n",
      "Total Fraction Services: 0.2326625025429284\n",
      "Total Fraction IPs: 0.27856098988995587\n",
      "Total Fraction Depopularized Services: 0.23250544925218913\n",
      "Total Fraction Depopularized IPs: 0.2783916187239701\n"
     ]
    },
    {
     "name": "stderr",
     "output_type": "stream",
     "text": [
      "Epoch: 100%|██████████| 10/10 [00:33<00:00,  3.31s/it]\n"
     ]
    },
    {
     "name": "stdout",
     "output_type": "stream",
     "text": [
      "...Grabbed Representations\n",
      "Got Item Representations\n",
      "Got User Representations\n",
      "Made Index\n",
      "Got Top Items\n",
      "Got Predictions/Top Items\n",
      "...Calculated Predictions\n",
      "cycle:  242\n",
      "correct: 123\n",
      "Num Scanned:  433826\n",
      "Number unique ports Rec'd:  30295\n"
     ]
    },
    {
     "name": "stderr",
     "output_type": "stream",
     "text": [
      "\r",
      "Epoch:   0%|          | 0/10 [00:00<?, ?it/s]"
     ]
    },
    {
     "name": "stdout",
     "output_type": "stream",
     "text": [
      "At Bin:  242\n",
      "Hitrate:  0.00028352380908474824\n",
      "total ips correct:  120952\n",
      "Total Normalized Services:  2888.6343312455897\n",
      "Total Normalized IPs:  6500.006990471464\n",
      "Total Fraction Services: 0.23284483992736643\n",
      "Total Fraction IPs: 0.2788030224099063\n",
      "Total Fraction Depopularized Services: 0.23268797091720908\n",
      "Total Fraction Depopularized IPs: 0.27863402561663697\n"
     ]
    },
    {
     "name": "stderr",
     "output_type": "stream",
     "text": [
      "Epoch: 100%|██████████| 10/10 [00:33<00:00,  3.32s/it]\n"
     ]
    },
    {
     "name": "stdout",
     "output_type": "stream",
     "text": [
      "...Grabbed Representations\n",
      "Got Item Representations\n",
      "Got User Representations\n",
      "Made Index\n",
      "Got Top Items\n",
      "Got Predictions/Top Items\n",
      "...Calculated Predictions\n",
      "cycle:  243\n",
      "correct: 118\n",
      "Num Scanned:  433826\n",
      "Number unique ports Rec'd:  30301\n",
      "At Bin:  243\n",
      "Hitrate:  0.00027199845099187234\n",
      "total ips correct:  121057\n",
      "Total Normalized Services:  2892.096187663724\n",
      "Total Normalized IPs:  6508.509148942477\n",
      "Total Fraction Services: 0.23302265655020682\n",
      "Total Fraction IPs: 0.27904505492985665\n",
      "Total Fraction Depopularized Services: 0.23286596725169134\n",
      "Total Fraction Depopularized IPs: 0.27887643250930383\n"
     ]
    },
    {
     "name": "stderr",
     "output_type": "stream",
     "text": [
      "Epoch: 100%|██████████| 10/10 [00:31<00:00,  3.11s/it]\n"
     ]
    },
    {
     "name": "stdout",
     "output_type": "stream",
     "text": [
      "...Grabbed Representations\n",
      "Got Item Representations\n",
      "Got User Representations\n",
      "Made Index\n",
      "Got Top Items\n",
      "Got Predictions/Top Items\n",
      "...Calculated Predictions\n",
      "cycle:  244\n",
      "correct: 122\n",
      "Num Scanned:  433826\n",
      "Number unique ports Rec'd:  30305\n"
     ]
    },
    {
     "name": "stderr",
     "output_type": "stream",
     "text": [
      "\r",
      "Epoch:   0%|          | 0/10 [00:00<?, ?it/s]"
     ]
    },
    {
     "name": "stdout",
     "output_type": "stream",
     "text": [
      "At Bin:  244\n",
      "Hitrate:  0.00028121873746617305\n",
      "total ips correct:  121163\n",
      "Total Normalized Services:  2895.117837064979\n",
      "Total Normalized IPs:  6515.971068783498\n",
      "Total Fraction Services: 0.23320499393464486\n",
      "Total Fraction IPs: 0.27928939252142565\n",
      "Total Fraction Depopularized Services: 0.2330484889167113\n",
      "Total Fraction Depopularized IPs: 0.27912114803904364\n"
     ]
    },
    {
     "name": "stderr",
     "output_type": "stream",
     "text": [
      "Epoch: 100%|██████████| 10/10 [00:31<00:00,  3.18s/it]\n"
     ]
    },
    {
     "name": "stdout",
     "output_type": "stream",
     "text": [
      "...Grabbed Representations\n",
      "Got Item Representations\n",
      "Got User Representations\n",
      "Made Index\n",
      "Got Top Items\n",
      "Got Predictions/Top Items\n",
      "...Calculated Predictions\n",
      "cycle:  245\n",
      "correct: 121\n",
      "Num Scanned:  433826\n",
      "Number unique ports Rec'd:  30309\n",
      "At Bin:  245\n",
      "Hitrate:  0.00027891366584759786\n",
      "total ips correct:  121243\n",
      "Total Normalized Services:  2897.80951257658\n",
      "Total Normalized IPs:  6519.299589301396\n",
      "Total Fraction Services: 0.23337979671642015\n",
      "Total Fraction IPs: 0.2794737982509117\n",
      "Total Fraction Depopularized Services: 0.23322346836416843\n",
      "Total Fraction Depopularized IPs: 0.2793058390048851\n"
     ]
    },
    {
     "name": "stderr",
     "output_type": "stream",
     "text": [
      "Epoch: 100%|██████████| 10/10 [00:31<00:00,  3.13s/it]\n"
     ]
    },
    {
     "name": "stdout",
     "output_type": "stream",
     "text": [
      "...Grabbed Representations\n",
      "Got Item Representations\n",
      "Got User Representations\n",
      "Made Index\n",
      "Got Top Items\n",
      "Got Predictions/Top Items\n",
      "...Calculated Predictions\n",
      "cycle:  246\n",
      "correct: 156\n",
      "Num Scanned:  433826\n",
      "Number unique ports Rec'd:  30316\n"
     ]
    },
    {
     "name": "stderr",
     "output_type": "stream",
     "text": [
      "\r",
      "Epoch:   0%|          | 0/10 [00:00<?, ?it/s]"
     ]
    },
    {
     "name": "stdout",
     "output_type": "stream",
     "text": [
      "At Bin:  246\n",
      "Hitrate:  0.0003595911724977295\n",
      "total ips correct:  121352\n",
      "Total Normalized Services:  2901.312113837201\n",
      "Total Normalized IPs:  6525.510920722455\n",
      "Total Fraction Services: 0.23359830019363928\n",
      "Total Fraction IPs: 0.27972505105733636\n",
      "Total Fraction Depopularized Services: 0.23344219267348987\n",
      "Total Fraction Depopularized IPs: 0.279557480445844\n"
     ]
    },
    {
     "name": "stderr",
     "output_type": "stream",
     "text": [
      "Epoch: 100%|██████████| 10/10 [00:30<00:00,  3.09s/it]\n"
     ]
    },
    {
     "name": "stdout",
     "output_type": "stream",
     "text": [
      "...Grabbed Representations\n",
      "Got Item Representations\n",
      "Got User Representations\n",
      "Made Index\n",
      "Got Top Items\n",
      "Got Predictions/Top Items\n",
      "...Calculated Predictions\n",
      "cycle:  247\n",
      "correct: 107\n",
      "Num Scanned:  433826\n",
      "Number unique ports Rec'd:  30321\n",
      "At Bin:  247\n",
      "Hitrate:  0.00024664266318754523\n",
      "total ips correct:  121435\n",
      "Total Normalized Services:  2903.9264375221132\n",
      "Total Normalized IPs:  6531.76486423301\n",
      "Total Fraction Services: 0.2337595406906217\n",
      "Total Fraction IPs: 0.27991637200167807\n",
      "Total Fraction Depopularized Services: 0.23360359612933396\n",
      "Total Fraction Depopularized IPs: 0.2797490973229044\n"
     ]
    },
    {
     "name": "stderr",
     "output_type": "stream",
     "text": [
      "Epoch: 100%|██████████| 10/10 [00:33<00:00,  3.38s/it]\n"
     ]
    },
    {
     "name": "stdout",
     "output_type": "stream",
     "text": [
      "...Grabbed Representations\n",
      "Got Item Representations\n",
      "Got User Representations\n",
      "Made Index\n",
      "Got Top Items\n",
      "Got Predictions/Top Items\n",
      "...Calculated Predictions\n",
      "cycle:  248\n",
      "correct: 93\n",
      "Num Scanned:  433826\n",
      "Number unique ports Rec'd:  30323\n",
      "At Bin:  248\n",
      "Hitrate:  0.00021437166052749258\n",
      "total ips correct:  121501\n",
      "Total Normalized Services:  2906.769895207575\n",
      "Total Normalized IPs:  6537.365880835194\n",
      "Total Fraction Services: 0.23389968430014843\n",
      "Total Fraction IPs: 0.28006850672850403\n",
      "Total Fraction Depopularized Services: 0.23374388137600216\n",
      "Total Fraction Depopularized IPs: 0.2799014673697236\n"
     ]
    },
    {
     "name": "stderr",
     "output_type": "stream",
     "text": [
      "Epoch: 100%|██████████| 10/10 [00:31<00:00,  3.17s/it]\n"
     ]
    },
    {
     "name": "stdout",
     "output_type": "stream",
     "text": [
      "...Grabbed Representations\n",
      "Got Item Representations\n",
      "Got User Representations\n",
      "Made Index\n",
      "Got Top Items\n",
      "Got Predictions/Top Items\n",
      "...Calculated Predictions\n",
      "cycle:  249\n",
      "correct: 145\n",
      "Num Scanned:  433826\n",
      "Number unique ports Rec'd:  30325\n",
      "At Bin:  249\n",
      "Hitrate:  0.0003342353846934024\n",
      "total ips correct:  121627\n",
      "Total Normalized Services:  2909.3286414953727\n",
      "Total Normalized IPs:  6543.897055647542\n",
      "Total Fraction Services: 0.23411818777736756\n",
      "Total Fraction IPs: 0.2803589457524445\n",
      "Total Fraction Depopularized Services: 0.2339626056853236\n",
      "Total Fraction Depopularized IPs: 0.2801923556409238\n"
     ]
    },
    {
     "name": "stderr",
     "output_type": "stream",
     "text": [
      "Epoch: 100%|██████████| 10/10 [00:30<00:00,  3.07s/it]\n"
     ]
    },
    {
     "name": "stdout",
     "output_type": "stream",
     "text": [
      "...Grabbed Representations\n",
      "Got Item Representations\n",
      "Got User Representations\n",
      "Made Index\n",
      "Got Top Items\n",
      "Got Predictions/Top Items\n",
      "...Calculated Predictions\n",
      "cycle:  250\n",
      "correct: 126\n",
      "Num Scanned:  433826\n",
      "Number unique ports Rec'd:  30331\n"
     ]
    },
    {
     "name": "stderr",
     "output_type": "stream",
     "text": [
      "\r",
      "Epoch:   0%|          | 0/10 [00:00<?, ?it/s]"
     ]
    },
    {
     "name": "stdout",
     "output_type": "stream",
     "text": [
      "At Bin:  250\n",
      "Hitrate:  0.0002904390239404738\n",
      "total ips correct:  121737\n",
      "Total Normalized Services:  2912.0543599499465\n",
      "Total Normalized IPs:  6556.515211621096\n",
      "Total Fraction Services: 0.2343080597644683\n",
      "Total Fraction IPs: 0.2806125036304878\n",
      "Total Fraction Depopularized Services: 0.23415266956790637\n",
      "Total Fraction Depopularized IPs: 0.28044630571895574\n"
     ]
    },
    {
     "name": "stderr",
     "output_type": "stream",
     "text": [
      "Epoch: 100%|██████████| 10/10 [00:30<00:00,  3.06s/it]\n"
     ]
    },
    {
     "name": "stdout",
     "output_type": "stream",
     "text": [
      "...Grabbed Representations\n",
      "Got Item Representations\n",
      "Got User Representations\n",
      "Made Index\n",
      "Got Top Items\n",
      "Got Predictions/Top Items\n",
      "...Calculated Predictions\n",
      "cycle:  251\n",
      "correct: 102\n",
      "Num Scanned:  433826\n",
      "Number unique ports Rec'd:  30335\n",
      "At Bin:  251\n",
      "Hitrate:  0.0002351173050946693\n",
      "total ips correct:  121823\n",
      "Total Normalized Services:  2916.0889434920678\n",
      "Total Normalized IPs:  6563.858111012942\n",
      "Total Fraction Services: 0.23446176565878799\n",
      "Total Fraction IPs: 0.2808107397896853\n",
      "Total Fraction Depopularized Services: 0.23430653080618763\n",
      "Total Fraction Depopularized IPs: 0.28064484850723526\n"
     ]
    },
    {
     "name": "stderr",
     "output_type": "stream",
     "text": [
      "Epoch: 100%|██████████| 10/10 [00:30<00:00,  3.07s/it]\n"
     ]
    },
    {
     "name": "stdout",
     "output_type": "stream",
     "text": [
      "...Grabbed Representations\n",
      "Got Item Representations\n",
      "Got User Representations\n",
      "Made Index\n",
      "Got Top Items\n",
      "Got Predictions/Top Items\n",
      "...Calculated Predictions\n",
      "cycle:  252\n",
      "correct: 138\n",
      "Num Scanned:  433826\n",
      "Number unique ports Rec'd:  30339\n",
      "At Bin:  252\n",
      "Hitrate:  0.0003180998833633761\n",
      "total ips correct:  121926\n",
      "Total Normalized Services:  2918.9708756730433\n",
      "Total Normalized IPs:  6572.128753124929\n",
      "Total Fraction Services: 0.23464108920216092\n",
      "Total Fraction IPs: 0.2810481621663985\n",
      "Total Fraction Depopularized Services: 0.23448603558418246\n",
      "Total Fraction Depopularized IPs: 0.2808826381257561\n"
     ]
    },
    {
     "name": "stderr",
     "output_type": "stream",
     "text": [
      "Epoch: 100%|██████████| 10/10 [00:30<00:00,  3.10s/it]\n"
     ]
    },
    {
     "name": "stdout",
     "output_type": "stream",
     "text": [
      "...Grabbed Representations\n",
      "Got Item Representations\n",
      "Got User Representations\n",
      "Made Index\n",
      "Got Top Items\n",
      "Got Predictions/Top Items\n",
      "...Calculated Predictions\n",
      "cycle:  253\n",
      "correct: 88\n",
      "Num Scanned:  433826\n",
      "Number unique ports Rec'd:  30343\n",
      "At Bin:  253\n",
      "Hitrate:  0.00020284630243461665\n",
      "total ips correct:  121994\n",
      "Total Normalized Services:  2920.677187958605\n",
      "Total Normalized IPs:  6576.389080101463\n",
      "Total Fraction Services: 0.23477369820902494\n",
      "Total Fraction IPs: 0.2812049070364616\n",
      "Total Fraction Depopularized Services: 0.2346187786132879\n",
      "Total Fraction Depopularized IPs: 0.2810396254467213\n"
     ]
    },
    {
     "name": "stderr",
     "output_type": "stream",
     "text": [
      "Epoch: 100%|██████████| 10/10 [00:35<00:00,  3.53s/it]\n"
     ]
    },
    {
     "name": "stdout",
     "output_type": "stream",
     "text": [
      "...Grabbed Representations\n",
      "Got Item Representations\n",
      "Got User Representations\n",
      "Made Index\n",
      "Got Top Items\n",
      "Got Predictions/Top Items\n",
      "...Calculated Predictions\n",
      "cycle:  254\n",
      "correct: 108\n",
      "Num Scanned:  433826\n",
      "Number unique ports Rec'd:  30345\n",
      "At Bin:  254\n",
      "Hitrate:  0.0002489477348061204\n",
      "total ips correct:  122085\n",
      "Total Normalized Services:  2923.790018758382\n",
      "Total Normalized IPs:  6583.355828731879\n",
      "Total Fraction Services: 0.23493493870600735\n",
      "Total Fraction IPs: 0.28141466855375197\n",
      "Total Fraction Depopularized Services: 0.23478018206913195\n",
      "Total Fraction Depopularized IPs: 0.28124971142036587\n"
     ]
    },
    {
     "name": "stderr",
     "output_type": "stream",
     "text": [
      "Epoch: 100%|██████████| 10/10 [00:36<00:00,  3.62s/it]\n"
     ]
    },
    {
     "name": "stdout",
     "output_type": "stream",
     "text": [
      "...Grabbed Representations\n",
      "Got Item Representations\n",
      "Got User Representations\n",
      "Made Index\n",
      "Got Top Items\n",
      "Got Predictions/Top Items\n",
      "...Calculated Predictions\n",
      "cycle:  255\n",
      "correct: 161\n",
      "Num Scanned:  433826\n",
      "Number unique ports Rec'd:  30355\n",
      "At Bin:  255\n",
      "Hitrate:  0.00037111653059060547\n",
      "total ips correct:  122225\n",
      "Total Normalized Services:  2926.636411186686\n",
      "Total Normalized IPs:  6589.229195730001\n",
      "Total Fraction Services: 0.2351775529117472\n",
      "Total Fraction IPs: 0.28173737858035247\n",
      "Total Fraction Depopularized Services: 0.2350230414746544\n",
      "Total Fraction Depopularized IPs: 0.2815729206105883\n"
     ]
    },
    {
     "name": "stderr",
     "output_type": "stream",
     "text": [
      "Epoch: 100%|██████████| 10/10 [00:35<00:00,  3.50s/it]\n"
     ]
    },
    {
     "name": "stdout",
     "output_type": "stream",
     "text": [
      "...Grabbed Representations\n",
      "Got Item Representations\n",
      "Got User Representations\n",
      "Made Index\n",
      "Got Top Items\n",
      "Got Predictions/Top Items\n",
      "...Calculated Predictions\n",
      "cycle:  256\n",
      "correct: 99\n",
      "Num Scanned:  433826\n",
      "Number unique ports Rec'd:  30357\n",
      "At Bin:  256\n",
      "Hitrate:  0.00022820209023894373\n",
      "total ips correct:  122290\n",
      "Total Normalized Services:  2929.331436851723\n",
      "Total Normalized IPs:  6595.730749267063\n",
      "Total Fraction Services: 0.2353267380444692\n",
      "Total Fraction IPs: 0.2818872082355599\n",
      "Total Fraction Depopularized Services: 0.23517237738239796\n",
      "Total Fraction Depopularized IPs: 0.28172298202033447\n"
     ]
    },
    {
     "name": "stderr",
     "output_type": "stream",
     "text": [
      "Epoch: 100%|██████████| 10/10 [00:31<00:00,  3.13s/it]\n"
     ]
    },
    {
     "name": "stdout",
     "output_type": "stream",
     "text": [
      "...Grabbed Representations\n",
      "Got Item Representations\n",
      "Got User Representations\n",
      "Made Index\n",
      "Got Top Items\n",
      "Got Predictions/Top Items\n",
      "...Calculated Predictions\n",
      "cycle:  257\n",
      "correct: 122\n",
      "Num Scanned:  433826\n",
      "Number unique ports Rec'd:  30360\n"
     ]
    },
    {
     "name": "stderr",
     "output_type": "stream",
     "text": [
      "\r",
      "Epoch:   0%|          | 0/10 [00:00<?, ?it/s]"
     ]
    },
    {
     "name": "stdout",
     "output_type": "stream",
     "text": [
      "At Bin:  257\n",
      "Hitrate:  0.00028121873746617305\n",
      "total ips correct:  122382\n",
      "Total Normalized Services:  2932.367841532231\n",
      "Total Normalized IPs:  6602.9414958723\n",
      "Total Fraction Services: 0.2355105823494398\n",
      "Total Fraction IPs: 0.2820992748244688\n",
      "Total Fraction Depopularized Services: 0.23535640749093048\n",
      "Total Fraction Depopularized IPs: 0.2819353766310521\n"
     ]
    },
    {
     "name": "stderr",
     "output_type": "stream",
     "text": [
      "Epoch: 100%|██████████| 10/10 [00:31<00:00,  3.11s/it]\n"
     ]
    },
    {
     "name": "stdout",
     "output_type": "stream",
     "text": [
      "...Grabbed Representations\n",
      "Got Item Representations\n",
      "Got User Representations\n",
      "Made Index\n",
      "Got Top Items\n",
      "Got Predictions/Top Items\n",
      "...Calculated Predictions\n",
      "cycle:  258\n",
      "correct: 145\n",
      "Num Scanned:  433826\n",
      "Number unique ports Rec'd:  30365\n",
      "At Bin:  258\n",
      "Hitrate:  0.0003342353846934024\n",
      "total ips correct:  122512\n",
      "Total Normalized Services:  2935.992932321639\n",
      "Total Normalized IPs:  6616.499353212332\n",
      "Total Fraction Services: 0.23572908582665894\n",
      "Total Fraction IPs: 0.2823989341348836\n",
      "Total Fraction Depopularized Services: 0.2355751318002519\n",
      "Total Fraction Depopularized IPs: 0.2822354994505444\n"
     ]
    },
    {
     "name": "stderr",
     "output_type": "stream",
     "text": [
      "Epoch: 100%|██████████| 10/10 [00:31<00:00,  3.19s/it]\n"
     ]
    },
    {
     "name": "stdout",
     "output_type": "stream",
     "text": [
      "...Grabbed Representations\n",
      "Got Item Representations\n",
      "Got User Representations\n",
      "Made Index\n",
      "Got Top Items\n",
      "Got Predictions/Top Items\n",
      "...Calculated Predictions\n",
      "cycle:  259\n",
      "correct: 155\n",
      "Num Scanned:  433826\n",
      "Number unique ports Rec'd:  30369\n"
     ]
    },
    {
     "name": "stderr",
     "output_type": "stream",
     "text": [
      "\r",
      "Epoch:   0%|          | 0/10 [00:00<?, ?it/s]"
     ]
    },
    {
     "name": "stdout",
     "output_type": "stream",
     "text": [
      "At Bin:  259\n",
      "Hitrate:  0.0003572861008791543\n",
      "total ips correct:  122655\n",
      "Total Normalized Services:  2939.1990879988275\n",
      "Total Normalized IPs:  6631.742345812761\n",
      "Total Fraction Services: 0.2359626585092035\n",
      "Total Fraction IPs: 0.28272855937633984\n",
      "Total Fraction Depopularized Services: 0.23580894054469895\n",
      "Total Fraction Depopularized IPs: 0.2825656345519859\n"
     ]
    },
    {
     "name": "stderr",
     "output_type": "stream",
     "text": [
      "Epoch: 100%|██████████| 10/10 [00:30<00:00,  3.05s/it]\n"
     ]
    },
    {
     "name": "stdout",
     "output_type": "stream",
     "text": [
      "...Grabbed Representations\n",
      "Got Item Representations\n",
      "Got User Representations\n",
      "Made Index\n",
      "Got Top Items\n",
      "Got Predictions/Top Items\n",
      "...Calculated Predictions\n",
      "cycle:  260\n",
      "correct: 136\n",
      "Num Scanned:  433826\n",
      "Number unique ports Rec'd:  30373\n",
      "At Bin:  260\n",
      "Hitrate:  0.00031348974012622573\n",
      "total ips correct:  122769\n",
      "Total Normalized Services:  2942.4893763910263\n",
      "Total Normalized IPs:  6640.799481011584\n",
      "Total Fraction Services: 0.23615102357577172\n",
      "Total Fraction IPs: 0.28299133754085737\n",
      "Total Fraction Depopularized Services: 0.23599749598376915\n",
      "Total Fraction Depopularized IPs: 0.2828288191783099\n"
     ]
    },
    {
     "name": "stderr",
     "output_type": "stream",
     "text": [
      "Epoch: 100%|██████████| 10/10 [00:31<00:00,  3.11s/it]\n"
     ]
    },
    {
     "name": "stdout",
     "output_type": "stream",
     "text": [
      "...Grabbed Representations\n",
      "Got Item Representations\n",
      "Got User Representations\n",
      "Made Index\n",
      "Got Top Items\n",
      "Got Predictions/Top Items\n",
      "...Calculated Predictions\n",
      "cycle:  261\n",
      "correct: 100\n",
      "Num Scanned:  433826\n",
      "Number unique ports Rec'd:  30377\n",
      "At Bin:  261\n",
      "Hitrate:  0.00023050716185751892\n",
      "total ips correct:  122840\n",
      "Total Normalized Services:  2944.3539845025807\n",
      "Total Normalized IPs:  6648.505890523439\n",
      "Total Fraction Services: 0.23630020870849375\n",
      "Total Fraction IPs: 0.28315499762577623\n",
      "Total Fraction Depopularized Services: 0.23614683189151275\n",
      "Total Fraction Depopularized IPs: 0.28299273241049416\n"
     ]
    },
    {
     "name": "stderr",
     "output_type": "stream",
     "text": [
      "Epoch: 100%|██████████| 10/10 [00:30<00:00,  3.07s/it]\n"
     ]
    },
    {
     "name": "stdout",
     "output_type": "stream",
     "text": [
      "...Grabbed Representations\n",
      "Got Item Representations\n",
      "Got User Representations\n",
      "Made Index\n",
      "Got Top Items\n",
      "Got Predictions/Top Items\n",
      "...Calculated Predictions\n",
      "cycle:  262\n",
      "correct: 110\n",
      "Num Scanned:  433826\n",
      "Number unique ports Rec'd:  30378\n",
      "At Bin:  262\n",
      "Hitrate:  0.0002535578780432708\n",
      "total ips correct:  122924\n",
      "Total Normalized Services:  2947.4836142727804\n",
      "Total Normalized IPs:  6653.773728507492\n",
      "Total Fraction Services: 0.23646596996707378\n",
      "Total Fraction IPs: 0.2833486236417366\n",
      "Total Fraction Depopularized Services: 0.2363127606778945\n",
      "Total Fraction Depopularized IPs: 0.2831866579246276\n"
     ]
    },
    {
     "name": "stderr",
     "output_type": "stream",
     "text": [
      "Epoch: 100%|██████████| 10/10 [00:31<00:00,  3.20s/it]\n"
     ]
    },
    {
     "name": "stdout",
     "output_type": "stream",
     "text": [
      "...Grabbed Representations\n",
      "Got Item Representations\n",
      "Got User Representations\n",
      "Made Index\n",
      "Got Top Items\n",
      "Got Predictions/Top Items\n",
      "...Calculated Predictions\n",
      "cycle:  263\n",
      "correct: 134\n",
      "Num Scanned:  433826\n",
      "Number unique ports Rec'd:  30382\n",
      "At Bin:  263\n",
      "Hitrate:  0.00030887959688907535\n",
      "total ips correct:  123020\n",
      "Total Normalized Services:  2949.881718182403\n",
      "Total Normalized IPs:  6663.300718686862\n",
      "Total Fraction Services: 0.23666337655683728\n",
      "Total Fraction IPs: 0.28356991051711977\n",
      "Total Fraction Depopularized Services: 0.23651036677804008\n",
      "Total Fraction Depopularized IPs: 0.2834082870836373\n"
     ]
    },
    {
     "name": "stderr",
     "output_type": "stream",
     "text": [
      "Epoch: 100%|██████████| 10/10 [00:30<00:00,  3.09s/it]\n"
     ]
    },
    {
     "name": "stdout",
     "output_type": "stream",
     "text": [
      "...Grabbed Representations\n",
      "Got Item Representations\n",
      "Got User Representations\n",
      "Made Index\n",
      "Got Top Items\n",
      "Got Predictions/Top Items\n",
      "...Calculated Predictions\n",
      "cycle:  264\n",
      "correct: 166\n",
      "Num Scanned:  433826\n",
      "Number unique ports Rec'd:  30388\n",
      "At Bin:  264\n",
      "Hitrate:  0.0003826418886834814\n",
      "total ips correct:  123132\n",
      "Total Normalized Services:  2952.5588829042345\n",
      "Total Normalized IPs:  6668.527368902014\n",
      "Total Fraction Services: 0.23690599076257712\n",
      "Total Fraction IPs: 0.2838280785384002\n",
      "Total Fraction Depopularized Services: 0.23675322618356248\n",
      "Total Fraction Depopularized IPs: 0.2836668544358153\n"
     ]
    },
    {
     "name": "stderr",
     "output_type": "stream",
     "text": [
      "Epoch: 100%|██████████| 10/10 [00:31<00:00,  3.12s/it]\n"
     ]
    },
    {
     "name": "stdout",
     "output_type": "stream",
     "text": [
      "...Grabbed Representations\n",
      "Got Item Representations\n",
      "Got User Representations\n",
      "Made Index\n",
      "Got Top Items\n",
      "Got Predictions/Top Items\n",
      "...Calculated Predictions\n",
      "cycle:  265\n",
      "correct: 131\n",
      "Num Scanned:  433826\n",
      "Number unique ports Rec'd:  30394\n",
      "At Bin:  265\n",
      "Hitrate:  0.0003019643820333498\n",
      "total ips correct:  123223\n",
      "Total Normalized Services:  2954.506531252611\n",
      "Total Normalized IPs:  6673.438862256957\n",
      "Total Fraction Services: 0.23708531430595006\n",
      "Total Fraction IPs: 0.28403784005569055\n",
      "Total Fraction Depopularized Services: 0.23693273096155731\n",
      "Total Fraction Depopularized IPs: 0.2838769404094599\n"
     ]
    },
    {
     "name": "stderr",
     "output_type": "stream",
     "text": [
      "Epoch: 100%|██████████| 10/10 [00:31<00:00,  3.11s/it]\n"
     ]
    },
    {
     "name": "stdout",
     "output_type": "stream",
     "text": [
      "...Grabbed Representations\n",
      "Got Item Representations\n",
      "Got User Representations\n",
      "Made Index\n",
      "Got Top Items\n",
      "Got Predictions/Top Items\n",
      "...Calculated Predictions\n",
      "cycle:  266\n",
      "correct: 255\n",
      "Num Scanned:  433826\n",
      "Number unique ports Rec'd:  30397\n",
      "At Bin:  266\n",
      "Hitrate:  0.0005877932627366732\n",
      "total ips correct:  123286\n",
      "Total Normalized Services:  2956.959794058607\n",
      "Total Normalized IPs:  6679.129948328713\n",
      "Total Fraction Services: 0.2372284717565419\n",
      "Total Fraction IPs: 0.28418305956766077\n",
      "Total Fraction Depopularized Services: 0.23707603309525066\n",
      "Total Fraction Depopularized IPs: 0.28402238454505996\n"
     ]
    },
    {
     "name": "stderr",
     "output_type": "stream",
     "text": [
      "Epoch: 100%|██████████| 10/10 [00:34<00:00,  3.49s/it]\n"
     ]
    },
    {
     "name": "stdout",
     "output_type": "stream",
     "text": [
      "...Grabbed Representations\n",
      "Got Item Representations\n",
      "Got User Representations\n",
      "Made Index\n",
      "Got Top Items\n",
      "Got Predictions/Top Items\n",
      "...Calculated Predictions\n",
      "cycle:  267\n",
      "correct: 118\n",
      "Num Scanned:  433826\n",
      "Number unique ports Rec'd:  30401\n",
      "At Bin:  267\n",
      "Hitrate:  0.00027199845099187234\n",
      "total ips correct:  123378\n",
      "Total Normalized Services:  2959.7888093623264\n",
      "Total Normalized IPs:  6689.915003577467\n",
      "Total Fraction Services: 0.23740628837938232\n",
      "Total Fraction IPs: 0.2843951261565697\n",
      "Total Fraction Depopularized Services: 0.23725402942973292\n",
      "Total Fraction Depopularized IPs: 0.2842347791557776\n"
     ]
    },
    {
     "name": "stderr",
     "output_type": "stream",
     "text": [
      "Epoch: 100%|██████████| 10/10 [00:34<00:00,  3.49s/it]\n"
     ]
    },
    {
     "name": "stdout",
     "output_type": "stream",
     "text": [
      "...Grabbed Representations\n",
      "Got Item Representations\n",
      "Got User Representations\n",
      "Made Index\n",
      "Got Top Items\n",
      "Got Predictions/Top Items\n",
      "...Calculated Predictions\n",
      "cycle:  268\n",
      "correct: 189\n",
      "Num Scanned:  433826\n",
      "Number unique ports Rec'd:  30407\n",
      "At Bin:  268\n",
      "Hitrate:  0.00043565853591071073\n",
      "total ips correct:  123536\n"
     ]
    },
    {
     "name": "stderr",
     "output_type": "stream",
     "text": [
      "\r",
      "Epoch:   0%|          | 0/10 [00:00<?, ?it/s]"
     ]
    },
    {
     "name": "stdout",
     "output_type": "stream",
     "text": [
      "Total Normalized Services:  2964.6312526809365\n",
      "Total Normalized IPs:  6699.825010739317\n",
      "Total Fraction Services: 0.23768958943950091\n",
      "Total Fraction IPs: 0.2847593274723046\n",
      "Total Fraction Depopularized Services: 0.2375376168100945\n",
      "Total Fraction Depopularized IPs: 0.28459954381331437\n"
     ]
    },
    {
     "name": "stderr",
     "output_type": "stream",
     "text": [
      "Epoch: 100%|██████████| 10/10 [00:34<00:00,  3.45s/it]\n"
     ]
    },
    {
     "name": "stdout",
     "output_type": "stream",
     "text": [
      "...Grabbed Representations\n",
      "Got Item Representations\n",
      "Got User Representations\n",
      "Made Index\n",
      "Got Top Items\n",
      "Got Predictions/Top Items\n",
      "...Calculated Predictions\n",
      "cycle:  269\n",
      "correct: 128\n",
      "Num Scanned:  433826\n",
      "Number unique ports Rec'd:  30409\n"
     ]
    },
    {
     "name": "stderr",
     "output_type": "stream",
     "text": [
      "\r",
      "Epoch:   0%|          | 0/10 [00:00<?, ?it/s]"
     ]
    },
    {
     "name": "stdout",
     "output_type": "stream",
     "text": [
      "At Bin:  269\n",
      "Hitrate:  0.0002950491671776242\n",
      "total ips correct:  123628\n",
      "Total Normalized Services:  2967.9956746641255\n",
      "Total Normalized IPs:  6708.058622887122\n",
      "Total Fraction Services: 0.23788247526766676\n",
      "Total Fraction IPs: 0.28497139406121347\n",
      "Total Fraction Depopularized Services: 0.2377306975797024\n",
      "Total Fraction Depopularized IPs: 0.28481193842403196\n"
     ]
    },
    {
     "name": "stderr",
     "output_type": "stream",
     "text": [
      "Epoch: 100%|██████████| 10/10 [00:30<00:00,  3.05s/it]\n"
     ]
    },
    {
     "name": "stdout",
     "output_type": "stream",
     "text": [
      "...Grabbed Representations\n",
      "Got Item Representations\n",
      "Got User Representations\n",
      "Made Index\n",
      "Got Top Items\n",
      "Got Predictions/Top Items\n",
      "...Calculated Predictions\n",
      "cycle:  270\n",
      "correct: 116\n",
      "Num Scanned:  433826\n",
      "Number unique ports Rec'd:  30413\n",
      "At Bin:  270\n",
      "Hitrate:  0.00026738830775472196\n",
      "total ips correct:  123705\n",
      "Total Normalized Services:  2969.918199662074\n",
      "Total Normalized IPs:  6712.590866079267\n",
      "Total Fraction Services: 0.23805577112890952\n",
      "Total Fraction IPs: 0.28514888457584375\n",
      "Total Fraction Depopularized Services: 0.23790416858364696\n",
      "Total Fraction Depopularized IPs: 0.2849897034786543\n"
     ]
    },
    {
     "name": "stderr",
     "output_type": "stream",
     "text": [
      "Epoch: 100%|██████████| 10/10 [00:30<00:00,  3.05s/it]\n"
     ]
    },
    {
     "name": "stdout",
     "output_type": "stream",
     "text": [
      "...Grabbed Representations\n",
      "Got Item Representations\n",
      "Got User Representations\n",
      "Made Index\n",
      "Got Top Items\n",
      "Got Predictions/Top Items\n",
      "...Calculated Predictions\n",
      "cycle:  271\n",
      "correct: 79\n",
      "Num Scanned:  433826\n",
      "Number unique ports Rec'd:  30416\n"
     ]
    },
    {
     "name": "stderr",
     "output_type": "stream",
     "text": [
      "\r",
      "Epoch:   0%|          | 0/10 [00:00<?, ?it/s]"
     ]
    },
    {
     "name": "stdout",
     "output_type": "stream",
     "text": [
      "At Bin:  271\n",
      "Hitrate:  0.00018210065786743995\n",
      "total ips correct:  123772\n",
      "Total Normalized Services:  2972.2977314141667\n",
      "Total Normalized IPs:  6718.379919473688\n",
      "Total Fraction Services: 0.23817481785098063\n",
      "Total Fraction IPs: 0.2853033243742883\n",
      "Total Fraction Depopularized Services: 0.23802333562113934\n",
      "Total Fraction Depopularized IPs: 0.2851443821625465\n"
     ]
    },
    {
     "name": "stderr",
     "output_type": "stream",
     "text": [
      "Epoch: 100%|██████████| 10/10 [00:30<00:00,  3.06s/it]\n"
     ]
    },
    {
     "name": "stdout",
     "output_type": "stream",
     "text": [
      "...Grabbed Representations\n",
      "Got Item Representations\n",
      "Got User Representations\n",
      "Made Index\n",
      "Got Top Items\n",
      "Got Predictions/Top Items\n",
      "...Calculated Predictions\n",
      "cycle:  272\n",
      "correct: 121\n",
      "Num Scanned:  433826\n",
      "Number unique ports Rec'd:  30422\n"
     ]
    },
    {
     "name": "stderr",
     "output_type": "stream",
     "text": [
      "\r",
      "Epoch:   0%|          | 0/10 [00:00<?, ?it/s]"
     ]
    },
    {
     "name": "stdout",
     "output_type": "stream",
     "text": [
      "At Bin:  272\n",
      "Hitrate:  0.00027891366584759786\n",
      "total ips correct:  123847\n",
      "Total Normalized Services:  2974.4029592667403\n",
      "Total Normalized IPs:  6723.39471694891\n",
      "Total Fraction Services: 0.2383481137122234\n",
      "Total Fraction IPs: 0.28547620474568147\n",
      "Total Fraction Depopularized Services: 0.2381968066250839\n",
      "Total Fraction Depopularized IPs: 0.28531752994302284\n"
     ]
    },
    {
     "name": "stderr",
     "output_type": "stream",
     "text": [
      "Epoch: 100%|██████████| 10/10 [00:30<00:00,  3.04s/it]\n"
     ]
    },
    {
     "name": "stdout",
     "output_type": "stream",
     "text": [
      "...Grabbed Representations\n",
      "Got Item Representations\n",
      "Got User Representations\n",
      "Made Index\n",
      "Got Top Items\n",
      "Got Predictions/Top Items\n",
      "...Calculated Predictions\n",
      "cycle:  273\n",
      "correct: 404\n",
      "Num Scanned:  433826\n",
      "Number unique ports Rec'd:  30427\n",
      "At Bin:  273\n",
      "Hitrate:  0.0009312489339043764\n",
      "total ips correct:  123994\n",
      "Total Normalized Services:  2979.6005846577946\n",
      "Total Normalized IPs:  6731.80431786887\n",
      "Total Fraction Services: 0.23858771407689816\n",
      "Total Fraction IPs: 0.285815050273612\n",
      "Total Fraction Depopularized Services: 0.23843363225655606\n",
      "Total Fraction Depopularized IPs: 0.2856522823186104\n"
     ]
    },
    {
     "name": "stderr",
     "output_type": "stream",
     "text": [
      "Epoch: 100%|██████████| 10/10 [00:30<00:00,  3.09s/it]\n"
     ]
    },
    {
     "name": "stdout",
     "output_type": "stream",
     "text": [
      "...Grabbed Representations\n",
      "Got Item Representations\n",
      "Got User Representations\n",
      "Made Index\n",
      "Got Top Items\n",
      "Got Predictions/Top Items\n",
      "...Calculated Predictions\n",
      "cycle:  274\n",
      "correct: 141\n",
      "Num Scanned:  433826\n",
      "Number unique ports Rec'd:  30429\n",
      "At Bin:  274\n",
      "Hitrate:  0.0003250150982191017\n",
      "total ips correct:  124113\n",
      "Total Normalized Services:  2981.8935390859033\n",
      "Total Normalized IPs:  6741.103153134369\n",
      "Total Fraction Services: 0.2388001898719871\n",
      "Total Fraction IPs: 0.28608935379622247\n",
      "Total Fraction Depopularized Services: 0.23864632279182726\n",
      "Total Fraction Depopularized IPs: 0.2859270101302995\n"
     ]
    },
    {
     "name": "stderr",
     "output_type": "stream",
     "text": [
      "Epoch: 100%|██████████| 10/10 [00:32<00:00,  3.27s/it]\n"
     ]
    },
    {
     "name": "stdout",
     "output_type": "stream",
     "text": [
      "...Grabbed Representations\n",
      "Got Item Representations\n",
      "Got User Representations\n",
      "Made Index\n",
      "Got Top Items\n",
      "Got Predictions/Top Items\n",
      "...Calculated Predictions\n",
      "cycle:  275\n",
      "correct: 158\n",
      "Num Scanned:  433826\n",
      "Number unique ports Rec'd:  30431\n",
      "At Bin:  275\n",
      "Hitrate:  0.0003642013157348799\n",
      "total ips correct:  124234\n",
      "Total Normalized Services:  2985.959580324791\n",
      "Total Normalized IPs:  6750.449643372674\n",
      "Total Fraction Services: 0.23903677639559678\n",
      "Total Fraction IPs: 0.28636826746207006\n",
      "Total Fraction Depopularized Services: 0.2388831484232994\n",
      "Total Fraction Depopularized IPs: 0.2862063552161346\n"
     ]
    },
    {
     "name": "stderr",
     "output_type": "stream",
     "text": [
      "Epoch: 100%|██████████| 10/10 [00:31<00:00,  3.11s/it]\n"
     ]
    },
    {
     "name": "stdout",
     "output_type": "stream",
     "text": [
      "...Grabbed Representations\n",
      "Got Item Representations\n",
      "Got User Representations\n",
      "Made Index\n",
      "Got Top Items\n",
      "Got Predictions/Top Items\n",
      "...Calculated Predictions\n",
      "cycle:  276\n",
      "correct: 141\n",
      "Num Scanned:  433826\n",
      "Number unique ports Rec'd:  30433\n",
      "At Bin:  276\n",
      "Hitrate:  0.0003250150982191017\n",
      "total ips correct:  124332\n",
      "Total Normalized Services:  2989.3103705452786\n",
      "Total Normalized IPs:  6756.642787170043\n",
      "Total Fraction Services: 0.23924623834962064\n",
      "Total Fraction IPs: 0.2865941644806904\n",
      "Total Fraction Depopularized Services: 0.2390913136280329\n",
      "Total Fraction Depopularized IPs: 0.2864302930122173\n"
     ]
    },
    {
     "name": "stderr",
     "output_type": "stream",
     "text": [
      "Epoch: 100%|██████████| 10/10 [00:32<00:00,  3.27s/it]\n"
     ]
    },
    {
     "name": "stdout",
     "output_type": "stream",
     "text": [
      "...Grabbed Representations\n",
      "Got Item Representations\n",
      "Got User Representations\n",
      "Made Index\n",
      "Got Top Items\n",
      "Got Predictions/Top Items\n",
      "...Calculated Predictions\n",
      "cycle:  277\n",
      "correct: 333\n",
      "Num Scanned:  433826\n",
      "Number unique ports Rec'd:  30435\n",
      "At Bin:  277\n",
      "Hitrate:  0.0007675888489855379\n",
      "total ips correct:  124600\n",
      "Total Normalized Services:  2993.3917864368327\n",
      "Total Normalized IPs:  6766.106650088707\n",
      "Total Fraction Services: 0.23974804288695836\n",
      "Total Fraction IPs: 0.28721192367446857\n",
      "Total Fraction Depopularized Services: 0.2395936253177159\n",
      "Total Fraction Depopularized IPs: 0.287049007747786\n"
     ]
    },
    {
     "name": "stderr",
     "output_type": "stream",
     "text": [
      "Epoch: 100%|██████████| 10/10 [00:30<00:00,  3.09s/it]\n"
     ]
    },
    {
     "name": "stdout",
     "output_type": "stream",
     "text": [
      "...Grabbed Representations\n",
      "Got Item Representations\n",
      "Got User Representations\n",
      "Made Index\n",
      "Got Top Items\n",
      "Got Predictions/Top Items\n",
      "...Calculated Predictions\n",
      "cycle:  278\n",
      "correct: 280\n",
      "Num Scanned:  433826\n",
      "Number unique ports Rec'd:  30438\n"
     ]
    },
    {
     "name": "stderr",
     "output_type": "stream",
     "text": [
      "\r",
      "Epoch:   0%|          | 0/10 [00:00<?, ?it/s]"
     ]
    },
    {
     "name": "stdout",
     "output_type": "stream",
     "text": [
      "At Bin:  278\n",
      "Hitrate:  0.000645420053201053\n",
      "total ips correct:  124820\n",
      "Total Normalized Services:  2998.534088208416\n",
      "Total Normalized IPs:  6777.824220648638\n",
      "Total Fraction Services: 0.24016998063607115\n",
      "Total Fraction IPs: 0.2877190394305551\n",
      "Total Fraction Depopularized Services: 0.24001598950123315\n",
      "Total Fraction Depopularized IPs: 0.28755690790384986\n"
     ]
    },
    {
     "name": "stderr",
     "output_type": "stream",
     "text": [
      "Epoch: 100%|██████████| 10/10 [00:31<00:00,  3.11s/it]\n"
     ]
    },
    {
     "name": "stdout",
     "output_type": "stream",
     "text": [
      "...Grabbed Representations\n",
      "Got Item Representations\n",
      "Got User Representations\n",
      "Made Index\n",
      "Got Top Items\n",
      "Got Predictions/Top Items\n",
      "...Calculated Predictions\n",
      "cycle:  279\n",
      "correct: 129\n",
      "Num Scanned:  433826\n",
      "Number unique ports Rec'd:  30439\n",
      "At Bin:  279\n",
      "Hitrate:  0.0002973542387961994\n",
      "total ips correct:  124925\n",
      "Total Normalized Services:  3001.1894340075532\n",
      "Total Normalized IPs:  6784.707837866902\n",
      "Total Fraction Services: 0.24036135954370447\n",
      "Total Fraction IPs: 0.2879610719505055\n",
      "Total Fraction Depopularized Services: 0.24020756182732847\n",
      "Total Fraction Depopularized IPs: 0.2877993147965167\n"
     ]
    },
    {
     "name": "stderr",
     "output_type": "stream",
     "text": [
      "Epoch: 100%|██████████| 10/10 [00:30<00:00,  3.07s/it]\n"
     ]
    },
    {
     "name": "stdout",
     "output_type": "stream",
     "text": [
      "...Grabbed Representations\n",
      "Got Item Representations\n",
      "Got User Representations\n",
      "Made Index\n",
      "Got Top Items\n",
      "Got Predictions/Top Items\n",
      "...Calculated Predictions\n",
      "cycle:  280\n",
      "correct: 105\n",
      "Num Scanned:  433826\n",
      "Number unique ports Rec'd:  30446\n",
      "At Bin:  280\n",
      "Hitrate:  0.00024203251995039485\n",
      "total ips correct:  125006\n",
      "Total Normalized Services:  3003.007232311861\n",
      "Total Normalized IPs:  6788.475469882414\n",
      "Total Fraction Services: 0.24051807927908922\n",
      "Total Fraction IPs: 0.28814778275161007\n",
      "Total Fraction Depopularized Services: 0.24036142306560976\n",
      "Total Fraction Depopularized IPs: 0.2879816971252851\n"
     ]
    },
    {
     "name": "stderr",
     "output_type": "stream",
     "text": [
      "Epoch: 100%|██████████| 10/10 [00:33<00:00,  3.31s/it]\n"
     ]
    },
    {
     "name": "stdout",
     "output_type": "stream",
     "text": [
      "...Grabbed Representations\n",
      "Got Item Representations\n",
      "Got User Representations\n",
      "Made Index\n",
      "Got Top Items\n",
      "Got Predictions/Top Items\n",
      "...Calculated Predictions\n",
      "cycle:  281\n",
      "correct: 164\n",
      "Num Scanned:  433826\n",
      "Number unique ports Rec'd:  30451\n",
      "At Bin:  281\n",
      "Hitrate:  0.000378031745446331\n",
      "total ips correct:  125133\n",
      "Total Normalized Services:  3005.405303632833\n",
      "Total Normalized IPs:  6800.55577870763\n",
      "Total Fraction Services: 0.24076370732589417\n",
      "Total Fraction IPs: 0.28844052684716914\n",
      "Total Fraction Depopularized Services: 0.24060729935815728\n",
      "Total Fraction Depopularized IPs: 0.2882748940335583\n"
     ]
    },
    {
     "name": "stderr",
     "output_type": "stream",
     "text": [
      "Epoch: 100%|██████████| 10/10 [00:30<00:00,  3.08s/it]\n"
     ]
    },
    {
     "name": "stdout",
     "output_type": "stream",
     "text": [
      "...Grabbed Representations\n",
      "Got Item Representations\n",
      "Got User Representations\n",
      "Made Index\n",
      "Got Top Items\n",
      "Got Predictions/Top Items\n",
      "...Calculated Predictions\n",
      "cycle:  282\n",
      "correct: 162\n",
      "Num Scanned:  433826\n",
      "Number unique ports Rec'd:  30453\n",
      "At Bin:  282\n",
      "Hitrate:  0.00037342160220918066\n",
      "total ips correct:  125259\n",
      "Total Normalized Services:  3007.6455481159746\n",
      "Total Normalized IPs:  6806.995150418789\n",
      "Total Fraction Services: 0.24098823848524348\n",
      "Total Fraction IPs: 0.28873096587110963\n",
      "Total Fraction Depopularized Services: 0.24083205744152897\n",
      "Total Fraction Depopularized IPs: 0.28856578230475854\n"
     ]
    },
    {
     "name": "stderr",
     "output_type": "stream",
     "text": [
      "Epoch: 100%|██████████| 10/10 [00:33<00:00,  3.36s/it]\n"
     ]
    },
    {
     "name": "stdout",
     "output_type": "stream",
     "text": [
      "...Grabbed Representations\n",
      "Got Item Representations\n",
      "Got User Representations\n",
      "Made Index\n",
      "Got Top Items\n",
      "Got Predictions/Top Items\n",
      "...Calculated Predictions\n",
      "cycle:  283\n",
      "correct: 203\n",
      "Num Scanned:  433826\n",
      "Number unique ports Rec'd:  30457\n",
      "At Bin:  283\n",
      "Hitrate:  0.0004679295385707634\n",
      "total ips correct:  125430\n"
     ]
    },
    {
     "name": "stderr",
     "output_type": "stream",
     "text": [
      "\r",
      "Epoch:   0%|          | 0/10 [00:00<?, ?it/s]"
     ]
    },
    {
     "name": "stdout",
     "output_type": "stream",
     "text": [
      "Total Normalized Services:  3012.053814517969\n",
      "Total Normalized IPs:  6815.299198509295\n",
      "Total Fraction Services: 0.24129112951228518\n",
      "Total Fraction IPs: 0.28912513311788596\n",
      "Total Fraction Depopularized Services: 0.24113525458755383\n",
      "Total Fraction Depopularized IPs: 0.2889605592442446\n"
     ]
    },
    {
     "name": "stderr",
     "output_type": "stream",
     "text": [
      "Epoch: 100%|██████████| 10/10 [00:34<00:00,  3.41s/it]\n"
     ]
    },
    {
     "name": "stdout",
     "output_type": "stream",
     "text": [
      "...Grabbed Representations\n",
      "Got Item Representations\n",
      "Got User Representations\n",
      "Made Index\n",
      "Got Top Items\n",
      "Got Predictions/Top Items\n",
      "...Calculated Predictions\n",
      "cycle:  284\n",
      "correct: 132\n",
      "Num Scanned:  433826\n",
      "Number unique ports Rec'd:  30460\n",
      "At Bin:  284\n",
      "Hitrate:  0.00030426945365192497\n",
      "total ips correct:  125542\n",
      "Total Normalized Services:  3015.293300211804\n",
      "Total Normalized IPs:  6823.608175882483\n",
      "Total Fraction Services: 0.2414900430225812\n",
      "Total Fraction IPs: 0.2893833011391664\n",
      "Total Fraction Depopularized Services: 0.24133436913121195\n",
      "Total Fraction Depopularized IPs: 0.2892191265964225\n"
     ]
    },
    {
     "name": "stderr",
     "output_type": "stream",
     "text": [
      "Epoch: 100%|██████████| 10/10 [00:34<00:00,  3.49s/it]\n"
     ]
    },
    {
     "name": "stdout",
     "output_type": "stream",
     "text": [
      "...Grabbed Representations\n",
      "Got Item Representations\n",
      "Got User Representations\n",
      "Made Index\n",
      "Got Top Items\n",
      "Got Predictions/Top Items\n",
      "...Calculated Predictions\n",
      "cycle:  285\n",
      "correct: 106\n",
      "Num Scanned:  433826\n",
      "Number unique ports Rec'd:  30462\n",
      "At Bin:  285\n",
      "Hitrate:  0.00024433759156897004\n",
      "total ips correct:  125630\n"
     ]
    },
    {
     "name": "stderr",
     "output_type": "stream",
     "text": [
      "\r",
      "Epoch:   0%|          | 0/10 [00:00<?, ?it/s]"
     ]
    },
    {
     "name": "stdout",
     "output_type": "stream",
     "text": [
      "Total Normalized Services:  3017.9022175746895\n",
      "Total Normalized IPs:  6826.990365985357\n",
      "Total Fraction Services: 0.24164977659903106\n",
      "Total Fraction IPs: 0.289586147441601\n",
      "Total Fraction Depopularized Services: 0.2414942641435435\n",
      "Total Fraction Depopularized IPs: 0.28942228665884806\n"
     ]
    },
    {
     "name": "stderr",
     "output_type": "stream",
     "text": [
      "Epoch: 100%|██████████| 10/10 [00:34<00:00,  3.42s/it]\n"
     ]
    },
    {
     "name": "stdout",
     "output_type": "stream",
     "text": [
      "...Grabbed Representations\n",
      "Got Item Representations\n",
      "Got User Representations\n",
      "Made Index\n",
      "Got Top Items\n",
      "Got Predictions/Top Items\n",
      "...Calculated Predictions\n",
      "cycle:  286\n",
      "correct: 152\n",
      "Num Scanned:  433826\n",
      "Number unique ports Rec'd:  30470\n",
      "At Bin:  286\n",
      "Hitrate:  0.00035037088602342875\n",
      "total ips correct:  125757\n",
      "Total Normalized Services:  3020.6226471997375\n",
      "Total Normalized IPs:  6835.095881377108\n",
      "Total Fraction Services: 0.241878828519978\n",
      "Total Fraction IPs: 0.28987889153716007\n",
      "Total Fraction Depopularized Services: 0.24172354755745284\n",
      "Total Fraction Depopularized IPs: 0.2897154835671213\n"
     ]
    },
    {
     "name": "stderr",
     "output_type": "stream",
     "text": [
      "Epoch: 100%|██████████| 10/10 [00:31<00:00,  3.17s/it]\n"
     ]
    },
    {
     "name": "stdout",
     "output_type": "stream",
     "text": [
      "...Grabbed Representations\n",
      "Got Item Representations\n",
      "Got User Representations\n",
      "Made Index\n",
      "Got Top Items\n",
      "Got Predictions/Top Items\n",
      "...Calculated Predictions\n",
      "cycle:  287\n",
      "correct: 163\n",
      "Num Scanned:  433826\n",
      "Number unique ports Rec'd:  30471\n",
      "At Bin:  287\n",
      "Hitrate:  0.00037572667382775585\n",
      "total ips correct:  125866\n",
      "Total Normalized Services:  3024.5261756113373\n",
      "Total Normalized IPs:  6840.695174303846\n",
      "Total Fraction Services: 0.24211390812305514\n",
      "Total Fraction IPs: 0.29013014434358475\n",
      "Total Fraction Depopularized Services: 0.24195886474541245\n",
      "Total Fraction Depopularized IPs: 0.28996712500808025\n"
     ]
    },
    {
     "name": "stderr",
     "output_type": "stream",
     "text": [
      "Epoch: 100%|██████████| 10/10 [00:31<00:00,  3.11s/it]\n"
     ]
    },
    {
     "name": "stdout",
     "output_type": "stream",
     "text": [
      "...Grabbed Representations\n",
      "Got Item Representations\n",
      "Got User Representations\n",
      "Made Index\n",
      "Got Top Items\n",
      "Got Predictions/Top Items\n",
      "...Calculated Predictions\n",
      "cycle:  288\n",
      "correct: 178\n",
      "Num Scanned:  433826\n",
      "Number unique ports Rec'd:  30472\n",
      "At Bin:  288\n",
      "Hitrate:  0.0004103027481063837\n",
      "total ips correct:  125989\n",
      "Total Normalized Services:  3028.6087845674006\n",
      "Total Normalized IPs:  6848.886595733115\n",
      "Total Fraction Services: 0.24238063305731572\n",
      "Total Fraction IPs: 0.2904136681526695\n",
      "Total Fraction Depopularized Services: 0.24222585924713586\n",
      "Total Fraction Depopularized IPs: 0.2902510873680614\n"
     ]
    },
    {
     "name": "stderr",
     "output_type": "stream",
     "text": [
      "Epoch: 100%|██████████| 10/10 [00:32<00:00,  3.21s/it]\n"
     ]
    },
    {
     "name": "stdout",
     "output_type": "stream",
     "text": [
      "...Grabbed Representations\n",
      "Got Item Representations\n",
      "Got User Representations\n",
      "Made Index\n",
      "Got Top Items\n",
      "Got Predictions/Top Items\n",
      "...Calculated Predictions\n",
      "cycle:  289\n",
      "correct: 174\n",
      "Num Scanned:  433826\n",
      "Number unique ports Rec'd:  30474\n",
      "At Bin:  289\n",
      "Hitrate:  0.0004010824616320829\n",
      "total ips correct:  126124\n"
     ]
    },
    {
     "name": "stderr",
     "output_type": "stream",
     "text": [
      "\r",
      "Epoch:   0%|          | 0/10 [00:00<?, ?it/s]"
     ]
    },
    {
     "name": "stdout",
     "output_type": "stream",
     "text": [
      "Total Normalized Services:  3031.8402271690024\n",
      "Total Normalized IPs:  6857.548914274206\n",
      "Total Fraction Services: 0.24263831646838105\n",
      "Total Fraction IPs: 0.29072485282117716\n",
      "Total Fraction Depopularized Services: 0.24248380308778386\n",
      "Total Fraction Depopularized IPs: 0.29056275337291876\n"
     ]
    },
    {
     "name": "stderr",
     "output_type": "stream",
     "text": [
      "Epoch: 100%|██████████| 10/10 [00:30<00:00,  3.10s/it]\n"
     ]
    },
    {
     "name": "stdout",
     "output_type": "stream",
     "text": [
      "...Grabbed Representations\n",
      "Got Item Representations\n",
      "Got User Representations\n",
      "Made Index\n",
      "Got Top Items\n",
      "Got Predictions/Top Items\n",
      "...Calculated Predictions\n",
      "cycle:  290\n",
      "correct: 119\n",
      "Num Scanned:  433826\n",
      "Number unique ports Rec'd:  30477\n",
      "At Bin:  290\n",
      "Hitrate:  0.00027430352261044753\n",
      "total ips correct:  126180\n",
      "Total Normalized Services:  3035.444695643447\n",
      "Total Normalized IPs:  6862.343602317794\n",
      "Total Fraction Services: 0.242817640011754\n",
      "Total Fraction IPs: 0.2908539368318174\n",
      "Total Fraction Depopularized Services: 0.2426633078657787\n",
      "Total Fraction Depopularized IPs: 0.29069203704900776\n"
     ]
    },
    {
     "name": "stderr",
     "output_type": "stream",
     "text": [
      "Epoch: 100%|██████████| 10/10 [00:31<00:00,  3.12s/it]\n"
     ]
    },
    {
     "name": "stdout",
     "output_type": "stream",
     "text": [
      "...Grabbed Representations\n",
      "Got Item Representations\n",
      "Got User Representations\n",
      "Made Index\n",
      "Got Top Items\n",
      "Got Predictions/Top Items\n",
      "...Calculated Predictions\n",
      "cycle:  291\n",
      "correct: 245\n",
      "Num Scanned:  433826\n",
      "Number unique ports Rec'd:  30479\n",
      "At Bin:  291\n",
      "Hitrate:  0.0005647425465509213\n",
      "total ips correct:  126369\n",
      "Total Normalized Services:  3039.2881803327277\n",
      "Total Normalized IPs:  6869.393087364927\n",
      "Total Fraction Services: 0.24313861408518622\n",
      "Total Fraction IPs: 0.2912895953677281\n",
      "Total Fraction Depopularized Services: 0.24298309789044176\n",
      "Total Fraction Depopularized IPs: 0.29112606081873504\n"
     ]
    },
    {
     "name": "stderr",
     "output_type": "stream",
     "text": [
      "Epoch: 100%|██████████| 10/10 [00:30<00:00,  3.10s/it]\n"
     ]
    },
    {
     "name": "stdout",
     "output_type": "stream",
     "text": [
      "...Grabbed Representations\n",
      "Got Item Representations\n",
      "Got User Representations\n",
      "Made Index\n",
      "Got Top Items\n",
      "Got Predictions/Top Items\n",
      "...Calculated Predictions\n",
      "cycle:  292\n",
      "correct: 166\n",
      "Num Scanned:  433826\n",
      "Number unique ports Rec'd:  30483\n",
      "At Bin:  292\n",
      "Hitrate:  0.0003826418886834814\n",
      "total ips correct:  126505\n"
     ]
    },
    {
     "name": "stderr",
     "output_type": "stream",
     "text": [
      "\r",
      "Epoch:   0%|          | 0/10 [00:00<?, ?it/s]"
     ]
    },
    {
     "name": "stdout",
     "output_type": "stream",
     "text": [
      "Total Normalized Services:  3041.99783996346\n",
      "Total Normalized IPs:  6880.142522243429\n",
      "Total Fraction Services: 0.243378214449861\n",
      "Total Fraction IPs: 0.2916030851078543\n",
      "Total Fraction Depopularized Services: 0.24322294040893905\n",
      "Total Fraction Depopularized IPs: 0.29144003546066544\n"
     ]
    },
    {
     "name": "stderr",
     "output_type": "stream",
     "text": [
      "Epoch: 100%|██████████| 10/10 [00:30<00:00,  3.10s/it]\n"
     ]
    },
    {
     "name": "stdout",
     "output_type": "stream",
     "text": [
      "...Grabbed Representations\n",
      "Got Item Representations\n",
      "Got User Representations\n",
      "Made Index\n",
      "Got Top Items\n",
      "Got Predictions/Top Items\n",
      "...Calculated Predictions\n",
      "cycle:  293\n",
      "correct: 92\n",
      "Num Scanned:  433826\n",
      "Number unique ports Rec'd:  30487\n",
      "At Bin:  293\n",
      "Hitrate:  0.0002120665889089174\n",
      "total ips correct:  126561\n",
      "Total Normalized Services:  3044.0785568510028\n",
      "Total Normalized IPs:  6883.437693347977\n",
      "Total Fraction Services: 0.24350630269512738\n",
      "Total Fraction IPs: 0.29173216911849453\n",
      "Total Fraction Depopularized Services: 0.24335115810750677\n",
      "Total Fraction Depopularized IPs: 0.29156931913675443\n"
     ]
    },
    {
     "name": "stderr",
     "output_type": "stream",
     "text": [
      "Epoch: 100%|██████████| 10/10 [00:31<00:00,  3.17s/it]\n"
     ]
    },
    {
     "name": "stdout",
     "output_type": "stream",
     "text": [
      "...Grabbed Representations\n",
      "Got Item Representations\n",
      "Got User Representations\n",
      "Made Index\n",
      "Got Top Items\n",
      "Got Predictions/Top Items\n",
      "...Calculated Predictions\n",
      "cycle:  294\n",
      "correct: 237\n",
      "Num Scanned:  433826\n",
      "Number unique ports Rec'd:  30492\n",
      "At Bin:  294\n",
      "Hitrate:  0.0005463019736023199\n",
      "total ips correct:  126733\n",
      "Total Normalized Services:  3048.375734653858\n",
      "Total Normalized IPs:  6898.918547659669\n",
      "Total Fraction Services: 0.2438604290202756\n",
      "Total Fraction IPs: 0.29212864143688944\n",
      "Total Fraction Depopularized Services: 0.24370564233295874\n",
      "Total Fraction Depopularized IPs: 0.2919664047133134\n"
     ]
    },
    {
     "name": "stderr",
     "output_type": "stream",
     "text": [
      "Epoch: 100%|██████████| 10/10 [00:34<00:00,  3.47s/it]\n"
     ]
    },
    {
     "name": "stdout",
     "output_type": "stream",
     "text": [
      "...Grabbed Representations\n",
      "Got Item Representations\n",
      "Got User Representations\n",
      "Made Index\n",
      "Got Top Items\n",
      "Got Predictions/Top Items\n",
      "...Calculated Predictions\n",
      "cycle:  295\n",
      "correct: 120\n",
      "Num Scanned:  433826\n",
      "Number unique ports Rec'd:  30500\n",
      "At Bin:  295\n",
      "Hitrate:  0.00027660859422902267\n",
      "total ips correct:  126817\n",
      "Total Normalized Services:  3050.013082826599\n",
      "Total Normalized IPs:  6904.51281754176\n",
      "Total Fraction Services: 0.24403975256364854\n",
      "Total Fraction IPs: 0.2923222674528498\n",
      "Total Fraction Depopularized Services: 0.24388514711095358\n",
      "Total Fraction Depopularized IPs:"
     ]
    },
    {
     "name": "stderr",
     "output_type": "stream",
     "text": [
      "\r",
      "Epoch:   0%|          | 0/10 [00:00<?, ?it/s]"
     ]
    },
    {
     "name": "stdout",
     "output_type": "stream",
     "text": [
      " 0.2921603302274469\n"
     ]
    },
    {
     "name": "stderr",
     "output_type": "stream",
     "text": [
      "Epoch: 100%|██████████| 10/10 [00:32<00:00,  3.26s/it]\n"
     ]
    },
    {
     "name": "stdout",
     "output_type": "stream",
     "text": [
      "...Grabbed Representations\n",
      "Got Item Representations\n",
      "Got User Representations\n",
      "Made Index\n",
      "Got Top Items\n",
      "Got Predictions/Top Items\n",
      "...Calculated Predictions\n",
      "cycle:  296\n",
      "correct: 165\n",
      "Num Scanned:  433826\n",
      "Number unique ports Rec'd:  30503\n",
      "At Bin:  296\n",
      "Hitrate:  0.0003803368170649062\n",
      "total ips correct:  126936\n"
     ]
    },
    {
     "name": "stderr",
     "output_type": "stream",
     "text": [
      "\r",
      "Epoch:   0%|          | 0/10 [00:00<?, ?it/s]"
     ]
    },
    {
     "name": "stdout",
     "output_type": "stream",
     "text": [
      "Total Normalized Services:  3053.9754881308145\n",
      "Total Normalized IPs:  6912.822590014275\n",
      "Total Fraction Services: 0.24428688753098604\n",
      "Total Fraction IPs: 0.2925965709754602\n",
      "Total Fraction Depopularized Services: 0.24413253184701367\n",
      "Total Fraction Depopularized IPs: 0.292435058039136\n"
     ]
    },
    {
     "name": "stderr",
     "output_type": "stream",
     "text": [
      "Epoch: 100%|██████████| 10/10 [00:35<00:00,  3.59s/it]\n"
     ]
    },
    {
     "name": "stdout",
     "output_type": "stream",
     "text": [
      "...Grabbed Representations\n",
      "Got Item Representations\n",
      "Got User Representations\n",
      "Made Index\n",
      "Got Top Items\n",
      "Got Predictions/Top Items\n",
      "...Calculated Predictions\n",
      "cycle:  297\n",
      "correct: 179\n",
      "Num Scanned:  433826\n",
      "Number unique ports Rec'd:  30506\n",
      "At Bin:  297\n",
      "Hitrate:  0.00041260781972495887\n",
      "total ips correct:  126993\n",
      "Total Normalized Services:  3055.854484658837\n",
      "Total Normalized IPs:  6916.872988322026\n",
      "Total Fraction Services: 0.24439538580932935\n",
      "Total Fraction IPs: 0.292727960057719\n",
      "Total Fraction Depopularized Services: 0.2442411397799181\n",
      "Total Fraction Depopularized IPs: 0.292566650352298\n"
     ]
    },
    {
     "name": "stderr",
     "output_type": "stream",
     "text": [
      "Epoch: 100%|██████████| 10/10 [00:33<00:00,  3.35s/it]\n"
     ]
    },
    {
     "name": "stdout",
     "output_type": "stream",
     "text": [
      "...Grabbed Representations\n",
      "Got Item Representations\n",
      "Got User Representations\n",
      "Made Index\n",
      "Got Top Items\n",
      "Got Predictions/Top Items\n",
      "...Calculated Predictions\n",
      "cycle:  298\n",
      "correct: 105\n",
      "Num Scanned:  433826\n",
      "Number unique ports Rec'd:  30507\n",
      "At Bin:  298\n",
      "Hitrate:  0.00024203251995039485\n",
      "total ips correct:  127073\n"
     ]
    },
    {
     "name": "stderr",
     "output_type": "stream",
     "text": [
      "\r",
      "Epoch:   0%|          | 0/10 [00:00<?, ?it/s]"
     ]
    },
    {
     "name": "stdout",
     "output_type": "stream",
     "text": [
      "Total Normalized Services:  3057.357842190378\n",
      "Total Normalized IPs:  6923.175397039027\n",
      "Total Fraction Services: 0.24455361246524665\n",
      "Total Fraction IPs: 0.29291236578720503\n",
      "Total Fraction Depopularized Services: 0.24439952634873705\n",
      "Total Fraction Depopularized IPs: 0.2927513413181394\n"
     ]
    },
    {
     "name": "stderr",
     "output_type": "stream",
     "text": [
      "Epoch: 100%|██████████| 10/10 [00:34<00:00,  3.44s/it]\n"
     ]
    },
    {
     "name": "stdout",
     "output_type": "stream",
     "text": [
      "...Grabbed Representations\n",
      "Got Item Representations\n",
      "Got User Representations\n",
      "Made Index\n",
      "Got Top Items\n",
      "Got Predictions/Top Items\n",
      "...Calculated Predictions\n",
      "cycle:  299\n",
      "correct: 110\n",
      "Num Scanned:  433826\n",
      "Number unique ports Rec'd:  30512\n",
      "At Bin:  299\n",
      "Hitrate:  0.0002535578780432708\n",
      "total ips correct:  127163\n",
      "Total Normalized Services:  3060.4700391096694\n",
      "Total Normalized IPs:  6929.539393247458\n",
      "Total Fraction Services: 0.24471334604169648\n",
      "Total Fraction IPs: 0.29311982223287675\n",
      "Total Fraction Depopularized Services: 0.2445594213610686\n",
      "Total Fraction Depopularized IPs: 0.292959118654711\n"
     ]
    },
    {
     "name": "stderr",
     "output_type": "stream",
     "text": [
      "Epoch: 100%|██████████| 10/10 [00:31<00:00,  3.17s/it]\n"
     ]
    },
    {
     "name": "stdout",
     "output_type": "stream",
     "text": [
      "...Grabbed Representations\n",
      "Got Item Representations\n",
      "Got User Representations\n",
      "Made Index\n",
      "Got Top Items\n",
      "Got Predictions/Top Items\n",
      "...Calculated Predictions\n",
      "cycle:  300\n",
      "correct: 107\n",
      "Num Scanned:  433826\n",
      "Number unique ports Rec'd:  30515\n",
      "At Bin:  300\n",
      "Hitrate:  0.00024664266318754523\n",
      "total ips correct:  127253\n",
      "Total Normalized Services:  3062.0851599573043\n",
      "Total Normalized IPs:  6934.828817912434\n",
      "Total Fraction Services: 0.24487307961814633\n",
      "Total Fraction IPs: 0.2933272786785485\n",
      "Total Fraction Depopularized Services: 0.2447193163734001\n",
      "Total Fraction Depopularized IPs: 0.2931668959912826"
     ]
    },
    {
     "name": "stderr",
     "output_type": "stream",
     "text": [
      "\r",
      "Epoch:   0%|          | 0/10 [00:00<?, ?it/s]"
     ]
    },
    {
     "name": "stdout",
     "output_type": "stream",
     "text": [
      "\n"
     ]
    },
    {
     "name": "stderr",
     "output_type": "stream",
     "text": [
      "Epoch: 100%|██████████| 10/10 [00:35<00:00,  3.50s/it]\n"
     ]
    },
    {
     "name": "stdout",
     "output_type": "stream",
     "text": [
      "...Grabbed Representations\n",
      "Got Item Representations\n",
      "Got User Representations\n",
      "Made Index\n",
      "Got Top Items\n",
      "Got Predictions/Top Items\n",
      "...Calculated Predictions\n",
      "cycle:  301\n",
      "correct: 231\n",
      "Num Scanned:  433826\n",
      "Number unique ports Rec'd:  30516\n",
      "At Bin:  301\n",
      "Hitrate:  0.0005324715438908687\n",
      "total ips correct:  127426\n",
      "Total Normalized Services:  3065.0853157102965\n",
      "Total Normalized IPs:  6945.434186131482\n",
      "Total Fraction Services: 0.2452015882942413\n",
      "Total Fraction IPs: 0.29372605606856206\n",
      "Total Fraction Depopularized Services: 0.24504815705913852\n",
      "Total Fraction Depopularized IPs: 0.29356629020491465\n"
     ]
    },
    {
     "name": "stderr",
     "output_type": "stream",
     "text": [
      "Epoch: 100%|██████████| 10/10 [00:31<00:00,  3.14s/it]\n"
     ]
    },
    {
     "name": "stdout",
     "output_type": "stream",
     "text": [
      "...Grabbed Representations\n",
      "Got Item Representations\n",
      "Got User Representations\n",
      "Made Index\n",
      "Got Top Items\n",
      "Got Predictions/Top Items\n",
      "...Calculated Predictions\n",
      "cycle:  302\n",
      "correct: 279\n",
      "Num Scanned:  433826\n",
      "Number unique ports Rec'd:  30517\n",
      "At Bin:  302\n",
      "Hitrate:  0.0006431149815824778\n",
      "total ips correct:  127644\n",
      "Total Normalized Services:  3069.074391170616\n",
      "Total Normalized IPs:  6957.271447089064\n",
      "Total Fraction Services: 0.24562201912282156\n",
      "Total Fraction IPs: 0.2942285616814114\n",
      "Total Fraction Depopularized Services: 0.24546750435563064\n",
      "Total Fraction Depopularized IPs: 0.29406726444975945\n"
     ]
    },
    {
     "name": "stderr",
     "output_type": "stream",
     "text": [
      "Epoch: 100%|██████████| 10/10 [00:33<00:00,  3.33s/it]\n"
     ]
    },
    {
     "name": "stdout",
     "output_type": "stream",
     "text": [
      "...Grabbed Representations\n",
      "Got Item Representations\n",
      "Got User Representations\n",
      "Made Index\n",
      "Got Top Items\n",
      "Got Predictions/Top Items\n",
      "...Calculated Predictions\n",
      "cycle:  303\n",
      "correct: 282\n",
      "Num Scanned:  433826\n",
      "Number unique ports Rec'd:  30520\n",
      "At Bin:  303\n",
      "Hitrate:  0.0006500301964382034\n",
      "total ips correct:  127718\n",
      "Total Normalized Services:  3072.080614596461\n",
      "Total Normalized IPs:  6963.669300896007\n",
      "Total Fraction Services: 0.24577723193767376\n",
      "Total Fraction IPs: 0.294399136981186\n",
      "Total Fraction Depopularized Services: 0.24562287403742447\n",
      "Total Fraction Depopularized IPs: 0.2942381035931627\n"
     ]
    },
    {
     "name": "stderr",
     "output_type": "stream",
     "text": [
      "Epoch: 100%|██████████| 10/10 [00:33<00:00,  3.34s/it]\n"
     ]
    },
    {
     "name": "stdout",
     "output_type": "stream",
     "text": [
      "...Grabbed Representations\n",
      "Got Item Representations\n",
      "Got User Representations\n",
      "Made Index\n",
      "Got Top Items\n",
      "Got Predictions/Top Items\n",
      "...Calculated Predictions\n",
      "cycle:  304\n",
      "correct: 82\n",
      "Num Scanned:  433826\n",
      "Number unique ports Rec'd:  30520\n",
      "At Bin:  304\n",
      "Hitrate:  0.0001890158727231655\n",
      "total ips correct:  127770\n"
     ]
    },
    {
     "name": "stderr",
     "output_type": "stream",
     "text": [
      "\r",
      "Epoch:   0%|          | 0/10 [00:00<?, ?it/s]"
     ]
    },
    {
     "name": "stdout",
     "output_type": "stream",
     "text": [
      "Total Normalized Services:  3075.5895399077704\n",
      "Total Normalized IPs:  6973.038689867675\n",
      "Total Fraction Services: 0.24589778558027742\n",
      "Total Fraction IPs: 0.2945190007053519\n",
      "Total Fraction Depopularized Services: 0.24574354951842942\n",
      "Total Fraction Depopularized IPs: 0.29435815272095966\n"
     ]
    },
    {
     "name": "stderr",
     "output_type": "stream",
     "text": [
      "Epoch: 100%|██████████| 10/10 [00:34<00:00,  3.50s/it]\n"
     ]
    },
    {
     "name": "stdout",
     "output_type": "stream",
     "text": [
      "...Grabbed Representations\n",
      "Got Item Representations\n",
      "Got User Representations\n",
      "Made Index\n",
      "Got Top Items\n",
      "Got Predictions/Top Items\n",
      "...Calculated Predictions\n",
      "cycle:  305\n",
      "correct: 102\n",
      "Num Scanned:  433826\n",
      "Number unique ports Rec'd:  30521\n",
      "At Bin:  305\n",
      "Hitrate:  0.0002351173050946693\n",
      "total ips correct:  127853\n",
      "Total Normalized Services:  3078.410342917086\n",
      "Total Normalized IPs:  6979.5421601675\n",
      "Total Fraction Services: 0.2460514914745971\n",
      "Total Fraction IPs: 0.29471032164969363\n",
      "Total Fraction Depopularized Services: 0.24589741075671068\n",
      "Total Fraction Depopularized IPs: 0.2945497695980201\n"
     ]
    },
    {
     "name": "stderr",
     "output_type": "stream",
     "text": [
      "Epoch: 100%|██████████| 10/10 [00:31<00:00,  3.12s/it]\n"
     ]
    },
    {
     "name": "stdout",
     "output_type": "stream",
     "text": [
      "...Grabbed Representations\n",
      "Got Item Representations\n",
      "Got User Representations\n",
      "Made Index\n",
      "Got Top Items\n",
      "Got Predictions/Top Items\n",
      "...Calculated Predictions\n",
      "cycle:  306\n",
      "correct: 163\n",
      "Num Scanned:  433826\n",
      "Number unique ports Rec'd:  30522\n",
      "At Bin:  306\n",
      "Hitrate:  0.00037572667382775585\n",
      "total ips correct:  127967\n",
      "Total Normalized Services:  3081.0591356528807\n",
      "Total Normalized IPs:  6989.279750313605\n",
      "Total Fraction Services: 0.2462594465080884\n",
      "Total Fraction IPs: 0.2949730998142112\n",
      "Total Fraction Depopularized Services: 0.2461055759614442\n",
      "Total Fraction Depopularized IPs: 0.2948129542243441\n"
     ]
    },
    {
     "name": "stderr",
     "output_type": "stream",
     "text": [
      "Epoch: 100%|██████████| 10/10 [00:30<00:00,  3.09s/it]\n"
     ]
    },
    {
     "name": "stdout",
     "output_type": "stream",
     "text": [
      "...Grabbed Representations\n",
      "Got Item Representations\n",
      "Got User Representations\n",
      "Made Index\n",
      "Got Top Items\n",
      "Got Predictions/Top Items\n",
      "...Calculated Predictions\n",
      "cycle:  307\n",
      "correct: 129\n",
      "Num Scanned:  433826\n",
      "Number unique ports Rec'd:  30524\n",
      "At Bin:  307\n",
      "Hitrate:  0.0002973542387961994\n",
      "total ips correct:  128079\n",
      "Total Normalized Services:  3084.0317727598303\n",
      "Total Normalized IPs:  6997.016703760575\n",
      "Total Fraction Services: 0.2464508254157217\n",
      "Total Fraction IPs: 0.29523126783549164\n",
      "Total Fraction Depopularized Services: 0.2462971482875395\n",
      "Total Fraction Depopularized IPs: 0.2950715215765221\n"
     ]
    },
    {
     "name": "stderr",
     "output_type": "stream",
     "text": [
      "Epoch: 100%|██████████| 10/10 [00:31<00:00,  3.12s/it]\n"
     ]
    },
    {
     "name": "stdout",
     "output_type": "stream",
     "text": [
      "...Grabbed Representations\n",
      "Got Item Representations\n",
      "Got User Representations\n",
      "Made Index\n",
      "Got Top Items\n",
      "Got Predictions/Top Items\n",
      "...Calculated Predictions\n",
      "cycle:  308\n",
      "correct: 325\n",
      "Num Scanned:  433826\n",
      "Number unique ports Rec'd:  30527\n",
      "At Bin:  308\n",
      "Hitrate:  0.0007491482760369365\n",
      "total ips correct:  128287\n"
     ]
    },
    {
     "name": "stderr",
     "output_type": "stream",
     "text": [
      "\r",
      "Epoch:   0%|          | 0/10 [00:00<?, ?it/s]"
     ]
    },
    {
     "name": "stdout",
     "output_type": "stream",
     "text": [
      "Total Normalized Services:  3086.760906911198\n",
      "Total Normalized IPs:  7005.5118642015095\n",
      "Total Fraction Services: 0.2468471455157812\n",
      "Total Fraction IPs: 0.29571072273215526\n",
      "Total Fraction Depopularized Services: 0.24668330982675526\n",
      "Total Fraction Depopularized IPs: 0.2955355576281986\n"
     ]
    },
    {
     "name": "stderr",
     "output_type": "stream",
     "text": [
      "Epoch: 100%|██████████| 10/10 [00:35<00:00,  3.59s/it]\n"
     ]
    },
    {
     "name": "stdout",
     "output_type": "stream",
     "text": [
      "...Grabbed Representations\n",
      "Got Item Representations\n",
      "Got User Representations\n",
      "Made Index\n",
      "Got Top Items\n",
      "Got Predictions/Top Items\n",
      "...Calculated Predictions\n",
      "cycle:  309\n",
      "correct: 156\n",
      "Num Scanned:  433826\n",
      "Number unique ports Rec'd:  30530\n",
      "At Bin:  309\n",
      "Hitrate:  0.0003595911724977295\n",
      "total ips correct:  128416\n"
     ]
    },
    {
     "name": "stderr",
     "output_type": "stream",
     "text": [
      "\r",
      "Epoch:   0%|          | 0/10 [00:00<?, ?it/s]"
     ]
    },
    {
     "name": "stdout",
     "output_type": "stream",
     "text": [
      "Total Normalized Services:  3089.599725087167\n",
      "Total Normalized IPs:  7013.376387621827\n",
      "Total Fraction Services: 0.24707921127779325\n",
      "Total Fraction IPs: 0.2960080769709515\n",
      "Total Fraction Depopularized Services: 0.24691561012768976\n",
      "Total Fraction Depopularized IPs: 0.29583337181061786\n"
     ]
    },
    {
     "name": "stderr",
     "output_type": "stream",
     "text": [
      "Epoch: 100%|██████████| 10/10 [00:35<00:00,  3.56s/it]\n"
     ]
    },
    {
     "name": "stdout",
     "output_type": "stream",
     "text": [
      "...Grabbed Representations\n",
      "Got Item Representations\n",
      "Got User Representations\n",
      "Made Index\n",
      "Got Top Items\n",
      "Got Predictions/Top Items\n",
      "...Calculated Predictions\n",
      "cycle:  310\n",
      "correct: 178\n",
      "Num Scanned:  433826\n",
      "Number unique ports Rec'd:  30532\n",
      "At Bin:  310\n",
      "Hitrate:  0.0004103027481063837\n",
      "total ips correct:  128558\n",
      "Total Normalized Services:  3092.8976900237467\n",
      "Total Normalized IPs:  7020.845524467689\n",
      "Total Fraction Services: 0.24733237392726096\n",
      "Total Fraction IPs: 0.29633539714078916\n",
      "Total Fraction Depopularized Services: 0.24716902863780008\n",
      "Total Fraction Depopularized IPs: 0.2961611982749864\n"
     ]
    },
    {
     "name": "stderr",
     "output_type": "stream",
     "text": [
      "Epoch: 100%|██████████| 10/10 [00:30<00:00,  3.09s/it]\n"
     ]
    },
    {
     "name": "stdout",
     "output_type": "stream",
     "text": [
      "...Grabbed Representations\n",
      "Got Item Representations\n",
      "Got User Representations\n",
      "Made Index\n",
      "Got Top Items\n",
      "Got Predictions/Top Items\n",
      "...Calculated Predictions\n",
      "cycle:  311\n",
      "correct: 169\n",
      "Num Scanned:  433826\n",
      "Number unique ports Rec'd:  30533\n",
      "At Bin:  311\n",
      "Hitrate:  0.00038955710353920695\n",
      "total ips correct:  128703\n",
      "Total Normalized Services:  3096.747715322894\n",
      "Total Normalized IPs:  7035.154701803651\n",
      "Total Fraction Services: 0.24758252273566353\n",
      "Total Fraction IPs: 0.29666963252548256\n",
      "Total Fraction Depopularized Services: 0.2474118880433225\n",
      "Total Fraction Depopularized IPs: 0.2964844074652088\n"
     ]
    },
    {
     "name": "stderr",
     "output_type": "stream",
     "text": [
      "Epoch: 100%|██████████| 10/10 [00:30<00:00,  3.04s/it]\n"
     ]
    },
    {
     "name": "stdout",
     "output_type": "stream",
     "text": [
      "...Grabbed Representations\n",
      "Got Item Representations\n",
      "Got User Representations\n",
      "Made Index\n",
      "Got Top Items\n",
      "Got Predictions/Top Items\n",
      "...Calculated Predictions\n",
      "cycle:  312\n",
      "correct: 120\n",
      "Num Scanned:  433826\n",
      "Number unique ports Rec'd:  30536\n",
      "At Bin:  312\n",
      "Hitrate:  0.00027660859422902267\n",
      "total ips correct:  128794\n"
     ]
    },
    {
     "name": "stderr",
     "output_type": "stream",
     "text": [
      "\r",
      "Epoch:   0%|          | 0/10 [00:00<?, ?it/s]"
     ]
    },
    {
     "name": "stdout",
     "output_type": "stream",
     "text": [
      "Total Normalized Services:  3098.757264845772\n",
      "Total Normalized IPs:  7041.156136047248\n",
      "Total Fraction Services: 0.24776184627903647\n",
      "Total Fraction IPs: 0.2968793940427729\n",
      "Total Fraction Depopularized Services: 0.2475913928213173\n",
      "Total Fraction Depopularized IPs: 0.29669449343885346\n"
     ]
    },
    {
     "name": "stderr",
     "output_type": "stream",
     "text": [
      "Epoch: 100%|██████████| 10/10 [00:31<00:00,  3.10s/it]\n"
     ]
    },
    {
     "name": "stdout",
     "output_type": "stream",
     "text": [
      "...Grabbed Representations\n",
      "Got Item Representations\n",
      "Got User Representations\n",
      "Made Index\n",
      "Got Top Items\n",
      "Got Predictions/Top Items\n",
      "...Calculated Predictions\n",
      "cycle:  313\n",
      "correct: 277\n",
      "Num Scanned:  433826\n",
      "Number unique ports Rec'd:  30538\n",
      "At Bin:  313\n",
      "Hitrate:  0.0006385048383453274\n",
      "total ips correct:  129024\n"
     ]
    },
    {
     "name": "stderr",
     "output_type": "stream",
     "text": [
      "\r",
      "Epoch:   0%|          | 0/10 [00:00<?, ?it/s]"
     ]
    },
    {
     "name": "stdout",
     "output_type": "stream",
     "text": [
      "Total Normalized Services:  3101.2455412629215\n",
      "Total Normalized IPs:  7049.342749031397\n",
      "Total Fraction Services: 0.24814008333270546\n",
      "Total Fraction IPs: 0.2974095605150452\n",
      "Total Fraction Depopularized Services: 0.24797001214297026\n",
      "Total Fraction Depopularized IPs: 0.29722547996564747\n"
     ]
    },
    {
     "name": "stderr",
     "output_type": "stream",
     "text": [
      "Epoch: 100%|██████████| 10/10 [00:32<00:00,  3.23s/it]\n"
     ]
    },
    {
     "name": "stdout",
     "output_type": "stream",
     "text": [
      "...Grabbed Representations\n",
      "Got Item Representations\n",
      "Got User Representations\n",
      "Made Index\n",
      "Got Top Items\n",
      "Got Predictions/Top Items\n",
      "...Calculated Predictions\n",
      "cycle:  314\n",
      "correct: 165\n",
      "Num Scanned:  433826\n",
      "Number unique ports Rec'd:  30539\n",
      "At Bin:  314\n",
      "Hitrate:  0.0003803368170649062\n",
      "total ips correct:  129101\n",
      "Total Normalized Services:  3103.190431281764\n",
      "Total Normalized IPs:  7054.714703121611\n",
      "Total Fraction Services: 0.2482832407832973\n",
      "Total Fraction IPs: 0.2975870510296755\n",
      "Total Fraction Depopularized Services: 0.24811331427666364\n",
      "Total Fraction Depopularized IPs: "
     ]
    },
    {
     "name": "stderr",
     "output_type": "stream",
     "text": [
      "\r",
      "Epoch:   0%|          | 0/10 [00:00<?, ?it/s]"
     ]
    },
    {
     "name": "stdout",
     "output_type": "stream",
     "text": [
      "0.2974032450202698\n"
     ]
    },
    {
     "name": "stderr",
     "output_type": "stream",
     "text": [
      "Epoch: 100%|██████████| 10/10 [00:31<00:00,  3.15s/it]\n"
     ]
    },
    {
     "name": "stdout",
     "output_type": "stream",
     "text": [
      "...Grabbed Representations\n",
      "Got Item Representations\n",
      "Got User Representations\n",
      "Made Index\n",
      "Got Top Items\n",
      "Got Predictions/Top Items\n",
      "...Calculated Predictions\n",
      "cycle:  315\n",
      "correct: 94\n",
      "Num Scanned:  433826\n",
      "Number unique ports Rec'd:  30544\n",
      "At Bin:  315\n",
      "Hitrate:  0.00021667673214606777\n",
      "total ips correct:  129174\n",
      "Total Normalized Services:  3105.241704185915\n",
      "Total Normalized IPs:  7061.097177676136\n",
      "Total Fraction Services: 0.2484218774722915\n",
      "Total Fraction IPs: 0.2977553212578315\n",
      "Total Fraction Depopularized Services: 0.24824454886225647\n",
      "Total Fraction Depopularized IPs: 0.297560232341235\n"
     ]
    },
    {
     "name": "stderr",
     "output_type": "stream",
     "text": [
      "Epoch: 100%|██████████| 10/10 [00:31<00:00,  3.14s/it]\n"
     ]
    },
    {
     "name": "stdout",
     "output_type": "stream",
     "text": [
      "...Grabbed Representations\n",
      "Got Item Representations\n",
      "Got User Representations\n",
      "Made Index\n",
      "Got Top Items\n",
      "Got Predictions/Top Items\n",
      "...Calculated Predictions\n",
      "cycle:  316\n",
      "correct: 117\n",
      "Num Scanned:  433826\n",
      "Number unique ports Rec'd:  30544\n",
      "At Bin:  316\n",
      "Hitrate:  0.00026969337937329715\n",
      "total ips correct:  129280\n"
     ]
    },
    {
     "name": "stderr",
     "output_type": "stream",
     "text": [
      "\r",
      "Epoch:   0%|          | 0/10 [00:00<?, ?it/s]"
     ]
    },
    {
     "name": "stdout",
     "output_type": "stream",
     "text": [
      "Total Normalized Services:  3108.880869018807\n",
      "Total Normalized IPs:  7070.519228548955\n",
      "Total Fraction Services: 0.24859818717459936\n",
      "Total Fraction IPs: 0.29799965884940044\n",
      "Total Fraction Depopularized Services: 0.2484210367532262\n",
      "Total Fraction Depopularized IPs: 0.2978049478709749\n"
     ]
    },
    {
     "name": "stderr",
     "output_type": "stream",
     "text": [
      "Epoch: 100%|██████████| 10/10 [00:32<00:00,  3.26s/it]\n"
     ]
    },
    {
     "name": "stdout",
     "output_type": "stream",
     "text": [
      "...Grabbed Representations\n",
      "Got Item Representations\n",
      "Got User Representations\n",
      "Made Index\n",
      "Got Top Items\n",
      "Got Predictions/Top Items\n",
      "...Calculated Predictions\n",
      "cycle:  317\n",
      "correct: 170\n",
      "Num Scanned:  433826\n",
      "Number unique ports Rec'd:  30546\n",
      "At Bin:  317\n",
      "Hitrate:  0.00039186217515778214\n",
      "total ips correct:  129371\n"
     ]
    },
    {
     "name": "stderr",
     "output_type": "stream",
     "text": [
      "\r",
      "Epoch:   0%|          | 0/10 [00:00<?, ?it/s]"
     ]
    },
    {
     "name": "stdout",
     "output_type": "stream",
     "text": [
      "Total Normalized Services:  3111.94015627633\n",
      "Total Normalized IPs:  7075.185715323628\n",
      "Total Fraction Services: 0.2488543636651321\n",
      "Total Fraction IPs: 0.2982094203666908\n",
      "Total Fraction Depopularized Services: 0.24867596370684908\n",
      "Total Fraction Depopularized IPs: 0.29801272520754646\n"
     ]
    },
    {
     "name": "stderr",
     "output_type": "stream",
     "text": [
      "Epoch: 100%|██████████| 10/10 [00:31<00:00,  3.11s/it]\n"
     ]
    },
    {
     "name": "stdout",
     "output_type": "stream",
     "text": [
      "...Grabbed Representations\n",
      "Got Item Representations\n",
      "Got User Representations\n",
      "Made Index\n",
      "Got Top Items\n",
      "Got Predictions/Top Items\n",
      "...Calculated Predictions\n",
      "cycle:  318\n",
      "correct: 118\n",
      "Num Scanned:  433826\n",
      "Number unique ports Rec'd:  30547\n",
      "At Bin:  318\n",
      "Hitrate:  0.00027199845099187234\n",
      "total ips correct:  129459\n"
     ]
    },
    {
     "name": "stderr",
     "output_type": "stream",
     "text": [
      "\r",
      "Epoch:   0%|          | 0/10 [00:00<?, ?it/s]"
     ]
    },
    {
     "name": "stdout",
     "output_type": "stream",
     "text": [
      "Total Normalized Services:  3114.05404587201\n",
      "Total Normalized IPs:  7082.484519689195\n",
      "Total Fraction Services: 0.24903067336743998\n",
      "Total Fraction IPs: 0.2984122666691254\n",
      "Total Fraction Depopularized Services: 0.2488524515978188\n",
      "Total Fraction Depopularized IPs: 0.298215885269972\n"
     ]
    },
    {
     "name": "stderr",
     "output_type": "stream",
     "text": [
      "Epoch: 100%|██████████| 10/10 [00:34<00:00,  3.47s/it]\n"
     ]
    },
    {
     "name": "stdout",
     "output_type": "stream",
     "text": [
      "...Grabbed Representations\n",
      "Got Item Representations\n",
      "Got User Representations\n",
      "Made Index\n",
      "Got Top Items\n",
      "Got Predictions/Top Items\n",
      "...Calculated Predictions\n",
      "cycle:  319\n",
      "correct: 86\n",
      "Num Scanned:  433826\n",
      "Number unique ports Rec'd:  30550\n",
      "At Bin:  319\n",
      "Hitrate:  0.00019823615919746626\n",
      "total ips correct:  129522\n",
      "Total Normalized Services:  3115.6052331719893\n",
      "Total Normalized IPs:  7089.735047598203\n",
      "Total Fraction Services: 0.24915876161270636\n",
      "Total Fraction IPs: 0.2985574861810956\n",
      "Total Fraction Depopularized Services: 0.2489776524093614\n",
      "Total Fraction Depopularized IPs: 0.2983567121314261\n"
     ]
    },
    {
     "name": "stderr",
     "output_type": "stream",
     "text": [
      "Epoch: 100%|██████████| 10/10 [00:31<00:00,  3.12s/it]\n"
     ]
    },
    {
     "name": "stdout",
     "output_type": "stream",
     "text": [
      "...Grabbed Representations\n",
      "Got Item Representations\n",
      "Got User Representations\n",
      "Made Index\n",
      "Got Top Items\n",
      "Got Predictions/Top Items\n",
      "...Calculated Predictions\n",
      "cycle:  320\n",
      "correct: 71\n",
      "Num Scanned:  433826\n",
      "Number unique ports Rec'd:  30551\n",
      "At Bin:  320\n",
      "Hitrate:  0.00016366008491883842\n",
      "total ips correct:  129571\n"
     ]
    },
    {
     "name": "stderr",
     "output_type": "stream",
     "text": [
      "\r",
      "Epoch:   0%|          | 0/10 [00:00<?, ?it/s]"
     ]
    },
    {
     "name": "stdout",
     "output_type": "stream",
     "text": [
      "Total Normalized Services:  3117.1471056171163\n",
      "Total Normalized IPs:  7094.468446277742\n",
      "Total Fraction Services: 0.24926273912945202\n",
      "Total Fraction IPs: 0.29867043469040583\n",
      "Total Fraction Depopularized Services: 0.24907871812470303\n",
      "Total Fraction Depopularized IPs: 0.2984652180738579\n"
     ]
    },
    {
     "name": "stderr",
     "output_type": "stream",
     "text": [
      "Epoch: 100%|██████████| 10/10 [00:31<00:00,  3.10s/it]\n"
     ]
    },
    {
     "name": "stdout",
     "output_type": "stream",
     "text": [
      "...Grabbed Representations\n",
      "Got Item Representations\n",
      "Got User Representations\n",
      "Made Index\n",
      "Got Top Items\n",
      "Got Predictions/Top Items\n",
      "...Calculated Predictions\n",
      "cycle:  321\n",
      "correct: 172\n",
      "Num Scanned:  433826\n",
      "Number unique ports Rec'd:  30554\n",
      "At Bin:  321\n",
      "Hitrate:  0.0003964723183949325\n",
      "total ips correct:  129672\n"
     ]
    },
    {
     "name": "stderr",
     "output_type": "stream",
     "text": [
      "\r",
      "Epoch:   0%|          | 0/10 [00:00<?, ?it/s]"
     ]
    },
    {
     "name": "stdout",
     "output_type": "stream",
     "text": [
      "Total Normalized Services:  3119.237788506607\n",
      "Total Normalized IPs:  7103.690065193379\n",
      "Total Fraction Services: 0.24944507651389003\n",
      "Total Fraction IPs: 0.2989032469238819\n",
      "Total Fraction Depopularized Services: 0.24926123978972298\n",
      "Total Fraction Depopularized IPs: 0.2986983904182327\n"
     ]
    },
    {
     "name": "stderr",
     "output_type": "stream",
     "text": [
      "Epoch: 100%|██████████| 10/10 [00:34<00:00,  3.49s/it]\n"
     ]
    },
    {
     "name": "stdout",
     "output_type": "stream",
     "text": [
      "...Grabbed Representations\n",
      "Got Item Representations\n",
      "Got User Representations\n",
      "Made Index\n",
      "Got Top Items\n",
      "Got Predictions/Top Items\n",
      "...Calculated Predictions\n",
      "cycle:  322\n",
      "correct: 109\n",
      "Num Scanned:  433826\n",
      "Number unique ports Rec'd:  30558\n",
      "At Bin:  322\n",
      "Hitrate:  0.0002512528064246956\n",
      "total ips correct:  129759\n"
     ]
    },
    {
     "name": "stderr",
     "output_type": "stream",
     "text": [
      "\r",
      "Epoch:   0%|          | 0/10 [00:00<?, ?it/s]"
     ]
    },
    {
     "name": "stdout",
     "output_type": "stream",
     "text": [
      "Total Normalized Services:  3120.9256612573236\n",
      "Total Normalized IPs:  7107.977887255537\n",
      "Total Fraction Services: 0.24960631701087244\n",
      "Total Fraction IPs: 0.29910378815469796\n",
      "Total Fraction Depopularized Services: 0.24942264324556707\n",
      "Total Fraction Depopularized IPs: 0.29889924184358524\n"
     ]
    },
    {
     "name": "stderr",
     "output_type": "stream",
     "text": [
      "Epoch: 100%|██████████| 10/10 [00:31<00:00,  3.17s/it]\n"
     ]
    },
    {
     "name": "stdout",
     "output_type": "stream",
     "text": [
      "...Grabbed Representations\n",
      "Got Item Representations\n",
      "Got User Representations\n",
      "Made Index\n",
      "Got Top Items\n",
      "Got Predictions/Top Items\n",
      "...Calculated Predictions\n",
      "cycle:  323\n",
      "correct: 90\n",
      "Num Scanned:  433826\n",
      "Number unique ports Rec'd:  30562\n",
      "At Bin:  323\n",
      "Hitrate:  0.00020745644567176703\n",
      "total ips correct:  129833\n",
      "Total Normalized Services:  3123.005746806357\n",
      "Total Normalized IPs:  7114.401941436934\n",
      "Total Fraction Services: 0.24974193985880155\n",
      "Total Fraction IPs: 0.2992743634544725\n",
      "Total Fraction Depopularized Services: 0.2495584031616976\n",
      "Total Fraction Depopularized IPs: 0.2990700809869885\n"
     ]
    },
    {
     "name": "stderr",
     "output_type": "stream",
     "text": [
      "Epoch: 100%|██████████| 10/10 [00:31<00:00,  3.12s/it]\n"
     ]
    },
    {
     "name": "stdout",
     "output_type": "stream",
     "text": [
      "...Grabbed Representations\n",
      "Got Item Representations\n",
      "Got User Representations\n",
      "Made Index\n",
      "Got Top Items\n",
      "Got Predictions/Top Items\n",
      "...Calculated Predictions\n",
      "cycle:  324\n",
      "correct: 105\n",
      "Num Scanned:  433826\n",
      "Number unique ports Rec'd:  30564\n",
      "At Bin:  324\n",
      "Hitrate:  0.00024203251995039485\n",
      "total ips correct:  129906\n"
     ]
    },
    {
     "name": "stderr",
     "output_type": "stream",
     "text": [
      "\r",
      "Epoch:   0%|          | 0/10 [00:00<?, ?it/s]"
     ]
    },
    {
     "name": "stdout",
     "output_type": "stream",
     "text": [
      "Total Normalized Services:  3125.449103507722\n",
      "Total Normalized IPs:  7123.150262982404\n",
      "Total Fraction Services: 0.2498986595941863\n",
      "Total Fraction IPs: 0.2994426336826285\n",
      "Total Fraction Depopularized Services: 0.24971528128700402\n",
      "Total Fraction Depopularized IPs: 0.2992386114933188\n"
     ]
    },
    {
     "name": "stderr",
     "output_type": "stream",
     "text": [
      "Epoch: 100%|██████████| 10/10 [00:30<00:00,  3.02s/it]\n"
     ]
    },
    {
     "name": "stdout",
     "output_type": "stream",
     "text": [
      "...Grabbed Representations\n",
      "Got Item Representations\n",
      "Got User Representations\n",
      "Made Index\n",
      "Got Top Items\n",
      "Got Predictions/Top Items\n",
      "...Calculated Predictions\n",
      "cycle:  325\n",
      "correct: 123\n",
      "Num Scanned:  433826\n",
      "Number unique ports Rec'd:  30566\n",
      "At Bin:  325\n",
      "Hitrate:  0.00028352380908474824\n",
      "total ips correct:  130005\n",
      "Total Normalized Services:  3127.988665561025\n",
      "Total Normalized IPs:  7131.399653055117\n",
      "Total Fraction Services: 0.250068941614364\n",
      "Total Fraction IPs: 0.29967083577286746\n",
      "Total Fraction Depopularized Services: 0.24988573540392345\n",
      "Total Fraction Depopularized IPs: 0.29946716656354755\n"
     ]
    },
    {
     "name": "stderr",
     "output_type": "stream",
     "text": [
      "Epoch: 100%|██████████| 10/10 [00:34<00:00,  3.44s/it]\n"
     ]
    },
    {
     "name": "stdout",
     "output_type": "stream",
     "text": [
      "...Grabbed Representations\n",
      "Got Item Representations\n",
      "Got User Representations\n",
      "Made Index\n",
      "Got Top Items\n",
      "Got Predictions/Top Items\n",
      "...Calculated Predictions\n",
      "cycle:  326\n",
      "correct: 70\n",
      "Num Scanned:  433826\n",
      "Number unique ports Rec'd:  30570\n",
      "At Bin:  326\n",
      "Hitrate:  0.00016135501330026325\n",
      "total ips correct:  130057\n"
     ]
    },
    {
     "name": "stderr",
     "output_type": "stream",
     "text": [
      "\r",
      "Epoch:   0%|          | 0/10 [00:00<?, ?it/s]"
     ]
    },
    {
     "name": "stdout",
     "output_type": "stream",
     "text": [
      "Total Normalized Services:  3129.5709851059787\n",
      "Total Normalized IPs:  7136.411593915057\n",
      "Total Fraction Services: 0.2501714122105771\n",
      "Total Fraction IPs: 0.29979069949703335\n",
      "Total Fraction Depopularized Services: 0.24998830956277765\n",
      "Total Fraction Depopularized IPs: 0.29958721569134444\n"
     ]
    },
    {
     "name": "stderr",
     "output_type": "stream",
     "text": [
      "Epoch: 100%|██████████| 10/10 [00:33<00:00,  3.36s/it]\n"
     ]
    },
    {
     "name": "stdout",
     "output_type": "stream",
     "text": [
      "...Grabbed Representations\n",
      "Got Item Representations\n",
      "Got User Representations\n",
      "Made Index\n",
      "Got Top Items\n",
      "Got Predictions/Top Items\n",
      "...Calculated Predictions\n",
      "cycle:  327\n",
      "correct: 84\n",
      "Num Scanned:  433826\n",
      "Number unique ports Rec'd:  30571\n",
      "At Bin:  327\n",
      "Hitrate:  0.00019362601596031588\n",
      "total ips correct:  130132\n"
     ]
    },
    {
     "name": "stderr",
     "output_type": "stream",
     "text": [
      "\r",
      "Epoch:   0%|          | 0/10 [00:00<?, ?it/s]"
     ]
    },
    {
     "name": "stdout",
     "output_type": "stream",
     "text": [
      "Total Normalized Services:  3130.9853025626176\n",
      "Total Normalized IPs:  7143.068847230426\n",
      "Total Fraction Services: 0.2502979935353109\n",
      "Total Fraction IPs: 0.29996357986842653\n",
      "Total Fraction Depopularized Services: 0.2501150188178328\n",
      "Total Fraction Depopularized IPs: 0.2997603634718208\n"
     ]
    },
    {
     "name": "stderr",
     "output_type": "stream",
     "text": [
      "Epoch: 100%|██████████| 10/10 [00:34<00:00,  3.45s/it]\n"
     ]
    },
    {
     "name": "stdout",
     "output_type": "stream",
     "text": [
      "...Grabbed Representations\n",
      "Got Item Representations\n",
      "Got User Representations\n",
      "Made Index\n",
      "Got Top Items\n",
      "Got Predictions/Top Items\n",
      "...Calculated Predictions\n",
      "cycle:  328\n",
      "correct: 255\n",
      "Num Scanned:  433826\n",
      "Number unique ports Rec'd:  30574\n",
      "At Bin:  328\n",
      "Hitrate:  0.0005877932627366732\n",
      "total ips correct:  130362\n"
     ]
    },
    {
     "name": "stderr",
     "output_type": "stream",
     "text": [
      "\r",
      "Epoch:   0%|          | 0/10 [00:00<?, ?it/s]"
     ]
    },
    {
     "name": "stdout",
     "output_type": "stream",
     "text": [
      "Total Normalized Services:  3134.1216213706753\n",
      "Total Normalized IPs:  7151.437670501351\n",
      "Total Fraction Services: 0.25068225827111007\n",
      "Total Fraction IPs: 0.3004937463406988\n",
      "Total Fraction Depopularized Services: 0.250499671913536\n",
      "Total Fraction Depopularized IPs: 0.30029134999861484\n"
     ]
    },
    {
     "name": "stderr",
     "output_type": "stream",
     "text": [
      "Epoch: 100%|██████████| 10/10 [00:34<00:00,  3.43s/it]\n"
     ]
    },
    {
     "name": "stdout",
     "output_type": "stream",
     "text": [
      "...Grabbed Representations\n",
      "Got Item Representations\n",
      "Got User Representations\n",
      "Made Index\n",
      "Got Top Items\n",
      "Got Predictions/Top Items\n",
      "...Calculated Predictions\n",
      "cycle:  329\n",
      "correct: 127\n",
      "Num Scanned:  433826\n",
      "Number unique ports Rec'd:  30578\n",
      "At Bin:  329\n",
      "Hitrate:  0.000292744095559049\n",
      "total ips correct:  130462\n",
      "Total Normalized Services:  3136.7439833335593\n",
      "Total Normalized IPs:  7165.034586949683\n",
      "Total Fraction Services: 0.2508721302582108\n",
      "Total Fraction IPs: 0.3007242535025563\n",
      "Total Fraction Depopularized Services: 0.25068973579611875\n",
      "Total Fraction Depopularized IPs: 0.3005222137059166\n"
     ]
    },
    {
     "name": "stderr",
     "output_type": "stream",
     "text": [
      "Epoch: 100%|██████████| 10/10 [00:34<00:00,  3.46s/it]\n"
     ]
    },
    {
     "name": "stdout",
     "output_type": "stream",
     "text": [
      "...Grabbed Representations\n",
      "Got Item Representations\n",
      "Got User Representations\n",
      "Made Index\n",
      "Got Top Items\n",
      "Got Predictions/Top Items\n",
      "...Calculated Predictions\n",
      "cycle:  330\n",
      "correct: 156\n",
      "Num Scanned:  433826\n",
      "Number unique ports Rec'd:  30579\n",
      "At Bin:  330\n",
      "Hitrate:  0.0003595911724977295\n",
      "total ips correct:  130586\n",
      "Total Normalized Services:  3139.752498263993\n",
      "Total Normalized IPs:  7170.4405900977345\n",
      "Total Fraction Services: 0.25109666141756015\n",
      "Total Fraction IPs: 0.30101008238325966\n",
      "Total Fraction Depopularized Services: 0.25091449387949044\n",
      "Total Fraction Depopularized IPs: 0.3008084847029708\n"
     ]
    },
    {
     "name": "stderr",
     "output_type": "stream",
     "text": [
      "Epoch: 100%|██████████| 10/10 [00:33<00:00,  3.32s/it]\n"
     ]
    },
    {
     "name": "stdout",
     "output_type": "stream",
     "text": [
      "...Grabbed Representations\n",
      "Got Item Representations\n",
      "Got User Representations\n",
      "Made Index\n",
      "Got Top Items\n",
      "Got Predictions/Top Items\n",
      "...Calculated Predictions\n",
      "cycle:  331\n",
      "correct: 111\n",
      "Num Scanned:  433826\n",
      "Number unique ports Rec'd:  30582\n",
      "At Bin:  331\n",
      "Hitrate:  0.000255862949661846\n",
      "total ips correct:  130651\n",
      "Total Normalized Services:  3142.054700923723\n",
      "Total Normalized IPs:  7176.722439868408\n",
      "Total Fraction Services: 0.2512443396297496\n",
      "Total Fraction IPs: 0.30115991203846704\n",
      "Total Fraction Depopularized Services: 0.2510623213437215\n",
      "Total Fraction Depopularized IPs: 0.3009585461127169\n"
     ]
    },
    {
     "name": "stderr",
     "output_type": "stream",
     "text": [
      "Epoch: 100%|██████████| 10/10 [00:31<00:00,  3.16s/it]\n"
     ]
    },
    {
     "name": "stdout",
     "output_type": "stream",
     "text": [
      "...Grabbed Representations\n",
      "Got Item Representations\n",
      "Got User Representations\n",
      "Made Index\n",
      "Got Top Items\n",
      "Got Predictions/Top Items\n",
      "...Calculated Predictions\n",
      "cycle:  332\n",
      "correct: 94\n",
      "Num Scanned:  433826\n",
      "Number unique ports Rec'd:  30583\n",
      "At Bin:  332\n",
      "Hitrate:  0.00021667673214606777\n",
      "total ips correct:  130717\n"
     ]
    },
    {
     "name": "stderr",
     "output_type": "stream",
     "text": [
      "\r",
      "Epoch:   0%|          | 0/10 [00:00<?, ?it/s]"
     ]
    },
    {
     "name": "stdout",
     "output_type": "stream",
     "text": [
      "Total Normalized Services:  3144.3825006477564\n",
      "Total Normalized IPs:  7182.03054726061\n",
      "Total Fraction Services: 0.25138599015980895\n",
      "Total Fraction IPs: 0.301312046765293\n",
      "Total Fraction Depopularized Services: 0.2512041150339023\n",
      "Total Fraction Depopularized IPs: 0.30111091615953606\n"
     ]
    },
    {
     "name": "stderr",
     "output_type": "stream",
     "text": [
      "Epoch: 100%|██████████| 10/10 [00:34<00:00,  3.50s/it]\n"
     ]
    },
    {
     "name": "stdout",
     "output_type": "stream",
     "text": [
      "...Grabbed Representations\n",
      "Got Item Representations\n",
      "Got User Representations\n",
      "Made Index\n",
      "Got Top Items\n",
      "Got Predictions/Top Items\n",
      "...Calculated Predictions\n",
      "cycle:  333\n",
      "correct: 183\n",
      "Num Scanned:  433826\n",
      "Number unique ports Rec'd:  30586\n",
      "At Bin:  333\n",
      "Hitrate:  0.00042182810619925963\n",
      "total ips correct:  130798\n"
     ]
    },
    {
     "name": "stderr",
     "output_type": "stream",
     "text": [
      "\r",
      "Epoch:   0%|          | 0/10 [00:00<?, ?it/s]"
     ]
    },
    {
     "name": "stdout",
     "output_type": "stream",
     "text": [
      "Total Normalized Services:  3146.8698119234805\n",
      "Total Normalized IPs:  7186.062642345135\n",
      "Total Fraction Services: 0.2516572358556671\n",
      "Total Fraction IPs: 0.3014987575663976\n",
      "Total Fraction Depopularized Services: 0.25147563486616337\n",
      "Total Fraction Depopularized IPs: 0.30129791576245046\n"
     ]
    },
    {
     "name": "stderr",
     "output_type": "stream",
     "text": [
      "Epoch: 100%|██████████| 10/10 [00:31<00:00,  3.12s/it]\n"
     ]
    },
    {
     "name": "stdout",
     "output_type": "stream",
     "text": [
      "...Grabbed Representations\n",
      "Got Item Representations\n",
      "Got User Representations\n",
      "Made Index\n",
      "Got Top Items\n",
      "Got Predictions/Top Items\n",
      "...Calculated Predictions\n",
      "cycle:  334\n",
      "correct: 103\n",
      "Num Scanned:  433826\n",
      "Number unique ports Rec'd:  30588\n",
      "At Bin:  334\n",
      "Hitrate:  0.0002374223767132445\n",
      "total ips correct:  130873\n",
      "Total Normalized Services:  3149.4520545678015\n",
      "Total Normalized IPs:  7191.457214297037\n",
      "Total Fraction Services: 0.25178231025986847\n",
      "Total Fraction IPs: 0.3016716379377907\n",
      "Total Fraction Depopularized Services: 0.25160083567770597\n",
      "Total Fraction Depopularized IPs: 0.3014710635429268\n"
     ]
    },
    {
     "name": "stderr",
     "output_type": "stream",
     "text": [
      "Epoch: 100%|██████████| 10/10 [00:31<00:00,  3.18s/it]\n"
     ]
    },
    {
     "name": "stdout",
     "output_type": "stream",
     "text": [
      "...Grabbed Representations\n",
      "Got Item Representations\n",
      "Got User Representations\n",
      "Made Index\n",
      "Got Top Items\n",
      "Got Predictions/Top Items\n",
      "...Calculated Predictions\n",
      "cycle:  335\n",
      "correct: 104\n",
      "Num Scanned:  433826\n",
      "Number unique ports Rec'd:  30591\n",
      "At Bin:  335\n",
      "Hitrate:  0.00023972744833181966\n",
      "total ips correct:  130950\n",
      "Total Normalized Services:  3151.075158539542\n",
      "Total Normalized IPs:  7195.554505117086\n",
      "Total Fraction Services: 0.25192998847205794\n",
      "Total Fraction IPs: 0.301849128452421\n",
      "Total Fraction Depopularized Services: 0.251748663141937\n",
      "Total Fraction Depopularized IPs: 0.30164882859754916"
     ]
    },
    {
     "name": "stderr",
     "output_type": "stream",
     "text": [
      "\r",
      "Epoch:   0%|          | 0/10 [00:00<?, ?it/s]"
     ]
    },
    {
     "name": "stdout",
     "output_type": "stream",
     "text": [
      "\n"
     ]
    },
    {
     "name": "stderr",
     "output_type": "stream",
     "text": [
      "Epoch: 100%|██████████| 10/10 [00:31<00:00,  3.15s/it]\n"
     ]
    },
    {
     "name": "stdout",
     "output_type": "stream",
     "text": [
      "...Grabbed Representations\n",
      "Got Item Representations\n",
      "Got User Representations\n",
      "Made Index\n",
      "Got Top Items\n",
      "Got Predictions/Top Items\n",
      "...Calculated Predictions\n",
      "cycle:  336\n",
      "correct: 93\n",
      "Num Scanned:  433826\n",
      "Number unique ports Rec'd:  30594\n",
      "At Bin:  336\n",
      "Hitrate:  0.00021437166052749258\n",
      "total ips correct:  131014\n"
     ]
    },
    {
     "name": "stderr",
     "output_type": "stream",
     "text": [
      "\r",
      "Epoch:   0%|          | 0/10 [00:00<?, ?it/s]"
     ]
    },
    {
     "name": "stdout",
     "output_type": "stream",
     "text": [
      "Total Normalized Services:  3153.9742309187013\n",
      "Total Normalized IPs:  7201.3700984145435\n",
      "Total Fraction Services: 0.2520686251610521\n",
      "Total Fraction IPs: 0.3019966530360098\n",
      "Total Fraction Depopularized Services: 0.25188743994509266\n",
      "Total Fraction Depopularized IPs: 0.30179658137022225\n"
     ]
    },
    {
     "name": "stderr",
     "output_type": "stream",
     "text": [
      "Epoch: 100%|██████████| 10/10 [00:34<00:00,  3.49s/it]\n"
     ]
    },
    {
     "name": "stdout",
     "output_type": "stream",
     "text": [
      "...Grabbed Representations\n",
      "Got Item Representations\n",
      "Got User Representations\n",
      "Made Index\n",
      "Got Top Items\n",
      "Got Predictions/Top Items\n",
      "...Calculated Predictions\n",
      "cycle:  337\n",
      "correct: 104\n",
      "Num Scanned:  433826\n",
      "Number unique ports Rec'd:  30595\n",
      "At Bin:  337\n",
      "Hitrate:  0.00023972744833181966\n",
      "total ips correct:  131087\n"
     ]
    },
    {
     "name": "stderr",
     "output_type": "stream",
     "text": [
      "\r",
      "Epoch:   0%|          | 0/10 [00:00<?, ?it/s]"
     ]
    },
    {
     "name": "stdout",
     "output_type": "stream",
     "text": [
      "Total Normalized Services:  3156.123558998948\n",
      "Total Normalized IPs:  7208.813746487486\n",
      "Total Fraction Services: 0.25221027569111143\n",
      "Total Fraction IPs: 0.30216492326416583\n",
      "Total Fraction Depopularized Services: 0.25202923363527346\n",
      "Total Fraction Depopularized IPs: 0.30196511187655256\n"
     ]
    },
    {
     "name": "stderr",
     "output_type": "stream",
     "text": [
      "Epoch: 100%|██████████| 10/10 [00:33<00:00,  3.39s/it]\n"
     ]
    },
    {
     "name": "stdout",
     "output_type": "stream",
     "text": [
      "...Grabbed Representations\n",
      "Got Item Representations\n",
      "Got User Representations\n",
      "Made Index\n",
      "Got Top Items\n",
      "Got Predictions/Top Items\n",
      "...Calculated Predictions\n",
      "cycle:  338\n",
      "correct: 166\n",
      "Num Scanned:  433826\n",
      "Number unique ports Rec'd:  30599\n",
      "At Bin:  338\n",
      "Hitrate:  0.0003826418886834814\n",
      "total ips correct:  131203\n",
      "Total Normalized Services:  3159.269068500278\n",
      "Total Normalized IPs:  7216.738338709393\n",
      "Total Fraction Services: 0.252427272247798\n",
      "Total Fraction IPs: 0.3024323115719205\n",
      "Total Fraction Depopularized Services: 0.25223136506595667\n",
      "Total Fraction Depopularized IPs: 0.30220982740629243\n"
     ]
    },
    {
     "name": "stderr",
     "output_type": "stream",
     "text": [
      "Epoch: 100%|██████████| 10/10 [00:31<00:00,  3.18s/it]\n"
     ]
    },
    {
     "name": "stdout",
     "output_type": "stream",
     "text": [
      "...Grabbed Representations\n",
      "Got Item Representations\n",
      "Got User Representations\n",
      "Made Index\n",
      "Got Top Items\n",
      "Got Predictions/Top Items\n",
      "...Calculated Predictions\n",
      "cycle:  339\n",
      "correct: 88\n",
      "Num Scanned:  433826\n",
      "Number unique ports Rec'd:  30603\n",
      "At Bin:  339\n",
      "Hitrate:  0.00020284630243461665\n",
      "total ips correct:  131263\n"
     ]
    },
    {
     "name": "stderr",
     "output_type": "stream",
     "text": [
      "\r",
      "Epoch:   0%|          | 0/10 [00:00<?, ?it/s]"
     ]
    },
    {
     "name": "stdout",
     "output_type": "stream",
     "text": [
      "Total Normalized Services:  3160.60482603447\n",
      "Total Normalized IPs:  7222.766299035941\n",
      "Total Fraction Services: 0.2525387843672064\n",
      "Total Fraction IPs: 0.30257061586903505\n",
      "Total Fraction Depopularized Services: 0.25234298988588627\n",
      "Total Fraction Depopularized IPs: 0.3023483456306735\n"
     ]
    },
    {
     "name": "stderr",
     "output_type": "stream",
     "text": [
      "Epoch: 100%|██████████| 10/10 [00:35<00:00,  3.55s/it]\n"
     ]
    },
    {
     "name": "stdout",
     "output_type": "stream",
     "text": [
      "...Grabbed Representations\n",
      "Got Item Representations\n",
      "Got User Representations\n",
      "Made Index\n",
      "Got Top Items\n",
      "Got Predictions/Top Items\n",
      "...Calculated Predictions\n",
      "cycle:  340\n",
      "correct: 83\n",
      "Num Scanned:  433826\n",
      "Number unique ports Rec'd:  30603\n",
      "At Bin:  340\n",
      "Hitrate:  0.0001913209443417407\n",
      "total ips correct:  131312\n",
      "Total Normalized Services:  3163.83906928062\n",
      "Total Normalized IPs:  7227.4926511877065\n",
      "Total Fraction Services: 0.25265632416874495\n",
      "Total Fraction IPs: 0.30268356437834526\n",
      "Total Fraction Depopularized Services: 0.25246064847986605\n",
      "Total Fraction Depopularized IPs: 0.30246146884725134\n"
     ]
    },
    {
     "name": "stderr",
     "output_type": "stream",
     "text": [
      "Epoch: 100%|██████████| 10/10 [00:32<00:00,  3.27s/it]\n"
     ]
    },
    {
     "name": "stdout",
     "output_type": "stream",
     "text": [
      "...Grabbed Representations\n",
      "Got Item Representations\n",
      "Got User Representations\n",
      "Made Index\n",
      "Got Top Items\n",
      "Got Predictions/Top Items\n",
      "...Calculated Predictions\n",
      "cycle:  341\n",
      "correct: 152\n",
      "Num Scanned:  433826\n",
      "Number unique ports Rec'd:  30605\n",
      "At Bin:  341\n",
      "Hitrate:  0.00035037088602342875\n",
      "total ips correct:  131421\n",
      "Total Normalized Services:  3166.3712524120683\n",
      "Total Normalized IPs:  7234.824288120406\n",
      "Total Fraction Services: 0.2528838691691594\n",
      "Total Fraction IPs: 0.30293481718476994\n",
      "Total Fraction Depopularized Services: 0.2526884234502628\n",
      "Total Fraction Depopularized IPs: 0.30271311028821024\n"
     ]
    },
    {
     "name": "stderr",
     "output_type": "stream",
     "text": [
      "Epoch: 100%|██████████| 10/10 [00:31<00:00,  3.14s/it]\n"
     ]
    },
    {
     "name": "stdout",
     "output_type": "stream",
     "text": [
      "...Grabbed Representations\n",
      "Got Item Representations\n",
      "Got User Representations\n",
      "Made Index\n",
      "Got Top Items\n",
      "Got Predictions/Top Items\n",
      "...Calculated Predictions\n",
      "cycle:  342\n",
      "correct: 106\n",
      "Num Scanned:  433826\n",
      "Number unique ports Rec'd:  30606\n",
      "At Bin:  342\n",
      "Hitrate:  0.00024433759156897004\n",
      "total ips correct:  131503\n"
     ]
    },
    {
     "name": "stderr",
     "output_type": "stream",
     "text": [
      "\r",
      "Epoch:   0%|          | 0/10 [00:00<?, ?it/s]"
     ]
    },
    {
     "name": "stdout",
     "output_type": "stream",
     "text": [
      "Total Normalized Services:  3167.6082223042986\n",
      "Total Normalized IPs:  7238.45295661804\n",
      "Total Fraction Services: 0.25304209582507664\n",
      "Total Fraction IPs: 0.3031238330574931\n",
      "Total Fraction Depopularized Services: 0.2528468100190818\n",
      "Total Fraction Depopularized IPs: 0.3029024185281977\n"
     ]
    },
    {
     "name": "stderr",
     "output_type": "stream",
     "text": [
      "Epoch: 100%|██████████| 10/10 [00:31<00:00,  3.18s/it]\n"
     ]
    },
    {
     "name": "stdout",
     "output_type": "stream",
     "text": [
      "...Grabbed Representations\n",
      "Got Item Representations\n",
      "Got User Representations\n",
      "Made Index\n",
      "Got Top Items\n",
      "Got Predictions/Top Items\n",
      "...Calculated Predictions\n",
      "cycle:  343\n",
      "correct: 116\n",
      "Num Scanned:  433826\n",
      "Number unique ports Rec'd:  30607\n",
      "At Bin:  343\n",
      "Hitrate:  0.00026738830775472196\n",
      "total ips correct:  131601\n",
      "Total Normalized Services:  3170.197166555144\n",
      "Total Normalized IPs:  7245.781699292915\n",
      "Total Fraction Services: 0.253216898606852\n",
      "Total Fraction IPs: 0.3033497300761135\n",
      "Total Fraction Depopularized Services: 0.25302178946653897\n",
      "Total Fraction Depopularized IPs: 0.30312866496135343\n"
     ]
    },
    {
     "name": "stderr",
     "output_type": "stream",
     "text": [
      "Epoch: 100%|██████████| 10/10 [00:35<00:00,  3.57s/it]\n"
     ]
    },
    {
     "name": "stdout",
     "output_type": "stream",
     "text": [
      "...Grabbed Representations\n",
      "Got Item Representations\n",
      "Got User Representations\n",
      "Made Index\n",
      "Got Top Items\n",
      "Got Predictions/Top Items\n",
      "...Calculated Predictions\n",
      "cycle:  344\n",
      "correct: 93\n",
      "Num Scanned:  433826\n",
      "Number unique ports Rec'd:  30608\n",
      "At Bin:  344\n",
      "Hitrate:  0.00021437166052749258\n",
      "total ips correct:  131679\n"
     ]
    },
    {
     "name": "stderr",
     "output_type": "stream",
     "text": [
      "\r",
      "Epoch:   0%|          | 0/10 [00:00<?, ?it/s]"
     ]
    },
    {
     "name": "stdout",
     "output_type": "stream",
     "text": [
      "Total Normalized Services:  3172.210532983896\n",
      "Total Normalized IPs:  7251.852454717194\n",
      "Total Fraction Services: 0.2533570422163787\n",
      "Total Fraction IPs: 0.30352952566236235\n",
      "Total Fraction Depopularized Services: 0.2531620747132072\n",
      "Total Fraction Depopularized IPs: 0.3033087386530488\n"
     ]
    },
    {
     "name": "stderr",
     "output_type": "stream",
     "text": [
      "Epoch: 100%|██████████| 10/10 [00:31<00:00,  3.12s/it]\n"
     ]
    },
    {
     "name": "stdout",
     "output_type": "stream",
     "text": [
      "...Grabbed Representations\n",
      "Got Item Representations\n",
      "Got User Representations\n",
      "Made Index\n",
      "Got Top Items\n",
      "Got Predictions/Top Items\n",
      "...Calculated Predictions\n",
      "cycle:  345\n",
      "correct: 118\n",
      "Num Scanned:  433826\n",
      "Number unique ports Rec'd:  30610\n",
      "At Bin:  345\n",
      "Hitrate:  0.00027199845099187234\n",
      "total ips correct:  131740\n"
     ]
    },
    {
     "name": "stderr",
     "output_type": "stream",
     "text": [
      "\r",
      "Epoch:   0%|          | 0/10 [00:00<?, ?it/s]"
     ]
    },
    {
     "name": "stdout",
     "output_type": "stream",
     "text": [
      "Total Normalized Services:  3174.1581034516735\n",
      "Total Normalized IPs:  7256.072375329737\n",
      "Total Fraction Services: 0.25349115814377526\n",
      "Total Fraction IPs: 0.3036701350310954\n",
      "Total Fraction Depopularized Services: 0.25329632618582515\n",
      "Total Fraction Depopularized IPs: 0.30344956551450286\n"
     ]
    },
    {
     "name": "stderr",
     "output_type": "stream",
     "text": [
      "Epoch: 100%|██████████| 10/10 [00:31<00:00,  3.19s/it]\n"
     ]
    },
    {
     "name": "stdout",
     "output_type": "stream",
     "text": [
      "...Grabbed Representations\n",
      "Got Item Representations\n",
      "Got User Representations\n",
      "Made Index\n",
      "Got Top Items\n",
      "Got Predictions/Top Items\n",
      "...Calculated Predictions\n",
      "cycle:  346\n",
      "correct: 114\n",
      "Num Scanned:  433826\n",
      "Number unique ports Rec'd:  30612\n",
      "At Bin:  346\n",
      "Hitrate:  0.0002627781645175716\n",
      "total ips correct:  131827\n"
     ]
    },
    {
     "name": "stderr",
     "output_type": "stream",
     "text": [
      "\r",
      "Epoch:   0%|          | 0/10 [00:00<?, ?it/s]"
     ]
    },
    {
     "name": "stdout",
     "output_type": "stream",
     "text": [
      "Total Normalized Services:  3176.9199242481463\n",
      "Total Normalized IPs:  7261.175627817966\n",
      "Total Fraction Services: 0.2536584263228879\n",
      "Total Fraction IPs: 0.30387067626191144\n",
      "Total Fraction Depopularized Services: 0.25346376341571947\n",
      "Total Fraction Depopularized IPs: 0.3036504169398554\n"
     ]
    },
    {
     "name": "stderr",
     "output_type": "stream",
     "text": [
      "Epoch: 100%|██████████| 10/10 [00:31<00:00,  3.13s/it]\n"
     ]
    },
    {
     "name": "stdout",
     "output_type": "stream",
     "text": [
      "...Grabbed Representations\n",
      "Got Item Representations\n",
      "Got User Representations\n",
      "Made Index\n",
      "Got Top Items\n",
      "Got Predictions/Top Items\n",
      "...Calculated Predictions\n",
      "cycle:  347\n",
      "correct: 120\n",
      "Num Scanned:  433826\n",
      "Number unique ports Rec'd:  30613\n",
      "At Bin:  347\n",
      "Hitrate:  0.00027660859422902267\n",
      "total ips correct:  131920\n"
     ]
    },
    {
     "name": "stderr",
     "output_type": "stream",
     "text": [
      "\r",
      "Epoch:   0%|          | 0/10 [00:00<?, ?it/s]"
     ]
    },
    {
     "name": "stdout",
     "output_type": "stream",
     "text": [
      "Total Normalized Services:  3178.7945133431917\n",
      "Total Normalized IPs:  7265.28868452406\n",
      "Total Fraction Services: 0.25383624294572826\n",
      "Total Fraction IPs: 0.30408504792243896\n",
      "Total Fraction Depopularized Services: 0.25364175975020176\n",
      "Total Fraction Depopularized IPs: 0.303865120187646\n"
     ]
    },
    {
     "name": "stderr",
     "output_type": "stream",
     "text": [
      "Epoch: 100%|██████████| 10/10 [00:31<00:00,  3.15s/it]\n"
     ]
    },
    {
     "name": "stdout",
     "output_type": "stream",
     "text": [
      "...Grabbed Representations\n",
      "Got Item Representations\n",
      "Got User Representations\n",
      "Made Index\n",
      "Got Top Items\n",
      "Got Predictions/Top Items\n",
      "...Calculated Predictions\n",
      "cycle:  348\n",
      "correct: 139\n",
      "Num Scanned:  433826\n",
      "Number unique ports Rec'd:  30614\n",
      "At Bin:  348\n",
      "Hitrate:  0.0003204049549819513\n",
      "total ips correct:  132015\n",
      "Total Normalized Services:  3181.205036671673\n",
      "Total Normalized IPs:  7271.218868435179\n",
      "Total Fraction Services: 0.25401405956856865\n",
      "Total Fraction IPs: 0.3043040297262036\n",
      "Total Fraction Depopularized Services: 0.25381975608468405\n",
      "Total Fraction Depopularized IPs: 0.3040844407095827\n"
     ]
    },
    {
     "name": "stderr",
     "output_type": "stream",
     "text": [
      "Epoch: 100%|██████████| 10/10 [00:32<00:00,  3.24s/it]\n"
     ]
    },
    {
     "name": "stdout",
     "output_type": "stream",
     "text": [
      "...Grabbed Representations\n",
      "Got Item Representations\n",
      "Got User Representations\n",
      "Made Index\n",
      "Got Top Items\n",
      "Got Predictions/Top Items\n",
      "...Calculated Predictions\n",
      "cycle:  349\n",
      "correct: 71\n",
      "Num Scanned:  433826\n",
      "Number unique ports Rec'd:  30618\n",
      "At Bin:  349\n",
      "Hitrate:  0.00016366008491883842\n",
      "total ips correct:  132063\n",
      "Total Normalized Services:  3183.2719608685843\n",
      "Total Normalized IPs:  7275.154234983015\n",
      "Total Fraction Services: 0.2541150232442492\n",
      "Total Fraction IPs: 0.3044146731638952\n",
      "Total Fraction Depopularized Services: 0.2539208218000256\n",
      "Total Fraction Depopularized IPs: 0.30419525528908753\n"
     ]
    },
    {
     "name": "stderr",
     "output_type": "stream",
     "text": [
      "Epoch: 100%|██████████| 10/10 [00:30<00:00,  3.09s/it]\n"
     ]
    },
    {
     "name": "stdout",
     "output_type": "stream",
     "text": [
      "...Grabbed Representations\n",
      "Got Item Representations\n",
      "Got User Representations\n",
      "Made Index\n",
      "Got Top Items\n",
      "Got Predictions/Top Items\n",
      "...Calculated Predictions\n",
      "cycle:  350\n",
      "correct: 105\n",
      "Num Scanned:  433826\n",
      "Number unique ports Rec'd:  30620\n",
      "At Bin:  350\n",
      "Hitrate:  0.00024203251995039485\n",
      "total ips correct:  132132\n"
     ]
    },
    {
     "name": "stderr",
     "output_type": "stream",
     "text": [
      "\r",
      "Epoch:   0%|          | 0/10 [00:00<?, ?it/s]"
     ]
    },
    {
     "name": "stdout",
     "output_type": "stream",
     "text": [
      "Total Normalized Services:  3185.095506821415\n",
      "Total Normalized IPs:  7281.2615921325305\n",
      "Total Fraction Services: 0.2542657152975038\n",
      "Total Fraction IPs: 0.3045737231055769\n",
      "Total Fraction Depopularized Services: 0.2540716661512818\n",
      "Total Fraction Depopularized IPs: 0.30435455124712574\n"
     ]
    },
    {
     "name": "stderr",
     "output_type": "stream",
     "text": [
      "Epoch: 100%|██████████| 10/10 [00:34<00:00,  3.49s/it]\n"
     ]
    },
    {
     "name": "stdout",
     "output_type": "stream",
     "text": [
      "...Grabbed Representations\n",
      "Got Item Representations\n",
      "Got User Representations\n",
      "Made Index\n",
      "Got Top Items\n",
      "Got Predictions/Top Items\n",
      "...Calculated Predictions\n",
      "cycle:  351\n",
      "correct: 103\n",
      "Num Scanned:  433826\n",
      "Number unique ports Rec'd:  30622\n",
      "At Bin:  351\n",
      "Hitrate:  0.0002374223767132445\n",
      "total ips correct:  132215\n"
     ]
    },
    {
     "name": "stderr",
     "output_type": "stream",
     "text": [
      "\r",
      "Epoch:   0%|          | 0/10 [00:00<?, ?it/s]"
     ]
    },
    {
     "name": "stdout",
     "output_type": "stream",
     "text": [
      "Total Normalized Services:  3187.4243601921894\n",
      "Total Normalized IPs:  7288.760312875784\n",
      "Total Fraction Services: 0.2544179142712909\n",
      "Total Fraction IPs: 0.3047650440499186\n",
      "Total Fraction Depopularized Services: 0.2542240189460505\n",
      "Total Fraction Depopularized IPs: 0.3045461681241862\n"
     ]
    },
    {
     "name": "stderr",
     "output_type": "stream",
     "text": [
      "Epoch: 100%|██████████| 10/10 [00:31<00:00,  3.13s/it]\n"
     ]
    },
    {
     "name": "stdout",
     "output_type": "stream",
     "text": [
      "...Grabbed Representations\n",
      "Got Item Representations\n",
      "Got User Representations\n",
      "Made Index\n",
      "Got Top Items\n",
      "Got Predictions/Top Items\n",
      "...Calculated Predictions\n",
      "cycle:  352\n",
      "correct: 100\n",
      "Num Scanned:  433826\n",
      "Number unique ports Rec'd:  30626\n",
      "At Bin:  352\n",
      "Hitrate:  0.00023050716185751892\n",
      "total ips correct:  132291\n"
     ]
    },
    {
     "name": "stderr",
     "output_type": "stream",
     "text": [
      "\r",
      "Epoch:   0%|          | 0/10 [00:00<?, ?it/s]"
     ]
    },
    {
     "name": "stdout",
     "output_type": "stream",
     "text": [
      "Total Normalized Services:  3188.921578519058\n",
      "Total Normalized IPs:  7293.040635759999\n",
      "Total Fraction Services: 0.2545686063245455\n",
      "Total Fraction IPs: 0.30494022949293037\n",
      "Total Fraction Depopularized Services: 0.2543748632973067\n",
      "Total Fraction Depopularized IPs: 0.3047216245417355\n"
     ]
    },
    {
     "name": "stderr",
     "output_type": "stream",
     "text": [
      "Epoch: 100%|██████████| 10/10 [00:31<00:00,  3.11s/it]\n"
     ]
    },
    {
     "name": "stdout",
     "output_type": "stream",
     "text": [
      "...Grabbed Representations\n",
      "Got Item Representations\n",
      "Got User Representations\n",
      "Made Index\n",
      "Got Top Items\n",
      "Got Predictions/Top Items\n",
      "...Calculated Predictions\n",
      "cycle:  353\n",
      "correct: 172\n",
      "Num Scanned:  433826\n",
      "Number unique ports Rec'd:  30626\n",
      "At Bin:  353\n",
      "Hitrate:  0.0003964723183949325\n",
      "total ips correct:  132419\n",
      "Total Normalized Services:  3192.3991034421165\n",
      "Total Normalized IPs:  7301.009255477935\n",
      "Total Fraction Services: 0.2548232758945457\n",
      "Total Fraction IPs: 0.30523527866010797\n",
      "Total Fraction Depopularized Services: 0.2546297902509296\n",
      "Total Fraction Depopularized IPs: 0.3050171300870818\n"
     ]
    },
    {
     "name": "stderr",
     "output_type": "stream",
     "text": [
      "Epoch: 100%|██████████| 10/10 [00:32<00:00,  3.25s/it]\n"
     ]
    },
    {
     "name": "stdout",
     "output_type": "stream",
     "text": [
      "...Grabbed Representations\n",
      "Got Item Representations\n",
      "Got User Representations\n",
      "Made Index\n",
      "Got Top Items\n",
      "Got Predictions/Top Items\n",
      "...Calculated Predictions\n",
      "cycle:  354\n",
      "correct: 108\n",
      "Num Scanned:  433826\n",
      "Number unique ports Rec'd:  30628\n",
      "At Bin:  354\n",
      "Hitrate:  0.0002489477348061204\n",
      "total ips correct:  132490\n"
     ]
    },
    {
     "name": "stderr",
     "output_type": "stream",
     "text": [
      "\r",
      "Epoch:   0%|          | 0/10 [00:00<?, ?it/s]"
     ]
    },
    {
     "name": "stdout",
     "output_type": "stream",
     "text": [
      "Total Normalized Services:  3195.6721322565095\n",
      "Total Normalized IPs:  7306.2574610661\n",
      "Total Fraction Services: 0.254981502550463\n",
      "Total Fraction IPs: 0.3053989387450268\n",
      "Total Fraction Depopularized Services: 0.2547881768197485\n",
      "Total Fraction Depopularized IPs: 0.30518104331926604\n"
     ]
    },
    {
     "name": "stderr",
     "output_type": "stream",
     "text": [
      "Epoch: 100%|██████████| 10/10 [00:31<00:00,  3.19s/it]\n"
     ]
    },
    {
     "name": "stdout",
     "output_type": "stream",
     "text": [
      "...Grabbed Representations\n",
      "Got Item Representations\n",
      "Got User Representations\n",
      "Made Index\n",
      "Got Top Items\n",
      "Got Predictions/Top Items\n",
      "...Calculated Predictions\n",
      "cycle:  355\n",
      "correct: 99\n",
      "Num Scanned:  433826\n",
      "Number unique ports Rec'd:  30630\n",
      "At Bin:  355\n",
      "Hitrate:  0.00022820209023894373\n",
      "total ips correct:  132548\n"
     ]
    },
    {
     "name": "stderr",
     "output_type": "stream",
     "text": [
      "\r",
      "Epoch:   0%|          | 0/10 [00:00<?, ?it/s]"
     ]
    },
    {
     "name": "stdout",
     "output_type": "stream",
     "text": [
      "Total Normalized Services:  3198.160715863754\n",
      "Total Normalized IPs:  7310.615232673373\n",
      "Total Fraction Services: 0.25512767384211993\n",
      "Total Fraction IPs: 0.30553263289890414\n",
      "Total Fraction Depopularized Services: 0.254934495840467\n",
      "Total Fraction Depopularized IPs: 0.30531494426950107\n"
     ]
    },
    {
     "name": "stderr",
     "output_type": "stream",
     "text": [
      "Epoch: 100%|██████████| 10/10 [00:31<00:00,  3.14s/it]\n"
     ]
    },
    {
     "name": "stdout",
     "output_type": "stream",
     "text": [
      "...Grabbed Representations\n",
      "Got Item Representations\n",
      "Got User Representations\n",
      "Made Index\n",
      "Got Top Items\n",
      "Got Predictions/Top Items\n",
      "...Calculated Predictions\n",
      "cycle:  356\n",
      "correct: 184\n",
      "Num Scanned:  433826\n",
      "Number unique ports Rec'd:  30635\n",
      "At Bin:  356\n",
      "Hitrate:  0.0004241331778178348\n",
      "total ips correct:  132646\n"
     ]
    },
    {
     "name": "stderr",
     "output_type": "stream",
     "text": [
      "\r",
      "Epoch:   0%|          | 0/10 [00:00<?, ?it/s]"
     ]
    },
    {
     "name": "stdout",
     "output_type": "stream",
     "text": [
      "Total Normalized Services:  3201.577468751827\n",
      "Total Normalized IPs:  7317.0129668931595\n",
      "Total Fraction Services: 0.2553250804318834\n",
      "Total Fraction IPs: 0.30575852991752456\n",
      "Total Fraction Depopularized Services: 0.2551321019406126\n",
      "Total Fraction Depopularized IPs: 0.3055411907026568\n"
     ]
    },
    {
     "name": "stderr",
     "output_type": "stream",
     "text": [
      "Epoch: 100%|██████████| 10/10 [00:35<00:00,  3.54s/it]\n"
     ]
    },
    {
     "name": "stdout",
     "output_type": "stream",
     "text": [
      "...Grabbed Representations\n",
      "Got Item Representations\n",
      "Got User Representations\n",
      "Made Index\n",
      "Got Top Items\n",
      "Got Predictions/Top Items\n",
      "...Calculated Predictions\n",
      "cycle:  357\n",
      "correct: 178\n",
      "Num Scanned:  433826\n",
      "Number unique ports Rec'd:  30637\n",
      "At Bin:  357\n",
      "Hitrate:  0.0004103027481063837\n",
      "total ips correct:  132757\n"
     ]
    },
    {
     "name": "stderr",
     "output_type": "stream",
     "text": [
      "\r",
      "Epoch:   0%|          | 0/10 [00:00<?, ?it/s]"
     ]
    },
    {
     "name": "stdout",
     "output_type": "stream",
     "text": [
      "Total Normalized Services:  3205.0839668963363\n",
      "Total Normalized IPs:  7324.6347590496825\n",
      "Total Fraction Services: 0.25552399394217945\n",
      "Total Fraction IPs: 0.3060143928671864\n",
      "Total Fraction Depopularized Services: 0.2553312164842707\n",
      "Total Fraction Depopularized IPs: 0.3057974494177617\n"
     ]
    },
    {
     "name": "stderr",
     "output_type": "stream",
     "text": [
      "Epoch: 100%|██████████| 10/10 [00:32<00:00,  3.29s/it]\n"
     ]
    },
    {
     "name": "stdout",
     "output_type": "stream",
     "text": [
      "...Grabbed Representations\n",
      "Got Item Representations\n",
      "Got User Representations\n",
      "Made Index\n",
      "Got Top Items\n",
      "Got Predictions/Top Items\n",
      "...Calculated Predictions\n",
      "cycle:  358\n",
      "correct: 95\n",
      "Num Scanned:  433826\n",
      "Number unique ports Rec'd:  30641\n",
      "At Bin:  358\n",
      "Hitrate:  0.00021898180376464296\n",
      "total ips correct:  132829\n"
     ]
    },
    {
     "name": "stderr",
     "output_type": "stream",
     "text": [
      "\r",
      "Epoch:   0%|          | 0/10 [00:00<?, ?it/s]"
     ]
    },
    {
     "name": "stdout",
     "output_type": "stream",
     "text": [
      "Total Normalized Services:  3206.9968603640623\n",
      "Total Normalized IPs:  7329.108284002634\n",
      "Total Fraction Services: 0.2556656444722388\n",
      "Total Fraction IPs: 0.3061803580237238\n",
      "Total Fraction Depopularized Services: 0.2554730101744515\n",
      "Total Fraction Depopularized IPs: 0.305963671287019\n"
     ]
    },
    {
     "name": "stderr",
     "output_type": "stream",
     "text": [
      "Epoch: 100%|██████████| 10/10 [00:32<00:00,  3.23s/it]\n"
     ]
    },
    {
     "name": "stdout",
     "output_type": "stream",
     "text": [
      "...Grabbed Representations\n",
      "Got Item Representations\n",
      "Got User Representations\n",
      "Made Index\n",
      "Got Top Items\n",
      "Got Predictions/Top Items\n",
      "...Calculated Predictions\n",
      "cycle:  359\n",
      "correct: 58\n",
      "Num Scanned:  433826\n",
      "Number unique ports Rec'd:  30642\n",
      "At Bin:  359\n",
      "Hitrate:  0.00013369415387736098\n",
      "total ips correct:  132871\n",
      "Total Normalized Services:  3208.312933593953\n",
      "Total Normalized IPs:  7332.393053140482\n",
      "Total Fraction Services: 0.2557500320220613\n",
      "Total Fraction IPs: 0.30627717103170393\n",
      "Total Fraction Depopularized Services: 0.25555748301115494\n",
      "Total Fraction Depopularized IPs: 0.30606063404408573\n"
     ]
    },
    {
     "name": "stderr",
     "output_type": "stream",
     "text": [
      "Epoch: 100%|██████████| 10/10 [00:33<00:00,  3.35s/it]\n"
     ]
    },
    {
     "name": "stdout",
     "output_type": "stream",
     "text": [
      "...Grabbed Representations\n",
      "Got Item Representations\n",
      "Got User Representations\n",
      "Made Index\n",
      "Got Top Items\n",
      "Got Predictions/Top Items\n",
      "...Calculated Predictions\n",
      "cycle:  360\n",
      "correct: 163\n",
      "Num Scanned:  433826\n",
      "Number unique ports Rec'd:  30642\n",
      "At Bin:  360\n",
      "Hitrate:  0.00037572667382775585\n",
      "total ips correct:  132965\n"
     ]
    },
    {
     "name": "stderr",
     "output_type": "stream",
     "text": [
      "\r",
      "Epoch:   0%|          | 0/10 [00:00<?, ?it/s]"
     ]
    },
    {
     "name": "stdout",
     "output_type": "stream",
     "text": [
      "Total Normalized Services:  3210.73310610068\n",
      "Total Normalized IPs:  7337.688725862488\n",
      "Total Fraction Services: 0.2559248348038366\n",
      "Total Fraction IPs: 0.30649384776385\n",
      "Total Fraction Depopularized Services: 0.2557324624586121\n",
      "Total Fraction Depopularized IPs: 0.3062776459289494\n"
     ]
    },
    {
     "name": "stderr",
     "output_type": "stream",
     "text": [
      "Epoch: 100%|██████████| 10/10 [00:31<00:00,  3.12s/it]\n"
     ]
    },
    {
     "name": "stdout",
     "output_type": "stream",
     "text": [
      "...Grabbed Representations\n",
      "Got Item Representations\n",
      "Got User Representations\n",
      "Made Index\n",
      "Got Top Items\n",
      "Got Predictions/Top Items\n",
      "...Calculated Predictions\n",
      "cycle:  361\n",
      "correct: 183\n",
      "Num Scanned:  433826\n",
      "Number unique ports Rec'd:  30645\n",
      "At Bin:  361\n",
      "Hitrate:  0.00042182810619925963\n",
      "total ips correct:  133078\n"
     ]
    },
    {
     "name": "stderr",
     "output_type": "stream",
     "text": [
      "\r",
      "Epoch:   0%|          | 0/10 [00:00<?, ?it/s]"
     ]
    },
    {
     "name": "stdout",
     "output_type": "stream",
     "text": [
      "Total Normalized Services:  3215.5822365917516\n",
      "Total Normalized IPs:  7347.539879323575\n",
      "Total Fraction Services: 0.25620060126129246\n",
      "Total Fraction IPs: 0.30675432085674903\n",
      "Total Fraction Depopularized Services: 0.25600850762141086\n",
      "Total Fraction Depopularized IPs: 0.30653852191820036\n"
     ]
    },
    {
     "name": "stderr",
     "output_type": "stream",
     "text": [
      "Epoch: 100%|██████████| 10/10 [00:31<00:00,  3.12s/it]\n"
     ]
    },
    {
     "name": "stdout",
     "output_type": "stream",
     "text": [
      "...Grabbed Representations\n",
      "Got Item Representations\n",
      "Got User Representations\n",
      "Made Index\n",
      "Got Top Items\n",
      "Got Predictions/Top Items\n",
      "...Calculated Predictions\n",
      "cycle:  362\n",
      "correct: 111\n",
      "Num Scanned:  433826\n",
      "Number unique ports Rec'd:  30645\n",
      "At Bin:  362\n",
      "Hitrate:  0.000255862949661846\n",
      "total ips correct:  133165\n"
     ]
    },
    {
     "name": "stderr",
     "output_type": "stream",
     "text": [
      "\r",
      "Epoch:   0%|          | 0/10 [00:00<?, ?it/s]"
     ]
    },
    {
     "name": "stdout",
     "output_type": "stream",
     "text": [
      "Total Normalized Services:  3217.722466244364\n",
      "Total Normalized IPs:  7353.148488568251\n",
      "Total Fraction Services: 0.25636786944040507\n",
      "Total Fraction IPs: 0.30695486208756506\n",
      "Total Fraction Depopularized Services: 0.2561759448513052\n",
      "Total Fraction Depopularized IPs: 0.3067393733435529\n"
     ]
    },
    {
     "name": "stderr",
     "output_type": "stream",
     "text": [
      "Epoch: 100%|██████████| 10/10 [00:31<00:00,  3.15s/it]\n"
     ]
    },
    {
     "name": "stdout",
     "output_type": "stream",
     "text": [
      "...Grabbed Representations\n",
      "Got Item Representations\n",
      "Got User Representations\n",
      "Made Index\n",
      "Got Top Items\n",
      "Got Predictions/Top Items\n",
      "...Calculated Predictions\n",
      "cycle:  363\n",
      "correct: 149\n",
      "Num Scanned:  433826\n",
      "Number unique ports Rec'd:  30647\n",
      "At Bin:  363\n",
      "Hitrate:  0.00034345567116770317\n",
      "total ips correct:  133291\n"
     ]
    },
    {
     "name": "stderr",
     "output_type": "stream",
     "text": [
      "\r",
      "Epoch:   0%|          | 0/10 [00:00<?, ?it/s]"
     ]
    },
    {
     "name": "stdout",
     "output_type": "stream",
     "text": [
      "Total Normalized Services:  3220.3190856576343\n",
      "Total Normalized IPs:  7358.808286408373\n",
      "Total Fraction Services: 0.25658938675868925\n",
      "Total Fraction IPs: 0.30724530111150555\n",
      "Total Fraction Depopularized Services: 0.25639768604765173\n",
      "Total Fraction Depopularized IPs: 0.3070302616147531\n"
     ]
    },
    {
     "name": "stderr",
     "output_type": "stream",
     "text": [
      "Epoch: 100%|██████████| 10/10 [00:31<00:00,  3.14s/it]\n"
     ]
    },
    {
     "name": "stdout",
     "output_type": "stream",
     "text": [
      "...Grabbed Representations\n",
      "Got Item Representations\n",
      "Got User Representations\n",
      "Made Index\n",
      "Got Top Items\n",
      "Got Predictions/Top Items\n",
      "...Calculated Predictions\n",
      "cycle:  364\n",
      "correct: 134\n",
      "Num Scanned:  433826\n",
      "Number unique ports Rec'd:  30649\n",
      "At Bin:  364\n",
      "Hitrate:  0.00030887959688907535\n",
      "total ips correct:  133401\n",
      "Total Normalized Services:  3222.7559102148707\n",
      "Total Normalized IPs:  7366.328342742669\n",
      "Total Fraction Services: 0.2567913141100504\n",
      "Total Fraction IPs: 0.3074988589895488\n",
      "Total Fraction Depopularized Services: 0.256599817478335\n",
      "Total Fraction Depopularized IPs: 0.307284211692785\n"
     ]
    },
    {
     "name": "stderr",
     "output_type": "stream",
     "text": [
      "Epoch: 100%|██████████| 10/10 [00:30<00:00,  3.06s/it]\n"
     ]
    },
    {
     "name": "stdout",
     "output_type": "stream",
     "text": [
      "...Grabbed Representations\n",
      "Got Item Representations\n",
      "Got User Representations\n",
      "Made Index\n",
      "Got Top Items\n",
      "Got Predictions/Top Items\n",
      "...Calculated Predictions\n",
      "cycle:  365\n",
      "correct: 89\n",
      "Num Scanned:  433826\n",
      "Number unique ports Rec'd:  30651\n",
      "At Bin:  365\n",
      "Hitrate:  0.00020515137405319184\n",
      "total ips correct:  133470\n"
     ]
    },
    {
     "name": "stderr",
     "output_type": "stream",
     "text": [
      "\r",
      "Epoch:   0%|          | 0/10 [00:00<?, ?it/s]"
     ]
    },
    {
     "name": "stdout",
     "output_type": "stream",
     "text": [
      "Total Normalized Services:  3224.171416155912\n",
      "Total Normalized IPs:  7371.316141520508\n",
      "Total Fraction Services: 0.25691488159371917\n",
      "Total Fraction IPs: 0.3076579089312305\n",
      "Total Fraction Depopularized Services: 0.25672350984636505\n",
      "Total Fraction Depopularized IPs: 0.30744350765082323\n"
     ]
    },
    {
     "name": "stderr",
     "output_type": "stream",
     "text": [
      "Epoch: 100%|██████████| 10/10 [00:33<00:00,  3.33s/it]\n"
     ]
    },
    {
     "name": "stdout",
     "output_type": "stream",
     "text": [
      "...Grabbed Representations\n",
      "Got Item Representations\n",
      "Got User Representations\n",
      "Made Index\n",
      "Got Top Items\n",
      "Got Predictions/Top Items\n",
      "...Calculated Predictions\n",
      "cycle:  366\n",
      "correct: 92\n",
      "Num Scanned:  433826\n",
      "Number unique ports Rec'd:  30653\n",
      "At Bin:  366\n",
      "Hitrate:  0.0002120665889089174\n",
      "total ips correct:  133536\n"
     ]
    },
    {
     "name": "stderr",
     "output_type": "stream",
     "text": [
      "\r",
      "Epoch:   0%|          | 0/10 [00:00<?, ?it/s]"
     ]
    },
    {
     "name": "stdout",
     "output_type": "stream",
     "text": [
      "Total Normalized Services:  3227.2418920047094\n",
      "Total Normalized IPs:  7376.160261261669\n",
      "Total Fraction Services: 0.2570520113621808\n",
      "Total Fraction IPs: 0.3078100436580565\n",
      "Total Fraction Depopularized Services: 0.2568607782060081\n",
      "Total Fraction Depopularized IPs: 0.3075958776976424\n"
     ]
    },
    {
     "name": "stderr",
     "output_type": "stream",
     "text": [
      "Epoch: 100%|██████████| 10/10 [00:33<00:00,  3.38s/it]\n"
     ]
    },
    {
     "name": "stdout",
     "output_type": "stream",
     "text": [
      "...Grabbed Representations\n",
      "Got Item Representations\n",
      "Got User Representations\n",
      "Made Index\n",
      "Got Top Items\n",
      "Got Predictions/Top Items\n",
      "...Calculated Predictions\n",
      "cycle:  367\n",
      "correct: 121\n",
      "Num Scanned:  433826\n",
      "Number unique ports Rec'd:  30657\n",
      "At Bin:  367\n",
      "Hitrate:  0.00027891366584759786\n",
      "total ips correct:  133630\n"
     ]
    },
    {
     "name": "stderr",
     "output_type": "stream",
     "text": [
      "\r",
      "Epoch:   0%|          | 0/10 [00:00<?, ?it/s]"
     ]
    },
    {
     "name": "stdout",
     "output_type": "stream",
     "text": [
      "Total Normalized Services:  3229.5861927488922\n",
      "Total Normalized IPs:  7381.655281426995\n",
      "Total Fraction Services: 0.2572343487466188\n",
      "Total Fraction IPs: 0.3080267203902025\n",
      "Total Fraction Depopularized Services: 0.2570432998710281\n",
      "Total Fraction Depopularized IPs: 0.3078128895825061\n"
     ]
    },
    {
     "name": "stderr",
     "output_type": "stream",
     "text": [
      "Epoch: 100%|██████████| 10/10 [00:31<00:00,  3.17s/it]\n"
     ]
    },
    {
     "name": "stdout",
     "output_type": "stream",
     "text": [
      "...Grabbed Representations\n",
      "Got Item Representations\n",
      "Got User Representations\n",
      "Made Index\n",
      "Got Top Items\n",
      "Got Predictions/Top Items\n",
      "...Calculated Predictions\n",
      "cycle:  368\n",
      "correct: 116\n",
      "Num Scanned:  433826\n",
      "Number unique ports Rec'd:  30659\n",
      "At Bin:  368\n",
      "Hitrate:  0.00026738830775472196\n",
      "total ips correct:  133724\n"
     ]
    },
    {
     "name": "stderr",
     "output_type": "stream",
     "text": [
      "\r",
      "Epoch:   0%|          | 0/10 [00:00<?, ?it/s]"
     ]
    },
    {
     "name": "stdout",
     "output_type": "stream",
     "text": [
      "Total Normalized Services:  3232.2109038837802\n",
      "Total Normalized IPs:  7394.137255434392\n",
      "Total Fraction Services: 0.25740915152839416\n",
      "Total Fraction IPs: 0.3082433971223486\n",
      "Total Fraction Depopularized Services: 0.25721827931848523\n",
      "Total Fraction Depopularized IPs: 0.30802990146736975\n"
     ]
    },
    {
     "name": "stderr",
     "output_type": "stream",
     "text": [
      "Epoch: 100%|██████████| 10/10 [00:33<00:00,  3.39s/it]\n"
     ]
    },
    {
     "name": "stdout",
     "output_type": "stream",
     "text": [
      "...Grabbed Representations\n",
      "Got Item Representations\n",
      "Got User Representations\n",
      "Made Index\n",
      "Got Top Items\n",
      "Got Predictions/Top Items\n",
      "...Calculated Predictions\n",
      "cycle:  369\n",
      "correct: 109\n",
      "Num Scanned:  433826\n",
      "Number unique ports Rec'd:  30661\n",
      "At Bin:  369\n",
      "Hitrate:  0.0002512528064246956\n",
      "total ips correct:  133808\n"
     ]
    },
    {
     "name": "stderr",
     "output_type": "stream",
     "text": [
      "\r",
      "Epoch:   0%|          | 0/10 [00:00<?, ?it/s]"
     ]
    },
    {
     "name": "stdout",
     "output_type": "stream",
     "text": [
      "Total Normalized Services:  3234.6049223837986\n",
      "Total Normalized IPs:  7399.457897391739\n",
      "Total Fraction Services: 0.2575734058664416\n",
      "Total Fraction IPs: 0.3084370231383089\n",
      "Total Fraction Depopularized Services: 0.2573826996613544\n",
      "Total Fraction Depopularized IPs: 0.3082238269815032\n"
     ]
    },
    {
     "name": "stderr",
     "output_type": "stream",
     "text": [
      "Epoch: 100%|██████████| 10/10 [00:31<00:00,  3.16s/it]\n"
     ]
    },
    {
     "name": "stdout",
     "output_type": "stream",
     "text": [
      "...Grabbed Representations\n",
      "Got Item Representations\n",
      "Got User Representations\n",
      "Made Index\n",
      "Got Top Items\n",
      "Got Predictions/Top Items\n",
      "...Calculated Predictions\n",
      "cycle:  370\n",
      "correct: 200\n",
      "Num Scanned:  433826\n",
      "Number unique ports Rec'd:  30665\n",
      "At Bin:  370\n",
      "Hitrate:  0.00046101432371503784\n",
      "total ips correct:  133964\n",
      "Total Normalized Services:  3238.3507881922887\n",
      "Total Normalized IPs:  7408.842241081654\n",
      "Total Fraction Services: "
     ]
    },
    {
     "name": "stderr",
     "output_type": "stream",
     "text": [
      "\r",
      "Epoch:   0%|          | 0/10 [00:00<?, ?it/s]"
     ]
    },
    {
     "name": "stdout",
     "output_type": "stream",
     "text": [
      "0.25787478997295077\n",
      "Total Fraction IPs: 0.3087966143108066\n",
      "Total Fraction Depopularized Services: 0.25768438836386676\n",
      "Total Fraction Depopularized IPs: 0.30858397436489393\n"
     ]
    },
    {
     "name": "stderr",
     "output_type": "stream",
     "text": [
      "Epoch: 100%|██████████| 10/10 [00:31<00:00,  3.12s/it]\n"
     ]
    },
    {
     "name": "stdout",
     "output_type": "stream",
     "text": [
      "...Grabbed Representations\n",
      "Got Item Representations\n",
      "Got User Representations\n",
      "Made Index\n",
      "Got Top Items\n",
      "Got Predictions/Top Items\n",
      "...Calculated Predictions\n",
      "cycle:  371\n",
      "correct: 116\n",
      "Num Scanned:  433826\n",
      "Number unique ports Rec'd:  30667\n",
      "At Bin:  371\n",
      "Hitrate:  0.00026738830775472196\n",
      "total ips correct:  134030\n"
     ]
    },
    {
     "name": "stderr",
     "output_type": "stream",
     "text": [
      "\r",
      "Epoch:   0%|          | 0/10 [00:00<?, ?it/s]"
     ]
    },
    {
     "name": "stdout",
     "output_type": "stream",
     "text": [
      "Total Normalized Services:  3241.27649952908\n",
      "Total Normalized IPs:  7413.387700912622\n",
      "Total Fraction Services: 0.2580390443109983\n",
      "Total Fraction IPs: 0.3089487490376326\n",
      "Total Fraction Depopularized Services: 0.25784880870673593\n",
      "Total Fraction Depopularized IPs: 0.3087363444117131\n"
     ]
    },
    {
     "name": "stderr",
     "output_type": "stream",
     "text": [
      "Epoch: 100%|██████████| 10/10 [00:33<00:00,  3.33s/it]\n"
     ]
    },
    {
     "name": "stdout",
     "output_type": "stream",
     "text": [
      "...Grabbed Representations\n",
      "Got Item Representations\n",
      "Got User Representations\n",
      "Made Index\n",
      "Got Top Items\n",
      "Got Predictions/Top Items\n",
      "...Calculated Predictions\n",
      "cycle:  372\n",
      "correct: 103\n",
      "Num Scanned:  433826\n",
      "Number unique ports Rec'd:  30668\n",
      "At Bin:  372\n",
      "Hitrate:  0.0002374223767132445\n",
      "total ips correct:  134087\n"
     ]
    },
    {
     "name": "stderr",
     "output_type": "stream",
     "text": [
      "\r",
      "Epoch:   0%|          | 0/10 [00:00<?, ?it/s]"
     ]
    },
    {
     "name": "stdout",
     "output_type": "stream",
     "text": [
      "Total Normalized Services:  3243.0007100608336\n",
      "Total Normalized IPs:  7418.686165432119\n",
      "Total Fraction Services: 0.25815809103306936\n",
      "Total Fraction IPs: 0.3090801381198914\n",
      "Total Fraction Depopularized Services: 0.2579679757442283\n",
      "Total Fraction Depopularized IPs: 0.3088679367248751\n"
     ]
    },
    {
     "name": "stderr",
     "output_type": "stream",
     "text": [
      "Epoch: 100%|██████████| 10/10 [00:32<00:00,  3.20s/it]\n"
     ]
    },
    {
     "name": "stdout",
     "output_type": "stream",
     "text": [
      "...Grabbed Representations\n",
      "Got Item Representations\n",
      "Got User Representations\n",
      "Made Index\n",
      "Got Top Items\n",
      "Got Predictions/Top Items\n",
      "...Calculated Predictions\n",
      "cycle:  373\n",
      "correct: 106\n",
      "Num Scanned:  433826\n",
      "Number unique ports Rec'd:  30670\n",
      "At Bin:  373\n",
      "Hitrate:  0.00024433759156897004\n",
      "total ips correct:  134154\n"
     ]
    },
    {
     "name": "stderr",
     "output_type": "stream",
     "text": [
      "\r",
      "Epoch:   0%|          | 0/10 [00:00<?, ?it/s]"
     ]
    },
    {
     "name": "stdout",
     "output_type": "stream",
     "text": [
      "Total Normalized Services:  3246.327899646951\n",
      "Total Normalized IPs:  7424.570635556951\n",
      "Total Fraction Services: 0.2582801515962056\n",
      "Total Fraction IPs: 0.3092345779183359\n",
      "Total Fraction Depopularized Services: 0.2580901596687458\n",
      "Total Fraction Depopularized IPs: 0.3090226154087673\n"
     ]
    },
    {
     "name": "stderr",
     "output_type": "stream",
     "text": [
      "Epoch: 100%|██████████| 10/10 [00:31<00:00,  3.18s/it]\n"
     ]
    },
    {
     "name": "stdout",
     "output_type": "stream",
     "text": [
      "...Grabbed Representations\n",
      "Got Item Representations\n",
      "Got User Representations\n",
      "Made Index\n",
      "Got Top Items\n",
      "Got Predictions/Top Items\n",
      "...Calculated Predictions\n",
      "cycle:  374\n",
      "correct: 100\n",
      "Num Scanned:  433826\n",
      "Number unique ports Rec'd:  30672\n",
      "At Bin:  374\n",
      "Hitrate:  0.00023050716185751892\n",
      "total ips correct:  134224\n"
     ]
    },
    {
     "name": "stderr",
     "output_type": "stream",
     "text": [
      "\r",
      "Epoch:   0%|          | 0/10 [00:00<?, ?it/s]"
     ]
    },
    {
     "name": "stdout",
     "output_type": "stream",
     "text": [
      "Total Normalized Services:  3248.3331238524834\n",
      "Total Normalized IPs:  7429.418630328538\n",
      "Total Fraction Services: 0.25842782980839507\n",
      "Total Fraction IPs: 0.3093959329316362\n",
      "Total Fraction Depopularized Services: 0.25823798713297685\n",
      "Total Fraction Depopularized IPs: 0.3091842200038785\n"
     ]
    },
    {
     "name": "stderr",
     "output_type": "stream",
     "text": [
      "Epoch: 100%|██████████| 10/10 [00:35<00:00,  3.53s/it]\n"
     ]
    },
    {
     "name": "stdout",
     "output_type": "stream",
     "text": [
      "...Grabbed Representations\n",
      "Got Item Representations\n",
      "Got User Representations\n",
      "Made Index\n",
      "Got Top Items\n",
      "Got Predictions/Top Items\n",
      "...Calculated Predictions\n",
      "cycle:  375\n",
      "correct: 103\n",
      "Num Scanned:  433826\n",
      "Number unique ports Rec'd:  30676\n",
      "At Bin:  375\n",
      "Hitrate:  0.0002374223767132445\n",
      "total ips correct:  134307\n"
     ]
    },
    {
     "name": "stderr",
     "output_type": "stream",
     "text": [
      "\r",
      "Epoch:   0%|          | 0/10 [00:00<?, ?it/s]"
     ]
    },
    {
     "name": "stdout",
     "output_type": "stream",
     "text": [
      "Total Normalized Services:  3251.1443677794914\n",
      "Total Normalized IPs:  7437.05861832334\n",
      "Total Fraction Services: 0.2585830426232473\n",
      "Total Fraction IPs: 0.3095872538759779\n",
      "Total Fraction Depopularized Services: 0.2583918483712581\n",
      "Total Fraction Depopularized IPs: 0.30937352824386594\n"
     ]
    },
    {
     "name": "stderr",
     "output_type": "stream",
     "text": [
      "Epoch: 100%|██████████| 10/10 [00:34<00:00,  3.44s/it]\n"
     ]
    },
    {
     "name": "stdout",
     "output_type": "stream",
     "text": [
      "...Grabbed Representations\n",
      "Got Item Representations\n",
      "Got User Representations\n",
      "Made Index\n",
      "Got Top Items\n",
      "Got Predictions/Top Items\n",
      "...Calculated Predictions\n",
      "cycle:  376\n",
      "correct: 131\n",
      "Num Scanned:  433826\n",
      "Number unique ports Rec'd:  30676\n",
      "At Bin:  376\n",
      "Hitrate:  0.0003019643820333498\n",
      "total ips correct:  134396\n"
     ]
    },
    {
     "name": "stderr",
     "output_type": "stream",
     "text": [
      "\r",
      "Epoch:   0%|          | 0/10 [00:00<?, ?it/s]"
     ]
    },
    {
     "name": "stdout",
     "output_type": "stream",
     "text": [
      "Total Normalized Services:  3253.628760699083\n",
      "Total Normalized IPs:  7442.733558187948\n",
      "Total Fraction Services: 0.2587714076898155\n",
      "Total Fraction IPs: 0.3097924052500311\n",
      "Total Fraction Depopularized Services: 0.2585804038103283\n",
      "Total Fraction Depopularized IPs: 0.3095789969433645\n"
     ]
    },
    {
     "name": "stderr",
     "output_type": "stream",
     "text": [
      "Epoch: 100%|██████████| 10/10 [00:32<00:00,  3.27s/it]\n"
     ]
    },
    {
     "name": "stdout",
     "output_type": "stream",
     "text": [
      "...Grabbed Representations\n",
      "Got Item Representations\n",
      "Got User Representations\n",
      "Made Index\n",
      "Got Top Items\n",
      "Got Predictions/Top Items\n",
      "...Calculated Predictions\n",
      "cycle:  377\n",
      "correct: 125\n",
      "Num Scanned:  433826\n",
      "Number unique ports Rec'd:  30679\n",
      "At Bin:  377\n",
      "Hitrate:  0.00028813395232189863\n",
      "total ips correct:  134466\n",
      "Total Normalized Services:  3256.0001240875436\n",
      "Total Normalized IPs:  7447.827839731659\n",
      "Total Fraction Services: 0.25891004437880966\n",
      "Total Fraction IPs: 0.3099537602633314\n",
      "Total Fraction Depopularized Services: 0.258719180613484\n",
      "Total Fraction Depopularized IPs: 0.30974060153847577\n"
     ]
    },
    {
     "name": "stderr",
     "output_type": "stream",
     "text": [
      "Epoch: 100%|██████████| 10/10 [00:32<00:00,  3.25s/it]\n"
     ]
    },
    {
     "name": "stdout",
     "output_type": "stream",
     "text": [
      "...Grabbed Representations\n",
      "Got Item Representations\n",
      "Got User Representations\n",
      "Made Index\n",
      "Got Top Items\n",
      "Got Predictions/Top Items\n",
      "...Calculated Predictions\n",
      "cycle:  378\n",
      "correct: 117\n",
      "Num Scanned:  433826\n",
      "Number unique ports Rec'd:  30680\n",
      "At Bin:  378\n",
      "Hitrate:  0.00026969337937329715\n",
      "total ips correct:  134541\n"
     ]
    },
    {
     "name": "stderr",
     "output_type": "stream",
     "text": [
      "\r",
      "Epoch:   0%|          | 0/10 [00:00<?, ?it/s]"
     ]
    },
    {
     "name": "stdout",
     "output_type": "stream",
     "text": [
      "Total Normalized Services:  3258.3706234881392\n",
      "Total Normalized IPs:  7453.0543151315205\n",
      "Total Fraction Services: 0.25904717414727135\n",
      "Total Fraction IPs: 0.3101266406347245\n",
      "Total Fraction Depopularized Services: 0.2588564489731271\n",
      "Total Fraction Depopularized IPs: 0.30991374931895205\n"
     ]
    },
    {
     "name": "stderr",
     "output_type": "stream",
     "text": [
      "Epoch: 100%|██████████| 10/10 [00:32<00:00,  3.20s/it]\n"
     ]
    },
    {
     "name": "stdout",
     "output_type": "stream",
     "text": [
      "...Grabbed Representations\n",
      "Got Item Representations\n",
      "Got User Representations\n",
      "Made Index\n",
      "Got Top Items\n",
      "Got Predictions/Top Items\n",
      "...Calculated Predictions\n",
      "cycle:  379\n",
      "correct: 104\n",
      "Num Scanned:  433826\n",
      "Number unique ports Rec'd:  30682\n",
      "At Bin:  379\n",
      "Hitrate:  0.00023972744833181966\n",
      "total ips correct:  134620\n"
     ]
    },
    {
     "name": "stderr",
     "output_type": "stream",
     "text": [
      "\r",
      "Epoch:   0%|          | 0/10 [00:00<?, ?it/s]"
     ]
    },
    {
     "name": "stdout",
     "output_type": "stream",
     "text": [
      "Total Normalized Services:  3260.6057200585014\n",
      "Total Normalized IPs:  7457.997778315663\n",
      "Total Fraction Services: 0.2591933454389283\n",
      "Total Fraction IPs: 0.31030874129259195\n",
      "Total Fraction Depopularized Services: 0.2589967342197953\n",
      "Total Fraction Depopularized IPs: 0.3100868970994284\n"
     ]
    },
    {
     "name": "stderr",
     "output_type": "stream",
     "text": [
      "Epoch: 100%|██████████| 10/10 [00:33<00:00,  3.38s/it]\n"
     ]
    },
    {
     "name": "stdout",
     "output_type": "stream",
     "text": [
      "...Grabbed Representations\n",
      "Got Item Representations\n",
      "Got User Representations\n",
      "Made Index\n",
      "Got Top Items\n",
      "Got Predictions/Top Items\n",
      "...Calculated Predictions\n",
      "cycle:  380\n",
      "correct: 98\n",
      "Num Scanned:  433826\n",
      "Number unique ports Rec'd:  30682\n",
      "At Bin:  380\n",
      "Hitrate:  0.00022589701862036853\n",
      "total ips correct:  134702\n"
     ]
    },
    {
     "name": "stderr",
     "output_type": "stream",
     "text": [
      "\r",
      "Epoch:   0%|          | 0/10 [00:00<?, ?it/s]"
     ]
    },
    {
     "name": "stdout",
     "output_type": "stream",
     "text": [
      "Total Normalized Services:  3262.0511443380205\n",
      "Total Normalized IPs:  7468.403876338992\n",
      "Total Fraction Services: 0.2593410236511178\n",
      "Total Fraction IPs: 0.31049775716531514\n",
      "Total Fraction Depopularized Services: 0.25914456168402633\n",
      "Total Fraction Depopularized IPs: 0.3102762053394158\n"
     ]
    },
    {
     "name": "stderr",
     "output_type": "stream",
     "text": [
      "Epoch: 100%|██████████| 10/10 [00:33<00:00,  3.35s/it]\n"
     ]
    },
    {
     "name": "stdout",
     "output_type": "stream",
     "text": [
      "...Grabbed Representations\n",
      "Got Item Representations\n",
      "Got User Representations\n",
      "Made Index\n",
      "Got Top Items\n",
      "Got Predictions/Top Items\n",
      "...Calculated Predictions\n",
      "cycle:  381\n",
      "correct: 117\n",
      "Num Scanned:  433826\n",
      "Number unique ports Rec'd:  30686\n",
      "At Bin:  381\n",
      "Hitrate:  0.00026969337937329715\n",
      "total ips correct:  134772\n"
     ]
    },
    {
     "name": "stderr",
     "output_type": "stream",
     "text": [
      "\r",
      "Epoch:   0%|          | 0/10 [00:00<?, ?it/s]"
     ]
    },
    {
     "name": "stdout",
     "output_type": "stream",
     "text": [
      "Total Normalized Services:  3263.6097727228134\n",
      "Total Normalized IPs:  7471.473080216476\n",
      "Total Fraction Services: 0.2594736326579818\n",
      "Total Fraction IPs: 0.3106591121786154\n",
      "Total Fraction Depopularized Services: 0.25927730471313176\n",
      "Total Fraction Depopularized IPs: 0.3104378099345271\n"
     ]
    },
    {
     "name": "stderr",
     "output_type": "stream",
     "text": [
      "Epoch: 100%|██████████| 10/10 [00:34<00:00,  3.47s/it]\n"
     ]
    },
    {
     "name": "stdout",
     "output_type": "stream",
     "text": [
      "...Grabbed Representations\n",
      "Got Item Representations\n",
      "Got User Representations\n",
      "Made Index\n",
      "Got Top Items\n",
      "Got Predictions/Top Items\n",
      "...Calculated Predictions\n",
      "cycle:  382\n",
      "correct: 235\n",
      "Num Scanned:  433826\n",
      "Number unique ports Rec'd:  30688\n",
      "At Bin:  382\n",
      "Hitrate:  0.0005416918303651695\n",
      "total ips correct:  134849\n"
     ]
    },
    {
     "name": "stderr",
     "output_type": "stream",
     "text": [
      "\r",
      "Epoch:   0%|          | 0/10 [00:00<?, ?it/s]"
     ]
    },
    {
     "name": "stdout",
     "output_type": "stream",
     "text": [
      "Total Normalized Services:  3265.331634245087\n",
      "Total Normalized IPs:  7478.116295351999\n",
      "Total Fraction Services: 0.25959720014165055\n",
      "Total Fraction IPs: 0.3108366026932457\n",
      "Total Fraction Depopularized Services: 0.2594009970811618\n",
      "Total Fraction Depopularized IPs: 0.3106155749891494\n"
     ]
    },
    {
     "name": "stderr",
     "output_type": "stream",
     "text": [
      "Epoch: 100%|██████████| 10/10 [00:31<00:00,  3.15s/it]\n"
     ]
    },
    {
     "name": "stdout",
     "output_type": "stream",
     "text": [
      "...Grabbed Representations\n",
      "Got Item Representations\n",
      "Got User Representations\n",
      "Made Index\n",
      "Got Top Items\n",
      "Got Predictions/Top Items\n",
      "...Calculated Predictions\n",
      "cycle:  383\n",
      "correct: 117\n",
      "Num Scanned:  433826\n",
      "Number unique ports Rec'd:  30690\n",
      "At Bin:  383\n",
      "Hitrate:  0.00026969337937329715\n",
      "total ips correct:  134927\n"
     ]
    },
    {
     "name": "stderr",
     "output_type": "stream",
     "text": [
      "\r",
      "Epoch:   0%|          | 0/10 [00:00<?, ?it/s]"
     ]
    },
    {
     "name": "stdout",
     "output_type": "stream",
     "text": [
      "Total Normalized Services:  3267.1734344258257\n",
      "Total Normalized IPs:  7485.018199408647\n",
      "Total Fraction Services: 0.25975241295650275\n",
      "Total Fraction IPs: 0.31101639827949457\n",
      "Total Fraction Depopularized Services: 0.2595563667629556\n",
      "Total Fraction Depopularized IPs: 0.31079564868084475\n"
     ]
    },
    {
     "name": "stderr",
     "output_type": "stream",
     "text": [
      "Epoch: 100%|██████████| 10/10 [00:34<00:00,  3.46s/it]\n"
     ]
    },
    {
     "name": "stdout",
     "output_type": "stream",
     "text": [
      "...Grabbed Representations\n",
      "Got Item Representations\n",
      "Got User Representations\n",
      "Made Index\n",
      "Got Top Items\n",
      "Got Predictions/Top Items\n",
      "...Calculated Predictions\n",
      "cycle:  384\n",
      "correct: 188\n",
      "Num Scanned:  433826\n",
      "Number unique ports Rec'd:  30691\n",
      "At Bin:  384\n",
      "Hitrate:  0.00043335346429213554\n",
      "total ips correct:  135019\n",
      "Total Normalized Services:  3270.330976811933\n",
      "Total Normalized IPs:  7490.8380023579875\n",
      "Total Fraction Services: 0.2599422849436035\n",
      "Total Fraction IPs: 0.31122846486840344\n",
      "Total Fraction Depopularized Services: 0.25974643064553843\n",
      "Total Fraction Depopularized IPs: 0.3110080432915624\n"
     ]
    },
    {
     "name": "stderr",
     "output_type": "stream",
     "text": [
      "Epoch: 100%|██████████| 10/10 [00:31<00:00,  3.19s/it]\n"
     ]
    },
    {
     "name": "stdout",
     "output_type": "stream",
     "text": [
      "...Grabbed Representations\n",
      "Got Item Representations\n",
      "Got User Representations\n",
      "Made Index\n",
      "Got Top Items\n",
      "Got Predictions/Top Items\n",
      "...Calculated Predictions\n",
      "cycle:  385\n",
      "correct: 126\n",
      "Num Scanned:  433826\n",
      "Number unique ports Rec'd:  30692\n",
      "At Bin:  385\n",
      "Hitrate:  0.0002904390239404738\n",
      "total ips correct:  135117\n",
      "Total Normalized Services:  3272.0177642998246\n",
      "Total Normalized IPs:  7494.269621543495\n",
      "Total Fraction Services: 0.26011106004324863\n",
      "Total Fraction IPs: 0.31145436188702386\n",
      "Total Fraction Depopularized Services: 0.2598746483441061\n",
      "Total Fraction Depopularized IPs: 0.31117195652374663\n"
     ]
    },
    {
     "name": "stderr",
     "output_type": "stream",
     "text": [
      "Epoch: 100%|██████████| 10/10 [00:31<00:00,  3.16s/it]\n"
     ]
    },
    {
     "name": "stdout",
     "output_type": "stream",
     "text": [
      "...Grabbed Representations\n",
      "Got Item Representations\n",
      "Got User Representations\n",
      "Made Index\n",
      "Got Top Items\n",
      "Got Predictions/Top Items\n",
      "...Calculated Predictions\n",
      "cycle:  386\n",
      "correct: 128\n",
      "Num Scanned:  433826\n",
      "Number unique ports Rec'd:  30692\n",
      "At Bin:  386\n",
      "Hitrate:  0.0002950491671776242\n",
      "total ips correct:  135224\n",
      "Total Normalized Services:  3273.3680473282275\n",
      "Total Normalized IPs:  7500.815053688345\n",
      "Total Fraction Services: 0.26029038358662154\n",
      "Total Fraction IPs: 0.3117010045502114\n",
      "Total Fraction Depopularized Services: 0.26004962779156326\n",
      "Total Fraction Depopularized IPs: 0.3114120547793405\n"
     ]
    },
    {
     "name": "stderr",
     "output_type": "stream",
     "text": [
      "Epoch: 100%|██████████| 10/10 [00:32<00:00,  3.21s/it]\n"
     ]
    },
    {
     "name": "stdout",
     "output_type": "stream",
     "text": [
      "...Grabbed Representations\n",
      "Got Item Representations\n",
      "Got User Representations\n",
      "Made Index\n",
      "Got Top Items\n",
      "Got Predictions/Top Items\n",
      "...Calculated Predictions\n",
      "cycle:  387\n",
      "correct: 166\n",
      "Num Scanned:  433826\n",
      "Number unique ports Rec'd:  30695\n",
      "At Bin:  387\n",
      "Hitrate:  0.0003826418886834814\n",
      "total ips correct:  135350\n"
     ]
    },
    {
     "name": "stderr",
     "output_type": "stream",
     "text": [
      "\r",
      "Epoch:   0%|          | 0/10 [00:00<?, ?it/s]"
     ]
    },
    {
     "name": "stdout",
     "output_type": "stream",
     "text": [
      "Total Normalized Services:  3276.092534200955\n",
      "Total Normalized IPs:  7513.229515571518\n",
      "Total Fraction Services: 0.260517928587036\n",
      "Total Fraction IPs: 0.31199144357415187\n",
      "Total Fraction Depopularized Services: 0.26027438587493495\n",
      "Total Fraction Depopularized IPs: 0.31169832577639467\n"
     ]
    },
    {
     "name": "stderr",
     "output_type": "stream",
     "text": [
      "Epoch: 100%|██████████| 10/10 [00:30<00:00,  3.05s/it]\n"
     ]
    },
    {
     "name": "stdout",
     "output_type": "stream",
     "text": [
      "...Grabbed Representations\n",
      "Got Item Representations\n",
      "Got User Representations\n",
      "Made Index\n",
      "Got Top Items\n",
      "Got Predictions/Top Items\n",
      "...Calculated Predictions\n",
      "cycle:  388\n",
      "correct: 112\n",
      "Num Scanned:  433826\n",
      "Number unique ports Rec'd:  30699\n",
      "At Bin:  388\n",
      "Hitrate:  0.0002581680212804212\n",
      "total ips correct:  135437\n"
     ]
    },
    {
     "name": "stderr",
     "output_type": "stream",
     "text": [
      "\r",
      "Epoch:   0%|          | 0/10 [00:00<?, ?it/s]"
     ]
    },
    {
     "name": "stdout",
     "output_type": "stream",
     "text": [
      "Total Normalized Services:  3278.7881718908916\n",
      "Total Normalized IPs:  7521.437606408323\n",
      "Total Fraction Services: 0.2606806760045509\n",
      "Total Fraction IPs: 0.3121919848049679\n",
      "Total Fraction Depopularized Services: 0.26043578933077904\n",
      "Total Fraction Depopularized IPs: 0.31189686856467413\n"
     ]
    },
    {
     "name": "stderr",
     "output_type": "stream",
     "text": [
      "Epoch: 100%|██████████| 10/10 [00:31<00:00,  3.14s/it]\n"
     ]
    },
    {
     "name": "stdout",
     "output_type": "stream",
     "text": [
      "...Grabbed Representations\n",
      "Got Item Representations\n",
      "Got User Representations\n",
      "Made Index\n",
      "Got Top Items\n",
      "Got Predictions/Top Items\n",
      "...Calculated Predictions\n",
      "cycle:  389\n",
      "correct: 71\n",
      "Num Scanned:  433826\n",
      "Number unique ports Rec'd:  30700\n",
      "At Bin:  389\n",
      "Hitrate:  0.00016366008491883842\n",
      "total ips correct:  135497\n"
     ]
    },
    {
     "name": "stderr",
     "output_type": "stream",
     "text": [
      "\r",
      "Epoch:   0%|          | 0/10 [00:00<?, ?it/s]"
     ]
    },
    {
     "name": "stdout",
     "output_type": "stream",
     "text": [
      "Total Normalized Services:  3280.369857387411\n",
      "Total Normalized IPs:  7524.898956888633\n",
      "Total Fraction Services: 0.26078766736236164\n",
      "Total Fraction IPs: 0.3123302891020824\n",
      "Total Fraction Depopularized Services: 0.2605428888201709\n",
      "Total Fraction Depopularized IPs: 0.31203538678905524\n"
     ]
    },
    {
     "name": "stderr",
     "output_type": "stream",
     "text": [
      "Epoch: 100%|██████████| 10/10 [00:31<00:00,  3.11s/it]\n"
     ]
    },
    {
     "name": "stdout",
     "output_type": "stream",
     "text": [
      "...Grabbed Representations\n",
      "Got Item Representations\n",
      "Got User Representations\n",
      "Made Index\n",
      "Got Top Items\n",
      "Got Predictions/Top Items\n",
      "...Calculated Predictions\n",
      "cycle:  390\n",
      "correct: 139\n",
      "Num Scanned:  433826\n",
      "Number unique ports Rec'd:  30701\n",
      "At Bin:  390\n",
      "Hitrate:  0.0003204049549819513\n",
      "total ips correct:  135595\n"
     ]
    },
    {
     "name": "stderr",
     "output_type": "stream",
     "text": [
      "\r",
      "Epoch:   0%|          | 0/10 [00:00<?, ?it/s]"
     ]
    },
    {
     "name": "stdout",
     "output_type": "stream",
     "text": [
      "Total Normalized Services:  3284.009250397368\n",
      "Total Normalized IPs:  7530.722482966033\n",
      "Total Fraction Services: 0.2609971293163855\n",
      "Total Fraction IPs: 0.3125561861207028\n",
      "Total Fraction Depopularized Services: 0.2607510540249044\n",
      "Total Fraction Depopularized IPs: 0.31225932458513794\n"
     ]
    },
    {
     "name": "stderr",
     "output_type": "stream",
     "text": [
      "Epoch: 100%|██████████| 10/10 [00:32<00:00,  3.21s/it]\n"
     ]
    },
    {
     "name": "stdout",
     "output_type": "stream",
     "text": [
      "...Grabbed Representations\n",
      "Got Item Representations\n",
      "Got User Representations\n",
      "Made Index\n",
      "Got Top Items\n",
      "Got Predictions/Top Items\n",
      "...Calculated Predictions\n",
      "cycle:  391\n",
      "correct: 125\n",
      "Num Scanned:  433826\n",
      "Number unique ports Rec'd:  30701\n",
      "At Bin:  391\n",
      "Hitrate:  0.00028813395232189863\n",
      "total ips correct:  135680\n"
     ]
    },
    {
     "name": "stderr",
     "output_type": "stream",
     "text": [
      "\r",
      "Epoch:   0%|          | 0/10 [00:00<?, ?it/s]"
     ]
    },
    {
     "name": "stdout",
     "output_type": "stream",
     "text": [
      "Total Normalized Services:  3287.9766549148894\n",
      "Total Normalized IPs:  7536.581079388201\n",
      "Total Fraction Services: 0.26118549438295374\n",
      "Total Fraction IPs: 0.31275211720828167\n",
      "Total Fraction Depopularized Services: 0.2609396094639746\n",
      "Total Fraction Depopularized IPs: 0.3124555587363444\n"
     ]
    },
    {
     "name": "stderr",
     "output_type": "stream",
     "text": [
      "Epoch: 100%|██████████| 10/10 [00:33<00:00,  3.37s/it]\n"
     ]
    },
    {
     "name": "stdout",
     "output_type": "stream",
     "text": [
      "...Grabbed Representations\n",
      "Got Item Representations\n",
      "Got User Representations\n",
      "Made Index\n",
      "Got Top Items\n",
      "Got Predictions/Top Items\n",
      "...Calculated Predictions\n",
      "cycle:  392\n",
      "correct: 97\n",
      "Num Scanned:  433826\n",
      "Number unique ports Rec'd:  30701\n",
      "At Bin:  392\n",
      "Hitrate:  0.00022359194700179334\n",
      "total ips correct:  135730\n"
     ]
    },
    {
     "name": "stderr",
     "output_type": "stream",
     "text": [
      "\r",
      "Epoch:   0%|          | 0/10 [00:00<?, ?it/s]"
     ]
    },
    {
     "name": "stdout",
     "output_type": "stream",
     "text": [
      "Total Normalized Services:  3289.799398204476\n",
      "Total Normalized IPs:  7540.091182729979\n",
      "Total Fraction Services: 0.26133166567461064\n",
      "Total Fraction IPs: 0.3128673707892104\n",
      "Total Fraction Depopularized Services: 0.2610859284846931\n",
      "Total Fraction Depopularized IPs: 0.31257099058999527\n"
     ]
    },
    {
     "name": "stderr",
     "output_type": "stream",
     "text": [
      "Epoch: 100%|██████████| 10/10 [00:31<00:00,  3.10s/it]\n"
     ]
    },
    {
     "name": "stdout",
     "output_type": "stream",
     "text": [
      "...Grabbed Representations\n",
      "Got Item Representations\n",
      "Got User Representations\n",
      "Made Index\n",
      "Got Top Items\n",
      "Got Predictions/Top Items\n",
      "...Calculated Predictions\n",
      "cycle:  393\n",
      "correct: 251\n",
      "Num Scanned:  433826\n",
      "Number unique ports Rec'd:  30702\n",
      "At Bin:  393\n",
      "Hitrate:  0.0005785729762623724\n",
      "total ips correct:  135830\n"
     ]
    },
    {
     "name": "stderr",
     "output_type": "stream",
     "text": [
      "\r",
      "Epoch:   0%|          | 0/10 [00:00<?, ?it/s]"
     ]
    },
    {
     "name": "stdout",
     "output_type": "stream",
     "text": [
      "Total Normalized Services:  3292.4653362620834\n",
      "Total Normalized IPs:  7549.769073361206\n",
      "Total Fraction Services: 0.261506468456386\n",
      "Total Fraction IPs: 0.3130978779510679\n",
      "Total Fraction Depopularized Services: 0.26125939948863763\n",
      "Total Fraction Depopularized IPs: 0.31279954566022405\n"
     ]
    },
    {
     "name": "stderr",
     "output_type": "stream",
     "text": [
      "Epoch: 100%|██████████| 10/10 [00:33<00:00,  3.38s/it]\n"
     ]
    },
    {
     "name": "stdout",
     "output_type": "stream",
     "text": [
      "...Grabbed Representations\n",
      "Got Item Representations\n",
      "Got User Representations\n",
      "Made Index\n",
      "Got Top Items\n",
      "Got Predictions/Top Items\n",
      "...Calculated Predictions\n",
      "cycle:  394\n",
      "correct: 111\n",
      "Num Scanned:  433826\n",
      "Number unique ports Rec'd:  30703\n",
      "At Bin:  394\n",
      "Hitrate:  0.000255862949661846\n",
      "total ips correct:  135915\n"
     ]
    },
    {
     "name": "stderr",
     "output_type": "stream",
     "text": [
      "\r",
      "Epoch:   0%|          | 0/10 [00:00<?, ?it/s]"
     ]
    },
    {
     "name": "stdout",
     "output_type": "stream",
     "text": [
      "Total Normalized Services:  3295.1047006768904\n",
      "Total Normalized IPs:  7558.98675168996\n",
      "Total Fraction Services: 0.2616662020328358\n",
      "Total Fraction IPs: 0.31329380903864684\n",
      "Total Fraction Depopularized Services: 0.26141627761394404\n",
      "Total Fraction Depopularized IPs: 0.3129911625372845\n"
     ]
    },
    {
     "name": "stderr",
     "output_type": "stream",
     "text": [
      "Epoch: 100%|██████████| 10/10 [00:32<00:00,  3.20s/it]\n"
     ]
    },
    {
     "name": "stdout",
     "output_type": "stream",
     "text": [
      "...Grabbed Representations\n",
      "Got Item Representations\n",
      "Got User Representations\n",
      "Made Index\n",
      "Got Top Items\n",
      "Got Predictions/Top Items\n",
      "...Calculated Predictions\n",
      "cycle:  395\n",
      "correct: 106\n",
      "Num Scanned:  433826\n",
      "Number unique ports Rec'd:  30704\n",
      "At Bin:  395\n",
      "Hitrate:  0.00024433759156897004\n",
      "total ips correct:  135991\n"
     ]
    },
    {
     "name": "stderr",
     "output_type": "stream",
     "text": [
      "\r",
      "Epoch:   0%|          | 0/10 [00:00<?, ?it/s]"
     ]
    },
    {
     "name": "stdout",
     "output_type": "stream",
     "text": [
      "Total Normalized Services:  3297.0661780979376\n",
      "Total Normalized IPs:  7563.00842119286\n",
      "Total Fraction Services: 0.26180785256289507\n",
      "Total Fraction IPs: 0.31346899448165855\n",
      "Total Fraction Depopularized Services: 0.26155807130412484\n",
      "Total Fraction Depopularized IPs: 0.31316661895483383\n"
     ]
    },
    {
     "name": "stderr",
     "output_type": "stream",
     "text": [
      "Epoch: 100%|██████████| 10/10 [00:35<00:00,  3.51s/it]\n"
     ]
    },
    {
     "name": "stdout",
     "output_type": "stream",
     "text": [
      "...Grabbed Representations\n",
      "Got Item Representations\n",
      "Got User Representations\n",
      "Made Index\n",
      "Got Top Items\n",
      "Got Predictions/Top Items\n",
      "...Calculated Predictions\n",
      "cycle:  396\n",
      "correct: 176\n",
      "Num Scanned:  433826\n",
      "Number unique ports Rec'd:  30705\n",
      "At Bin:  396\n",
      "Hitrate:  0.0004056926048692333\n",
      "total ips correct:  136054\n"
     ]
    },
    {
     "name": "stderr",
     "output_type": "stream",
     "text": [
      "\r",
      "Epoch:   0%|          | 0/10 [00:00<?, ?it/s]"
     ]
    },
    {
     "name": "stdout",
     "output_type": "stream",
     "text": [
      "Total Normalized Services:  3298.6520336203444\n",
      "Total Normalized IPs:  7567.689714063554\n",
      "Total Fraction Services: 0.26191183007964075\n",
      "Total Fraction IPs: 0.31361421399362877\n",
      "Total Fraction Depopularized Services: 0.261660645462979\n",
      "Total Fraction Depopularized IPs: 0.3133097544533609\n"
     ]
    },
    {
     "name": "stderr",
     "output_type": "stream",
     "text": [
      "Epoch: 100%|██████████| 10/10 [00:35<00:00,  3.52s/it]\n"
     ]
    },
    {
     "name": "stdout",
     "output_type": "stream",
     "text": [
      "...Grabbed Representations\n",
      "Got Item Representations\n",
      "Got User Representations\n",
      "Made Index\n",
      "Got Top Items\n",
      "Got Predictions/Top Items\n",
      "...Calculated Predictions\n",
      "cycle:  397\n",
      "correct: 122\n",
      "Num Scanned:  433826\n",
      "Number unique ports Rec'd:  30706\n",
      "At Bin:  397\n",
      "Hitrate:  0.00028121873746617305\n",
      "total ips correct:  136140\n"
     ]
    },
    {
     "name": "stderr",
     "output_type": "stream",
     "text": [
      "\r",
      "Epoch:   0%|          | 0/10 [00:00<?, ?it/s]"
     ]
    },
    {
     "name": "stdout",
     "output_type": "stream",
     "text": [
      "Total Normalized Services:  3302.2035174890248\n",
      "Total Normalized IPs:  7574.137811534974\n",
      "Total Fraction Services: 0.2620775913382208\n",
      "Total Fraction IPs: 0.31381245015282627\n",
      "Total Fraction Depopularized Services: 0.2618265742493608\n",
      "Total Fraction Depopularized IPs: 0.3135082972416404\n"
     ]
    },
    {
     "name": "stderr",
     "output_type": "stream",
     "text": [
      "Epoch: 100%|██████████| 10/10 [00:35<00:00,  3.51s/it]\n"
     ]
    },
    {
     "name": "stdout",
     "output_type": "stream",
     "text": [
      "...Grabbed Representations\n",
      "Got Item Representations\n",
      "Got User Representations\n",
      "Made Index\n",
      "Got Top Items\n",
      "Got Predictions/Top Items\n",
      "...Calculated Predictions\n",
      "cycle:  398\n",
      "correct: 112\n",
      "Num Scanned:  433826\n",
      "Number unique ports Rec'd:  30709\n",
      "At Bin:  398\n",
      "Hitrate:  0.0002581680212804212\n",
      "total ips correct:  136234\n"
     ]
    },
    {
     "name": "stderr",
     "output_type": "stream",
     "text": [
      "\r",
      "Epoch:   0%|          | 0/10 [00:00<?, ?it/s]"
     ]
    },
    {
     "name": "stdout",
     "output_type": "stream",
     "text": [
      "Total Normalized Services:  3304.9157852835965\n",
      "Total Normalized IPs:  7581.584744621448\n",
      "Total Fraction Services: 0.26224485951733334\n",
      "Total Fraction IPs: 0.3140291268849723\n",
      "Total Fraction Depopularized Services: 0.26199250303574256\n",
      "Total Fraction Depopularized IPs: 0.3137230004894311\n"
     ]
    },
    {
     "name": "stderr",
     "output_type": "stream",
     "text": [
      "Epoch: 100%|██████████| 10/10 [00:33<00:00,  3.36s/it]\n"
     ]
    },
    {
     "name": "stdout",
     "output_type": "stream",
     "text": [
      "...Grabbed Representations\n",
      "Got Item Representations\n",
      "Got User Representations\n",
      "Made Index\n",
      "Got Top Items\n",
      "Got Predictions/Top Items\n",
      "...Calculated Predictions\n",
      "cycle:  399\n",
      "correct: 121\n",
      "Num Scanned:  433826\n",
      "Number unique ports Rec'd:  30709\n",
      "At Bin:  399\n",
      "Hitrate:  0.00027891366584759786\n",
      "total ips correct:  136322\n"
     ]
    },
    {
     "name": "stderr",
     "output_type": "stream",
     "text": [
      "\r",
      "Epoch:   0%|          | 0/10 [00:00<?, ?it/s]"
     ]
    },
    {
     "name": "stdout",
     "output_type": "stream",
     "text": [
      "Total Normalized Services:  3307.4465017402276\n",
      "Total Normalized IPs:  7587.579130753707\n",
      "Total Fraction Services: 0.2624211692196412\n",
      "Total Fraction IPs: 0.3142319731874069\n",
      "Total Fraction Depopularized Services: 0.26216899092671225\n",
      "Total Fraction Depopularized IPs: 0.3139261605518566\n"
     ]
    },
    {
     "name": "stderr",
     "output_type": "stream",
     "text": [
      "Epoch: 100%|██████████| 10/10 [00:34<00:00,  3.47s/it]\n"
     ]
    },
    {
     "name": "stdout",
     "output_type": "stream",
     "text": [
      "...Grabbed Representations\n",
      "Got Item Representations\n",
      "Got User Representations\n",
      "Made Index\n",
      "Got Top Items\n",
      "Got Predictions/Top Items\n",
      "...Calculated Predictions\n",
      "cycle:  400\n",
      "correct: 98\n",
      "Num Scanned:  433826\n",
      "Number unique ports Rec'd:  30710\n",
      "At Bin:  400\n",
      "Hitrate:  0.00022589701862036853\n",
      "total ips correct:  136391\n"
     ]
    },
    {
     "name": "stderr",
     "output_type": "stream",
     "text": [
      "\r",
      "Epoch:   0%|          | 0/10 [00:00<?, ?it/s]"
     ]
    },
    {
     "name": "stdout",
     "output_type": "stream",
     "text": [
      "Total Normalized Services:  3309.655202748445\n",
      "Total Normalized IPs:  7593.3988107940195\n",
      "Total Fraction Services: 0.26256432667023305\n",
      "Total Fraction IPs: 0.3143910231290886\n",
      "Total Fraction Depopularized Services: 0.2623122930604056\n",
      "Total Fraction Depopularized IPs: 0.31408545650989483\n"
     ]
    },
    {
     "name": "stderr",
     "output_type": "stream",
     "text": [
      "Epoch: 100%|██████████| 10/10 [00:33<00:00,  3.36s/it]\n"
     ]
    },
    {
     "name": "stdout",
     "output_type": "stream",
     "text": [
      "...Grabbed Representations\n",
      "Got Item Representations\n",
      "Got User Representations\n",
      "Made Index\n",
      "Got Top Items\n",
      "Got Predictions/Top Items\n",
      "...Calculated Predictions\n",
      "cycle:  401\n",
      "correct: 112\n",
      "Num Scanned:  433826\n",
      "Number unique ports Rec'd:  30714\n",
      "At Bin:  401\n",
      "Hitrate:  0.0002581680212804212\n",
      "total ips correct:  136487\n",
      "Total Normalized Services:  3311.6999098228853\n",
      "Total Normalized IPs:  7602.077719285705\n",
      "Total Fraction Services: 0.2627331017698782\n",
      "Total Fraction IPs: 0.3146123100044718\n",
      "Total Fraction Depopularized Services: 0.2624812387338125\n",
      "Total Fraction Depopularized IPs: 0.31430708566890453\n"
     ]
    },
    {
     "name": "stderr",
     "output_type": "stream",
     "text": [
      "Epoch: 100%|██████████| 10/10 [00:34<00:00,  3.48s/it]\n"
     ]
    },
    {
     "name": "stdout",
     "output_type": "stream",
     "text": [
      "...Grabbed Representations\n",
      "Got Item Representations\n",
      "Got User Representations\n",
      "Made Index\n",
      "Got Top Items\n",
      "Got Predictions/Top Items\n",
      "...Calculated Predictions\n",
      "cycle:  402\n",
      "correct: 87\n",
      "Num Scanned:  433826\n",
      "Number unique ports Rec'd:  30718\n",
      "At Bin:  402\n",
      "Hitrate:  0.00020054123081604145\n",
      "total ips correct:  136548\n"
     ]
    },
    {
     "name": "stderr",
     "output_type": "stream",
     "text": [
      "\r",
      "Epoch:   0%|          | 0/10 [00:00<?, ?it/s]"
     ]
    },
    {
     "name": "stdout",
     "output_type": "stream",
     "text": [
      "Total Normalized Services:  3313.664899741202\n",
      "Total Normalized IPs:  7607.788973545092\n",
      "Total Fraction Services: 0.2628461208098191\n",
      "Total Fraction IPs: 0.31475291937320493\n",
      "Total Fraction Depopularized Services: 0.26259286355374206\n",
      "Total Fraction Depopularized IPs: 0.3144456038932856\n"
     ]
    },
    {
     "name": "stderr",
     "output_type": "stream",
     "text": [
      "Epoch: 100%|██████████| 10/10 [00:34<00:00,  3.46s/it]\n"
     ]
    },
    {
     "name": "stdout",
     "output_type": "stream",
     "text": [
      "...Grabbed Representations\n",
      "Got Item Representations\n",
      "Got User Representations\n",
      "Made Index\n",
      "Got Top Items\n",
      "Got Predictions/Top Items\n",
      "...Calculated Predictions\n",
      "cycle:  403\n",
      "correct: 274\n",
      "Num Scanned:  433826\n",
      "Number unique ports Rec'd:  30718\n",
      "At Bin:  403\n",
      "Hitrate:  0.0006315896234896019\n",
      "total ips correct:  136642\n"
     ]
    },
    {
     "name": "stderr",
     "output_type": "stream",
     "text": [
      "\r",
      "Epoch:   0%|          | 0/10 [00:00<?, ?it/s]"
     ]
    },
    {
     "name": "stdout",
     "output_type": "stream",
     "text": [
      "Total Normalized Services:  3315.279759626809\n",
      "Total Normalized IPs:  7612.2434590219555\n",
      "Total Fraction Services: 0.26300886822733405\n",
      "Total Fraction IPs: 0.31496959610535097\n",
      "Total Fraction Depopularized Services: 0.2627527585660736\n",
      "Total Fraction Depopularized IPs: 0.31465799850400317\n"
     ]
    },
    {
     "name": "stderr",
     "output_type": "stream",
     "text": [
      "Epoch: 100%|██████████| 10/10 [00:34<00:00,  3.45s/it]\n"
     ]
    },
    {
     "name": "stdout",
     "output_type": "stream",
     "text": [
      "...Grabbed Representations\n",
      "Got Item Representations\n",
      "Got User Representations\n",
      "Made Index\n",
      "Got Top Items\n",
      "Got Predictions/Top Items\n",
      "...Calculated Predictions\n",
      "cycle:  404\n",
      "correct: 107\n",
      "Num Scanned:  433826\n",
      "Number unique ports Rec'd:  30721\n",
      "At Bin:  404\n",
      "Hitrate:  0.00024664266318754523\n",
      "total ips correct:  136713\n"
     ]
    },
    {
     "name": "stderr",
     "output_type": "stream",
     "text": [
      "\r",
      "Epoch:   0%|          | 0/10 [00:00<?, ?it/s]"
     ]
    },
    {
     "name": "stdout",
     "output_type": "stream",
     "text": [
      "Total Normalized Services:  3317.8536320052185\n",
      "Total Normalized IPs:  7618.312446613985\n",
      "Total Fraction Services: 0.2631565464395235\n",
      "Total Fraction IPs: 0.31513325619026983\n",
      "Total Fraction Depopularized Services: 0.2628975691432795\n",
      "Total Fraction Depopularized IPs: 0.3148172944620414\n"
     ]
    },
    {
     "name": "stderr",
     "output_type": "stream",
     "text": [
      "Epoch: 100%|██████████| 10/10 [00:33<00:00,  3.36s/it]\n"
     ]
    },
    {
     "name": "stdout",
     "output_type": "stream",
     "text": [
      "...Grabbed Representations\n",
      "Got Item Representations\n",
      "Got User Representations\n",
      "Made Index\n",
      "Got Top Items\n",
      "Got Predictions/Top Items\n",
      "...Calculated Predictions\n",
      "cycle:  405\n",
      "correct: 91\n",
      "Num Scanned:  433826\n",
      "Number unique ports Rec'd:  30724\n",
      "At Bin:  405\n",
      "Hitrate:  0.00020976151729034222\n",
      "total ips correct:  136759\n"
     ]
    },
    {
     "name": "stderr",
     "output_type": "stream",
     "text": [
      "\r",
      "Epoch:   0%|          | 0/10 [00:00<?, ?it/s]"
     ]
    },
    {
     "name": "stdout",
     "output_type": "stream",
     "text": [
      "Total Normalized Services:  3320.323479923982\n",
      "Total Normalized IPs:  7623.014238744791\n",
      "Total Fraction Services: 0.2632816208437248\n",
      "Total Fraction IPs: 0.3152392894847243\n",
      "Total Fraction Depopularized Services: 0.26301673618077187\n",
      "Total Fraction Depopularized IPs: 0.31491425721910815\n"
     ]
    },
    {
     "name": "stderr",
     "output_type": "stream",
     "text": [
      "Epoch: 100%|██████████| 10/10 [00:34<00:00,  3.49s/it]\n"
     ]
    },
    {
     "name": "stdout",
     "output_type": "stream",
     "text": [
      "...Grabbed Representations\n",
      "Got Item Representations\n",
      "Got User Representations\n",
      "Made Index\n",
      "Got Top Items\n",
      "Got Predictions/Top Items\n",
      "...Calculated Predictions\n",
      "cycle:  406\n",
      "correct: 64\n",
      "Num Scanned:  433826\n",
      "Number unique ports Rec'd:  30725\n",
      "At Bin:  406\n",
      "Hitrate:  0.0001475245835888121\n",
      "total ips correct:  136800\n"
     ]
    },
    {
     "name": "stderr",
     "output_type": "stream",
     "text": [
      "\r",
      "Epoch:   0%|          | 0/10 [00:00<?, ?it/s]"
     ]
    },
    {
     "name": "stdout",
     "output_type": "stream",
     "text": [
      "Total Normalized Services:  3321.96049420783\n",
      "Total Normalized IPs:  7626.854345726747\n",
      "Total Fraction Services: 0.2633614876319497\n",
      "Total Fraction IPs: 0.31533379742108586\n",
      "Total Fraction Depopularized Services: 0.2630861245823497\n",
      "Total Fraction Depopularized IPs: 0.3149927508795907\n"
     ]
    },
    {
     "name": "stderr",
     "output_type": "stream",
     "text": [
      "Epoch: 100%|██████████| 10/10 [00:33<00:00,  3.37s/it]\n"
     ]
    },
    {
     "name": "stdout",
     "output_type": "stream",
     "text": [
      "...Grabbed Representations\n",
      "Got Item Representations\n",
      "Got User Representations\n",
      "Made Index\n",
      "Got Top Items\n",
      "Got Predictions/Top Items\n",
      "...Calculated Predictions\n",
      "cycle:  407\n",
      "correct: 101\n",
      "Num Scanned:  433826\n",
      "Number unique ports Rec'd:  30726\n",
      "At Bin:  407\n",
      "Hitrate:  0.0002328122334760941\n",
      "total ips correct:  136872\n"
     ]
    },
    {
     "name": "stderr",
     "output_type": "stream",
     "text": [
      "\r",
      "Epoch:   0%|          | 0/10 [00:00<?, ?it/s]"
     ]
    },
    {
     "name": "stdout",
     "output_type": "stream",
     "text": [
      "Total Normalized Services:  3324.4843044142685\n",
      "Total Normalized IPs:  7631.812213935132\n",
      "Total Fraction Services: 0.26350313816200904\n",
      "Total Fraction IPs: 0.3154997625776233\n",
      "Total Fraction Depopularized Services: 0.2632264098290179\n",
      "Total Fraction Depopularized IPs: 0.31515666411177495\n"
     ]
    },
    {
     "name": "stderr",
     "output_type": "stream",
     "text": [
      "Epoch: 100%|██████████| 10/10 [00:34<00:00,  3.50s/it]\n"
     ]
    },
    {
     "name": "stdout",
     "output_type": "stream",
     "text": [
      "...Grabbed Representations\n",
      "Got Item Representations\n",
      "Got User Representations\n",
      "Made Index\n",
      "Got Top Items\n",
      "Got Predictions/Top Items\n",
      "...Calculated Predictions\n",
      "cycle:  408\n",
      "correct: 87\n",
      "Num Scanned:  433826\n",
      "Number unique ports Rec'd:  30727\n",
      "At Bin:  408\n",
      "Hitrate:  0.00020054123081604145\n",
      "total ips correct:  136928\n"
     ]
    },
    {
     "name": "stderr",
     "output_type": "stream",
     "text": [
      "\r",
      "Epoch:   0%|          | 0/10 [00:00<?, ?it/s]"
     ]
    },
    {
     "name": "stdout",
     "output_type": "stream",
     "text": [
      "Total Normalized Services:  3325.6677351307267\n",
      "Total Normalized IPs:  7636.530754327573\n",
      "Total Fraction Services: 0.2636146502814174\n",
      "Total Fraction IPs: 0.3156288465882635\n",
      "Total Fraction Depopularized Services: 0.26333501776192236\n",
      "Total Fraction Depopularized IPs: 0.31528133051371793\n"
     ]
    },
    {
     "name": "stderr",
     "output_type": "stream",
     "text": [
      "Epoch: 100%|██████████| 10/10 [00:30<00:00,  3.09s/it]\n"
     ]
    },
    {
     "name": "stdout",
     "output_type": "stream",
     "text": [
      "...Grabbed Representations\n",
      "Got Item Representations\n",
      "Got User Representations\n",
      "Made Index\n",
      "Got Top Items\n",
      "Got Predictions/Top Items\n",
      "...Calculated Predictions\n",
      "cycle:  409\n",
      "correct: 105\n",
      "Num Scanned:  433826\n",
      "Number unique ports Rec'd:  30729\n",
      "At Bin:  409\n",
      "Hitrate:  0.00024203251995039485\n",
      "total ips correct:  136999\n"
     ]
    },
    {
     "name": "stderr",
     "output_type": "stream",
     "text": [
      "\r",
      "Epoch:   0%|          | 0/10 [00:00<?, ?it/s]"
     ]
    },
    {
     "name": "stdout",
     "output_type": "stream",
     "text": [
      "Total Normalized Services:  3327.932982356131\n",
      "Total Normalized IPs:  7643.713945554407\n",
      "Total Fraction Services: 0.2637397246856187\n",
      "Total Fraction IPs: 0.3157925066731823\n",
      "Total Fraction Depopularized Services: 0.26346021857346497\n",
      "Total Fraction Depopularized IPs: 0.31544524374590216\n"
     ]
    },
    {
     "name": "stderr",
     "output_type": "stream",
     "text": [
      "Epoch: 100%|██████████| 10/10 [00:31<00:00,  3.13s/it]\n"
     ]
    },
    {
     "name": "stdout",
     "output_type": "stream",
     "text": [
      "...Grabbed Representations\n",
      "Got Item Representations\n",
      "Got User Representations\n",
      "Made Index\n",
      "Got Top Items\n",
      "Got Predictions/Top Items\n",
      "...Calculated Predictions\n",
      "cycle:  410\n",
      "correct: 107\n",
      "Num Scanned:  433826\n",
      "Number unique ports Rec'd:  30731\n",
      "At Bin:  410\n",
      "Hitrate:  0.00024664266318754523\n",
      "total ips correct:  137078\n"
     ]
    },
    {
     "name": "stderr",
     "output_type": "stream",
     "text": [
      "\r",
      "Epoch:   0%|          | 0/10 [00:00<?, ?it/s]"
     ]
    },
    {
     "name": "stdout",
     "output_type": "stream",
     "text": [
      "Total Normalized Services:  3329.6314909964\n",
      "Total Normalized IPs:  7648.914984221873\n",
      "Total Fraction Services: 0.263881375215678\n",
      "Total Fraction IPs: 0.31597460733104976\n",
      "Total Fraction Depopularized Services: 0.26358994471554525\n",
      "Total Fraction Depopularized IPs: 0.3156091569780864\n"
     ]
    },
    {
     "name": "stderr",
     "output_type": "stream",
     "text": [
      "Epoch: 100%|██████████| 10/10 [00:32<00:00,  3.24s/it]\n"
     ]
    },
    {
     "name": "stdout",
     "output_type": "stream",
     "text": [
      "...Grabbed Representations\n",
      "Got Item Representations\n",
      "Got User Representations\n",
      "Made Index\n",
      "Got Top Items\n",
      "Got Predictions/Top Items\n",
      "...Calculated Predictions\n",
      "cycle:  411\n",
      "correct: 112\n",
      "Num Scanned:  433826\n",
      "Number unique ports Rec'd:  30734\n",
      "At Bin:  411\n",
      "Hitrate:  0.0002581680212804212\n",
      "total ips correct:  137174\n"
     ]
    },
    {
     "name": "stderr",
     "output_type": "stream",
     "text": [
      "\r",
      "Epoch:   0%|          | 0/10 [00:00<?, ?it/s]"
     ]
    },
    {
     "name": "stdout",
     "output_type": "stream",
     "text": [
      "Total Normalized Services:  3331.8560211195454\n",
      "Total Normalized IPs:  7657.923732321262\n",
      "Total Fraction Services: 0.2640396018715953\n",
      "Total Fraction IPs: 0.316195894206433\n",
      "Total Fraction Depopularized Services: 0.2637483312843642\n",
      "Total Fraction Depopularized IPs: 0.3158307861370961\n"
     ]
    },
    {
     "name": "stderr",
     "output_type": "stream",
     "text": [
      "Epoch: 100%|██████████| 10/10 [00:31<00:00,  3.11s/it]\n"
     ]
    },
    {
     "name": "stdout",
     "output_type": "stream",
     "text": [
      "...Grabbed Representations\n",
      "Got Item Representations\n",
      "Got User Representations\n",
      "Made Index\n",
      "Got Top Items\n",
      "Got Predictions/Top Items\n",
      "...Calculated Predictions\n",
      "cycle:  412\n",
      "correct: 79\n",
      "Num Scanned:  433826\n",
      "Number unique ports Rec'd:  30735\n",
      "At Bin:  412\n",
      "Hitrate:  0.00018210065786743995\n",
      "total ips correct:  137229\n"
     ]
    },
    {
     "name": "stderr",
     "output_type": "stream",
     "text": [
      "\r",
      "Epoch:   0%|          | 0/10 [00:00<?, ?it/s]"
     ]
    },
    {
     "name": "stdout",
     "output_type": "stream",
     "text": [
      "Total Normalized Services:  3333.909403399298\n",
      "Total Normalized IPs:  7661.86888737442\n",
      "Total Fraction Services: 0.2641420724678084\n",
      "Total Fraction IPs: 0.31632267314545465\n",
      "Total Fraction Depopularized Services: 0.2638478885561933\n",
      "Total Fraction Depopularized IPs: 0.31595314390196605\n"
     ]
    },
    {
     "name": "stderr",
     "output_type": "stream",
     "text": [
      "Epoch: 100%|██████████| 10/10 [00:31<00:00,  3.16s/it]\n"
     ]
    },
    {
     "name": "stdout",
     "output_type": "stream",
     "text": [
      "...Grabbed Representations\n",
      "Got Item Representations\n",
      "Got User Representations\n",
      "Made Index\n",
      "Got Top Items\n",
      "Got Predictions/Top Items\n",
      "...Calculated Predictions\n",
      "cycle:  413\n",
      "correct: 103\n",
      "Num Scanned:  433826\n",
      "Number unique ports Rec'd:  30735\n",
      "At Bin:  413\n",
      "Hitrate:  0.0002374223767132445\n",
      "total ips correct:  137302\n"
     ]
    },
    {
     "name": "stderr",
     "output_type": "stream",
     "text": [
      "\r",
      "Epoch:   0%|          | 0/10 [00:00<?, ?it/s]"
     ]
    },
    {
     "name": "stdout",
     "output_type": "stream",
     "text": [
      "Total Normalized Services:  3335.576936296079\n",
      "Total Normalized IPs:  7668.285410638193\n",
      "Total Fraction Services: 0.26427920223627005\n",
      "Total Fraction IPs: 0.3164909433736106\n",
      "Total Fraction Depopularized Services: 0.2639836484723238\n",
      "Total Fraction Depopularized IPs: 0.3161193657712233\n"
     ]
    },
    {
     "name": "stderr",
     "output_type": "stream",
     "text": [
      "Epoch: 100%|██████████| 10/10 [00:31<00:00,  3.16s/it]\n"
     ]
    },
    {
     "name": "stdout",
     "output_type": "stream",
     "text": [
      "...Grabbed Representations\n",
      "Got Item Representations\n",
      "Got User Representations\n",
      "Made Index\n",
      "Got Top Items\n",
      "Got Predictions/Top Items\n",
      "...Calculated Predictions\n",
      "cycle:  414\n",
      "correct: 100\n",
      "Num Scanned:  433826\n",
      "Number unique ports Rec'd:  30736\n",
      "At Bin:  414\n",
      "Hitrate:  0.00023050716185751892\n",
      "total ips correct:  137367\n"
     ]
    },
    {
     "name": "stderr",
     "output_type": "stream",
     "text": [
      "\r",
      "Epoch:   0%|          | 0/10 [00:00<?, ?it/s]"
     ]
    },
    {
     "name": "stdout",
     "output_type": "stream",
     "text": [
      "Total Normalized Services:  3337.0985136660975\n",
      "Total Normalized IPs:  7671.633047400338\n",
      "Total Fraction Services: 0.264392221276211\n",
      "Total Fraction IPs: 0.316640773028818\n",
      "Total Fraction Depopularized Services: 0.26409678173576595\n",
      "Total Fraction Depopularized IPs: 0.31626942718096945\n"
     ]
    },
    {
     "name": "stderr",
     "output_type": "stream",
     "text": [
      "Epoch: 100%|██████████| 10/10 [00:32<00:00,  3.21s/it]\n"
     ]
    },
    {
     "name": "stdout",
     "output_type": "stream",
     "text": [
      "...Grabbed Representations\n",
      "Got Item Representations\n",
      "Got User Representations\n",
      "Made Index\n",
      "Got Top Items\n",
      "Got Predictions/Top Items\n",
      "...Calculated Predictions\n",
      "cycle:  415\n",
      "correct: 96\n",
      "Num Scanned:  433826\n",
      "Number unique ports Rec'd:  30739\n",
      "At Bin:  415\n",
      "Hitrate:  0.00022128687538321815\n",
      "total ips correct:  137442\n"
     ]
    },
    {
     "name": "stderr",
     "output_type": "stream",
     "text": [
      "\r",
      "Epoch:   0%|          | 0/10 [00:00<?, ?it/s]"
     ]
    },
    {
     "name": "stdout",
     "output_type": "stream",
     "text": [
      "Total Normalized Services:  3339.3842984205894\n",
      "Total Normalized IPs:  7674.8476323111245\n",
      "Total Fraction Services: 0.2645368856473354\n",
      "Total Fraction IPs: 0.31681365340021117\n",
      "Total Fraction Depopularized Services: 0.26424159231297184\n",
      "Total Fraction Depopularized IPs: 0.3164425749614458\n"
     ]
    },
    {
     "name": "stderr",
     "output_type": "stream",
     "text": [
      "Epoch: 100%|██████████| 10/10 [00:31<00:00,  3.12s/it]\n"
     ]
    },
    {
     "name": "stdout",
     "output_type": "stream",
     "text": [
      "...Grabbed Representations\n",
      "Got Item Representations\n",
      "Got User Representations\n",
      "Made Index\n",
      "Got Top Items\n",
      "Got Predictions/Top Items\n",
      "...Calculated Predictions\n",
      "cycle:  416\n",
      "correct: 69\n",
      "Num Scanned:  433826\n",
      "Number unique ports Rec'd:  30740\n",
      "At Bin:  416\n",
      "Hitrate:  0.00015904994168168806\n",
      "total ips correct:  137491\n"
     ]
    },
    {
     "name": "stderr",
     "output_type": "stream",
     "text": [
      "\r",
      "Epoch:   0%|          | 0/10 [00:00<?, ?it/s]"
     ]
    },
    {
     "name": "stdout",
     "output_type": "stream",
     "text": [
      "Total Normalized Services:  3340.7964433324623\n",
      "Total Normalized IPs:  7678.549428761001\n",
      "Total Fraction Services: 0.26462730087928815\n",
      "Total Fraction IPs: 0.3169266019095213\n",
      "Total Fraction Depopularized Services: 0.26433209892372556\n",
      "Total Fraction Depopularized IPs: 0.31655569817802365\n"
     ]
    },
    {
     "name": "stderr",
     "output_type": "stream",
     "text": [
      "Epoch: 100%|██████████| 10/10 [00:32<00:00,  3.22s/it]\n"
     ]
    },
    {
     "name": "stdout",
     "output_type": "stream",
     "text": [
      "...Grabbed Representations\n",
      "Got Item Representations\n",
      "Got User Representations\n",
      "Made Index\n",
      "Got Top Items\n",
      "Got Predictions/Top Items\n",
      "...Calculated Predictions\n",
      "cycle:  417\n",
      "correct: 85\n",
      "Num Scanned:  433826\n",
      "Number unique ports Rec'd:  30742\n",
      "At Bin:  417\n",
      "Hitrate:  0.00019593108757889107\n",
      "total ips correct:  137552\n"
     ]
    },
    {
     "name": "stderr",
     "output_type": "stream",
     "text": [
      "\r",
      "Epoch:   0%|          | 0/10 [00:00<?, ?it/s]"
     ]
    },
    {
     "name": "stdout",
     "output_type": "stream",
     "text": [
      "Total Normalized Services:  3343.051159549717\n",
      "Total Normalized IPs:  7681.885302613204\n",
      "Total Fraction Services: 0.2647403199192291\n",
      "Total Fraction IPs: 0.31706721127825443\n",
      "Total Fraction Depopularized Services: 0.26444523218716764\n",
      "Total Fraction Depopularized IPs: 0.3166965250394777\n"
     ]
    },
    {
     "name": "stderr",
     "output_type": "stream",
     "text": [
      "Epoch: 100%|██████████| 10/10 [00:35<00:00,  3.53s/it]\n"
     ]
    },
    {
     "name": "stdout",
     "output_type": "stream",
     "text": [
      "...Grabbed Representations\n",
      "Got Item Representations\n",
      "Got User Representations\n",
      "Made Index\n",
      "Got Top Items\n",
      "Got Predictions/Top Items\n",
      "...Calculated Predictions\n",
      "cycle:  418\n",
      "correct: 148\n",
      "Num Scanned:  433826\n",
      "Number unique ports Rec'd:  30746\n",
      "At Bin:  418\n",
      "Hitrate:  0.000341150599549128\n",
      "total ips correct:  137661\n"
     ]
    },
    {
     "name": "stderr",
     "output_type": "stream",
     "text": [
      "\r",
      "Epoch:   0%|          | 0/10 [00:00<?, ?it/s]"
     ]
    },
    {
     "name": "stdout",
     "output_type": "stream",
     "text": [
      "Total Normalized Services:  3346.34879038792\n",
      "Total Normalized IPs:  7687.053494225155\n",
      "Total Fraction Services: 0.26495128879378543\n",
      "Total Fraction IPs: 0.3173184640846791\n",
      "Total Fraction Depopularized Services: 0.2646564142789263\n",
      "Total Fraction Depopularized IPs: 0.3169481664804366\n"
     ]
    },
    {
     "name": "stderr",
     "output_type": "stream",
     "text": [
      "Epoch: 100%|██████████| 10/10 [00:32<00:00,  3.24s/it]\n"
     ]
    },
    {
     "name": "stdout",
     "output_type": "stream",
     "text": [
      "...Grabbed Representations\n",
      "Got Item Representations\n",
      "Got User Representations\n",
      "Made Index\n",
      "Got Top Items\n",
      "Got Predictions/Top Items\n",
      "...Calculated Predictions\n",
      "cycle:  419\n",
      "correct: 132\n",
      "Num Scanned:  433826\n",
      "Number unique ports Rec'd:  30747\n",
      "At Bin:  419\n",
      "Hitrate:  0.00030426945365192497\n",
      "total ips correct:  137750\n"
     ]
    },
    {
     "name": "stderr",
     "output_type": "stream",
     "text": [
      "\r",
      "Epoch:   0%|          | 0/10 [00:00<?, ?it/s]"
     ]
    },
    {
     "name": "stdout",
     "output_type": "stream",
     "text": [
      "Total Normalized Services:  3348.540592131481\n",
      "Total Normalized IPs:  7698.146532423856\n",
      "Total Fraction Services: 0.2651140362113004\n",
      "Total Fraction IPs: 0.3175236154587323\n",
      "Total Fraction Depopularized Services: 0.26481932617828297\n",
      "Total Fraction Depopularized IPs: 0.31715363517993517\n"
     ]
    },
    {
     "name": "stderr",
     "output_type": "stream",
     "text": [
      "Epoch: 100%|██████████| 10/10 [00:30<00:00,  3.09s/it]\n"
     ]
    },
    {
     "name": "stdout",
     "output_type": "stream",
     "text": [
      "...Grabbed Representations\n",
      "Got Item Representations\n",
      "Got User Representations\n",
      "Made Index\n",
      "Got Top Items\n",
      "Got Predictions/Top Items\n",
      "...Calculated Predictions\n",
      "cycle:  420\n",
      "correct: 141\n",
      "Num Scanned:  433826\n",
      "Number unique ports Rec'd:  30750\n",
      "At Bin:  420\n",
      "Hitrate:  0.0003250150982191017\n",
      "total ips correct:  137865\n"
     ]
    },
    {
     "name": "stderr",
     "output_type": "stream",
     "text": [
      "\r",
      "Epoch:   0%|          | 0/10 [00:00<?, ?it/s]"
     ]
    },
    {
     "name": "stdout",
     "output_type": "stream",
     "text": [
      "Total Normalized Services:  3350.3892428316753\n",
      "Total Normalized IPs:  7703.626595624874\n",
      "Total Fraction Services: 0.2653084289599988\n",
      "Total Fraction IPs: 0.3177886986948685\n",
      "Total Fraction Depopularized Services: 0.2650124069478908\n",
      "Total Fraction Depopularized IPs: 0.3174168198062592\n"
     ]
    },
    {
     "name": "stderr",
     "output_type": "stream",
     "text": [
      "Epoch: 100%|██████████| 10/10 [00:35<00:00,  3.51s/it]\n"
     ]
    },
    {
     "name": "stdout",
     "output_type": "stream",
     "text": [
      "...Grabbed Representations\n",
      "Got Item Representations\n",
      "Got User Representations\n",
      "Made Index\n",
      "Got Top Items\n",
      "Got Predictions/Top Items\n",
      "...Calculated Predictions\n",
      "cycle:  421\n",
      "correct: 169\n",
      "Num Scanned:  433826\n",
      "Number unique ports Rec'd:  30752\n",
      "At Bin:  421\n",
      "Hitrate:  0.00038955710353920695\n",
      "total ips correct:  137965\n"
     ]
    },
    {
     "name": "stderr",
     "output_type": "stream",
     "text": [
      "\r",
      "Epoch:   0%|          | 0/10 [00:00<?, ?it/s]"
     ]
    },
    {
     "name": "stdout",
     "output_type": "stream",
     "text": [
      "Total Normalized Services:  3352.6800879111893\n",
      "Total Normalized IPs:  7710.139620086585\n",
      "Total Fraction Services: 0.2654952871060345\n",
      "Total Fraction IPs: 0.318019205856726\n",
      "Total Fraction Depopularized Services: 0.26519945394344846\n",
      "Total Fraction Depopularized IPs: 0.31764768351356093\n"
     ]
    },
    {
     "name": "stderr",
     "output_type": "stream",
     "text": [
      "Epoch: 100%|██████████| 10/10 [00:35<00:00,  3.57s/it]\n"
     ]
    },
    {
     "name": "stdout",
     "output_type": "stream",
     "text": [
      "...Grabbed Representations\n",
      "Got Item Representations\n",
      "Got User Representations\n",
      "Made Index\n",
      "Got Top Items\n",
      "Got Predictions/Top Items\n",
      "...Calculated Predictions\n",
      "cycle:  422\n",
      "correct: 176\n",
      "Num Scanned:  433826\n",
      "Number unique ports Rec'd:  30755\n",
      "At Bin:  422\n",
      "Hitrate:  0.0004056926048692333\n",
      "total ips correct:  138037\n"
     ]
    },
    {
     "name": "stderr",
     "output_type": "stream",
     "text": [
      "\r",
      "Epoch:   0%|          | 0/10 [00:00<?, ?it/s]"
     ]
    },
    {
     "name": "stdout",
     "output_type": "stream",
     "text": [
      "Total Normalized Services:  3356.1099920550955\n",
      "Total Normalized IPs:  7716.443307496746\n",
      "Total Fraction Services: 0.2656324168744961\n",
      "Total Fraction IPs: 0.3181851710132634\n",
      "Total Fraction Depopularized Services: 0.265335213859579\n",
      "Total Fraction Depopularized IPs: 0.31781159674574516\n"
     ]
    },
    {
     "name": "stderr",
     "output_type": "stream",
     "text": [
      "Epoch: 100%|██████████| 10/10 [00:31<00:00,  3.13s/it]\n"
     ]
    },
    {
     "name": "stdout",
     "output_type": "stream",
     "text": [
      "...Grabbed Representations\n",
      "Got Item Representations\n",
      "Got User Representations\n",
      "Made Index\n",
      "Got Top Items\n",
      "Got Predictions/Top Items\n",
      "...Calculated Predictions\n",
      "cycle:  423\n",
      "correct: 116\n",
      "Num Scanned:  433826\n",
      "Number unique ports Rec'd:  30756\n",
      "At Bin:  423\n",
      "Hitrate:  0.00026738830775472196\n",
      "total ips correct:  138127\n"
     ]
    },
    {
     "name": "stderr",
     "output_type": "stream",
     "text": [
      "\r",
      "Epoch:   0%|          | 0/10 [00:00<?, ?it/s]"
     ]
    },
    {
     "name": "stdout",
     "output_type": "stream",
     "text": [
      "Total Normalized Services:  3359.0236094844154\n",
      "Total Normalized IPs:  7726.33771901208\n",
      "Total Fraction Services: 0.26579817813307616\n",
      "Total Fraction IPs: 0.31839262745893515\n",
      "Total Fraction Depopularized Services: 0.26549812575893567\n",
      "Total Fraction Depopularized IPs: 0.3180147568081707\n"
     ]
    },
    {
     "name": "stderr",
     "output_type": "stream",
     "text": [
      "Epoch: 100%|██████████| 10/10 [00:30<00:00,  3.07s/it]\n"
     ]
    },
    {
     "name": "stdout",
     "output_type": "stream",
     "text": [
      "...Grabbed Representations\n",
      "Got Item Representations\n",
      "Got User Representations\n",
      "Made Index\n",
      "Got Top Items\n",
      "Got Predictions/Top Items\n",
      "...Calculated Predictions\n",
      "cycle:  424\n",
      "correct: 106\n",
      "Num Scanned:  433826\n",
      "Number unique ports Rec'd:  30758\n",
      "At Bin:  424\n",
      "Hitrate:  0.00024433759156897004\n",
      "total ips correct:  138188\n"
     ]
    },
    {
     "name": "stderr",
     "output_type": "stream",
     "text": [
      "\r",
      "Epoch:   0%|          | 0/10 [00:00<?, ?it/s]"
     ]
    },
    {
     "name": "stdout",
     "output_type": "stream",
     "text": [
      "Total Normalized Services:  3360.2370722497444\n",
      "Total Normalized IPs:  7728.746229629919\n",
      "Total Fraction Services: 0.26592325253727744\n",
      "Total Fraction IPs: 0.3185332368276682\n",
      "Total Fraction Depopularized Services: 0.26562332657047827\n",
      "Total Fraction Depopularized IPs: 0.3181555836696248\n"
     ]
    },
    {
     "name": "stderr",
     "output_type": "stream",
     "text": [
      "Epoch: 100%|██████████| 10/10 [00:31<00:00,  3.11s/it]\n"
     ]
    },
    {
     "name": "stdout",
     "output_type": "stream",
     "text": [
      "...Grabbed Representations\n",
      "Got Item Representations\n",
      "Got User Representations\n",
      "Made Index\n",
      "Got Top Items\n",
      "Got Predictions/Top Items\n",
      "...Calculated Predictions\n",
      "cycle:  425\n",
      "correct: 89\n",
      "Num Scanned:  433826\n",
      "Number unique ports Rec'd:  30760\n",
      "At Bin:  425\n",
      "Hitrate:  0.00020515137405319184\n",
      "total ips correct:  138248\n"
     ]
    },
    {
     "name": "stderr",
     "output_type": "stream",
     "text": [
      "\r",
      "Epoch:   0%|          | 0/10 [00:00<?, ?it/s]"
     ]
    },
    {
     "name": "stdout",
     "output_type": "stream",
     "text": [
      "Total Normalized Services:  3363.2944410800837\n",
      "Total Normalized IPs:  7733.335456933325\n",
      "Total Fraction Services: 0.2660438061798811\n",
      "Total Fraction IPs: 0.31867154112478274\n",
      "Total Fraction Depopularized Services: 0.2657440020514832\n",
      "Total Fraction Depopularized IPs: 0.31829410189400587\n"
     ]
    },
    {
     "name": "stderr",
     "output_type": "stream",
     "text": [
      "Epoch: 100%|██████████| 10/10 [00:34<00:00,  3.47s/it]\n"
     ]
    },
    {
     "name": "stdout",
     "output_type": "stream",
     "text": [
      "...Grabbed Representations\n",
      "Got Item Representations\n",
      "Got User Representations\n",
      "Made Index\n",
      "Got Top Items\n",
      "Got Predictions/Top Items\n",
      "...Calculated Predictions\n",
      "cycle:  426\n",
      "correct: 75\n",
      "Num Scanned:  433826\n",
      "Number unique ports Rec'd:  30764\n",
      "At Bin:  426\n",
      "Hitrate:  0.00017288037139313918\n",
      "total ips correct:  138299\n"
     ]
    },
    {
     "name": "stderr",
     "output_type": "stream",
     "text": [
      "\r",
      "Epoch:   0%|          | 0/10 [00:00<?, ?it/s]"
     ]
    },
    {
     "name": "stdout",
     "output_type": "stream",
     "text": [
      "Total Normalized Services:  3365.330382819621\n",
      "Total Normalized IPs:  7736.365125305408\n",
      "Total Fraction Services: 0.2661432629350291\n",
      "Total Fraction IPs: 0.3187890997773301\n",
      "Total Fraction Depopularized Services: 0.2658435593233122\n",
      "Total Fraction Depopularized IPs: 0.31841184238472975\n"
     ]
    },
    {
     "name": "stderr",
     "output_type": "stream",
     "text": [
      "Epoch: 100%|██████████| 10/10 [00:35<00:00,  3.56s/it]\n"
     ]
    },
    {
     "name": "stdout",
     "output_type": "stream",
     "text": [
      "...Grabbed Representations\n",
      "Got Item Representations\n",
      "Got User Representations\n",
      "Made Index\n",
      "Got Top Items\n",
      "Got Predictions/Top Items\n",
      "...Calculated Predictions\n",
      "cycle:  427\n",
      "correct: 77\n",
      "Num Scanned:  433826\n",
      "Number unique ports Rec'd:  30769\n",
      "At Bin:  427\n",
      "Hitrate:  0.00017749051463028956\n",
      "total ips correct:  138360\n"
     ]
    },
    {
     "name": "stderr",
     "output_type": "stream",
     "text": [
      "\r",
      "Epoch:   0%|          | 0/10 [00:00<?, ?it/s]"
     ]
    },
    {
     "name": "stdout",
     "output_type": "stream",
     "text": [
      "Total Normalized Services:  3367.01492467531\n",
      "Total Normalized IPs:  7740.151114132953\n",
      "Total Fraction Services: 0.26625929581603514\n",
      "Total Fraction IPs: 0.31892970914606317\n",
      "Total Fraction Depopularized Services: 0.2659597094737795\n",
      "Total Fraction Depopularized IPs: 0.3185526692461838\n"
     ]
    },
    {
     "name": "stderr",
     "output_type": "stream",
     "text": [
      "Epoch: 100%|██████████| 10/10 [00:32<00:00,  3.25s/it]\n"
     ]
    },
    {
     "name": "stdout",
     "output_type": "stream",
     "text": [
      "...Grabbed Representations\n",
      "Got Item Representations\n",
      "Got User Representations\n",
      "Made Index\n",
      "Got Top Items\n",
      "Got Predictions/Top Items\n",
      "...Calculated Predictions\n",
      "cycle:  428\n",
      "correct: 112\n",
      "Num Scanned:  433826\n",
      "Number unique ports Rec'd:  30771\n",
      "At Bin:  428\n",
      "Hitrate:  0.0002581680212804212\n",
      "total ips correct:  138429\n"
     ]
    },
    {
     "name": "stderr",
     "output_type": "stream",
     "text": [
      "\r",
      "Epoch:   0%|          | 0/10 [00:00<?, ?it/s]"
     ]
    },
    {
     "name": "stdout",
     "output_type": "stream",
     "text": [
      "Total Normalized Services:  3368.6137548796164\n",
      "Total Normalized IPs:  7744.82716935479\n",
      "Total Fraction Services: 0.26641450863088734\n",
      "Total Fraction IPs: 0.31908875908774487\n",
      "Total Fraction Depopularized Services: 0.26611357071206077\n",
      "Total Fraction Depopularized IPs: 0.318709656567149\n"
     ]
    },
    {
     "name": "stderr",
     "output_type": "stream",
     "text": [
      "Epoch: 100%|██████████| 10/10 [00:31<00:00,  3.13s/it]\n"
     ]
    },
    {
     "name": "stdout",
     "output_type": "stream",
     "text": [
      "...Grabbed Representations\n",
      "Got Item Representations\n",
      "Got User Representations\n",
      "Made Index\n",
      "Got Top Items\n",
      "Got Predictions/Top Items\n",
      "...Calculated Predictions\n",
      "cycle:  429\n",
      "correct: 89\n",
      "Num Scanned:  433826\n",
      "Number unique ports Rec'd:  30772\n",
      "At Bin:  429\n",
      "Hitrate:  0.00020515137405319184\n",
      "total ips correct:  138496\n"
     ]
    },
    {
     "name": "stderr",
     "output_type": "stream",
     "text": [
      "\r",
      "Epoch:   0%|          | 0/10 [00:00<?, ?it/s]"
     ]
    },
    {
     "name": "stdout",
     "output_type": "stream",
     "text": [
      "Total Normalized Services:  3371.3657125734844\n",
      "Total Normalized IPs:  7750.497316515327\n",
      "Total Fraction Services: 0.266535062273491\n",
      "Total Fraction IPs: 0.3192431988861894\n",
      "Total Fraction Depopularized Services: 0.2662342461930657\n",
      "Total Fraction Depopularized IPs: 0.3188643352510412\n"
     ]
    },
    {
     "name": "stderr",
     "output_type": "stream",
     "text": [
      "Epoch: 100%|██████████| 10/10 [00:34<00:00,  3.45s/it]\n"
     ]
    },
    {
     "name": "stdout",
     "output_type": "stream",
     "text": [
      "...Grabbed Representations\n",
      "Got Item Representations\n",
      "Got User Representations\n",
      "Made Index\n",
      "Got Top Items\n",
      "Got Predictions/Top Items\n",
      "...Calculated Predictions\n",
      "cycle:  430\n",
      "correct: 96\n",
      "Num Scanned:  433826\n",
      "Number unique ports Rec'd:  30774\n",
      "At Bin:  430\n",
      "Hitrate:  0.00022128687538321815\n",
      "total ips correct:  138560\n"
     ]
    },
    {
     "name": "stderr",
     "output_type": "stream",
     "text": [
      "\r",
      "Epoch:   0%|          | 0/10 [00:00<?, ?it/s]"
     ]
    },
    {
     "name": "stdout",
     "output_type": "stream",
     "text": [
      "Total Normalized Services:  3373.982615143266\n",
      "Total Normalized IPs:  7755.716428621007\n",
      "Total Fraction Services: 0.2666691782008876\n",
      "Total Fraction IPs: 0.3193907234697782\n",
      "Total Fraction Depopularized Services: 0.26636849766568366\n",
      "Total Fraction Depopularized IPs: 0.31901208802371434\n"
     ]
    },
    {
     "name": "stderr",
     "output_type": "stream",
     "text": [
      "Epoch: 100%|██████████| 10/10 [00:33<00:00,  3.33s/it]\n"
     ]
    },
    {
     "name": "stdout",
     "output_type": "stream",
     "text": [
      "...Grabbed Representations\n",
      "Got Item Representations\n",
      "Got User Representations\n",
      "Made Index\n",
      "Got Top Items\n",
      "Got Predictions/Top Items\n",
      "...Calculated Predictions\n",
      "cycle:  431\n",
      "correct: 106\n",
      "Num Scanned:  433826\n",
      "Number unique ports Rec'd:  30777\n",
      "At Bin:  431\n",
      "Hitrate:  0.00024433759156897004\n",
      "total ips correct:  138618\n"
     ]
    },
    {
     "name": "stderr",
     "output_type": "stream",
     "text": [
      "\r",
      "Epoch:   0%|          | 0/10 [00:00<?, ?it/s]"
     ]
    },
    {
     "name": "stdout",
     "output_type": "stream",
     "text": [
      "Total Normalized Services:  3375.2199374582274\n",
      "Total Normalized IPs:  7762.3736516432045\n",
      "Total Fraction Services: 0.2667791833997634\n",
      "Total Fraction IPs: 0.3195244176236556\n",
      "Total Fraction Depopularized Services: 0.26647861404210066\n",
      "Total Fraction Depopularized IPs: 0.31914598897394936\n"
     ]
    },
    {
     "name": "stderr",
     "output_type": "stream",
     "text": [
      "Epoch: 100%|██████████| 10/10 [00:32<00:00,  3.24s/it]\n"
     ]
    },
    {
     "name": "stdout",
     "output_type": "stream",
     "text": [
      "...Grabbed Representations\n",
      "Got Item Representations\n",
      "Got User Representations\n",
      "Made Index\n",
      "Got Top Items\n",
      "Got Predictions/Top Items\n",
      "...Calculated Predictions\n",
      "cycle:  432\n",
      "correct: 72\n",
      "Num Scanned:  433826\n",
      "Number unique ports Rec'd:  30778\n",
      "At Bin:  432\n",
      "Hitrate:  0.0001659651565374136\n",
      "total ips correct:  138676\n"
     ]
    },
    {
     "name": "stderr",
     "output_type": "stream",
     "text": [
      "\r",
      "Epoch:   0%|          | 0/10 [00:00<?, ?it/s]"
     ]
    },
    {
     "name": "stdout",
     "output_type": "stream",
     "text": [
      "Total Normalized Services:  3377.4016822560893\n",
      "Total Normalized IPs:  7766.092753705902\n",
      "Total Fraction Services: 0.26688316091650904\n",
      "Total Fraction IPs: 0.31965811177753295\n",
      "Total Fraction Depopularized Services: 0.26658269664446743\n",
      "Total Fraction Depopularized IPs: 0.3192798899241844\n"
     ]
    },
    {
     "name": "stderr",
     "output_type": "stream",
     "text": [
      "Epoch: 100%|██████████| 10/10 [00:33<00:00,  3.34s/it]\n"
     ]
    },
    {
     "name": "stdout",
     "output_type": "stream",
     "text": [
      "...Grabbed Representations\n",
      "Got Item Representations\n",
      "Got User Representations\n",
      "Made Index\n",
      "Got Top Items\n",
      "Got Predictions/Top Items\n",
      "...Calculated Predictions\n",
      "cycle:  433\n",
      "correct: 66\n",
      "Num Scanned:  433826\n",
      "Number unique ports Rec'd:  30779\n",
      "At Bin:  433\n",
      "Hitrate:  0.00015213472682596248\n",
      "total ips correct:  138728\n"
     ]
    },
    {
     "name": "stderr",
     "output_type": "stream",
     "text": [
      "\r",
      "Epoch:   0%|          | 0/10 [00:00<?, ?it/s]"
     ]
    },
    {
     "name": "stdout",
     "output_type": "stream",
     "text": [
      "Total Normalized Services:  3379.533890675387\n",
      "Total Normalized IPs:  7769.427435405462\n",
      "Total Fraction Services: 0.2669826176716571\n",
      "Total Fraction IPs: 0.31977797550169884\n",
      "Total Fraction Depopularized Services: 0.26668225391629646\n",
      "Total Fraction Depopularized IPs: 0.3193999390519813\n"
     ]
    },
    {
     "name": "stderr",
     "output_type": "stream",
     "text": [
      "Epoch: 100%|██████████| 10/10 [00:31<00:00,  3.18s/it]\n"
     ]
    },
    {
     "name": "stdout",
     "output_type": "stream",
     "text": [
      "...Grabbed Representations\n",
      "Got Item Representations\n",
      "Got User Representations\n",
      "Made Index\n",
      "Got Top Items\n",
      "Got Predictions/Top Items\n",
      "...Calculated Predictions\n",
      "cycle:  434\n",
      "correct: 55\n",
      "Num Scanned:  433826\n",
      "Number unique ports Rec'd:  30780\n",
      "At Bin:  434\n",
      "Hitrate:  0.0001267789390216354\n",
      "total ips correct:  138768\n"
     ]
    },
    {
     "name": "stderr",
     "output_type": "stream",
     "text": [
      "\r",
      "Epoch:   0%|          | 0/10 [00:00<?, ?it/s]"
     ]
    },
    {
     "name": "stdout",
     "output_type": "stream",
     "text": [
      "Total Normalized Services:  3380.703807575395\n",
      "Total Normalized IPs:  7774.843798004772\n",
      "Total Fraction Services: 0.2670489221750891\n",
      "Total Fraction IPs: 0.3198701783664418\n",
      "Total Fraction Depopularized Services: 0.26674862543084915\n",
      "Total Fraction Depopularized IPs: 0.31949228453490197\n"
     ]
    },
    {
     "name": "stderr",
     "output_type": "stream",
     "text": [
      "Epoch: 100%|██████████| 10/10 [00:33<00:00,  3.33s/it]\n"
     ]
    },
    {
     "name": "stdout",
     "output_type": "stream",
     "text": [
      "...Grabbed Representations\n",
      "Got Item Representations\n",
      "Got User Representations\n",
      "Made Index\n",
      "Got Top Items\n",
      "Got Predictions/Top Items\n",
      "...Calculated Predictions\n",
      "cycle:  435\n",
      "correct: 157\n",
      "Num Scanned:  433826\n",
      "Number unique ports Rec'd:  30782\n",
      "At Bin:  435\n",
      "Hitrate:  0.0003618962441163047\n",
      "total ips correct:  138902\n"
     ]
    },
    {
     "name": "stderr",
     "output_type": "stream",
     "text": [
      "\r",
      "Epoch:   0%|          | 0/10 [00:00<?, ?it/s]"
     ]
    },
    {
     "name": "stdout",
     "output_type": "stream",
     "text": [
      "Total Normalized Services:  3383.6133803854777\n",
      "Total Normalized IPs:  7780.425617527615\n",
      "Total Fraction Services: 0.2672764671755035\n",
      "Total Fraction IPs: 0.3201790579633309\n",
      "Total Fraction Depopularized Services: 0.266976400401246\n",
      "Total Fraction Depopularized IPs: 0.31980164190268634\n"
     ]
    },
    {
     "name": "stderr",
     "output_type": "stream",
     "text": [
      "Epoch: 100%|██████████| 10/10 [00:33<00:00,  3.32s/it]\n"
     ]
    },
    {
     "name": "stdout",
     "output_type": "stream",
     "text": [
      "...Grabbed Representations\n",
      "Got Item Representations\n",
      "Got User Representations\n",
      "Made Index\n",
      "Got Top Items\n",
      "Got Predictions/Top Items\n",
      "...Calculated Predictions\n",
      "cycle:  436\n",
      "correct: 89\n",
      "Num Scanned:  433826\n",
      "Number unique ports Rec'd:  30786\n",
      "At Bin:  436\n",
      "Hitrate:  0.00020515137405319184\n",
      "total ips correct:  138959\n"
     ]
    },
    {
     "name": "stderr",
     "output_type": "stream",
     "text": [
      "\r",
      "Epoch:   0%|          | 0/10 [00:00<?, ?it/s]"
     ]
    },
    {
     "name": "stdout",
     "output_type": "stream",
     "text": [
      "Total Normalized Services:  3386.0135849396875\n",
      "Total Normalized IPs:  7785.220492525375\n",
      "Total Fraction Services: 0.2673789377717166\n",
      "Total Fraction IPs: 0.3203104470455897\n",
      "Total Fraction Depopularized Services: 0.26707897456010016\n",
      "Total Fraction Depopularized IPs: 0.31993323421584835\n"
     ]
    },
    {
     "name": "stderr",
     "output_type": "stream",
     "text": [
      "Epoch: 100%|██████████| 10/10 [00:31<00:00,  3.20s/it]\n"
     ]
    },
    {
     "name": "stdout",
     "output_type": "stream",
     "text": [
      "...Grabbed Representations\n",
      "Got Item Representations\n",
      "Got User Representations\n",
      "Made Index\n",
      "Got Top Items\n",
      "Got Predictions/Top Items\n",
      "...Calculated Predictions\n",
      "cycle:  437\n",
      "correct: 105\n",
      "Num Scanned:  433826\n",
      "Number unique ports Rec'd:  30788\n",
      "At Bin:  437\n",
      "Hitrate:  0.00024203251995039485\n",
      "total ips correct:  139030\n"
     ]
    },
    {
     "name": "stderr",
     "output_type": "stream",
     "text": [
      "\r",
      "Epoch:   0%|          | 0/10 [00:00<?, ?it/s]"
     ]
    },
    {
     "name": "stdout",
     "output_type": "stream",
     "text": [
      "Total Normalized Services:  3387.2003375099175\n",
      "Total Normalized IPs:  7788.179383750762\n",
      "Total Fraction Services: 0.26751154677858063\n",
      "Total Fraction IPs: 0.32047410713050856\n",
      "Total Fraction Depopularized Services: 0.2672117175892056\n",
      "Total Fraction Depopularized IPs: 0.3200971474480326\n"
     ]
    },
    {
     "name": "stderr",
     "output_type": "stream",
     "text": [
      "Epoch: 100%|██████████| 10/10 [00:33<00:00,  3.37s/it]\n"
     ]
    },
    {
     "name": "stdout",
     "output_type": "stream",
     "text": [
      "...Grabbed Representations\n",
      "Got Item Representations\n",
      "Got User Representations\n",
      "Made Index\n",
      "Got Top Items\n",
      "Got Predictions/Top Items\n",
      "...Calculated Predictions\n",
      "cycle:  438\n",
      "correct: 83\n",
      "Num Scanned:  433826\n",
      "Number unique ports Rec'd:  30790\n",
      "At Bin:  438\n",
      "Hitrate:  0.0001913209443417407\n",
      "total ips correct:  139078\n"
     ]
    },
    {
     "name": "stderr",
     "output_type": "stream",
     "text": [
      "\r",
      "Epoch:   0%|          | 0/10 [00:00<?, ?it/s]"
     ]
    },
    {
     "name": "stdout",
     "output_type": "stream",
     "text": [
      "Total Normalized Services:  3388.8172129566055\n",
      "Total Normalized IPs:  7792.572304800003\n",
      "Total Fraction Services: 0.2676079896926636\n",
      "Total Fraction IPs: 0.3205847505682001\n",
      "Total Fraction Depopularized Services: 0.26730825797400953\n",
      "Total Fraction Depopularized IPs: 0.32020796202753743\n"
     ]
    },
    {
     "name": "stderr",
     "output_type": "stream",
     "text": [
      "Epoch: 100%|██████████| 10/10 [00:32<00:00,  3.26s/it]\n"
     ]
    },
    {
     "name": "stdout",
     "output_type": "stream",
     "text": [
      "...Grabbed Representations\n",
      "Got Item Representations\n",
      "Got User Representations\n",
      "Made Index\n",
      "Got Top Items\n",
      "Got Predictions/Top Items\n",
      "...Calculated Predictions\n",
      "cycle:  439\n",
      "correct: 79\n",
      "Num Scanned:  433826\n",
      "Number unique ports Rec'd:  30792\n",
      "At Bin:  439\n",
      "Hitrate:  0.00018210065786743995\n",
      "total ips correct:  139144\n"
     ]
    },
    {
     "name": "stderr",
     "output_type": "stream",
     "text": [
      "\r",
      "Epoch:   0%|          | 0/10 [00:00<?, ?it/s]"
     ]
    },
    {
     "name": "stdout",
     "output_type": "stream",
     "text": [
      "Total Normalized Services:  3390.8826487565834\n",
      "Total Normalized IPs:  7799.0968569087545\n",
      "Total Fraction Services: 0.26772251565313704\n",
      "Total Fraction IPs: 0.32073688529502614\n",
      "Total Fraction Depopularized Services: 0.2674228996809642\n",
      "Total Fraction Depopularized IPs: 0.3203603320743566\n"
     ]
    },
    {
     "name": "stderr",
     "output_type": "stream",
     "text": [
      "Epoch: 100%|██████████| 10/10 [00:34<00:00,  3.40s/it]\n"
     ]
    },
    {
     "name": "stdout",
     "output_type": "stream",
     "text": [
      "...Grabbed Representations\n",
      "Got Item Representations\n",
      "Got User Representations\n",
      "Made Index\n",
      "Got Top Items\n",
      "Got Predictions/Top Items\n",
      "...Calculated Predictions\n",
      "cycle:  440\n",
      "correct: 61\n",
      "Num Scanned:  433826\n",
      "Number unique ports Rec'd:  30793\n",
      "At Bin:  440\n",
      "Hitrate:  0.00014060936873308653\n",
      "total ips correct:  139187\n"
     ]
    },
    {
     "name": "stderr",
     "output_type": "stream",
     "text": [
      "\r",
      "Epoch:   0%|          | 0/10 [00:00<?, ?it/s]"
     ]
    },
    {
     "name": "stdout",
     "output_type": "stream",
     "text": [
      "Total Normalized Services:  3391.8197518032775\n",
      "Total Normalized IPs:  7802.810011932697\n",
      "Total Fraction Services: 0.26779635475923175\n",
      "Total Fraction IPs: 0.32083600337462487\n",
      "Total Fraction Depopularized Services: 0.26749530496956714\n",
      "Total Fraction Depopularized IPs: 0.3204572948314233\n"
     ]
    },
    {
     "name": "stderr",
     "output_type": "stream",
     "text": [
      "Epoch: 100%|██████████| 10/10 [00:32<00:00,  3.28s/it]\n"
     ]
    },
    {
     "name": "stdout",
     "output_type": "stream",
     "text": [
      "...Grabbed Representations\n",
      "Got Item Representations\n",
      "Got User Representations\n",
      "Made Index\n",
      "Got Top Items\n",
      "Got Predictions/Top Items\n",
      "...Calculated Predictions\n",
      "cycle:  441\n",
      "correct: 77\n",
      "Num Scanned:  433826\n",
      "Number unique ports Rec'd:  30795\n",
      "At Bin:  441\n",
      "Hitrate:  0.00017749051463028956\n",
      "total ips correct:  139252\n"
     ]
    },
    {
     "name": "stderr",
     "output_type": "stream",
     "text": [
      "\r",
      "Epoch:   0%|          | 0/10 [00:00<?, ?it/s]"
     ]
    },
    {
     "name": "stdout",
     "output_type": "stream",
     "text": [
      "Total Normalized Services:  3394.2700040156537\n",
      "Total Normalized IPs:  7808.165757737719\n",
      "Total Fraction Services: 0.26790786687864016\n",
      "Total Fraction IPs: 0.32098583302983225\n",
      "Total Fraction Depopularized Services: 0.26760542134598414\n",
      "Total Fraction Depopularized IPs: 0.32060504760409647\n"
     ]
    },
    {
     "name": "stderr",
     "output_type": "stream",
     "text": [
      "Epoch: 100%|██████████| 10/10 [00:33<00:00,  3.37s/it]\n"
     ]
    },
    {
     "name": "stdout",
     "output_type": "stream",
     "text": [
      "...Grabbed Representations\n",
      "Got Item Representations\n",
      "Got User Representations\n",
      "Made Index\n",
      "Got Top Items\n",
      "Got Predictions/Top Items\n",
      "...Calculated Predictions\n",
      "cycle:  442\n",
      "correct: 127\n",
      "Num Scanned:  433826\n",
      "Number unique ports Rec'd:  30797\n",
      "At Bin:  442\n",
      "Hitrate:  0.000292744095559049\n",
      "total ips correct:  139338\n"
     ]
    },
    {
     "name": "stderr",
     "output_type": "stream",
     "text": [
      "\r",
      "Epoch:   0%|          | 0/10 [00:00<?, ?it/s]"
     ]
    },
    {
     "name": "stdout",
     "output_type": "stream",
     "text": [
      "Total Normalized Services:  3396.2920085282994\n",
      "Total Normalized IPs:  7812.428597072131\n",
      "Total Fraction Services: 0.26805855893189473\n",
      "Total Fraction IPs: 0.3211840691890297\n",
      "Total Fraction Depopularized Services: 0.2677562656972403\n",
      "Total Fraction Depopularized IPs: 0.32080359039237594\n"
     ]
    },
    {
     "name": "stderr",
     "output_type": "stream",
     "text": [
      "Epoch: 100%|██████████| 10/10 [00:33<00:00,  3.33s/it]\n"
     ]
    },
    {
     "name": "stdout",
     "output_type": "stream",
     "text": [
      "...Grabbed Representations\n",
      "Got Item Representations\n",
      "Got User Representations\n",
      "Made Index\n",
      "Got Top Items\n",
      "Got Predictions/Top Items\n",
      "...Calculated Predictions\n",
      "cycle:  443\n",
      "correct: 136\n",
      "Num Scanned:  433826\n",
      "Number unique ports Rec'd:  30798\n",
      "At Bin:  443\n",
      "Hitrate:  0.00031348974012622573\n",
      "total ips correct:  139436\n"
     ]
    },
    {
     "name": "stderr",
     "output_type": "stream",
     "text": [
      "\r",
      "Epoch:   0%|          | 0/10 [00:00<?, ?it/s]"
     ]
    },
    {
     "name": "stdout",
     "output_type": "stream",
     "text": [
      "Total Normalized Services:  3398.2583037244394\n",
      "Total Normalized IPs:  7816.00675114651\n",
      "Total Fraction Services: 0.2682514447600606\n",
      "Total Fraction IPs: 0.32140996620765006\n",
      "Total Fraction Depopularized Services: 0.2679493464668482\n",
      "Total Fraction Depopularized IPs: 0.32102983682553166\n"
     ]
    },
    {
     "name": "stderr",
     "output_type": "stream",
     "text": [
      "Epoch: 100%|██████████| 10/10 [00:32<00:00,  3.24s/it]\n"
     ]
    },
    {
     "name": "stdout",
     "output_type": "stream",
     "text": [
      "...Grabbed Representations\n",
      "Got Item Representations\n",
      "Got User Representations\n",
      "Made Index\n",
      "Got Top Items\n",
      "Got Predictions/Top Items\n",
      "...Calculated Predictions\n",
      "cycle:  444\n",
      "correct: 81\n",
      "Num Scanned:  433826\n",
      "Number unique ports Rec'd:  30799\n",
      "At Bin:  444\n",
      "Hitrate:  0.00018671080110459033\n",
      "total ips correct:  139477\n"
     ]
    },
    {
     "name": "stderr",
     "output_type": "stream",
     "text": [
      "\r",
      "Epoch:   0%|          | 0/10 [00:00<?, ?it/s]"
     ]
    },
    {
     "name": "stdout",
     "output_type": "stream",
     "text": [
      "Total Normalized Services:  3399.4475027596886\n",
      "Total Normalized IPs:  7818.86914759354\n",
      "Total Fraction Services: 0.2683569291973388\n",
      "Total Fraction IPs: 0.3215044741440117\n",
      "Total Fraction Depopularized Services: 0.26805493751272746\n",
      "Total Fraction Depopularized IPs: 0.3211244909455254\n"
     ]
    },
    {
     "name": "stderr",
     "output_type": "stream",
     "text": [
      "Epoch: 100%|██████████| 10/10 [00:31<00:00,  3.13s/it]\n"
     ]
    },
    {
     "name": "stdout",
     "output_type": "stream",
     "text": [
      "...Grabbed Representations\n",
      "Got Item Representations\n",
      "Got User Representations\n",
      "Made Index\n",
      "Got Top Items\n",
      "Got Predictions/Top Items\n",
      "...Calculated Predictions\n",
      "cycle:  445\n",
      "correct: 48\n",
      "Num Scanned:  433826\n",
      "Number unique ports Rec'd:  30800\n",
      "At Bin:  445\n",
      "Hitrate:  0.00011064343769160908\n",
      "total ips correct:  139510\n"
     ]
    },
    {
     "name": "stderr",
     "output_type": "stream",
     "text": [
      "\r",
      "Epoch:   0%|          | 0/10 [00:00<?, ?it/s]"
     ]
    },
    {
     "name": "stdout",
     "output_type": "stream",
     "text": [
      "Total Normalized Services:  3400.243911979903\n",
      "Total Normalized IPs:  7822.926098210347\n",
      "Total Fraction Services: 0.2684232337007708\n",
      "Total Fraction IPs: 0.32158054150742466\n",
      "Total Fraction Depopularized Services: 0.2681213090272802\n",
      "Total Fraction Depopularized IPs: 0.321200675968935\n"
     ]
    },
    {
     "name": "stderr",
     "output_type": "stream",
     "text": [
      "Epoch: 100%|██████████| 10/10 [00:31<00:00,  3.12s/it]\n"
     ]
    },
    {
     "name": "stdout",
     "output_type": "stream",
     "text": [
      "...Grabbed Representations\n",
      "Got Item Representations\n",
      "Got User Representations\n",
      "Made Index\n",
      "Got Top Items\n",
      "Got Predictions/Top Items\n",
      "...Calculated Predictions\n",
      "cycle:  446\n",
      "correct: 85\n",
      "Num Scanned:  433826\n",
      "Number unique ports Rec'd:  30800\n",
      "At Bin:  446\n",
      "Hitrate:  0.00019593108757889107\n",
      "total ips correct:  139578\n"
     ]
    },
    {
     "name": "stderr",
     "output_type": "stream",
     "text": [
      "\r",
      "Epoch:   0%|          | 0/10 [00:00<?, ?it/s]"
     ]
    },
    {
     "name": "stdout",
     "output_type": "stream",
     "text": [
      "Total Normalized Services:  3402.1774566149347\n",
      "Total Normalized IPs:  7830.4319284774865\n",
      "Total Fraction Services: 0.268545294263907\n",
      "Total Fraction IPs: 0.3217372863774878\n",
      "Total Fraction Depopularized Services: 0.26824349295179767\n",
      "Total Fraction Depopularized IPs: 0.3213576632899002\n"
     ]
    },
    {
     "name": "stderr",
     "output_type": "stream",
     "text": [
      "Epoch: 100%|██████████| 10/10 [00:31<00:00,  3.12s/it]\n"
     ]
    },
    {
     "name": "stdout",
     "output_type": "stream",
     "text": [
      "...Grabbed Representations\n",
      "Got Item Representations\n",
      "Got User Representations\n",
      "Made Index\n",
      "Got Top Items\n",
      "Got Predictions/Top Items\n",
      "...Calculated Predictions\n",
      "cycle:  447\n",
      "correct: 69\n",
      "Num Scanned:  433826\n",
      "Number unique ports Rec'd:  30802\n",
      "At Bin:  447\n",
      "Hitrate:  0.00015904994168168806\n",
      "total ips correct:  139612\n"
     ]
    },
    {
     "name": "stderr",
     "output_type": "stream",
     "text": [
      "\r",
      "Epoch:   0%|          | 0/10 [00:00<?, ?it/s]"
     ]
    },
    {
     "name": "stdout",
     "output_type": "stream",
     "text": [
      "Total Normalized Services:  3403.432054714926\n",
      "Total Normalized IPs:  7832.97629930137\n",
      "Total Fraction Services: 0.2686191333700017\n",
      "Total Fraction IPs: 0.3218156588125193\n",
      "Total Fraction Depopularized Services: 0.26831589824040064\n",
      "Total Fraction Depopularized IPs: 0.32143384831330973\n"
     ]
    },
    {
     "name": "stderr",
     "output_type": "stream",
     "text": [
      "Epoch: 100%|██████████| 10/10 [00:33<00:00,  3.40s/it]\n"
     ]
    },
    {
     "name": "stdout",
     "output_type": "stream",
     "text": [
      "...Grabbed Representations\n",
      "Got Item Representations\n",
      "Got User Representations\n",
      "Made Index\n",
      "Got Top Items\n",
      "Got Predictions/Top Items\n",
      "...Calculated Predictions\n",
      "cycle:  448\n",
      "correct: 142\n",
      "Num Scanned:  433826\n",
      "Number unique ports Rec'd:  30803\n",
      "At Bin:  448\n",
      "Hitrate:  0.00032732016983767683\n",
      "total ips correct:  139725\n"
     ]
    },
    {
     "name": "stderr",
     "output_type": "stream",
     "text": [
      "\r",
      "Epoch:   0%|          | 0/10 [00:00<?, ?it/s]"
     ]
    },
    {
     "name": "stdout",
     "output_type": "stream",
     "text": [
      "Total Normalized Services:  3405.4583882238007\n",
      "Total Normalized IPs:  7849.958683679926\n",
      "Total Fraction Services: 0.26882407456242796\n",
      "Total Fraction IPs: 0.3220761319054183\n",
      "Total Fraction Depopularized Services: 0.268521046558109\n",
      "Total Fraction Depopularized IPs: 0.32169472430256074\n"
     ]
    },
    {
     "name": "stderr",
     "output_type": "stream",
     "text": [
      "Epoch: 100%|██████████| 10/10 [00:31<00:00,  3.14s/it]\n"
     ]
    },
    {
     "name": "stdout",
     "output_type": "stream",
     "text": [
      "...Grabbed Representations\n",
      "Got Item Representations\n",
      "Got User Representations\n",
      "Made Index\n",
      "Got Top Items\n",
      "Got Predictions/Top Items\n",
      "...Calculated Predictions\n",
      "cycle:  449\n",
      "correct: 97\n",
      "Num Scanned:  433826\n",
      "Number unique ports Rec'd:  30806\n",
      "At Bin:  449\n",
      "Hitrate:  0.00022359194700179334\n",
      "total ips correct:  139790\n"
     ]
    },
    {
     "name": "stderr",
     "output_type": "stream",
     "text": [
      "\r",
      "Epoch:   0%|          | 0/10 [00:00<?, ?it/s]"
     ]
    },
    {
     "name": "stdout",
     "output_type": "stream",
     "text": [
      "Total Normalized Services:  3408.868286860401\n",
      "Total Normalized IPs:  7858.843710820073\n",
      "Total Fraction Services: 0.26894914896662925\n",
      "Total Fraction IPs: 0.32222596156062566\n",
      "Total Fraction Depopularized Services: 0.26864624736965165\n",
      "Total Fraction Depopularized IPs: 0.3218447857123069\n"
     ]
    },
    {
     "name": "stderr",
     "output_type": "stream",
     "text": [
      "Epoch: 100%|██████████| 10/10 [00:31<00:00,  3.11s/it]\n"
     ]
    },
    {
     "name": "stdout",
     "output_type": "stream",
     "text": [
      "...Grabbed Representations\n",
      "Got Item Representations\n",
      "Got User Representations\n",
      "Made Index\n",
      "Got Top Items\n",
      "Got Predictions/Top Items\n",
      "...Calculated Predictions\n",
      "cycle:  450\n",
      "correct: 77\n",
      "Num Scanned:  433826\n",
      "Number unique ports Rec'd:  30807\n",
      "At Bin:  450\n",
      "Hitrate:  0.00017749051463028956\n",
      "total ips correct:  139834\n"
     ]
    },
    {
     "name": "stderr",
     "output_type": "stream",
     "text": [
      "\r",
      "Epoch:   0%|          | 0/10 [00:00<?, ?it/s]"
     ]
    },
    {
     "name": "stdout",
     "output_type": "stream",
     "text": [
      "Total Normalized Services:  3410.453132115695\n",
      "Total Normalized IPs:  7862.772035341508\n",
      "Total Fraction Services: 0.2690606610860376\n",
      "Total Fraction IPs: 0.322327384711843\n",
      "Total Fraction Depopularized Services: 0.2687578721895812\n",
      "Total Fraction Depopularized IPs: 0.32194636574351965\n"
     ]
    },
    {
     "name": "stderr",
     "output_type": "stream",
     "text": [
      "Epoch: 100%|██████████| 10/10 [00:33<00:00,  3.39s/it]\n"
     ]
    },
    {
     "name": "stdout",
     "output_type": "stream",
     "text": [
      "...Grabbed Representations\n",
      "Got Item Representations\n",
      "Got User Representations\n",
      "Made Index\n",
      "Got Top Items\n",
      "Got Predictions/Top Items\n",
      "...Calculated Predictions\n",
      "cycle:  451\n",
      "correct: 88\n",
      "Num Scanned:  433826\n",
      "Number unique ports Rec'd:  30810\n",
      "At Bin:  451\n",
      "Hitrate:  0.00020284630243461665\n",
      "total ips correct:  139887\n"
     ]
    },
    {
     "name": "stderr",
     "output_type": "stream",
     "text": [
      "\r",
      "Epoch:   0%|          | 0/10 [00:00<?, ?it/s]"
     ]
    },
    {
     "name": "stdout",
     "output_type": "stream",
     "text": [
      "Total Normalized Services:  3413.415826476208\n",
      "Total Normalized IPs:  7870.446594401519\n",
      "Total Fraction Services: 0.2691917631723691\n",
      "Total Fraction IPs: 0.3224495535076275\n",
      "Total Fraction Depopularized Services: 0.268889106775174\n",
      "Total Fraction Depopularized IPs: 0.3220687235083896\n"
     ]
    },
    {
     "name": "stderr",
     "output_type": "stream",
     "text": [
      "Epoch: 100%|██████████| 10/10 [00:35<00:00,  3.58s/it]\n"
     ]
    },
    {
     "name": "stdout",
     "output_type": "stream",
     "text": [
      "...Grabbed Representations\n",
      "Got Item Representations\n",
      "Got User Representations\n",
      "Made Index\n",
      "Got Top Items\n",
      "Got Predictions/Top Items\n",
      "...Calculated Predictions\n",
      "cycle:  452\n",
      "correct: 133\n",
      "Num Scanned:  433826\n",
      "Number unique ports Rec'd:  30810\n",
      "At Bin:  452\n",
      "Hitrate:  0.00030657452527050016\n",
      "total ips correct:  139971\n"
     ]
    },
    {
     "name": "stderr",
     "output_type": "stream",
     "text": [
      "\r",
      "Epoch:   0%|          | 0/10 [00:00<?, ?it/s]"
     ]
    },
    {
     "name": "stdout",
     "output_type": "stream",
     "text": [
      "Total Normalized Services:  3416.2348226659446\n",
      "Total Normalized IPs:  7875.229404930237\n",
      "Total Fraction Services: 0.26937410055680716\n",
      "Total Fraction IPs: 0.3226431795235878\n",
      "Total Fraction Depopularized Services: 0.269071628440194\n",
      "Total Fraction Depopularized IPs: 0.32226264902252305\n"
     ]
    },
    {
     "name": "stderr",
     "output_type": "stream",
     "text": [
      "Epoch: 100%|██████████| 10/10 [00:35<00:00,  3.54s/it]\n"
     ]
    },
    {
     "name": "stdout",
     "output_type": "stream",
     "text": [
      "...Grabbed Representations\n",
      "Got Item Representations\n",
      "Got User Representations\n",
      "Made Index\n",
      "Got Top Items\n",
      "Got Predictions/Top Items\n",
      "...Calculated Predictions\n",
      "cycle:  453\n",
      "correct: 80\n",
      "Num Scanned:  433826\n",
      "Number unique ports Rec'd:  30811\n",
      "At Bin:  453\n",
      "Hitrate:  0.00018440572948601514\n",
      "total ips correct:  140025\n"
     ]
    },
    {
     "name": "stderr",
     "output_type": "stream",
     "text": [
      "\r",
      "Epoch:   0%|          | 0/10 [00:00<?, ?it/s]"
     ]
    },
    {
     "name": "stdout",
     "output_type": "stream",
     "text": [
      "Total Normalized Services:  3417.979350230599\n",
      "Total Normalized IPs:  7879.085265814004\n",
      "Total Fraction Services: 0.2694825988351504\n",
      "Total Fraction IPs: 0.32276765339099084\n",
      "Total Fraction Depopularized Services: 0.2691802363730984\n",
      "Total Fraction Depopularized IPs: 0.322387315424466\n"
     ]
    },
    {
     "name": "stderr",
     "output_type": "stream",
     "text": [
      "Epoch: 100%|██████████| 10/10 [00:33<00:00,  3.35s/it]\n"
     ]
    },
    {
     "name": "stdout",
     "output_type": "stream",
     "text": [
      "...Grabbed Representations\n",
      "Got Item Representations\n",
      "Got User Representations\n",
      "Made Index\n",
      "Got Top Items\n",
      "Got Predictions/Top Items\n",
      "...Calculated Predictions\n",
      "cycle:  454\n",
      "correct: 98\n",
      "Num Scanned:  433826\n",
      "Number unique ports Rec'd:  30814\n",
      "At Bin:  454\n",
      "Hitrate:  0.00022589701862036853\n",
      "total ips correct:  140104\n"
     ]
    },
    {
     "name": "stderr",
     "output_type": "stream",
     "text": [
      "\r",
      "Epoch:   0%|          | 0/10 [00:00<?, ?it/s]"
     ]
    },
    {
     "name": "stdout",
     "output_type": "stream",
     "text": [
      "Total Normalized Services:  3420.907834961538\n",
      "Total Normalized IPs:  7887.9238100119355\n",
      "Total Fraction Services: 0.26962123552414463\n",
      "Total Fraction IPs: 0.3229497540488583\n",
      "Total Fraction Depopularized Services: 0.2693175047327415\n",
      "Total Fraction Depopularized IPs: 0.3225673891161614\n"
     ]
    },
    {
     "name": "stderr",
     "output_type": "stream",
     "text": [
      "Epoch: 100%|██████████| 10/10 [00:33<00:00,  3.36s/it]\n"
     ]
    },
    {
     "name": "stdout",
     "output_type": "stream",
     "text": [
      "...Grabbed Representations\n",
      "Got Item Representations\n",
      "Got User Representations\n",
      "Made Index\n",
      "Got Top Items\n",
      "Got Predictions/Top Items\n",
      "...Calculated Predictions\n",
      "cycle:  455\n",
      "correct: 115\n",
      "Num Scanned:  433826\n",
      "Number unique ports Rec'd:  30814\n",
      "At Bin:  455\n",
      "Hitrate:  0.00026508323613614677\n",
      "total ips correct:  140194\n"
     ]
    },
    {
     "name": "stderr",
     "output_type": "stream",
     "text": [
      "\r",
      "Epoch:   0%|          | 0/10 [00:00<?, ?it/s]"
     ]
    },
    {
     "name": "stdout",
     "output_type": "stream",
     "text": [
      "Total Normalized Services:  3422.3975304788587\n",
      "Total Normalized IPs:  7894.188963861293\n",
      "Total Fraction Services: 0.2697915175443223\n",
      "Total Fraction IPs: 0.32315721049453006\n",
      "Total Fraction Depopularized Services: 0.269487958849661\n",
      "Total Fraction Depopularized IPs: 0.32277516645273296\n"
     ]
    },
    {
     "name": "stderr",
     "output_type": "stream",
     "text": [
      "Epoch: 100%|██████████| 10/10 [00:31<00:00,  3.18s/it]\n"
     ]
    },
    {
     "name": "stdout",
     "output_type": "stream",
     "text": [
      "...Grabbed Representations\n",
      "Got Item Representations\n",
      "Got User Representations\n",
      "Made Index\n",
      "Got Top Items\n",
      "Got Predictions/Top Items\n",
      "...Calculated Predictions\n",
      "cycle:  456\n",
      "correct: 145\n",
      "Num Scanned:  433826\n",
      "Number unique ports Rec'd:  30816\n",
      "At Bin:  456\n",
      "Hitrate:  0.0003342353846934024\n",
      "total ips correct:  140289\n"
     ]
    },
    {
     "name": "stderr",
     "output_type": "stream",
     "text": [
      "\r",
      "Epoch:   0%|          | 0/10 [00:00<?, ?it/s]"
     ]
    },
    {
     "name": "stdout",
     "output_type": "stream",
     "text": [
      "Total Normalized Services:  3425.282221999193\n",
      "Total Normalized IPs:  7900.261639167489\n",
      "Total Fraction Services: 0.26996782724663015\n",
      "Total Fraction IPs: 0.32337619229829473\n",
      "Total Fraction Depopularized Services: 0.26966444674063067\n",
      "Total Fraction Depopularized IPs: 0.32299448697466965\n"
     ]
    },
    {
     "name": "stderr",
     "output_type": "stream",
     "text": [
      "Epoch: 100%|██████████| 10/10 [00:31<00:00,  3.16s/it]\n"
     ]
    },
    {
     "name": "stdout",
     "output_type": "stream",
     "text": [
      "...Grabbed Representations\n",
      "Got Item Representations\n",
      "Got User Representations\n",
      "Made Index\n",
      "Got Top Items\n",
      "Got Predictions/Top Items\n",
      "...Calculated Predictions\n",
      "cycle:  457\n",
      "correct: 127\n",
      "Num Scanned:  433826\n",
      "Number unique ports Rec'd:  30818\n",
      "At Bin:  457\n",
      "Hitrate:  0.000292744095559049\n",
      "total ips correct:  140391\n"
     ]
    },
    {
     "name": "stderr",
     "output_type": "stream",
     "text": [
      "\r",
      "Epoch:   0%|          | 0/10 [00:00<?, ?it/s]"
     ]
    },
    {
     "name": "stdout",
     "output_type": "stream",
     "text": [
      "Total Normalized Services:  3427.3648492170073\n",
      "Total Normalized IPs:  7909.503767508808\n",
      "Total Fraction Services: 0.2701592061542635\n",
      "Total Fraction IPs: 0.32361130960338935\n",
      "Total Fraction Depopularized Services: 0.269856019066726\n",
      "Total Fraction Depopularized IPs: 0.3232299679561174\n"
     ]
    },
    {
     "name": "stderr",
     "output_type": "stream",
     "text": [
      "Epoch: 100%|██████████| 10/10 [00:33<00:00,  3.35s/it]\n"
     ]
    },
    {
     "name": "stdout",
     "output_type": "stream",
     "text": [
      "...Grabbed Representations\n",
      "Got Item Representations\n",
      "Got User Representations\n",
      "Made Index\n",
      "Got Top Items\n",
      "Got Predictions/Top Items\n",
      "...Calculated Predictions\n",
      "cycle:  458\n",
      "correct: 148\n",
      "Num Scanned:  433826\n",
      "Number unique ports Rec'd:  30820\n",
      "At Bin:  458\n",
      "Hitrate:  0.000341150599549128\n",
      "total ips correct:  140505\n"
     ]
    },
    {
     "name": "stderr",
     "output_type": "stream",
     "text": [
      "\r",
      "Epoch:   0%|          | 0/10 [00:00<?, ?it/s]"
     ]
    },
    {
     "name": "stdout",
     "output_type": "stream",
     "text": [
      "Total Normalized Services:  3430.450549402759\n",
      "Total Normalized IPs:  7917.797255804276\n",
      "Total Fraction Services: 0.27036264042615715\n",
      "Total Fraction IPs: 0.32387408776790694\n",
      "Total Fraction Depopularized Services: 0.2700596589409218\n",
      "Total Fraction Depopularized IPs: 0.32349315258244143\n"
     ]
    },
    {
     "name": "stderr",
     "output_type": "stream",
     "text": [
      "Epoch: 100%|██████████| 10/10 [00:34<00:00,  3.41s/it]\n"
     ]
    },
    {
     "name": "stdout",
     "output_type": "stream",
     "text": [
      "...Grabbed Representations\n",
      "Got Item Representations\n",
      "Got User Representations\n",
      "Made Index\n",
      "Got Top Items\n",
      "Got Predictions/Top Items\n",
      "...Calculated Predictions\n",
      "cycle:  459\n",
      "correct: 255\n",
      "Num Scanned:  433826\n",
      "Number unique ports Rec'd:  30821\n",
      "At Bin:  459\n",
      "Hitrate:  0.0005877932627366732\n",
      "total ips correct:  140677\n"
     ]
    },
    {
     "name": "stderr",
     "output_type": "stream",
     "text": [
      "\r",
      "Epoch:   0%|          | 0/10 [00:00<?, ?it/s]"
     ]
    },
    {
     "name": "stdout",
     "output_type": "stream",
     "text": [
      "Total Normalized Services:  3433.501677810783\n",
      "Total Normalized IPs:  7922.609740342533\n",
      "Total Fraction Services: 0.27073937055929354\n",
      "Total Fraction IPs: 0.3242705600863019\n",
      "Total Fraction Depopularized Services: 0.27043676981906223\n",
      "Total Fraction Depopularized IPs: 0.3238902381590005\n"
     ]
    },
    {
     "name": "stderr",
     "output_type": "stream",
     "text": [
      "Epoch: 100%|██████████| 10/10 [00:34<00:00,  3.46s/it]\n"
     ]
    },
    {
     "name": "stdout",
     "output_type": "stream",
     "text": [
      "...Grabbed Representations\n",
      "Got Item Representations\n",
      "Got User Representations\n",
      "Made Index\n",
      "Got Top Items\n",
      "Got Predictions/Top Items\n",
      "...Calculated Predictions\n",
      "cycle:  460\n",
      "correct: 119\n",
      "Num Scanned:  433826\n",
      "Number unique ports Rec'd:  30822\n",
      "At Bin:  460\n",
      "Hitrate:  0.00027430352261044753\n",
      "total ips correct:  140749\n"
     ]
    },
    {
     "name": "stderr",
     "output_type": "stream",
     "text": [
      "\r",
      "Epoch:   0%|          | 0/10 [00:00<?, ?it/s]"
     ]
    },
    {
     "name": "stdout",
     "output_type": "stream",
     "text": [
      "Total Normalized Services:  3435.318026884591\n",
      "Total Normalized IPs:  7928.198879978538\n",
      "Total Fraction Services: 0.27090211797680847\n",
      "Total Fraction IPs: 0.3244365252428393\n",
      "Total Fraction Depopularized Services: 0.27059968171841886\n",
      "Total Fraction Depopularized IPs: 0.3240564600282577\n"
     ]
    },
    {
     "name": "stderr",
     "output_type": "stream",
     "text": [
      "Epoch: 100%|██████████| 10/10 [00:31<00:00,  3.15s/it]\n"
     ]
    },
    {
     "name": "stdout",
     "output_type": "stream",
     "text": [
      "...Grabbed Representations\n",
      "Got Item Representations\n",
      "Got User Representations\n",
      "Made Index\n",
      "Got Top Items\n",
      "Got Predictions/Top Items\n",
      "...Calculated Predictions\n",
      "cycle:  461\n",
      "correct: 222\n",
      "Num Scanned:  433826\n",
      "Number unique ports Rec'd:  30824\n",
      "At Bin:  461\n",
      "Hitrate:  0.000511725899323692\n",
      "total ips correct:  140920\n"
     ]
    },
    {
     "name": "stderr",
     "output_type": "stream",
     "text": [
      "\r",
      "Epoch:   0%|          | 0/10 [00:00<?, ?it/s]"
     ]
    },
    {
     "name": "stdout",
     "output_type": "stream",
     "text": [
      "Total Normalized Services:  3438.779290801844\n",
      "Total Normalized IPs:  7939.653951943903\n",
      "Total Fraction Services: 0.2712261058913058\n",
      "Total Fraction IPs: 0.32483069248961566\n",
      "Total Fraction Depopularized Services: 0.2709239970736196\n",
      "Total Fraction Depopularized IPs: 0.32445123696774375\n"
     ]
    },
    {
     "name": "stderr",
     "output_type": "stream",
     "text": [
      "Epoch: 100%|██████████| 10/10 [00:34<00:00,  3.44s/it]\n"
     ]
    },
    {
     "name": "stdout",
     "output_type": "stream",
     "text": [
      "...Grabbed Representations\n",
      "Got Item Representations\n",
      "Got User Representations\n",
      "Made Index\n",
      "Got Top Items\n",
      "Got Predictions/Top Items\n",
      "...Calculated Predictions\n",
      "cycle:  462\n",
      "correct: 162\n",
      "Num Scanned:  433826\n",
      "Number unique ports Rec'd:  30824\n",
      "At Bin:  462\n",
      "Hitrate:  0.00037342160220918066\n",
      "total ips correct:  141054\n"
     ]
    },
    {
     "name": "stderr",
     "output_type": "stream",
     "text": [
      "\r",
      "Epoch:   0%|          | 0/10 [00:00<?, ?it/s]"
     ]
    },
    {
     "name": "stdout",
     "output_type": "stream",
     "text": [
      "Total Normalized Services:  3440.745879624387\n",
      "Total Normalized IPs:  7951.382452933941\n",
      "Total Fraction Services: 0.27145817165331787\n",
      "Total Fraction IPs: 0.32513957208650474\n",
      "Total Fraction Depopularized Services: 0.27115629737455405\n",
      "Total Fraction Depopularized IPs: 0.32476059433552806\n"
     ]
    },
    {
     "name": "stderr",
     "output_type": "stream",
     "text": [
      "Epoch: 100%|██████████| 10/10 [00:31<00:00,  3.11s/it]\n"
     ]
    },
    {
     "name": "stdout",
     "output_type": "stream",
     "text": [
      "...Grabbed Representations\n",
      "Got Item Representations\n",
      "Got User Representations\n",
      "Made Index\n",
      "Got Top Items\n",
      "Got Predictions/Top Items\n",
      "...Calculated Predictions\n",
      "cycle:  463\n",
      "correct: 104\n",
      "Num Scanned:  433826\n",
      "Number unique ports Rec'd:  30825\n",
      "At Bin:  463\n",
      "Hitrate:  0.00023972744833181966\n",
      "total ips correct:  141121\n"
     ]
    },
    {
     "name": "stderr",
     "output_type": "stream",
     "text": [
      "\r",
      "Epoch:   0%|          | 0/10 [00:00<?, ?it/s]"
     ]
    },
    {
     "name": "stdout",
     "output_type": "stream",
     "text": [
      "Total Normalized Services:  3443.6347772305985\n",
      "Total Normalized IPs:  7957.1475284604485\n",
      "Total Fraction Services: 0.27160283602444224\n",
      "Total Fraction IPs: 0.3252940118849493\n",
      "Total Fraction Depopularized Services: 0.27130110795176\n",
      "Total Fraction Depopularized IPs: 0.32491527301942025\n"
     ]
    },
    {
     "name": "stderr",
     "output_type": "stream",
     "text": [
      "Epoch: 100%|██████████| 10/10 [00:31<00:00,  3.15s/it]\n"
     ]
    },
    {
     "name": "stdout",
     "output_type": "stream",
     "text": [
      "...Grabbed Representations\n",
      "Got Item Representations\n",
      "Got User Representations\n",
      "Made Index\n",
      "Got Top Items\n",
      "Got Predictions/Top Items\n",
      "...Calculated Predictions\n",
      "cycle:  464\n",
      "correct: 140\n",
      "Num Scanned:  433826\n",
      "Number unique ports Rec'd:  30827\n",
      "At Bin:  464\n",
      "Hitrate:  0.0003227100266005265\n",
      "total ips correct:  141213\n"
     ]
    },
    {
     "name": "stderr",
     "output_type": "stream",
     "text": [
      "\r",
      "Epoch:   0%|          | 0/10 [00:00<?, ?it/s]"
     ]
    },
    {
     "name": "stdout",
     "output_type": "stream",
     "text": [
      "Total Normalized Services:  3447.2908610335116\n",
      "Total Normalized IPs:  7963.170006527883\n",
      "Total Fraction Services: 0.2718017495347383\n",
      "Total Fraction IPs: 0.3255060784738582\n",
      "Total Fraction Depopularized Services: 0.2715002224954181\n",
      "Total Fraction Depopularized IPs: 0.3251276676301379\n"
     ]
    },
    {
     "name": "stderr",
     "output_type": "stream",
     "text": [
      "Epoch: 100%|██████████| 10/10 [00:31<00:00,  3.13s/it]\n"
     ]
    },
    {
     "name": "stdout",
     "output_type": "stream",
     "text": [
      "...Grabbed Representations\n",
      "Got Item Representations\n",
      "Got User Representations\n",
      "Made Index\n",
      "Got Top Items\n",
      "Got Predictions/Top Items\n",
      "...Calculated Predictions\n",
      "cycle:  465\n",
      "correct: 104\n",
      "Num Scanned:  433826\n",
      "Number unique ports Rec'd:  30828\n",
      "At Bin:  465\n",
      "Hitrate:  0.00023972744833181966\n",
      "total ips correct:  141286\n"
     ]
    },
    {
     "name": "stderr",
     "output_type": "stream",
     "text": [
      "\r",
      "Epoch:   0%|          | 0/10 [00:00<?, ?it/s]"
     ]
    },
    {
     "name": "stdout",
     "output_type": "stream",
     "text": [
      "Total Normalized Services:  3450.4682239084714\n",
      "Total Normalized IPs:  7969.390552345724\n",
      "Total Fraction Services: 0.27194490698533014\n",
      "Total Fraction IPs: 0.32567434870201417\n",
      "Total Fraction Depopularized Services: 0.27164352462911145\n",
      "Total Fraction Depopularized IPs: 0.32529619813646815\n"
     ]
    },
    {
     "name": "stderr",
     "output_type": "stream",
     "text": [
      "Epoch: 100%|██████████| 10/10 [00:34<00:00,  3.41s/it]\n"
     ]
    },
    {
     "name": "stdout",
     "output_type": "stream",
     "text": [
      "...Grabbed Representations\n",
      "Got Item Representations\n",
      "Got User Representations\n",
      "Made Index\n",
      "Got Top Items\n",
      "Got Predictions/Top Items\n",
      "...Calculated Predictions\n",
      "cycle:  466\n",
      "correct: 97\n",
      "Num Scanned:  433826\n",
      "Number unique ports Rec'd:  30831\n",
      "At Bin:  466\n",
      "Hitrate:  0.00022359194700179334\n",
      "total ips correct:  141349\n"
     ]
    },
    {
     "name": "stderr",
     "output_type": "stream",
     "text": [
      "\r",
      "Epoch:   0%|          | 0/10 [00:00<?, ?it/s]"
     ]
    },
    {
     "name": "stdout",
     "output_type": "stream",
     "text": [
      "Total Normalized Services:  3452.147217496594\n",
      "Total Normalized IPs:  7973.210574942699\n",
      "Total Fraction Services: 0.2720729952305965\n",
      "Total Fraction IPs: 0.3258195682139844\n",
      "Total Fraction Depopularized Services: 0.2717717423276792\n",
      "Total Fraction Depopularized IPs: 0.3254416422720683\n"
     ]
    },
    {
     "name": "stderr",
     "output_type": "stream",
     "text": [
      "Epoch: 100%|██████████| 10/10 [00:33<00:00,  3.35s/it]\n"
     ]
    },
    {
     "name": "stdout",
     "output_type": "stream",
     "text": [
      "...Grabbed Representations\n",
      "Got Item Representations\n",
      "Got User Representations\n",
      "Made Index\n",
      "Got Top Items\n",
      "Got Predictions/Top Items\n",
      "...Calculated Predictions\n",
      "cycle:  467\n",
      "correct: 96\n",
      "Num Scanned:  433826\n",
      "Number unique ports Rec'd:  30832\n",
      "At Bin:  467\n",
      "Hitrate:  0.00022128687538321815\n",
      "total ips correct:  141390\n"
     ]
    },
    {
     "name": "stderr",
     "output_type": "stream",
     "text": [
      "\r",
      "Epoch:   0%|          | 0/10 [00:00<?, ?it/s]"
     ]
    },
    {
     "name": "stdout",
     "output_type": "stream",
     "text": [
      "Total Normalized Services:  3453.703858291513\n",
      "Total Normalized IPs:  7977.08881295558\n",
      "Total Fraction Services: 0.27217697274734215\n",
      "Total Fraction IPs: 0.325914076150346\n",
      "Total Fraction Depopularized Services: 0.2718758249300459\n",
      "Total Fraction Depopularized IPs: 0.325536296392062\n"
     ]
    },
    {
     "name": "stderr",
     "output_type": "stream",
     "text": [
      "Epoch: 100%|██████████| 10/10 [00:32<00:00,  3.29s/it]\n"
     ]
    },
    {
     "name": "stdout",
     "output_type": "stream",
     "text": [
      "...Grabbed Representations\n",
      "Got Item Representations\n",
      "Got User Representations\n",
      "Made Index\n",
      "Got Top Items\n",
      "Got Predictions/Top Items\n",
      "...Calculated Predictions\n",
      "cycle:  468\n",
      "correct: 58\n",
      "Num Scanned:  433826\n",
      "Number unique ports Rec'd:  30835\n",
      "At Bin:  468\n",
      "Hitrate:  0.00013369415387736098\n",
      "total ips correct:  141426\n"
     ]
    },
    {
     "name": "stderr",
     "output_type": "stream",
     "text": [
      "\r",
      "Epoch:   0%|          | 0/10 [00:00<?, ?it/s]"
     ]
    },
    {
     "name": "stdout",
     "output_type": "stream",
     "text": [
      "Total Normalized Services:  3455.366273223076\n",
      "Total Normalized IPs:  7982.964646647144\n",
      "Total Fraction Services: 0.27226437413822985\n",
      "Total Fraction IPs: 0.3259970587286147\n",
      "Total Fraction Depopularized Services: 0.2719633146537745\n",
      "Total Fraction Depopularized IPs: 0.3256194073266906\n"
     ]
    },
    {
     "name": "stderr",
     "output_type": "stream",
     "text": [
      "Epoch: 100%|██████████| 10/10 [00:34<00:00,  3.42s/it]\n"
     ]
    },
    {
     "name": "stdout",
     "output_type": "stream",
     "text": [
      "...Grabbed Representations\n",
      "Got Item Representations\n",
      "Got User Representations\n",
      "Made Index\n",
      "Got Top Items\n",
      "Got Predictions/Top Items\n",
      "...Calculated Predictions\n",
      "cycle:  469\n",
      "correct: 116\n",
      "Num Scanned:  433826\n",
      "Number unique ports Rec'd:  30836\n",
      "At Bin:  469\n",
      "Hitrate:  0.00026738830775472196\n",
      "total ips correct:  141510\n"
     ]
    },
    {
     "name": "stderr",
     "output_type": "stream",
     "text": [
      "\r",
      "Epoch:   0%|          | 0/10 [00:00<?, ?it/s]"
     ]
    },
    {
     "name": "stdout",
     "output_type": "stream",
     "text": [
      "Total Normalized Services:  3457.334085874345\n",
      "Total Normalized IPs:  7985.747284844561\n",
      "Total Fraction Services: 0.2724286284762773\n",
      "Total Fraction IPs: 0.326190684744575\n",
      "Total Fraction Depopularized Services: 0.2721277349966437\n",
      "Total Fraction Depopularized IPs: 0.3258133328408241\n"
     ]
    },
    {
     "name": "stderr",
     "output_type": "stream",
     "text": [
      "Epoch: 100%|██████████| 10/10 [00:34<00:00,  3.43s/it]\n"
     ]
    },
    {
     "name": "stdout",
     "output_type": "stream",
     "text": [
      "...Grabbed Representations\n",
      "Got Item Representations\n",
      "Got User Representations\n",
      "Made Index\n",
      "Got Top Items\n",
      "Got Predictions/Top Items\n",
      "...Calculated Predictions\n",
      "cycle:  470\n",
      "correct: 105\n",
      "Num Scanned:  433826\n",
      "Number unique ports Rec'd:  30838\n",
      "At Bin:  470\n",
      "Hitrate:  0.00024203251995039485\n",
      "total ips correct:  141579\n"
     ]
    },
    {
     "name": "stderr",
     "output_type": "stream",
     "text": [
      "\r",
      "Epoch:   0%|          | 0/10 [00:00<?, ?it/s]"
     ]
    },
    {
     "name": "stdout",
     "output_type": "stream",
     "text": [
      "Total Normalized Services:  3459.585093191947\n",
      "Total Normalized IPs:  7996.6465254617015\n",
      "Total Fraction Services: 0.2725597305626088\n",
      "Total Fraction IPs: 0.3263497346862567\n",
      "Total Fraction Depopularized Services: 0.27225896958223655\n",
      "Total Fraction Depopularized IPs: 0.3259726287988623\n"
     ]
    },
    {
     "name": "stderr",
     "output_type": "stream",
     "text": [
      "Epoch: 100%|██████████| 10/10 [00:35<00:00,  3.53s/it]\n"
     ]
    },
    {
     "name": "stdout",
     "output_type": "stream",
     "text": [
      "...Grabbed Representations\n",
      "Got Item Representations\n",
      "Got User Representations\n",
      "Made Index\n",
      "Got Top Items\n",
      "Got Predictions/Top Items\n",
      "...Calculated Predictions\n",
      "cycle:  471\n",
      "correct: 82\n",
      "Num Scanned:  433826\n",
      "Number unique ports Rec'd:  30839\n",
      "At Bin:  471\n",
      "Hitrate:  0.0001890158727231655\n",
      "total ips correct:  141642\n"
     ]
    },
    {
     "name": "stderr",
     "output_type": "stream",
     "text": [
      "\r",
      "Epoch:   0%|          | 0/10 [00:00<?, ?it/s]"
     ]
    },
    {
     "name": "stdout",
     "output_type": "stream",
     "text": [
      "Total Normalized Services:  3461.8196755468944\n",
      "Total Normalized IPs:  8002.162606954867\n",
      "Total Fraction Services: 0.27267425652308225\n",
      "Total Fraction IPs: 0.32649495419822694\n",
      "Total Fraction Depopularized Services: 0.27237361128919124\n",
      "Total Fraction Depopularized IPs: 0.32611807293446243\n"
     ]
    },
    {
     "name": "stderr",
     "output_type": "stream",
     "text": [
      "Epoch: 100%|██████████| 10/10 [00:35<00:00,  3.52s/it]\n"
     ]
    },
    {
     "name": "stdout",
     "output_type": "stream",
     "text": [
      "...Grabbed Representations\n",
      "Got Item Representations\n",
      "Got User Representations\n",
      "Made Index\n",
      "Got Top Items\n",
      "Got Predictions/Top Items\n",
      "...Calculated Predictions\n",
      "cycle:  472\n",
      "correct: 101\n",
      "Num Scanned:  433826\n",
      "Number unique ports Rec'd:  30842\n",
      "At Bin:  472\n",
      "Hitrate:  0.0002328122334760941\n",
      "total ips correct:  141698\n"
     ]
    },
    {
     "name": "stderr",
     "output_type": "stream",
     "text": [
      "\r",
      "Epoch:   0%|          | 0/10 [00:00<?, ?it/s]"
     ]
    },
    {
     "name": "stdout",
     "output_type": "stream",
     "text": [
      "Total Normalized Services:  3463.275147194361\n",
      "Total Normalized IPs:  8008.5956737888355\n",
      "Total Fraction Services: 0.27279933092728353\n",
      "Total Fraction IPs: 0.32662403820886715\n",
      "Total Fraction Depopularized Services: 0.27249881210073384\n",
      "Total Fraction Depopularized IPs: 0.3262473566105514\n"
     ]
    },
    {
     "name": "stderr",
     "output_type": "stream",
     "text": [
      "Epoch: 100%|██████████| 10/10 [00:34<00:00,  3.47s/it]\n"
     ]
    },
    {
     "name": "stdout",
     "output_type": "stream",
     "text": [
      "...Grabbed Representations\n",
      "Got Item Representations\n",
      "Got User Representations\n",
      "Made Index\n",
      "Got Top Items\n",
      "Got Predictions/Top Items\n",
      "...Calculated Predictions\n",
      "cycle:  473\n",
      "correct: 91\n",
      "Num Scanned:  433826\n",
      "Number unique ports Rec'd:  30843\n",
      "At Bin:  473\n",
      "Hitrate:  0.00020976151729034222\n",
      "total ips correct:  141749\n"
     ]
    },
    {
     "name": "stderr",
     "output_type": "stream",
     "text": [
      "\r",
      "Epoch:   0%|          | 0/10 [00:00<?, ?it/s]"
     ]
    },
    {
     "name": "stdout",
     "output_type": "stream",
     "text": [
      "Total Normalized Services:  3465.2318361460384\n",
      "Total Normalized IPs:  8013.818174965124\n",
      "Total Fraction Services: 0.27290481536456174\n",
      "Total Fraction IPs: 0.32674159686141446\n",
      "Total Fraction Depopularized Services: 0.27260440314661316\n",
      "Total Fraction Depopularized IPs: 0.3263650971012753\n"
     ]
    },
    {
     "name": "stderr",
     "output_type": "stream",
     "text": [
      "Epoch: 100%|██████████| 10/10 [00:35<00:00,  3.54s/it]\n"
     ]
    },
    {
     "name": "stdout",
     "output_type": "stream",
     "text": [
      "...Grabbed Representations\n",
      "Got Item Representations\n",
      "Got User Representations\n",
      "Made Index\n",
      "Got Top Items\n",
      "Got Predictions/Top Items\n",
      "...Calculated Predictions\n",
      "cycle:  474\n",
      "correct: 158\n",
      "Num Scanned:  433826\n",
      "Number unique ports Rec'd:  30845\n",
      "At Bin:  474\n",
      "Hitrate:  0.0003642013157348799\n",
      "total ips correct:  141816\n"
     ]
    },
    {
     "name": "stderr",
     "output_type": "stream",
     "text": [
      "\r",
      "Epoch:   0%|          | 0/10 [00:00<?, ?it/s]"
     ]
    },
    {
     "name": "stdout",
     "output_type": "stream",
     "text": [
      "Total Normalized Services:  3466.961052384748\n",
      "Total Normalized IPs:  8018.5508477803705\n",
      "Total Fraction Services: 0.2730329036098281\n",
      "Total Fraction IPs: 0.326896036659859\n",
      "Total Fraction Depopularized Services: 0.2727326208451809\n",
      "Total Fraction Depopularized IPs: 0.32651977578516744\n"
     ]
    },
    {
     "name": "stderr",
     "output_type": "stream",
     "text": [
      "Epoch: 100%|██████████| 10/10 [00:34<00:00,  3.48s/it]\n"
     ]
    },
    {
     "name": "stdout",
     "output_type": "stream",
     "text": [
      "...Grabbed Representations\n",
      "Got Item Representations\n",
      "Got User Representations\n",
      "Made Index\n",
      "Got Top Items\n",
      "Got Predictions/Top Items\n",
      "...Calculated Predictions\n",
      "cycle:  475\n",
      "correct: 140\n",
      "Num Scanned:  433826\n",
      "Number unique ports Rec'd:  30847\n",
      "At Bin:  475\n",
      "Hitrate:  0.0003227100266005265\n",
      "total ips correct:  141925\n"
     ]
    },
    {
     "name": "stderr",
     "output_type": "stream",
     "text": [
      "\r",
      "Epoch:   0%|          | 0/10 [00:00<?, ?it/s]"
     ]
    },
    {
     "name": "stdout",
     "output_type": "stream",
     "text": [
      "Total Normalized Services:  3471.1352987876944\n",
      "Total Normalized IPs:  8033.166578757892\n",
      "Total Fraction Services: 0.27324387248438453\n",
      "Total Fraction IPs: 0.32714728946628374\n",
      "Total Fraction Depopularized Services: 0.27294380293693954\n",
      "Total Fraction Depopularized IPs: 0.3267714172261264\n"
     ]
    },
    {
     "name": "stderr",
     "output_type": "stream",
     "text": [
      "Epoch: 100%|██████████| 10/10 [00:34<00:00,  3.46s/it]\n"
     ]
    },
    {
     "name": "stdout",
     "output_type": "stream",
     "text": [
      "...Grabbed Representations\n",
      "Got Item Representations\n",
      "Got User Representations\n",
      "Made Index\n",
      "Got Top Items\n",
      "Got Predictions/Top Items\n",
      "...Calculated Predictions\n",
      "cycle:  476\n",
      "correct: 144\n",
      "Num Scanned:  433826\n",
      "Number unique ports Rec'd:  30849\n",
      "At Bin:  476\n",
      "Hitrate:  0.0003319303130748272\n",
      "total ips correct:  142019\n"
     ]
    },
    {
     "name": "stderr",
     "output_type": "stream",
     "text": [
      "\r",
      "Epoch:   0%|          | 0/10 [00:00<?, ?it/s]"
     ]
    },
    {
     "name": "stdout",
     "output_type": "stream",
     "text": [
      "Total Normalized Services:  3474.296072946939\n",
      "Total Normalized IPs:  8039.374216878685\n",
      "Total Fraction Services: 0.27340511298136694\n",
      "Total Fraction IPs: 0.3273639661984298\n",
      "Total Fraction Depopularized Services: 0.27310520639278363\n",
      "Total Fraction Depopularized IPs: 0.32698842911099\n"
     ]
    },
    {
     "name": "stderr",
     "output_type": "stream",
     "text": [
      "Epoch: 100%|██████████| 10/10 [00:31<00:00,  3.11s/it]\n"
     ]
    },
    {
     "name": "stdout",
     "output_type": "stream",
     "text": [
      "...Grabbed Representations\n",
      "Got Item Representations\n",
      "Got User Representations\n",
      "Made Index\n",
      "Got Top Items\n",
      "Got Predictions/Top Items\n",
      "...Calculated Predictions\n",
      "cycle:  477\n",
      "correct: 77\n",
      "Num Scanned:  433826\n",
      "Number unique ports Rec'd:  30853\n",
      "At Bin:  477\n",
      "Hitrate:  0.00017749051463028956\n",
      "total ips correct:  142071\n"
     ]
    },
    {
     "name": "stderr",
     "output_type": "stream",
     "text": [
      "\r",
      "Epoch:   0%|          | 0/10 [00:00<?, ?it/s]"
     ]
    },
    {
     "name": "stdout",
     "output_type": "stream",
     "text": [
      "Total Normalized Services:  3475.7782941129617\n",
      "Total Normalized IPs:  8042.840862448565\n",
      "Total Fraction Services: 0.27351361125971024\n",
      "Total Fraction IPs: 0.32748382992259567\n",
      "Total Fraction Depopularized Services: 0.27321381432568803\n",
      "Total Fraction Depopularized IPs: 0.32710847823878697\n"
     ]
    },
    {
     "name": "stderr",
     "output_type": "stream",
     "text": [
      "Epoch: 100%|██████████| 10/10 [00:31<00:00,  3.13s/it]\n"
     ]
    },
    {
     "name": "stdout",
     "output_type": "stream",
     "text": [
      "...Grabbed Representations\n",
      "Got Item Representations\n",
      "Got User Representations\n",
      "Made Index\n",
      "Got Top Items\n",
      "Got Predictions/Top Items\n",
      "...Calculated Predictions\n",
      "cycle:  478\n",
      "correct: 111\n",
      "Num Scanned:  433826\n",
      "Number unique ports Rec'd:  30854\n",
      "At Bin:  478\n",
      "Hitrate:  0.000255862949661846\n",
      "total ips correct:  142148\n"
     ]
    },
    {
     "name": "stderr",
     "output_type": "stream",
     "text": [
      "\r",
      "Epoch:   0%|          | 0/10 [00:00<?, ?it/s]"
     ]
    },
    {
     "name": "stdout",
     "output_type": "stream",
     "text": [
      "Total Normalized Services:  3478.1879686177567\n",
      "Total Normalized IPs:  8047.021248828461\n",
      "Total Fraction Services: 0.27364923410763936\n",
      "Total Fraction IPs: 0.327661320437226\n",
      "Total Fraction Depopularized Services: 0.2733495742418186\n",
      "Total Fraction Depopularized IPs: 0.32728624329340933\n"
     ]
    },
    {
     "name": "stderr",
     "output_type": "stream",
     "text": [
      "Epoch: 100%|██████████| 10/10 [00:31<00:00,  3.10s/it]\n"
     ]
    },
    {
     "name": "stdout",
     "output_type": "stream",
     "text": [
      "...Grabbed Representations\n",
      "Got Item Representations\n",
      "Got User Representations\n",
      "Made Index\n",
      "Got Top Items\n",
      "Got Predictions/Top Items\n",
      "...Calculated Predictions\n",
      "cycle:  479\n",
      "correct: 77\n",
      "Num Scanned:  433826\n",
      "Number unique ports Rec'd:  30854\n",
      "At Bin:  479\n",
      "Hitrate:  0.00017749051463028956\n",
      "total ips correct:  142203\n"
     ]
    },
    {
     "name": "stderr",
     "output_type": "stream",
     "text": [
      "\r",
      "Epoch:   0%|          | 0/10 [00:00<?, ?it/s]"
     ]
    },
    {
     "name": "stdout",
     "output_type": "stream",
     "text": [
      "Total Normalized Services:  3481.2330296481096\n",
      "Total Normalized IPs:  8051.134441489404\n",
      "Total Fraction Services: 0.2737577323859826\n",
      "Total Fraction IPs: 0.32778809937624764\n",
      "Total Fraction Depopularized Services: 0.273458182174723\n",
      "Total Fraction Depopularized IPs: 0.32741321833242526\n"
     ]
    },
    {
     "name": "stderr",
     "output_type": "stream",
     "text": [
      "Epoch: 100%|██████████| 10/10 [00:32<00:00,  3.23s/it]\n"
     ]
    },
    {
     "name": "stdout",
     "output_type": "stream",
     "text": [
      "...Grabbed Representations\n",
      "Got Item Representations\n",
      "Got User Representations\n",
      "Made Index\n",
      "Got Top Items\n",
      "Got Predictions/Top Items\n",
      "...Calculated Predictions\n",
      "cycle:  480\n",
      "correct: 93\n",
      "Num Scanned:  433826\n",
      "Number unique ports Rec'd:  30855\n",
      "At Bin:  480\n",
      "Hitrate:  0.00021437166052749258\n",
      "total ips correct:  142263\n"
     ]
    },
    {
     "name": "stderr",
     "output_type": "stream",
     "text": [
      "\r",
      "Epoch:   0%|          | 0/10 [00:00<?, ?it/s]"
     ]
    },
    {
     "name": "stdout",
     "output_type": "stream",
     "text": [
      "Total Normalized Services:  3483.7303057996774\n",
      "Total Normalized IPs:  8057.371791096972\n",
      "Total Fraction Services: 0.273885820631249\n",
      "Total Fraction IPs: 0.3279264036733621\n",
      "Total Fraction Depopularized Services: 0.27358639987329075\n",
      "Total Fraction Depopularized IPs: 0.3275517365568063\n"
     ]
    },
    {
     "name": "stderr",
     "output_type": "stream",
     "text": [
      "Epoch: 100%|██████████| 10/10 [00:32<00:00,  3.25s/it]\n"
     ]
    },
    {
     "name": "stdout",
     "output_type": "stream",
     "text": [
      "...Grabbed Representations\n",
      "Got Item Representations\n",
      "Got User Representations\n",
      "Made Index\n",
      "Got Top Items\n",
      "Got Predictions/Top Items\n",
      "...Calculated Predictions\n",
      "cycle:  481\n",
      "correct: 88\n",
      "Num Scanned:  433826\n",
      "Number unique ports Rec'd:  30857\n",
      "At Bin:  481\n",
      "Hitrate:  0.00020284630243461665\n",
      "total ips correct:  142313\n"
     ]
    },
    {
     "name": "stderr",
     "output_type": "stream",
     "text": [
      "\r",
      "Epoch:   0%|          | 0/10 [00:00<?, ?it/s]"
     ]
    },
    {
     "name": "stdout",
     "output_type": "stream",
     "text": [
      "Total Normalized Services:  3485.9187254759686\n",
      "Total Normalized IPs:  8063.486775725895\n",
      "Total Fraction Services: 0.2740108950354503\n",
      "Total Fraction IPs: 0.3280416572542909\n",
      "Total Fraction Depopularized Services: 0.27371160068483336\n",
      "Total Fraction Depopularized IPs: 0.3276671684104572\n"
     ]
    },
    {
     "name": "stderr",
     "output_type": "stream",
     "text": [
      "Epoch: 100%|██████████| 10/10 [00:33<00:00,  3.38s/it]\n"
     ]
    },
    {
     "name": "stdout",
     "output_type": "stream",
     "text": [
      "...Grabbed Representations\n",
      "Got Item Representations\n",
      "Got User Representations\n",
      "Made Index\n",
      "Got Top Items\n",
      "Got Predictions/Top Items\n",
      "...Calculated Predictions\n",
      "cycle:  482\n",
      "correct: 84\n",
      "Num Scanned:  433826\n",
      "Number unique ports Rec'd:  30860\n",
      "At Bin:  482\n",
      "Hitrate:  0.00019362601596031588\n",
      "total ips correct:  142376\n"
     ]
    },
    {
     "name": "stderr",
     "output_type": "stream",
     "text": [
      "\r",
      "Epoch:   0%|          | 0/10 [00:00<?, ?it/s]"
     ]
    },
    {
     "name": "stdout",
     "output_type": "stream",
     "text": [
      "Total Normalized Services:  3487.8460886151843\n",
      "Total Normalized IPs:  8069.501257703974\n",
      "Total Fraction Services: 0.2741269279164563\n",
      "Total Fraction IPs: 0.3281868767662611\n",
      "Total Fraction Depopularized Services: 0.2738277508353006\n",
      "Total Fraction Depopularized IPs: 0.3278126125460573\n"
     ]
    },
    {
     "name": "stderr",
     "output_type": "stream",
     "text": [
      "Epoch: 100%|██████████| 10/10 [00:35<00:00,  3.53s/it]\n"
     ]
    },
    {
     "name": "stdout",
     "output_type": "stream",
     "text": [
      "...Grabbed Representations\n",
      "Got Item Representations\n",
      "Got User Representations\n",
      "Made Index\n",
      "Got Top Items\n",
      "Got Predictions/Top Items\n",
      "...Calculated Predictions\n",
      "cycle:  483\n",
      "correct: 70\n",
      "Num Scanned:  433826\n",
      "Number unique ports Rec'd:  30861\n",
      "At Bin:  483\n",
      "Hitrate:  0.00016135501330026325\n",
      "total ips correct:  142424\n"
     ]
    },
    {
     "name": "stderr",
     "output_type": "stream",
     "text": [
      "\r",
      "Epoch:   0%|          | 0/10 [00:00<?, ?it/s]"
     ]
    },
    {
     "name": "stdout",
     "output_type": "stream",
     "text": [
      "Total Normalized Services:  3489.2182028894795\n",
      "Total Normalized IPs:  8072.765356690528\n",
      "Total Fraction Services: 0.2742248777510718\n",
      "Total Fraction IPs: 0.32829752020395275\n",
      "Total Fraction Depopularized Services: 0.2739257996636171\n",
      "Total Fraction Depopularized IPs: 0.32792342712556216\n"
     ]
    },
    {
     "name": "stderr",
     "output_type": "stream",
     "text": [
      "Epoch: 100%|██████████| 10/10 [00:32<00:00,  3.28s/it]\n"
     ]
    },
    {
     "name": "stdout",
     "output_type": "stream",
     "text": [
      "...Grabbed Representations\n",
      "Got Item Representations\n",
      "Got User Representations\n",
      "Made Index\n",
      "Got Top Items\n",
      "Got Predictions/Top Items\n",
      "...Calculated Predictions\n",
      "cycle:  484\n",
      "correct: 73\n",
      "Num Scanned:  433826\n",
      "Number unique ports Rec'd:  30862\n",
      "At Bin:  484\n",
      "Hitrate:  0.0001682702281559888\n",
      "total ips correct:  142471\n"
     ]
    },
    {
     "name": "stderr",
     "output_type": "stream",
     "text": [
      "\r",
      "Epoch:   0%|          | 0/10 [00:00<?, ?it/s]"
     ]
    },
    {
     "name": "stdout",
     "output_type": "stream",
     "text": [
      "Total Normalized Services:  3490.7342193999684\n",
      "Total Normalized IPs:  8076.268426455365\n",
      "Total Fraction Services: 0.2743077583803618\n",
      "Total Fraction IPs: 0.32840585857002574\n",
      "Total Fraction Depopularized Services: 0.27400876405680796\n",
      "Total Fraction Depopularized IPs: 0.328031933067994\n"
     ]
    },
    {
     "name": "stderr",
     "output_type": "stream",
     "text": [
      "Epoch: 100%|██████████| 10/10 [00:35<00:00,  3.53s/it]\n"
     ]
    },
    {
     "name": "stdout",
     "output_type": "stream",
     "text": [
      "...Grabbed Representations\n",
      "Got Item Representations\n",
      "Got User Representations\n",
      "Made Index\n",
      "Got Top Items\n",
      "Got Predictions/Top Items\n",
      "...Calculated Predictions\n",
      "cycle:  485\n",
      "correct: 69\n",
      "Num Scanned:  433826\n",
      "Number unique ports Rec'd:  30863\n",
      "At Bin:  485\n",
      "Hitrate:  0.00015904994168168806\n",
      "total ips correct:  142517\n"
     ]
    },
    {
     "name": "stderr",
     "output_type": "stream",
     "text": [
      "\r",
      "Epoch:   0%|          | 0/10 [00:00<?, ?it/s]"
     ]
    },
    {
     "name": "stdout",
     "output_type": "stream",
     "text": [
      "Total Normalized Services:  3492.8509178245304\n",
      "Total Normalized IPs:  8080.933250982664\n",
      "Total Fraction Services: 0.2744117358971075\n",
      "Total Fraction IPs: 0.3285118918644802\n",
      "Total Fraction Depopularized Services: 0.27411284665917474\n",
      "Total Fraction Depopularized IPs: 0.32813813037335277\n"
     ]
    },
    {
     "name": "stderr",
     "output_type": "stream",
     "text": [
      "Epoch: 100%|██████████| 10/10 [00:33<00:00,  3.33s/it]\n"
     ]
    },
    {
     "name": "stdout",
     "output_type": "stream",
     "text": [
      "...Grabbed Representations\n",
      "Got Item Representations\n",
      "Got User Representations\n",
      "Made Index\n",
      "Got Top Items\n",
      "Got Predictions/Top Items\n",
      "...Calculated Predictions\n",
      "cycle:  486\n",
      "correct: 54\n",
      "Num Scanned:  433826\n",
      "Number unique ports Rec'd:  30864\n",
      "At Bin:  486\n",
      "Hitrate:  0.0001244738674030602\n",
      "total ips correct:  142552\n"
     ]
    },
    {
     "name": "stderr",
     "output_type": "stream",
     "text": [
      "\r",
      "Epoch:   0%|          | 0/10 [00:00<?, ?it/s]"
     ]
    },
    {
     "name": "stdout",
     "output_type": "stream",
     "text": [
      "Total Normalized Services:  3494.3712071722875\n",
      "Total Normalized IPs:  8085.590597407798\n",
      "Total Fraction Services: 0.27447050579787674\n",
      "Total Fraction IPs: 0.32859256937113035\n",
      "Total Fraction Depopularized Services: 0.27417167595616465\n",
      "Total Fraction Depopularized IPs: 0.3282189326709084\n"
     ]
    },
    {
     "name": "stderr",
     "output_type": "stream",
     "text": [
      "Epoch: 100%|██████████| 10/10 [00:31<00:00,  3.19s/it]\n"
     ]
    },
    {
     "name": "stdout",
     "output_type": "stream",
     "text": [
      "...Grabbed Representations\n",
      "Got Item Representations\n",
      "Got User Representations\n",
      "Made Index\n",
      "Got Top Items\n",
      "Got Predictions/Top Items\n",
      "...Calculated Predictions\n",
      "cycle:  487\n",
      "correct: 80\n",
      "Num Scanned:  433826\n",
      "Number unique ports Rec'd:  30864\n",
      "At Bin:  487\n",
      "Hitrate:  0.00018440572948601514\n",
      "total ips correct:  142604\n"
     ]
    },
    {
     "name": "stderr",
     "output_type": "stream",
     "text": [
      "\r",
      "Epoch:   0%|          | 0/10 [00:00<?, ?it/s]"
     ]
    },
    {
     "name": "stdout",
     "output_type": "stream",
     "text": [
      "Total Normalized Services:  3495.6375544457187\n",
      "Total Normalized IPs:  8090.868785437636\n",
      "Total Fraction Services: 0.27456242795036206\n",
      "Total Fraction IPs: 0.3287124330952963\n",
      "Total Fraction Depopularized Services: 0.2742636910104309\n",
      "Total Fraction Depopularized IPs: 0.3283389817987053\n"
     ]
    },
    {
     "name": "stderr",
     "output_type": "stream",
     "text": [
      "Epoch: 100%|██████████| 10/10 [00:32<00:00,  3.29s/it]\n"
     ]
    },
    {
     "name": "stdout",
     "output_type": "stream",
     "text": [
      "...Grabbed Representations\n",
      "Got Item Representations\n",
      "Got User Representations\n",
      "Made Index\n",
      "Got Top Items\n",
      "Got Predictions/Top Items\n",
      "...Calculated Predictions\n",
      "cycle:  488\n",
      "correct: 133\n",
      "Num Scanned:  433826\n",
      "Number unique ports Rec'd:  30866\n",
      "At Bin:  488\n",
      "Hitrate:  0.00030657452527050016\n",
      "total ips correct:  142713\n"
     ]
    },
    {
     "name": "stderr",
     "output_type": "stream",
     "text": [
      "\r",
      "Epoch:   0%|          | 0/10 [00:00<?, ?it/s]"
     ]
    },
    {
     "name": "stdout",
     "output_type": "stream",
     "text": [
      "Total Normalized Services:  3497.655159102255\n",
      "Total Normalized IPs:  8094.697658717025\n",
      "Total Fraction Services: 0.2747447653348001\n",
      "Total Fraction IPs: 0.328963685901721\n",
      "Total Fraction Depopularized Services: 0.27444621267545083\n",
      "Total Fraction Depopularized IPs: 0.32859062323966426\n"
     ]
    },
    {
     "name": "stderr",
     "output_type": "stream",
     "text": [
      "Epoch: 100%|██████████| 10/10 [00:30<00:00,  3.08s/it]\n"
     ]
    },
    {
     "name": "stdout",
     "output_type": "stream",
     "text": [
      "...Grabbed Representations\n",
      "Got Item Representations\n",
      "Got User Representations\n",
      "Made Index\n",
      "Got Top Items\n",
      "Got Predictions/Top Items\n",
      "...Calculated Predictions\n",
      "cycle:  489\n",
      "correct: 113\n",
      "Num Scanned:  433826\n",
      "Number unique ports Rec'd:  30870\n",
      "At Bin:  489\n",
      "Hitrate:  0.0002604730928989964\n",
      "total ips correct:  142784\n"
     ]
    },
    {
     "name": "stderr",
     "output_type": "stream",
     "text": [
      "\r",
      "Epoch:   0%|          | 0/10 [00:00<?, ?it/s]"
     ]
    },
    {
     "name": "stdout",
     "output_type": "stream",
     "text": [
      "Total Normalized Services:  3499.8379474228827\n",
      "Total Normalized IPs:  8100.279525064554\n",
      "Total Fraction Services: 0.27489545738805465\n",
      "Total Fraction IPs: 0.3291273459866398\n",
      "Total Fraction Depopularized Services: 0.274597057026707\n",
      "Total Fraction Depopularized IPs: 0.3287545364718485\n"
     ]
    },
    {
     "name": "stderr",
     "output_type": "stream",
     "text": [
      "Epoch: 100%|██████████| 10/10 [00:30<00:00,  3.08s/it]\n"
     ]
    },
    {
     "name": "stdout",
     "output_type": "stream",
     "text": [
      "...Grabbed Representations\n",
      "Got Item Representations\n",
      "Got User Representations\n",
      "Made Index\n",
      "Got Top Items\n",
      "Got Predictions/Top Items\n",
      "...Calculated Predictions\n",
      "cycle:  490\n",
      "correct: 117\n",
      "Num Scanned:  433826\n",
      "Number unique ports Rec'd:  30871\n",
      "At Bin:  490\n",
      "Hitrate:  0.00026969337937329715\n",
      "total ips correct:  142850\n"
     ]
    },
    {
     "name": "stderr",
     "output_type": "stream",
     "text": [
      "\r",
      "Epoch:   0%|          | 0/10 [00:00<?, ?it/s]"
     ]
    },
    {
     "name": "stdout",
     "output_type": "stream",
     "text": [
      "Total Normalized Services:  3501.5834158213115\n",
      "Total Normalized IPs:  8105.805053983944\n",
      "Total Fraction Services: 0.27501450411012573\n",
      "Total Fraction IPs: 0.32927948071346574\n",
      "Total Fraction Depopularized Services: 0.2747162240641994\n",
      "Total Fraction Depopularized IPs: 0.32890690651866766\n"
     ]
    },
    {
     "name": "stderr",
     "output_type": "stream",
     "text": [
      "Epoch: 100%|██████████| 10/10 [00:31<00:00,  3.10s/it]\n"
     ]
    },
    {
     "name": "stdout",
     "output_type": "stream",
     "text": [
      "...Grabbed Representations\n",
      "Got Item Representations\n",
      "Got User Representations\n",
      "Made Index\n",
      "Got Top Items\n",
      "Got Predictions/Top Items\n",
      "...Calculated Predictions\n",
      "cycle:  491\n",
      "correct: 153\n",
      "Num Scanned:  433826\n",
      "Number unique ports Rec'd:  30874\n",
      "At Bin:  491\n",
      "Hitrate:  0.00035267595764200394\n",
      "total ips correct:  142957\n"
     ]
    },
    {
     "name": "stderr",
     "output_type": "stream",
     "text": [
      "\r",
      "Epoch:   0%|          | 0/10 [00:00<?, ?it/s]"
     ]
    },
    {
     "name": "stdout",
     "output_type": "stream",
     "text": [
      "Total Normalized Services:  3504.529909673743\n",
      "Total Normalized IPs:  8120.913268285194\n",
      "Total Fraction Services: 0.2752179383820194\n",
      "Total Fraction IPs: 0.3295261233766533\n",
      "Total Fraction Depopularized Services: 0.2749198639383952\n",
      "Total Fraction Depopularized IPs: 0.32915393068548054\n"
     ]
    },
    {
     "name": "stderr",
     "output_type": "stream",
     "text": [
      "Epoch: 100%|██████████| 10/10 [00:30<00:00,  3.06s/it]\n"
     ]
    },
    {
     "name": "stdout",
     "output_type": "stream",
     "text": [
      "...Grabbed Representations\n",
      "Got Item Representations\n",
      "Got User Representations\n",
      "Made Index\n",
      "Got Top Items\n",
      "Got Predictions/Top Items\n",
      "...Calculated Predictions\n",
      "cycle:  492\n",
      "correct: 84\n",
      "Num Scanned:  433826\n",
      "Number unique ports Rec'd:  30875\n",
      "At Bin:  492\n",
      "Hitrate:  0.00019362601596031588\n",
      "total ips correct:  143027\n"
     ]
    },
    {
     "name": "stderr",
     "output_type": "stream",
     "text": [
      "\r",
      "Epoch:   0%|          | 0/10 [00:00<?, ?it/s]"
     ]
    },
    {
     "name": "stdout",
     "output_type": "stream",
     "text": [
      "Total Normalized Services:  3506.193830346737\n",
      "Total Normalized IPs:  8127.272268873863\n",
      "Total Fraction Services: 0.27533698510409055\n",
      "Total Fraction IPs: 0.3296874783899536\n",
      "Total Fraction Depopularized Services: 0.27503903097588756\n",
      "Total Fraction Depopularized IPs: 0.32931553528059176\n"
     ]
    },
    {
     "name": "stderr",
     "output_type": "stream",
     "text": [
      "Epoch: 100%|██████████| 10/10 [00:31<00:00,  3.12s/it]\n"
     ]
    },
    {
     "name": "stdout",
     "output_type": "stream",
     "text": [
      "...Grabbed Representations\n",
      "Got Item Representations\n",
      "Got User Representations\n",
      "Made Index\n",
      "Got Top Items\n",
      "Got Predictions/Top Items\n",
      "...Calculated Predictions\n",
      "cycle:  493\n",
      "correct: 87\n",
      "Num Scanned:  433826\n",
      "Number unique ports Rec'd:  30878\n",
      "At Bin:  493\n",
      "Hitrate:  0.00020054123081604145\n",
      "total ips correct:  143091\n"
     ]
    },
    {
     "name": "stderr",
     "output_type": "stream",
     "text": [
      "\r",
      "Epoch:   0%|          | 0/10 [00:00<?, ?it/s]"
     ]
    },
    {
     "name": "stdout",
     "output_type": "stream",
     "text": [
      "Total Normalized Services:  3510.0108657764604\n",
      "Total Normalized IPs:  8135.0455144025\n",
      "Total Fraction Services: 0.2754530179850966\n",
      "Total Fraction IPs: 0.3298350029735424\n",
      "Total Fraction Depopularized Services: 0.2751551811263548\n",
      "Total Fraction Depopularized IPs: 0.32946328805326486\n"
     ]
    },
    {
     "name": "stderr",
     "output_type": "stream",
     "text": [
      "Epoch: 100%|██████████| 10/10 [00:30<00:00,  3.10s/it]\n"
     ]
    },
    {
     "name": "stdout",
     "output_type": "stream",
     "text": [
      "...Grabbed Representations\n",
      "Got Item Representations\n",
      "Got User Representations\n",
      "Made Index\n",
      "Got Top Items\n",
      "Got Predictions/Top Items\n",
      "...Calculated Predictions\n",
      "cycle:  494\n",
      "correct: 94\n",
      "Num Scanned:  433826\n",
      "Number unique ports Rec'd:  30880\n",
      "At Bin:  494\n",
      "Hitrate:  0.00021667673214606777\n",
      "total ips correct:  143149\n"
     ]
    },
    {
     "name": "stderr",
     "output_type": "stream",
     "text": [
      "\r",
      "Epoch:   0%|          | 0/10 [00:00<?, ?it/s]"
     ]
    },
    {
     "name": "stdout",
     "output_type": "stream",
     "text": [
      "Total Normalized Services:  3511.912145662495\n",
      "Total Normalized IPs:  8141.994067743529\n",
      "Total Fraction Services: 0.27557055778663514\n",
      "Total Fraction IPs: 0.3299686971274198\n",
      "Total Fraction Depopularized Services: 0.27527283972033456\n",
      "Total Fraction Depopularized IPs: 0.3295971890034999\n"
     ]
    },
    {
     "name": "stderr",
     "output_type": "stream",
     "text": [
      "Epoch: 100%|██████████| 10/10 [00:30<00:00,  3.06s/it]\n"
     ]
    },
    {
     "name": "stdout",
     "output_type": "stream",
     "text": [
      "...Grabbed Representations\n",
      "Got Item Representations\n",
      "Got User Representations\n",
      "Made Index\n",
      "Got Top Items\n",
      "Got Predictions/Top Items\n",
      "...Calculated Predictions\n",
      "cycle:  495\n",
      "correct: 142\n",
      "Num Scanned:  433826\n",
      "Number unique ports Rec'd:  30883\n",
      "At Bin:  495\n",
      "Hitrate:  0.00032732016983767683\n",
      "total ips correct:  143251\n"
     ]
    },
    {
     "name": "stderr",
     "output_type": "stream",
     "text": [
      "\r",
      "Epoch:   0%|          | 0/10 [00:00<?, ?it/s]"
     ]
    },
    {
     "name": "stdout",
     "output_type": "stream",
     "text": [
      "Total Normalized Services:  3513.6402279465055\n",
      "Total Normalized IPs:  8148.850530553519\n",
      "Total Fraction Services: 0.27577549897906134\n",
      "Total Fraction IPs: 0.3302038144325144\n",
      "Total Fraction Depopularized Services: 0.27547798803804296\n",
      "Total Fraction Depopularized IPs: 0.3298326699849477\n"
     ]
    },
    {
     "name": "stderr",
     "output_type": "stream",
     "text": [
      "Epoch: 100%|██████████| 10/10 [00:30<00:00,  3.06s/it]\n"
     ]
    },
    {
     "name": "stdout",
     "output_type": "stream",
     "text": [
      "...Grabbed Representations\n",
      "Got Item Representations\n",
      "Got User Representations\n",
      "Made Index\n",
      "Got Top Items\n",
      "Got Predictions/Top Items\n",
      "...Calculated Predictions\n",
      "cycle:  496\n",
      "correct: 122\n",
      "Num Scanned:  433826\n",
      "Number unique ports Rec'd:  30884\n",
      "At Bin:  496\n",
      "Hitrate:  0.00028121873746617305\n"
     ]
    },
    {
     "name": "stderr",
     "output_type": "stream",
     "text": [
      "\r",
      "Epoch:   0%|          | 0/10 [00:00<?, ?it/s]"
     ]
    },
    {
     "name": "stdout",
     "output_type": "stream",
     "text": [
      "total ips correct:  143311\n",
      "Total Normalized Services:  3516.4256392807965\n",
      "Total Normalized IPs:  8153.464186928398\n",
      "Total Fraction Services: 0.27590810798592535\n",
      "Total Fraction IPs: 0.33034211872962893\n",
      "Total Fraction Depopularized Services: 0.27561073106714834\n",
      "Total Fraction Depopularized IPs: 0.32997118820932875\n"
     ]
    },
    {
     "name": "stderr",
     "output_type": "stream",
     "text": [
      "Epoch: 100%|██████████| 10/10 [00:30<00:00,  3.07s/it]\n"
     ]
    },
    {
     "name": "stdout",
     "output_type": "stream",
     "text": [
      "...Grabbed Representations\n",
      "Got Item Representations\n",
      "Got User Representations\n",
      "Made Index\n",
      "Got Top Items\n",
      "Got Predictions/Top Items\n",
      "...Calculated Predictions\n",
      "cycle:  497\n",
      "correct: 113\n",
      "Num Scanned:  433826\n",
      "Number unique ports Rec'd:  30885\n",
      "At Bin:  497\n",
      "Hitrate:  0.0002604730928989964\n",
      "total ips correct:  143392\n"
     ]
    },
    {
     "name": "stderr",
     "output_type": "stream",
     "text": [
      "\r",
      "Epoch:   0%|          | 0/10 [00:00<?, ?it/s]"
     ]
    },
    {
     "name": "stdout",
     "output_type": "stream",
     "text": [
      "Total Normalized Services:  3518.5301973255114\n",
      "Total Normalized IPs:  8165.166115944532\n",
      "Total Fraction Services: 0.27606633464184266\n",
      "Total Fraction IPs: 0.33052882953073354\n",
      "Total Fraction Depopularized Services: 0.27576911763596734\n",
      "Total Fraction Depopularized IPs: 0.33015818781224315\n"
     ]
    },
    {
     "name": "stderr",
     "output_type": "stream",
     "text": [
      "Epoch: 100%|██████████| 10/10 [00:32<00:00,  3.26s/it]\n"
     ]
    },
    {
     "name": "stdout",
     "output_type": "stream",
     "text": [
      "...Grabbed Representations\n",
      "Got Item Representations\n",
      "Got User Representations\n",
      "Made Index\n",
      "Got Top Items\n",
      "Got Predictions/Top Items\n",
      "...Calculated Predictions\n",
      "cycle:  498\n",
      "correct: 73\n",
      "Num Scanned:  433826\n",
      "Number unique ports Rec'd:  30885\n",
      "At Bin:  498\n",
      "Hitrate:  0.0001682702281559888\n",
      "total ips correct:  143444\n"
     ]
    },
    {
     "name": "stderr",
     "output_type": "stream",
     "text": [
      "\r",
      "Epoch:   0%|          | 0/10 [00:00<?, ?it/s]"
     ]
    },
    {
     "name": "stdout",
     "output_type": "stream",
     "text": [
      "Total Normalized Services:  3519.699925304692\n",
      "Total Normalized IPs:  8167.946522787721\n",
      "Total Fraction Services: 0.27616428447645813\n",
      "Total Fraction IPs: 0.33064869325489943\n",
      "Total Fraction Depopularized Services: 0.27586716646428383\n",
      "Total Fraction Depopularized IPs: 0.3302782369400401\n"
     ]
    },
    {
     "name": "stderr",
     "output_type": "stream",
     "text": [
      "Epoch: 100%|██████████| 10/10 [00:30<00:00,  3.06s/it]\n"
     ]
    },
    {
     "name": "stdout",
     "output_type": "stream",
     "text": [
      "...Grabbed Representations\n",
      "Got Item Representations\n",
      "Got User Representations\n",
      "Made Index\n",
      "Got Top Items\n",
      "Got Predictions/Top Items\n",
      "...Calculated Predictions\n",
      "cycle:  499\n",
      "correct: 79\n",
      "Num Scanned:  433826\n",
      "Number unique ports Rec'd:  30887\n",
      "At Bin:  499\n",
      "Hitrate:  0.00018210065786743995\n",
      "total ips correct:  143504\n"
     ]
    },
    {
     "name": "stderr",
     "output_type": "stream",
     "text": [
      "\r",
      "Epoch:   0%|          | 0/10 [00:00<?, ?it/s]"
     ]
    },
    {
     "name": "stdout",
     "output_type": "stream",
     "text": [
      "Total Normalized Services:  3520.9378308191835\n",
      "Total Normalized IPs:  8171.182322269715\n",
      "Total Fraction Services: 0.27627730351639906\n",
      "Total Fraction IPs: 0.33078699755201396\n",
      "Total Fraction Depopularized Services: 0.2759802997277259\n",
      "Total Fraction Depopularized IPs: 0.33041675516442115\n"
     ]
    },
    {
     "name": "stderr",
     "output_type": "stream",
     "text": [
      "Epoch: 100%|██████████| 10/10 [00:33<00:00,  3.39s/it]\n"
     ]
    },
    {
     "name": "stdout",
     "output_type": "stream",
     "text": [
      "...Grabbed Representations\n",
      "Got Item Representations\n",
      "Got User Representations\n",
      "Made Index\n",
      "Got Top Items\n",
      "Got Predictions/Top Items\n",
      "...Calculated Predictions\n",
      "...calculations complete\n"
     ]
    },
    {
     "ename": "NameError",
     "evalue": "name 'pd' is not defined",
     "output_type": "error",
     "traceback": [
      "\u001b[0;31m---------------------------------------------------------------------------\u001b[0m",
      "\u001b[0;31mNameError\u001b[0m                                 Traceback (most recent call last)",
      "\u001b[0;32m<ipython-input-3-0b215cd03b0a>\u001b[0m in \u001b[0;36m<module>\u001b[0;34m()\u001b[0m\n\u001b[1;32m     57\u001b[0m \u001b[0mmodel_description\u001b[0m \u001b[0;34m=\u001b[0m \u001b[0mmisc\u001b[0m\u001b[0;34m.\u001b[0m\u001b[0mconstructDescript\u001b[0m\u001b[0;34m(\u001b[0m\u001b[0;34m\"0.1Train_uniform40_PlayingRetrainGap10_4KComp_0.01LR_RetrainAllFalse_EF1K_10kCalcWeightsTrue_ASN_\"\u001b[0m\u001b[0;34m,\u001b[0m \u001b[0mRETRAIN\u001b[0m \u001b[0;34m=\u001b[0m\u001b[0mRETRAIN\u001b[0m\u001b[0;34m,\u001b[0m \u001b[0mRETRAIN_WEIGHTS\u001b[0m \u001b[0;34m=\u001b[0m  \u001b[0mRETRAIN_WEIGHTS\u001b[0m\u001b[0;34m,\u001b[0m \u001b[0mBIASED\u001b[0m\u001b[0;34m=\u001b[0m\u001b[0mBIASED\u001b[0m\u001b[0;34m)\u001b[0m\u001b[0;34m\u001b[0m\u001b[0;34m\u001b[0m\u001b[0m\n\u001b[1;32m     58\u001b[0m \u001b[0mprint\u001b[0m\u001b[0;34m(\u001b[0m\u001b[0mmodel_description\u001b[0m\u001b[0;34m)\u001b[0m\u001b[0;34m\u001b[0m\u001b[0;34m\u001b[0m\u001b[0m\n\u001b[0;32m---> 59\u001b[0;31m \u001b[0mbench2_results\u001b[0m\u001b[0;34m,\u001b[0m\u001b[0mpredictions\u001b[0m\u001b[0;34m,\u001b[0m\u001b[0mall_correctly_predicted\u001b[0m \u001b[0;34m=\u001b[0m \u001b[0mmain\u001b[0m\u001b[0;34m.\u001b[0m\u001b[0mbench2_Improvements\u001b[0m\u001b[0;34m(\u001b[0m\u001b[0mhybrid_model\u001b[0m\u001b[0;34m,\u001b[0m\u001b[0mpredictions\u001b[0m\u001b[0;34m,\u001b[0m\u001b[0mnum_services\u001b[0m\u001b[0;34m,\u001b[0m\u001b[0mnum_test_ips\u001b[0m\u001b[0;34m,\u001b[0m                                           \u001b[0mtest\u001b[0m\u001b[0;34m,\u001b[0m\u001b[0mtestw\u001b[0m\u001b[0;34m,\u001b[0m\u001b[0mtest_rows\u001b[0m\u001b[0;34m,\u001b[0m\u001b[0mtrain\u001b[0m\u001b[0;34m,\u001b[0m\u001b[0muser_features\u001b[0m\u001b[0;34m,\u001b[0m\u001b[0mitem_features\u001b[0m\u001b[0;34m,\u001b[0m                                            \u001b[0minv_port_map\u001b[0m\u001b[0;34m,\u001b[0m \u001b[0mdmap\u001b[0m\u001b[0;34m,\u001b[0m \u001b[0mnum_ips_per_port\u001b[0m\u001b[0;34m,\u001b[0m                                           \u001b[0mNUM_THREADS\u001b[0m\u001b[0;34m,\u001b[0m\u001b[0mNUM_PREDS\u001b[0m\u001b[0;34m,\u001b[0m \u001b[0mRETRAIN\u001b[0m\u001b[0;34m,\u001b[0m\u001b[0mRETRAIN_GAP\u001b[0m\u001b[0;34m,\u001b[0m \u001b[0mRETRAIN_ALL\u001b[0m\u001b[0;34m,\u001b[0m\u001b[0mRETRAIN_EPOCHS\u001b[0m\u001b[0;34m,\u001b[0m\u001b[0mBIASED\u001b[0m\u001b[0;34m,\u001b[0m \u001b[0mLIM\u001b[0m\u001b[0;34m,\u001b[0m\u001b[0mHIST_BINS\u001b[0m\u001b[0;34m,\u001b[0m \u001b[0mBENCH2_CYCLES\u001b[0m\u001b[0;34m,\u001b[0m                                           \u001b[0mRETRAIN_WEIGHTS\u001b[0m\u001b[0;34m,\u001b[0m\u001b[0mCALC_WEIGHTS\u001b[0m\u001b[0;34m,\u001b[0m\u001b[0mWITH_ITEM_FEATS\u001b[0m\u001b[0;34m,\u001b[0m\u001b[0mEF_CONSTRUCTION\u001b[0m\u001b[0;34m,\u001b[0m\u001b[0mM\u001b[0m\u001b[0;34m,\u001b[0m\u001b[0mmodel_description\u001b[0m\u001b[0;34m,\u001b[0m \u001b[0mDATAPATH\u001b[0m\u001b[0;34m)\u001b[0m\u001b[0;34m\u001b[0m\u001b[0;34m\u001b[0m\u001b[0m\n\u001b[0m\u001b[1;32m     60\u001b[0m \u001b[0;34m\u001b[0m\u001b[0m\n\u001b[1;32m     61\u001b[0m \u001b[0;34m\u001b[0m\u001b[0m\n",
      "\u001b[0;32m/home/lizhikev/serviceFinder/bench/main.py\u001b[0m in \u001b[0;36mbench2_Improvements\u001b[0;34m(model, predictions, num_services, num_test_ips, test, testw, test_rows, train, user_features, item_features, inv_port_map, dmap, num_ips_per_port, NUM_THREADS, NUM_PREDS, RETRAIN, RETRAIN_GAP, RETRAIN_ALL, RETRAIN_EPOCHS, BIASED, LIM, HIST_BINS, CYCLES, RETRAIN_WEIGHTS, CALC_WEIGHTS, WITH_ITEM_FEATS, EF_CONSTRUCTION, M, model_description, DATAPATH)\u001b[0m\n\u001b[1;32m     27\u001b[0m     \u001b[0mnp\u001b[0m\u001b[0;34m.\u001b[0m\u001b[0msave\u001b[0m\u001b[0;34m(\u001b[0m\u001b[0mDATAPATH\u001b[0m \u001b[0;34m+\u001b[0m \u001b[0mmodel_description\u001b[0m\u001b[0;34m+\u001b[0m \u001b[0;34m\"_correctpredictions.npy\"\u001b[0m\u001b[0;34m,\u001b[0m\u001b[0mall_correctly_predicted\u001b[0m\u001b[0;34m)\u001b[0m\u001b[0;34m\u001b[0m\u001b[0;34m\u001b[0m\u001b[0m\n\u001b[1;32m     28\u001b[0m \u001b[0;34m\u001b[0m\u001b[0m\n\u001b[0;32m---> 29\u001b[0;31m     \u001b[0mplotDiscovery\u001b[0m\u001b[0;34m(\u001b[0m\u001b[0mDATAPATH\u001b[0m\u001b[0;34m,\u001b[0m\u001b[0mbench2_results\u001b[0m\u001b[0;34m[\u001b[0m\u001b[0;34m\"frac_services\"\u001b[0m\u001b[0;34m]\u001b[0m\u001b[0;34m,\u001b[0m \u001b[0mbench2_results\u001b[0m\u001b[0;34m[\u001b[0m\u001b[0;34m\"frac_ips\"\u001b[0m\u001b[0;34m]\u001b[0m\u001b[0;34m)\u001b[0m\u001b[0;34m\u001b[0m\u001b[0;34m\u001b[0m\u001b[0m\n\u001b[0m\u001b[1;32m     30\u001b[0m \u001b[0;34m\u001b[0m\u001b[0m\n\u001b[1;32m     31\u001b[0m     \u001b[0mplotHitrate\u001b[0m\u001b[0;34m(\u001b[0m\u001b[0mbench2_results\u001b[0m\u001b[0;34m[\u001b[0m\u001b[0;34m\"hitrate\"\u001b[0m\u001b[0;34m]\u001b[0m\u001b[0;34m,\u001b[0m\u001b[0mLIM\u001b[0m\u001b[0;34m)\u001b[0m\u001b[0;34m\u001b[0m\u001b[0;34m\u001b[0m\u001b[0m\n",
      "\u001b[0;32m/home/lizhikev/serviceFinder/bench/plotMods.py\u001b[0m in \u001b[0;36mplotDiscovery\u001b[0;34m(DATAPATH, frac_services, frac_ips)\u001b[0m\n\u001b[1;32m     11\u001b[0m \u001b[0;32mdef\u001b[0m \u001b[0mplotDiscovery\u001b[0m\u001b[0;34m(\u001b[0m\u001b[0mDATAPATH\u001b[0m\u001b[0;34m,\u001b[0m\u001b[0mfrac_services\u001b[0m\u001b[0;34m,\u001b[0m \u001b[0mfrac_ips\u001b[0m\u001b[0;34m)\u001b[0m\u001b[0;34m:\u001b[0m\u001b[0;34m\u001b[0m\u001b[0;34m\u001b[0m\u001b[0m\n\u001b[1;32m     12\u001b[0m \u001b[0;34m\u001b[0m\u001b[0m\n\u001b[0;32m---> 13\u001b[0;31m     \u001b[0mdf\u001b[0m \u001b[0;34m=\u001b[0m \u001b[0mpd\u001b[0m\u001b[0;34m.\u001b[0m\u001b[0mread_csv\u001b[0m\u001b[0;34m(\u001b[0m\u001b[0mDATAPATH\u001b[0m\u001b[0;34m+\u001b[0m\u001b[0;34m\"lzr01_host_discovery.csv\"\u001b[0m\u001b[0;34m)\u001b[0m\u001b[0;34m\u001b[0m\u001b[0;34m\u001b[0m\u001b[0m\n\u001b[0m\u001b[1;32m     14\u001b[0m     \u001b[0mplt\u001b[0m\u001b[0;34m.\u001b[0m\u001b[0mplot\u001b[0m\u001b[0;34m(\u001b[0m\u001b[0;34m[\u001b[0m\u001b[0;36m0\u001b[0m\u001b[0;34m]\u001b[0m\u001b[0;34m+\u001b[0m\u001b[0mdf\u001b[0m\u001b[0;34m[\u001b[0m\u001b[0;34m\"rolling_sum\"\u001b[0m\u001b[0;34m]\u001b[0m\u001b[0;34m,\u001b[0m\u001b[0mlabel\u001b[0m\u001b[0;34m=\u001b[0m\u001b[0;34m\"ips - mpp (lzr 65k)\"\u001b[0m\u001b[0;34m)\u001b[0m\u001b[0;34m\u001b[0m\u001b[0;34m\u001b[0m\u001b[0m\n\u001b[1;32m     15\u001b[0m \u001b[0;34m\u001b[0m\u001b[0m\n",
      "\u001b[0;31mNameError\u001b[0m: name 'pd' is not defined"
     ]
    }
   ],
   "source": [
    "print(\"True Retrain, UNIFORM Sample  and Oversample0.64 Train,slash16,more filtered dataset, retrain all false, EF_Construction 1K,10kCalc Weights\")\n",
    "\n",
    "\n",
    "BENCH2_CYCLES = 500\n",
    "BIASED=True\n",
    "\n",
    "RETRAIN = True\n",
    "RETRAIN_WEIGHTS = False\n",
    "WITH_ITEM_FEATS=False\n",
    "BIASED = False\n",
    "HIST_BINS=100\n",
    "EF_CONSTRUCTION=1000#1000\n",
    "M = 20\n",
    "\n",
    "START = 0\n",
    "LIM = 4539900\n",
    "NUM_PREDS = 500#300\n",
    "\n",
    "RETRAIN_GAP = 1\n",
    "RETRAIN_ALL = False\n",
    "RETRAIN_EPOCHS =10\n",
    "      \n",
    "CALC_WEIGHTS = True\n",
    "\n",
    "#'''\n",
    "curFeat = \"asn\"\n",
    "f = DATAPATH + \"ht65k_1pset_uniform200_l10.csv\"\n",
    "df, dataset, num_users, num_items, interactions, weights, \\\n",
    "user_features,userf_train, item_features, train,test,trainw,testw,dmap, inv_ip_map, \\\n",
    "inv_port_map = extractData.extractData(f,curFeat, train_percentage = 0.1, \\\n",
    "                           withItemFeats=WITH_ITEM_FEATS,calcWeights= CALC_WEIGHTS,\\\n",
    "                          weightCap = 10000)\n",
    "\n",
    "\n",
    "\n",
    "hybrid_model = LightFM(loss='warp', #'warp\n",
    "    random_state=2016,\n",
    "    learning_rate=0.01, #0.05\n",
    "    no_components= 4000,#4000,\n",
    "    #learning_schedule='adadelta',\n",
    "    max_sampled= 175,\n",
    "    #user_alpha=0.5\n",
    "\n",
    "    )\n",
    "\n",
    "\n",
    "print(\"Initialized Model\")\n",
    "hybrid_model = hybrid_model.fit(train, #newtrain\n",
    "                  user_features=userf_train,\n",
    "                  #item_features=item_features,\n",
    "                  sample_weight = trainw,\n",
    "                  epochs=80, #20\n",
    "                  num_threads=NUM_THREADS, verbose=True)\n",
    "\n",
    "\n",
    "\n",
    "\n",
    "num_test_ips, num_services,num_ips_per_port, test_rows, testcoo, predictions, \\\n",
    "    testPorts,LIM = \\\n",
    "    modelPrep.prepTheModel(hybrid_model,test,train,LIM,START,HIST_BINS,user_features,\\\n",
    "                 item_features,BIASED = BIASED,WITH_ITEM_FEATS=WITH_ITEM_FEATS,\\\n",
    "                 NUM_PREDS=NUM_PREDS,EF_CONSTRUCTION =EF_CONSTRUCTION, NUM_THREADS=NUM_THREADS )\n",
    "\n",
    "#'''\n",
    "model_description = misc.constructDescript(\"0.1Train_uniform40_PlayingRetrainGap10_4KComp_0.01LR_RetrainAllFalse_EF1K_10kCalcWeightsTrue_ASN_\", RETRAIN =RETRAIN, RETRAIN_WEIGHTS =  RETRAIN_WEIGHTS, BIASED=BIASED)\n",
    "print(model_description)\n",
    "bench2_results,predictions,all_correctly_predicted = main.bench2_Improvements(hybrid_model,predictions,num_services,num_test_ips,\\\n",
    "                                           test,testw,test_rows,train,user_features,item_features, \\\n",
    "                                           inv_port_map, dmap, num_ips_per_port,\\\n",
    "                                           NUM_THREADS,NUM_PREDS, RETRAIN,RETRAIN_GAP, RETRAIN_ALL,RETRAIN_EPOCHS,BIASED, LIM,HIST_BINS, BENCH2_CYCLES,\\\n",
    "                                           RETRAIN_WEIGHTS,CALC_WEIGHTS,WITH_ITEM_FEATS,EF_CONSTRUCTION,M,model_description, DATAPATH)\n",
    "\n",
    "\n",
    "\n",
    "\n",
    "\n",
    "\n",
    "\n",
    "\n",
    "\n",
    "\n",
    "\n",
    "\n"
   ]
  }
 ],
 "metadata": {
  "kernelspec": {
   "display_name": "Python 3",
   "language": "python",
   "name": "python3"
  }
 },
 "nbformat": 4,
 "nbformat_minor": 4
}
